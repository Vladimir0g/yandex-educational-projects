{
 "cells": [
  {
   "cell_type": "markdown",
   "id": "386f2ae7",
   "metadata": {
    "deletable": false,
    "editable": false,
    "id": "386f2ae7"
   },
   "source": [
    "# Исследование надежности заемщиков\n"
   ]
  },
  {
   "cell_type": "markdown",
   "id": "c941b028",
   "metadata": {},
   "source": [
    "<div class=\"alert alert-info\">\n",
    "<font size=\"5\"><b>Комментарий ревьюера</b></font>\n",
    "\n",
    "Привет Владимир! Меня зовут Марат, и я буду твоим ревьюером. Спешу сообщить что все ключевые этапы в работе выполнены,  с задачей тебе удалось справиться. По поводу обращения - в IT сфере принято общаться на «ты» :) Но, если привычней на «вы», дай знать. Как ревьюера моя задача помочь тебе в развитии, дав хорошие советы. Я внимательно посмотрю твой код, ознакомлюсь с твоими выводами и оставлю комментарии. Где то могу предложить небольшие исправление в коде, но ненавязчиво. Где потребуются уточнения, я оставлю много наводящих вопросов. Они помогут тебя с поиском верного решения.\n",
    "\n",
    "Все мои комментарии размечены по цветам, для лучшего восприятия. \n",
    "    \n",
    "<div class=\"alert alert-success\">Зеленым цветом и словом «Успех» отмечены особо удачные и элегантные решения, которыми ты можешь гордиться. </div>\n",
    "        \n",
    "<div class=\"alert alert-warning\">Желтым и значком словом «Совет», помечены решения у которых есть альтернативные решения, более оптимальные. Ты можешь найти их сразу и доработать проект, или отложить это на потом, для будущих проектах. Проект будет принят и без их доработки. </div>\n",
    "        \n",
    "<div class=\"alert alert-danger\"> Красным цветом и значком словом «Ошибка» помечу твои решения, на которые стоит обратить внимание прежде всего. После их доработки проект будет принят. </div>\n",
    "        \n",
    "Залог успеха - работа сообща, взаимное уважение и работа в диалоге. Поэтому, помечай свои ответные комментарии на мои реплики заметным цветом или курсивом, так мне будет легче их отслеживать. Пожалуйста, не изменяй и не удаляй мои комментарии. Все это поможет выполнить повторную проверку быстрей.\n",
    "\n",
    "</div>"
   ]
  },
  {
   "cell_type": "markdown",
   "id": "ffe86f65",
   "metadata": {
    "deletable": false,
    "editable": false,
    "id": "ffe86f65"
   },
   "source": [
    "Во второй части проекта вы выполните шаги 3 и 4. Их вручную проверит ревьюер.\n",
    "Чтобы вам не пришлось писать код заново для шагов 1 и 2, мы добавили авторские решения в ячейки с кодом. \n",
    "\n"
   ]
  },
  {
   "cell_type": "markdown",
   "id": "26613308",
   "metadata": {
    "deletable": false,
    "editable": false,
    "id": "26613308"
   },
   "source": [
    "## Откройте таблицу и изучите общую информацию о данных"
   ]
  },
  {
   "cell_type": "markdown",
   "id": "3c9f838e",
   "metadata": {
    "deletable": false,
    "editable": false,
    "id": "3c9f838e"
   },
   "source": [
    "**Задание 1. Импортируйте библиотеку pandas. Считайте данные из csv-файла в датафрейм и сохраните в переменную `data`. Путь к файлу:**\n",
    "\n",
    "`/datasets/data.csv`"
   ]
  },
  {
   "cell_type": "code",
   "execution_count": 1,
   "id": "77a68a90",
   "metadata": {
    "deletable": false,
    "id": "77a68a90"
   },
   "outputs": [],
   "source": [
    "import pandas as pd\n",
    "\n",
    "try:\n",
    "    data = pd.read_csv('/datasets/data.csv')\n",
    "except:\n",
    "    data = pd.read_csv('https://code.s3.yandex.net/datasets/data.csv')"
   ]
  },
  {
   "cell_type": "markdown",
   "id": "45365635",
   "metadata": {
    "deletable": false,
    "editable": false,
    "id": "45365635"
   },
   "source": [
    "**Задание 2. Выведите первые 20 строчек датафрейма `data` на экран.**"
   ]
  },
  {
   "cell_type": "code",
   "execution_count": 2,
   "id": "b0451a9a",
   "metadata": {
    "deletable": false,
    "id": "b0451a9a",
    "outputId": "1a8f3ef2-d323-4ec2-ddf7-89670b5944c4"
   },
   "outputs": [
    {
     "data": {
      "text/html": [
       "<div>\n",
       "<style scoped>\n",
       "    .dataframe tbody tr th:only-of-type {\n",
       "        vertical-align: middle;\n",
       "    }\n",
       "\n",
       "    .dataframe tbody tr th {\n",
       "        vertical-align: top;\n",
       "    }\n",
       "\n",
       "    .dataframe thead th {\n",
       "        text-align: right;\n",
       "    }\n",
       "</style>\n",
       "<table border=\"1\" class=\"dataframe\">\n",
       "  <thead>\n",
       "    <tr style=\"text-align: right;\">\n",
       "      <th></th>\n",
       "      <th>children</th>\n",
       "      <th>days_employed</th>\n",
       "      <th>dob_years</th>\n",
       "      <th>education</th>\n",
       "      <th>education_id</th>\n",
       "      <th>family_status</th>\n",
       "      <th>family_status_id</th>\n",
       "      <th>gender</th>\n",
       "      <th>income_type</th>\n",
       "      <th>debt</th>\n",
       "      <th>total_income</th>\n",
       "      <th>purpose</th>\n",
       "    </tr>\n",
       "  </thead>\n",
       "  <tbody>\n",
       "    <tr>\n",
       "      <th>0</th>\n",
       "      <td>1</td>\n",
       "      <td>-8437.673028</td>\n",
       "      <td>42</td>\n",
       "      <td>высшее</td>\n",
       "      <td>0</td>\n",
       "      <td>женат / замужем</td>\n",
       "      <td>0</td>\n",
       "      <td>F</td>\n",
       "      <td>сотрудник</td>\n",
       "      <td>0</td>\n",
       "      <td>253875.639453</td>\n",
       "      <td>покупка жилья</td>\n",
       "    </tr>\n",
       "    <tr>\n",
       "      <th>1</th>\n",
       "      <td>1</td>\n",
       "      <td>-4024.803754</td>\n",
       "      <td>36</td>\n",
       "      <td>среднее</td>\n",
       "      <td>1</td>\n",
       "      <td>женат / замужем</td>\n",
       "      <td>0</td>\n",
       "      <td>F</td>\n",
       "      <td>сотрудник</td>\n",
       "      <td>0</td>\n",
       "      <td>112080.014102</td>\n",
       "      <td>приобретение автомобиля</td>\n",
       "    </tr>\n",
       "    <tr>\n",
       "      <th>2</th>\n",
       "      <td>0</td>\n",
       "      <td>-5623.422610</td>\n",
       "      <td>33</td>\n",
       "      <td>Среднее</td>\n",
       "      <td>1</td>\n",
       "      <td>женат / замужем</td>\n",
       "      <td>0</td>\n",
       "      <td>M</td>\n",
       "      <td>сотрудник</td>\n",
       "      <td>0</td>\n",
       "      <td>145885.952297</td>\n",
       "      <td>покупка жилья</td>\n",
       "    </tr>\n",
       "    <tr>\n",
       "      <th>3</th>\n",
       "      <td>3</td>\n",
       "      <td>-4124.747207</td>\n",
       "      <td>32</td>\n",
       "      <td>среднее</td>\n",
       "      <td>1</td>\n",
       "      <td>женат / замужем</td>\n",
       "      <td>0</td>\n",
       "      <td>M</td>\n",
       "      <td>сотрудник</td>\n",
       "      <td>0</td>\n",
       "      <td>267628.550329</td>\n",
       "      <td>дополнительное образование</td>\n",
       "    </tr>\n",
       "    <tr>\n",
       "      <th>4</th>\n",
       "      <td>0</td>\n",
       "      <td>340266.072047</td>\n",
       "      <td>53</td>\n",
       "      <td>среднее</td>\n",
       "      <td>1</td>\n",
       "      <td>гражданский брак</td>\n",
       "      <td>1</td>\n",
       "      <td>F</td>\n",
       "      <td>пенсионер</td>\n",
       "      <td>0</td>\n",
       "      <td>158616.077870</td>\n",
       "      <td>сыграть свадьбу</td>\n",
       "    </tr>\n",
       "    <tr>\n",
       "      <th>5</th>\n",
       "      <td>0</td>\n",
       "      <td>-926.185831</td>\n",
       "      <td>27</td>\n",
       "      <td>высшее</td>\n",
       "      <td>0</td>\n",
       "      <td>гражданский брак</td>\n",
       "      <td>1</td>\n",
       "      <td>M</td>\n",
       "      <td>компаньон</td>\n",
       "      <td>0</td>\n",
       "      <td>255763.565419</td>\n",
       "      <td>покупка жилья</td>\n",
       "    </tr>\n",
       "    <tr>\n",
       "      <th>6</th>\n",
       "      <td>0</td>\n",
       "      <td>-2879.202052</td>\n",
       "      <td>43</td>\n",
       "      <td>высшее</td>\n",
       "      <td>0</td>\n",
       "      <td>женат / замужем</td>\n",
       "      <td>0</td>\n",
       "      <td>F</td>\n",
       "      <td>компаньон</td>\n",
       "      <td>0</td>\n",
       "      <td>240525.971920</td>\n",
       "      <td>операции с жильем</td>\n",
       "    </tr>\n",
       "    <tr>\n",
       "      <th>7</th>\n",
       "      <td>0</td>\n",
       "      <td>-152.779569</td>\n",
       "      <td>50</td>\n",
       "      <td>СРЕДНЕЕ</td>\n",
       "      <td>1</td>\n",
       "      <td>женат / замужем</td>\n",
       "      <td>0</td>\n",
       "      <td>M</td>\n",
       "      <td>сотрудник</td>\n",
       "      <td>0</td>\n",
       "      <td>135823.934197</td>\n",
       "      <td>образование</td>\n",
       "    </tr>\n",
       "    <tr>\n",
       "      <th>8</th>\n",
       "      <td>2</td>\n",
       "      <td>-6929.865299</td>\n",
       "      <td>35</td>\n",
       "      <td>ВЫСШЕЕ</td>\n",
       "      <td>0</td>\n",
       "      <td>гражданский брак</td>\n",
       "      <td>1</td>\n",
       "      <td>F</td>\n",
       "      <td>сотрудник</td>\n",
       "      <td>0</td>\n",
       "      <td>95856.832424</td>\n",
       "      <td>на проведение свадьбы</td>\n",
       "    </tr>\n",
       "    <tr>\n",
       "      <th>9</th>\n",
       "      <td>0</td>\n",
       "      <td>-2188.756445</td>\n",
       "      <td>41</td>\n",
       "      <td>среднее</td>\n",
       "      <td>1</td>\n",
       "      <td>женат / замужем</td>\n",
       "      <td>0</td>\n",
       "      <td>M</td>\n",
       "      <td>сотрудник</td>\n",
       "      <td>0</td>\n",
       "      <td>144425.938277</td>\n",
       "      <td>покупка жилья для семьи</td>\n",
       "    </tr>\n",
       "    <tr>\n",
       "      <th>10</th>\n",
       "      <td>2</td>\n",
       "      <td>-4171.483647</td>\n",
       "      <td>36</td>\n",
       "      <td>высшее</td>\n",
       "      <td>0</td>\n",
       "      <td>женат / замужем</td>\n",
       "      <td>0</td>\n",
       "      <td>M</td>\n",
       "      <td>компаньон</td>\n",
       "      <td>0</td>\n",
       "      <td>113943.491460</td>\n",
       "      <td>покупка недвижимости</td>\n",
       "    </tr>\n",
       "    <tr>\n",
       "      <th>11</th>\n",
       "      <td>0</td>\n",
       "      <td>-792.701887</td>\n",
       "      <td>40</td>\n",
       "      <td>среднее</td>\n",
       "      <td>1</td>\n",
       "      <td>женат / замужем</td>\n",
       "      <td>0</td>\n",
       "      <td>F</td>\n",
       "      <td>сотрудник</td>\n",
       "      <td>0</td>\n",
       "      <td>77069.234271</td>\n",
       "      <td>покупка коммерческой недвижимости</td>\n",
       "    </tr>\n",
       "    <tr>\n",
       "      <th>12</th>\n",
       "      <td>0</td>\n",
       "      <td>NaN</td>\n",
       "      <td>65</td>\n",
       "      <td>среднее</td>\n",
       "      <td>1</td>\n",
       "      <td>гражданский брак</td>\n",
       "      <td>1</td>\n",
       "      <td>M</td>\n",
       "      <td>пенсионер</td>\n",
       "      <td>0</td>\n",
       "      <td>NaN</td>\n",
       "      <td>сыграть свадьбу</td>\n",
       "    </tr>\n",
       "    <tr>\n",
       "      <th>13</th>\n",
       "      <td>0</td>\n",
       "      <td>-1846.641941</td>\n",
       "      <td>54</td>\n",
       "      <td>неоконченное высшее</td>\n",
       "      <td>2</td>\n",
       "      <td>женат / замужем</td>\n",
       "      <td>0</td>\n",
       "      <td>F</td>\n",
       "      <td>сотрудник</td>\n",
       "      <td>0</td>\n",
       "      <td>130458.228857</td>\n",
       "      <td>приобретение автомобиля</td>\n",
       "    </tr>\n",
       "    <tr>\n",
       "      <th>14</th>\n",
       "      <td>0</td>\n",
       "      <td>-1844.956182</td>\n",
       "      <td>56</td>\n",
       "      <td>высшее</td>\n",
       "      <td>0</td>\n",
       "      <td>гражданский брак</td>\n",
       "      <td>1</td>\n",
       "      <td>F</td>\n",
       "      <td>компаньон</td>\n",
       "      <td>1</td>\n",
       "      <td>165127.911772</td>\n",
       "      <td>покупка жилой недвижимости</td>\n",
       "    </tr>\n",
       "    <tr>\n",
       "      <th>15</th>\n",
       "      <td>1</td>\n",
       "      <td>-972.364419</td>\n",
       "      <td>26</td>\n",
       "      <td>среднее</td>\n",
       "      <td>1</td>\n",
       "      <td>женат / замужем</td>\n",
       "      <td>0</td>\n",
       "      <td>F</td>\n",
       "      <td>сотрудник</td>\n",
       "      <td>0</td>\n",
       "      <td>116820.904450</td>\n",
       "      <td>строительство собственной недвижимости</td>\n",
       "    </tr>\n",
       "    <tr>\n",
       "      <th>16</th>\n",
       "      <td>0</td>\n",
       "      <td>-1719.934226</td>\n",
       "      <td>35</td>\n",
       "      <td>среднее</td>\n",
       "      <td>1</td>\n",
       "      <td>женат / замужем</td>\n",
       "      <td>0</td>\n",
       "      <td>F</td>\n",
       "      <td>сотрудник</td>\n",
       "      <td>0</td>\n",
       "      <td>289202.704229</td>\n",
       "      <td>недвижимость</td>\n",
       "    </tr>\n",
       "    <tr>\n",
       "      <th>17</th>\n",
       "      <td>0</td>\n",
       "      <td>-2369.999720</td>\n",
       "      <td>33</td>\n",
       "      <td>высшее</td>\n",
       "      <td>0</td>\n",
       "      <td>гражданский брак</td>\n",
       "      <td>1</td>\n",
       "      <td>M</td>\n",
       "      <td>сотрудник</td>\n",
       "      <td>0</td>\n",
       "      <td>90410.586745</td>\n",
       "      <td>строительство недвижимости</td>\n",
       "    </tr>\n",
       "    <tr>\n",
       "      <th>18</th>\n",
       "      <td>0</td>\n",
       "      <td>400281.136913</td>\n",
       "      <td>53</td>\n",
       "      <td>среднее</td>\n",
       "      <td>1</td>\n",
       "      <td>вдовец / вдова</td>\n",
       "      <td>2</td>\n",
       "      <td>F</td>\n",
       "      <td>пенсионер</td>\n",
       "      <td>0</td>\n",
       "      <td>56823.777243</td>\n",
       "      <td>на покупку подержанного автомобиля</td>\n",
       "    </tr>\n",
       "    <tr>\n",
       "      <th>19</th>\n",
       "      <td>0</td>\n",
       "      <td>-10038.818549</td>\n",
       "      <td>48</td>\n",
       "      <td>СРЕДНЕЕ</td>\n",
       "      <td>1</td>\n",
       "      <td>в разводе</td>\n",
       "      <td>3</td>\n",
       "      <td>F</td>\n",
       "      <td>сотрудник</td>\n",
       "      <td>0</td>\n",
       "      <td>242831.107982</td>\n",
       "      <td>на покупку своего автомобиля</td>\n",
       "    </tr>\n",
       "  </tbody>\n",
       "</table>\n",
       "</div>"
      ],
      "text/plain": [
       "    children  days_employed  dob_years            education  education_id  \\\n",
       "0          1   -8437.673028         42               высшее             0   \n",
       "1          1   -4024.803754         36              среднее             1   \n",
       "2          0   -5623.422610         33              Среднее             1   \n",
       "3          3   -4124.747207         32              среднее             1   \n",
       "4          0  340266.072047         53              среднее             1   \n",
       "5          0    -926.185831         27               высшее             0   \n",
       "6          0   -2879.202052         43               высшее             0   \n",
       "7          0    -152.779569         50              СРЕДНЕЕ             1   \n",
       "8          2   -6929.865299         35               ВЫСШЕЕ             0   \n",
       "9          0   -2188.756445         41              среднее             1   \n",
       "10         2   -4171.483647         36               высшее             0   \n",
       "11         0    -792.701887         40              среднее             1   \n",
       "12         0            NaN         65              среднее             1   \n",
       "13         0   -1846.641941         54  неоконченное высшее             2   \n",
       "14         0   -1844.956182         56               высшее             0   \n",
       "15         1    -972.364419         26              среднее             1   \n",
       "16         0   -1719.934226         35              среднее             1   \n",
       "17         0   -2369.999720         33               высшее             0   \n",
       "18         0  400281.136913         53              среднее             1   \n",
       "19         0  -10038.818549         48              СРЕДНЕЕ             1   \n",
       "\n",
       "       family_status  family_status_id gender income_type  debt  \\\n",
       "0    женат / замужем                 0      F   сотрудник     0   \n",
       "1    женат / замужем                 0      F   сотрудник     0   \n",
       "2    женат / замужем                 0      M   сотрудник     0   \n",
       "3    женат / замужем                 0      M   сотрудник     0   \n",
       "4   гражданский брак                 1      F   пенсионер     0   \n",
       "5   гражданский брак                 1      M   компаньон     0   \n",
       "6    женат / замужем                 0      F   компаньон     0   \n",
       "7    женат / замужем                 0      M   сотрудник     0   \n",
       "8   гражданский брак                 1      F   сотрудник     0   \n",
       "9    женат / замужем                 0      M   сотрудник     0   \n",
       "10   женат / замужем                 0      M   компаньон     0   \n",
       "11   женат / замужем                 0      F   сотрудник     0   \n",
       "12  гражданский брак                 1      M   пенсионер     0   \n",
       "13   женат / замужем                 0      F   сотрудник     0   \n",
       "14  гражданский брак                 1      F   компаньон     1   \n",
       "15   женат / замужем                 0      F   сотрудник     0   \n",
       "16   женат / замужем                 0      F   сотрудник     0   \n",
       "17  гражданский брак                 1      M   сотрудник     0   \n",
       "18    вдовец / вдова                 2      F   пенсионер     0   \n",
       "19         в разводе                 3      F   сотрудник     0   \n",
       "\n",
       "     total_income                                 purpose  \n",
       "0   253875.639453                           покупка жилья  \n",
       "1   112080.014102                 приобретение автомобиля  \n",
       "2   145885.952297                           покупка жилья  \n",
       "3   267628.550329              дополнительное образование  \n",
       "4   158616.077870                         сыграть свадьбу  \n",
       "5   255763.565419                           покупка жилья  \n",
       "6   240525.971920                       операции с жильем  \n",
       "7   135823.934197                             образование  \n",
       "8    95856.832424                   на проведение свадьбы  \n",
       "9   144425.938277                 покупка жилья для семьи  \n",
       "10  113943.491460                    покупка недвижимости  \n",
       "11   77069.234271       покупка коммерческой недвижимости  \n",
       "12            NaN                         сыграть свадьбу  \n",
       "13  130458.228857                 приобретение автомобиля  \n",
       "14  165127.911772              покупка жилой недвижимости  \n",
       "15  116820.904450  строительство собственной недвижимости  \n",
       "16  289202.704229                            недвижимость  \n",
       "17   90410.586745              строительство недвижимости  \n",
       "18   56823.777243      на покупку подержанного автомобиля  \n",
       "19  242831.107982            на покупку своего автомобиля  "
      ]
     },
     "execution_count": 2,
     "metadata": {},
     "output_type": "execute_result"
    }
   ],
   "source": [
    "data.head(20)"
   ]
  },
  {
   "cell_type": "markdown",
   "id": "0ed8f27f",
   "metadata": {
    "deletable": false,
    "editable": false,
    "id": "0ed8f27f"
   },
   "source": [
    "**Задание 3. Выведите основную информацию о датафрейме с помощью метода `info()`.**"
   ]
  },
  {
   "cell_type": "code",
   "execution_count": 3,
   "id": "ab3f863b",
   "metadata": {
    "deletable": false,
    "id": "ab3f863b",
    "outputId": "15376089-8dad-46c9-b520-c05248d43158"
   },
   "outputs": [
    {
     "name": "stdout",
     "output_type": "stream",
     "text": [
      "<class 'pandas.core.frame.DataFrame'>\n",
      "RangeIndex: 21525 entries, 0 to 21524\n",
      "Data columns (total 12 columns):\n",
      " #   Column            Non-Null Count  Dtype  \n",
      "---  ------            --------------  -----  \n",
      " 0   children          21525 non-null  int64  \n",
      " 1   days_employed     19351 non-null  float64\n",
      " 2   dob_years         21525 non-null  int64  \n",
      " 3   education         21525 non-null  object \n",
      " 4   education_id      21525 non-null  int64  \n",
      " 5   family_status     21525 non-null  object \n",
      " 6   family_status_id  21525 non-null  int64  \n",
      " 7   gender            21525 non-null  object \n",
      " 8   income_type       21525 non-null  object \n",
      " 9   debt              21525 non-null  int64  \n",
      " 10  total_income      19351 non-null  float64\n",
      " 11  purpose           21525 non-null  object \n",
      "dtypes: float64(2), int64(5), object(5)\n",
      "memory usage: 2.0+ MB\n"
     ]
    }
   ],
   "source": [
    "data.info()"
   ]
  },
  {
   "cell_type": "markdown",
   "id": "60e3e22d",
   "metadata": {
    "deletable": false,
    "editable": false,
    "id": "60e3e22d"
   },
   "source": [
    "## Предобработка данных"
   ]
  },
  {
   "cell_type": "markdown",
   "id": "03dc170c",
   "metadata": {
    "deletable": false,
    "editable": false,
    "id": "03dc170c"
   },
   "source": [
    "### Удаление пропусков"
   ]
  },
  {
   "cell_type": "markdown",
   "id": "a4f54eef",
   "metadata": {
    "deletable": false,
    "editable": false,
    "id": "a4f54eef"
   },
   "source": [
    "**Задание 4. Выведите количество пропущенных значений для каждого столбца. Используйте комбинацию двух методов.**"
   ]
  },
  {
   "cell_type": "code",
   "execution_count": 4,
   "id": "2dc372b2",
   "metadata": {
    "deletable": false,
    "id": "2dc372b2",
    "outputId": "81f4d817-781c-465c-ed15-91ce4446810d"
   },
   "outputs": [
    {
     "data": {
      "text/plain": [
       "children               0\n",
       "days_employed       2174\n",
       "dob_years              0\n",
       "education              0\n",
       "education_id           0\n",
       "family_status          0\n",
       "family_status_id       0\n",
       "gender                 0\n",
       "income_type            0\n",
       "debt                   0\n",
       "total_income        2174\n",
       "purpose                0\n",
       "dtype: int64"
      ]
     },
     "execution_count": 4,
     "metadata": {},
     "output_type": "execute_result"
    }
   ],
   "source": [
    "data.isna().sum()"
   ]
  },
  {
   "cell_type": "markdown",
   "id": "14f011b1",
   "metadata": {
    "deletable": false,
    "editable": false,
    "id": "14f011b1"
   },
   "source": [
    "**Задание 5. В двух столбцах есть пропущенные значения. Один из них — `days_employed`. Пропуски в этом столбце вы обработаете на следующем этапе. Другой столбец с пропущенными значениями — `total_income` — хранит данные о доходах. На сумму дохода сильнее всего влияет тип занятости, поэтому заполнить пропуски в этом столбце нужно медианным значением по каждому типу из столбца `income_type`. Например, у человека с типом занятости `сотрудник` пропуск в столбце `total_income` должен быть заполнен медианным доходом среди всех записей с тем же типом.**"
   ]
  },
  {
   "cell_type": "code",
   "execution_count": 5,
   "id": "bdabfb6e",
   "metadata": {
    "deletable": false,
    "id": "bdabfb6e"
   },
   "outputs": [],
   "source": [
    "for t in data['income_type'].unique():\n",
    "    data.loc[(data['income_type'] == t) & (data['total_income'].isna()), 'total_income'] = \\\n",
    "    data.loc[(data['income_type'] == t), 'total_income'].median()"
   ]
  },
  {
   "cell_type": "markdown",
   "id": "5be34059",
   "metadata": {
    "deletable": false,
    "editable": false,
    "id": "5be34059"
   },
   "source": [
    "### Обработка аномальных значений"
   ]
  },
  {
   "cell_type": "markdown",
   "id": "a87606cb",
   "metadata": {
    "deletable": false,
    "editable": false,
    "id": "a87606cb"
   },
   "source": [
    "**Задание 6. В данных могут встречаться артефакты (аномалии) — значения, которые не отражают действительность и появились по какой-то ошибке. таким артефактом будет отрицательное количество дней трудового стажа в столбце `days_employed`. Для реальных данных это нормально. Обработайте значения в этом столбце: замените все отрицательные значения положительными с помощью метода `abs()`.**"
   ]
  },
  {
   "cell_type": "code",
   "execution_count": 6,
   "id": "020c46cc",
   "metadata": {
    "deletable": false,
    "id": "020c46cc"
   },
   "outputs": [],
   "source": [
    "data['days_employed'] = data['days_employed'].abs()"
   ]
  },
  {
   "cell_type": "markdown",
   "id": "45538a3a",
   "metadata": {
    "deletable": false,
    "editable": false,
    "id": "45538a3a"
   },
   "source": [
    "**Задание 7. Для каждого типа занятости выведите медианное значение трудового стажа `days_employed` в днях.**"
   ]
  },
  {
   "cell_type": "code",
   "execution_count": 7,
   "id": "cd3e6328",
   "metadata": {
    "deletable": false,
    "id": "cd3e6328",
    "outputId": "801ef80e-522b-4668-f34e-565af7432bcf"
   },
   "outputs": [
    {
     "data": {
      "text/plain": [
       "income_type\n",
       "безработный        366413.652744\n",
       "в декрете            3296.759962\n",
       "госслужащий          2689.368353\n",
       "компаньон            1547.382223\n",
       "пенсионер          365213.306266\n",
       "предприниматель       520.848083\n",
       "сотрудник            1574.202821\n",
       "студент               578.751554\n",
       "Name: days_employed, dtype: float64"
      ]
     },
     "execution_count": 7,
     "metadata": {},
     "output_type": "execute_result"
    }
   ],
   "source": [
    "data.groupby('income_type')['days_employed'].agg('median')"
   ]
  },
  {
   "cell_type": "markdown",
   "id": "90c5f058",
   "metadata": {
    "deletable": false,
    "editable": false,
    "id": "90c5f058"
   },
   "source": [
    "У двух типов (безработные и пенсионеры) получатся аномально большие значения. Исправить такие значения сложно, поэтому оставьте их как есть."
   ]
  },
  {
   "cell_type": "markdown",
   "id": "9652e50d",
   "metadata": {
    "deletable": false,
    "editable": false,
    "id": "9652e50d"
   },
   "source": [
    "**Задание 8. Выведите перечень уникальных значений столбца `children`.**"
   ]
  },
  {
   "cell_type": "code",
   "execution_count": 8,
   "id": "dbb37b8e",
   "metadata": {
    "deletable": false,
    "id": "dbb37b8e",
    "outputId": "6975b15c-7f95-4697-d16d-a0c79b657b03"
   },
   "outputs": [
    {
     "data": {
      "text/plain": [
       "array([ 1,  0,  3,  2, -1,  4, 20,  5])"
      ]
     },
     "execution_count": 8,
     "metadata": {},
     "output_type": "execute_result"
    }
   ],
   "source": [
    "data['children'].unique()"
   ]
  },
  {
   "cell_type": "markdown",
   "id": "2b8b0715",
   "metadata": {
    "deletable": false,
    "editable": false,
    "id": "2b8b0715"
   },
   "source": [
    "**Задание 9. В столбце `children` есть два аномальных значения. Удалите строки, в которых встречаются такие аномальные значения из датафрейма `data`.**"
   ]
  },
  {
   "cell_type": "code",
   "execution_count": 9,
   "id": "20009df8",
   "metadata": {
    "deletable": false,
    "id": "20009df8"
   },
   "outputs": [],
   "source": [
    "data = data[(data['children'] != -1) & (data['children'] != 20)]"
   ]
  },
  {
   "cell_type": "markdown",
   "id": "8c6ac9f1",
   "metadata": {
    "deletable": false,
    "editable": false,
    "id": "8c6ac9f1"
   },
   "source": [
    "**Задание 10. Ещё раз выведите перечень уникальных значений столбца `children`, чтобы убедиться, что артефакты удалены.**"
   ]
  },
  {
   "cell_type": "code",
   "execution_count": 10,
   "id": "07337b81",
   "metadata": {
    "deletable": false,
    "id": "07337b81",
    "outputId": "b2097101-d49d-44d9-901b-32a65c9463d1"
   },
   "outputs": [
    {
     "data": {
      "text/plain": [
       "array([1, 0, 3, 2, 4, 5])"
      ]
     },
     "execution_count": 10,
     "metadata": {},
     "output_type": "execute_result"
    }
   ],
   "source": [
    "data['children'].unique()"
   ]
  },
  {
   "cell_type": "markdown",
   "id": "ee3f52d4",
   "metadata": {
    "deletable": false,
    "editable": false,
    "id": "ee3f52d4"
   },
   "source": [
    "### Удаление пропусков (продолжение)"
   ]
  },
  {
   "cell_type": "markdown",
   "id": "a700b0e4",
   "metadata": {
    "deletable": false,
    "editable": false,
    "id": "a700b0e4"
   },
   "source": [
    "**Задание 11. Заполните пропуски в столбце `days_employed` медианными значениями по каждого типа занятости `income_type`.**"
   ]
  },
  {
   "cell_type": "code",
   "execution_count": 11,
   "id": "61946b83",
   "metadata": {
    "deletable": false,
    "id": "61946b83"
   },
   "outputs": [],
   "source": [
    "for t in data['income_type'].unique():\n",
    "    data.loc[(data['income_type'] == t) & (data['days_employed'].isna()), 'days_employed'] = \\\n",
    "    data.loc[(data['income_type'] == t), 'days_employed'].median()"
   ]
  },
  {
   "cell_type": "markdown",
   "id": "550dcd9b",
   "metadata": {
    "deletable": false,
    "editable": false,
    "id": "550dcd9b"
   },
   "source": [
    "**Задание 12. Убедитесь, что все пропуски заполнены. Проверьте себя и ещё раз выведите количество пропущенных значений для каждого столбца с помощью двух методов.**"
   ]
  },
  {
   "cell_type": "code",
   "execution_count": 12,
   "id": "937c7014",
   "metadata": {
    "deletable": false,
    "id": "937c7014",
    "outputId": "8da1e4e1-358e-4e87-98c9-f261bce0a7b2"
   },
   "outputs": [
    {
     "data": {
      "text/plain": [
       "children            0\n",
       "days_employed       0\n",
       "dob_years           0\n",
       "education           0\n",
       "education_id        0\n",
       "family_status       0\n",
       "family_status_id    0\n",
       "gender              0\n",
       "income_type         0\n",
       "debt                0\n",
       "total_income        0\n",
       "purpose             0\n",
       "dtype: int64"
      ]
     },
     "execution_count": 12,
     "metadata": {},
     "output_type": "execute_result"
    }
   ],
   "source": [
    "data.isna().sum()"
   ]
  },
  {
   "cell_type": "markdown",
   "id": "d522e295",
   "metadata": {
    "deletable": false,
    "editable": false,
    "id": "d522e295"
   },
   "source": [
    "### Изменение типов данных"
   ]
  },
  {
   "cell_type": "markdown",
   "id": "c229c581",
   "metadata": {
    "deletable": false,
    "editable": false,
    "id": "c229c581"
   },
   "source": [
    "**Задание 13. Замените вещественный тип данных в столбце `total_income` на целочисленный с помощью метода `astype()`.**"
   ]
  },
  {
   "cell_type": "code",
   "execution_count": 13,
   "id": "31036462",
   "metadata": {
    "deletable": false,
    "id": "31036462"
   },
   "outputs": [],
   "source": [
    "data['total_income'] = data['total_income'].astype(int)"
   ]
  },
  {
   "cell_type": "markdown",
   "id": "b8e3d1d9",
   "metadata": {
    "deletable": false,
    "editable": false,
    "id": "b8e3d1d9"
   },
   "source": [
    "### Обработка дубликатов"
   ]
  },
  {
   "cell_type": "markdown",
   "id": "9be53c49",
   "metadata": {
    "deletable": false,
    "editable": false,
    "id": "9be53c49"
   },
   "source": [
    "**Задание 14. Обработайте неявные дубликаты в столбце `education`. В этом столбце есть одни и те же значения, но записанные по-разному: с использованием заглавных и строчных букв. Приведите их к нижнему регистру.**"
   ]
  },
  {
   "cell_type": "code",
   "execution_count": 14,
   "id": "d89e73e1",
   "metadata": {
    "deletable": false,
    "id": "d89e73e1"
   },
   "outputs": [],
   "source": [
    "data['education'] = data['education'].str.lower()"
   ]
  },
  {
   "cell_type": "markdown",
   "id": "01d4500e",
   "metadata": {
    "deletable": false,
    "editable": false,
    "id": "01d4500e"
   },
   "source": [
    "**Задание 15. Выведите на экран количество строк-дубликатов в данных. Если такие строки присутствуют, удалите их.**"
   ]
  },
  {
   "cell_type": "code",
   "execution_count": 15,
   "id": "e10efb23",
   "metadata": {
    "deletable": false,
    "id": "e10efb23",
    "outputId": "9684deba-1934-42d1-99e1-cda61740f822"
   },
   "outputs": [
    {
     "data": {
      "text/plain": [
       "71"
      ]
     },
     "execution_count": 15,
     "metadata": {},
     "output_type": "execute_result"
    }
   ],
   "source": [
    "data.duplicated().sum()"
   ]
  },
  {
   "cell_type": "code",
   "execution_count": 16,
   "id": "df853f20",
   "metadata": {
    "deletable": false,
    "id": "df853f20"
   },
   "outputs": [],
   "source": [
    "data = data.drop_duplicates()"
   ]
  },
  {
   "cell_type": "markdown",
   "id": "627be38f",
   "metadata": {
    "deletable": false,
    "editable": false,
    "id": "627be38f"
   },
   "source": [
    "### Категоризация данных"
   ]
  },
  {
   "cell_type": "markdown",
   "id": "4684c3e0",
   "metadata": {
    "deletable": false,
    "editable": false,
    "id": "4684c3e0"
   },
   "source": [
    "**Задание 16. На основании диапазонов, указанных ниже, создайте в датафрейме `data` столбец `total_income_category` с категориями:**\n",
    "\n",
    "- 0–30000 — `'E'`;\n",
    "- 30001–50000 — `'D'`;\n",
    "- 50001–200000 — `'C'`;\n",
    "- 200001–1000000 — `'B'`;\n",
    "- 1000001 и выше — `'A'`.\n",
    "\n",
    "\n",
    "**Например, кредитополучателю с доходом 25000 нужно назначить категорию `'E'`, а клиенту, получающему 235000, — `'B'`. Используйте собственную функцию с именем `categorize_income()` и метод `apply()`.**"
   ]
  },
  {
   "cell_type": "code",
   "execution_count": 17,
   "id": "78965238",
   "metadata": {
    "deletable": false,
    "id": "78965238"
   },
   "outputs": [],
   "source": [
    "def categorize_income(income):\n",
    "    try:\n",
    "        if 0 <= income <= 30000:\n",
    "            return 'E'\n",
    "        elif 30001 <= income <= 50000:\n",
    "            return 'D'\n",
    "        elif 50001 <= income <= 200000:\n",
    "            return 'C'\n",
    "        elif 200001 <= income <= 1000000:\n",
    "            return 'B'\n",
    "        elif income >= 1000001:\n",
    "            return 'A'\n",
    "    except:\n",
    "        pass"
   ]
  },
  {
   "cell_type": "code",
   "execution_count": 18,
   "id": "0980ada1",
   "metadata": {
    "deletable": false,
    "id": "0980ada1"
   },
   "outputs": [],
   "source": [
    "data['total_income_category'] = data['total_income'].apply(categorize_income)"
   ]
  },
  {
   "cell_type": "markdown",
   "id": "9917bba0",
   "metadata": {
    "deletable": false,
    "editable": false,
    "id": "9917bba0"
   },
   "source": [
    "**Задание 17. Выведите на экран перечень уникальных целей взятия кредита из столбца `purpose`.**"
   ]
  },
  {
   "cell_type": "code",
   "execution_count": 19,
   "id": "ee07b65e",
   "metadata": {
    "deletable": false,
    "id": "ee07b65e",
    "outputId": "673c12d9-7d7e-4ae0-9812-c622c89dd244"
   },
   "outputs": [
    {
     "data": {
      "text/plain": [
       "array(['покупка жилья', 'приобретение автомобиля',\n",
       "       'дополнительное образование', 'сыграть свадьбу',\n",
       "       'операции с жильем', 'образование', 'на проведение свадьбы',\n",
       "       'покупка жилья для семьи', 'покупка недвижимости',\n",
       "       'покупка коммерческой недвижимости', 'покупка жилой недвижимости',\n",
       "       'строительство собственной недвижимости', 'недвижимость',\n",
       "       'строительство недвижимости', 'на покупку подержанного автомобиля',\n",
       "       'на покупку своего автомобиля',\n",
       "       'операции с коммерческой недвижимостью',\n",
       "       'строительство жилой недвижимости', 'жилье',\n",
       "       'операции со своей недвижимостью', 'автомобили',\n",
       "       'заняться образованием', 'сделка с подержанным автомобилем',\n",
       "       'получение образования', 'автомобиль', 'свадьба',\n",
       "       'получение дополнительного образования', 'покупка своего жилья',\n",
       "       'операции с недвижимостью', 'получение высшего образования',\n",
       "       'свой автомобиль', 'сделка с автомобилем',\n",
       "       'профильное образование', 'высшее образование',\n",
       "       'покупка жилья для сдачи', 'на покупку автомобиля', 'ремонт жилью',\n",
       "       'заняться высшим образованием'], dtype=object)"
      ]
     },
     "execution_count": 19,
     "metadata": {},
     "output_type": "execute_result"
    }
   ],
   "source": [
    "data['purpose'].unique()"
   ]
  },
  {
   "cell_type": "markdown",
   "id": "52b79d56",
   "metadata": {
    "deletable": false,
    "editable": false,
    "id": "52b79d56"
   },
   "source": [
    "**Задание 18. Создайте функцию, которая на основании данных из столбца `purpose` сформирует новый столбец `purpose_category`, в который войдут следующие категории:**\n",
    "\n",
    "- `'операции с автомобилем'`,\n",
    "- `'операции с недвижимостью'`,\n",
    "- `'проведение свадьбы'`,\n",
    "- `'получение образования'`.\n",
    "\n",
    "**Например, если в столбце `purpose` находится подстрока `'на покупку автомобиля'`, то в столбце `purpose_category` должна появиться строка `'операции с автомобилем'`.**\n",
    "\n",
    "**Используйте собственную функцию с именем `categorize_purpose()` и метод `apply()`. Изучите данные в столбце `purpose` и определите, какие подстроки помогут вам правильно определить категорию.**"
   ]
  },
  {
   "cell_type": "code",
   "execution_count": 20,
   "id": "be41da5d",
   "metadata": {
    "deletable": false,
    "id": "be41da5d"
   },
   "outputs": [],
   "source": [
    "def categorize_purpose(row):\n",
    "    try:\n",
    "        if 'автом' in row:\n",
    "            return 'операции с автомобилем'\n",
    "        elif 'жил' in row or 'недвиж' in row:\n",
    "            return 'операции с недвижимостью'\n",
    "        elif 'свад' in row:\n",
    "            return 'проведение свадьбы'\n",
    "        elif 'образов' in row:\n",
    "            return 'получение образования'\n",
    "    except:\n",
    "        return 'нет категории'"
   ]
  },
  {
   "cell_type": "code",
   "execution_count": 21,
   "id": "94c4a19a",
   "metadata": {
    "deletable": false,
    "id": "94c4a19a"
   },
   "outputs": [],
   "source": [
    "data['purpose_category'] = data['purpose'].apply(categorize_purpose)"
   ]
  },
  {
   "cell_type": "markdown",
   "id": "3d596c34",
   "metadata": {
    "deletable": false,
    "editable": false,
    "id": "3d596c34"
   },
   "source": [
    "### Шаг 3. Исследуйте данные и ответьте на вопросы"
   ]
  },
  {
   "cell_type": "markdown",
   "id": "648db036",
   "metadata": {
    "deletable": false,
    "editable": false,
    "id": "648db036"
   },
   "source": [
    "#### 3.1 Есть ли зависимость между количеством детей и возвратом кредита в срок?"
   ]
  },
  {
   "cell_type": "code",
   "execution_count": 26,
   "id": "7fcff25e",
   "metadata": {
    "deletable": false,
    "id": "7fcff25e"
   },
   "outputs": [
    {
     "data": {
      "text/html": [
       "<div>\n",
       "<style scoped>\n",
       "    .dataframe tbody tr th:only-of-type {\n",
       "        vertical-align: middle;\n",
       "    }\n",
       "\n",
       "    .dataframe tbody tr th {\n",
       "        vertical-align: top;\n",
       "    }\n",
       "\n",
       "    .dataframe thead th {\n",
       "        text-align: right;\n",
       "    }\n",
       "</style>\n",
       "<table border=\"1\" class=\"dataframe\">\n",
       "  <thead>\n",
       "    <tr style=\"text-align: right;\">\n",
       "      <th></th>\n",
       "      <th>count_credit</th>\n",
       "      <th>sum_debt</th>\n",
       "      <th>share_debt</th>\n",
       "    </tr>\n",
       "    <tr>\n",
       "      <th>children</th>\n",
       "      <th></th>\n",
       "      <th></th>\n",
       "      <th></th>\n",
       "    </tr>\n",
       "  </thead>\n",
       "  <tbody>\n",
       "    <tr>\n",
       "      <th>5</th>\n",
       "      <td>9</td>\n",
       "      <td>0</td>\n",
       "      <td>0.000</td>\n",
       "    </tr>\n",
       "    <tr>\n",
       "      <th>0</th>\n",
       "      <td>14091</td>\n",
       "      <td>1063</td>\n",
       "      <td>0.075</td>\n",
       "    </tr>\n",
       "    <tr>\n",
       "      <th>3</th>\n",
       "      <td>330</td>\n",
       "      <td>27</td>\n",
       "      <td>0.082</td>\n",
       "    </tr>\n",
       "    <tr>\n",
       "      <th>1</th>\n",
       "      <td>4808</td>\n",
       "      <td>444</td>\n",
       "      <td>0.092</td>\n",
       "    </tr>\n",
       "    <tr>\n",
       "      <th>2</th>\n",
       "      <td>2052</td>\n",
       "      <td>194</td>\n",
       "      <td>0.095</td>\n",
       "    </tr>\n",
       "    <tr>\n",
       "      <th>4</th>\n",
       "      <td>41</td>\n",
       "      <td>4</td>\n",
       "      <td>0.098</td>\n",
       "    </tr>\n",
       "  </tbody>\n",
       "</table>\n",
       "</div>"
      ],
      "text/plain": [
       "          count_credit  sum_debt  share_debt\n",
       "children                                    \n",
       "5                    9         0       0.000\n",
       "0                14091      1063       0.075\n",
       "3                  330        27       0.082\n",
       "1                 4808       444       0.092\n",
       "2                 2052       194       0.095\n",
       "4                   41         4       0.098"
      ]
     },
     "execution_count": 26,
     "metadata": {},
     "output_type": "execute_result"
    }
   ],
   "source": [
    "data_pivot = data.pivot_table(index = ['children'], values = 'debt', aggfunc = {'count','sum'})\n",
    "data_pivot['share'] = round(data_pivot['sum']/data_pivot['count'], 3)\n",
    "data_pivot = data_pivot.sort_values(by='share', ascending=True)\n",
    "data_pivot = data_pivot.rename(columns={'count':'count_credit','sum':'sum_debt','share':'share_debt'})\n",
    "data_pivot.head(10)\n",
    "# Ваш код будет здесь. Вы можете создавать новые ячейки."
   ]
  },
  {
   "cell_type": "markdown",
   "id": "7e98a0c2",
   "metadata": {},
   "source": [
    "<div class=\"alert alert-success\">\n",
    "<font size=\"5\"><b>Комментарий ревьюера</b></font>\n",
    "\n",
    "\n",
    "\n",
    "Успех 👍:\n",
    "\n",
    "\n",
    "\n",
    "Сразу отмечу использование pivot_table\n",
    "\n",
    "\n",
    " <div class=\"alert alert-warning\">\n",
    " \n",
    "\n",
    "\n",
    "Совет 🤔:\n",
    "\n",
    "\n",
    "Только поправь, у тебя не проценты а  доли "
   ]
  },
  {
   "cell_type": "markdown",
   "id": "2eb9088e",
   "metadata": {
    "deletable": false,
    "id": "2eb9088e"
   },
   "source": [
    "**Вывод:** Заемщики с 5 детьми ее имеют задолжнности по выплате кредита, но количество таких заемщиков стремиться к величине погрешности, поэтому делать вывод по их группе не целесообразно.\n",
    "Наименьшая доля задолженностей наблюдается у группы без детей, очевтдно, по тому, что они могут четко планировать свои расходи, имеют малое количество непредвиденных расходов. \n",
    "Семьи с 3мя детьми имеют довольно хорогие показатели и занимают 2ое место среди добросовесных платильщиков, кредиты они берут редко и платят хорошо, что говорит об ответсвенном отношении!\n",
    "Во второй половне таблицы мы наблюдаем увеличение доли задолженности с увеличнием количества детей, зависимость прямо пропорциональная, это и поятно, тк с увеличением количесва едивенцев растет финансовая нагрузка, соответсвенно, и риски по невозврату кредитных средств. "
   ]
  },
  {
   "cell_type": "markdown",
   "id": "b07a9f58",
   "metadata": {},
   "source": [
    "<div class=\"alert alert-success\">\n",
    "<font size=\"5\"><b>Комментарий ревьюера</b></font>\n",
    "\n",
    "\n",
    "\n",
    "Успех 👍:\n",
    "\n",
    "\n",
    "\n",
    "👍 Согласен. Хорошее объяснение увиденному\n",
    "\n",
    "\n",
    "<div class=\"alert alert-warning\">\n",
    " \n",
    "\n",
    "\n",
    "Совет 🤔:\n",
    "\n",
    "\n",
    "Можно было создать одну выборку для трёх и более детей "
   ]
  },
  {
   "cell_type": "markdown",
   "id": "74c9b3a7",
   "metadata": {
    "deletable": false,
    "editable": false,
    "id": "74c9b3a7"
   },
   "source": [
    "#### 3.2 Есть ли зависимость между семейным положением и возвратом кредита в срок?"
   ]
  },
  {
   "cell_type": "code",
   "execution_count": 27,
   "id": "8098ab3b",
   "metadata": {
    "deletable": false,
    "id": "8098ab3b"
   },
   "outputs": [
    {
     "data": {
      "text/html": [
       "<div>\n",
       "<style scoped>\n",
       "    .dataframe tbody tr th:only-of-type {\n",
       "        vertical-align: middle;\n",
       "    }\n",
       "\n",
       "    .dataframe tbody tr th {\n",
       "        vertical-align: top;\n",
       "    }\n",
       "\n",
       "    .dataframe thead th {\n",
       "        text-align: right;\n",
       "    }\n",
       "</style>\n",
       "<table border=\"1\" class=\"dataframe\">\n",
       "  <thead>\n",
       "    <tr style=\"text-align: right;\">\n",
       "      <th></th>\n",
       "      <th>count_credit</th>\n",
       "      <th>sum_debt</th>\n",
       "      <th>share_debt</th>\n",
       "    </tr>\n",
       "    <tr>\n",
       "      <th>family_status</th>\n",
       "      <th></th>\n",
       "      <th></th>\n",
       "      <th></th>\n",
       "    </tr>\n",
       "  </thead>\n",
       "  <tbody>\n",
       "    <tr>\n",
       "      <th>вдовец / вдова</th>\n",
       "      <td>951</td>\n",
       "      <td>63</td>\n",
       "      <td>0.066</td>\n",
       "    </tr>\n",
       "    <tr>\n",
       "      <th>в разводе</th>\n",
       "      <td>1189</td>\n",
       "      <td>84</td>\n",
       "      <td>0.071</td>\n",
       "    </tr>\n",
       "    <tr>\n",
       "      <th>женат / замужем</th>\n",
       "      <td>12261</td>\n",
       "      <td>927</td>\n",
       "      <td>0.076</td>\n",
       "    </tr>\n",
       "    <tr>\n",
       "      <th>гражданский брак</th>\n",
       "      <td>4134</td>\n",
       "      <td>385</td>\n",
       "      <td>0.093</td>\n",
       "    </tr>\n",
       "    <tr>\n",
       "      <th>Не женат / не замужем</th>\n",
       "      <td>2796</td>\n",
       "      <td>273</td>\n",
       "      <td>0.098</td>\n",
       "    </tr>\n",
       "  </tbody>\n",
       "</table>\n",
       "</div>"
      ],
      "text/plain": [
       "                       count_credit  sum_debt  share_debt\n",
       "family_status                                            \n",
       "вдовец / вдова                  951        63       0.066\n",
       "в разводе                      1189        84       0.071\n",
       "женат / замужем               12261       927       0.076\n",
       "гражданский брак               4134       385       0.093\n",
       "Не женат / не замужем          2796       273       0.098"
      ]
     },
     "execution_count": 27,
     "metadata": {},
     "output_type": "execute_result"
    }
   ],
   "source": [
    "data_pivot = data.pivot_table(index = ['family_status'], values = 'debt', aggfunc = {'count','sum'})\n",
    "data_pivot['share'] = round(data_pivot['sum']/data_pivot['count'], 3)\n",
    "data_pivot = data_pivot.sort_values(by='share', ascending=True)\n",
    "data_pivot = data_pivot.rename(columns={'count':'count_credit','sum':'sum_debt','share':'share_debt'})\n",
    "data_pivot.head(10)\n",
    "# Ваш код будет здесь. Вы можете создавать новые ячейки."
   ]
  },
  {
   "cell_type": "markdown",
   "id": "c389ca63",
   "metadata": {
    "deletable": false,
    "id": "c389ca63"
   },
   "source": [
    "**Вывод:** Самыми надежными заемщиками являются вдовцы и люди, бывшие в браке. Они имеют хороший жизненый опыт, прогматичны, ответсвенны, четко знают цель кредита и план его погашения.\n",
    "Следом за ними идут люди состоящие в браке. Так же ответсвенные, планирующие свои жизнь и расходы. \n",
    "Люди не вступающие(гражданский брак)\\не состоявшие в браке, вероятно, более легкомыслены, не имеют четких планов на будующее, действуют спантанно, эмоционально: захоте - взял креди, смог - выплатил, не смог - не выплатил. "
   ]
  },
  {
   "cell_type": "markdown",
   "id": "42c85601",
   "metadata": {},
   "source": [
    "<div class=\"alert alert-success\">\n",
    "<font size=\"5\"><b>Комментарий ревьюераV3</b></font>\n",
    "\n",
    "\n",
    "\n",
    "Успех 👍:\n",
    "\n",
    "\n",
    "\n",
    "Исправление принято\n",
    "\n",
    "\n",
    " "
   ]
  },
  {
   "cell_type": "markdown",
   "id": "bc72d517",
   "metadata": {},
   "source": [
    "<div class=\"alert alert-danger\">\n",
    "<font size=\"5\"><b>Комментарий ревьюера</b></font>\n",
    "\n",
    "\n",
    "\n",
    "Ошибка ❌:\n",
    "\n",
    "\n",
    "А что по поводу вдовцов? На них приходится довольно весомая доля кредитов  \n",
    "\n",
    "<div class=\"alert alert-warning\">\n",
    "\n",
    "\n",
    "\n",
    "Совет 🤔:\n",
    "\n",
    "\n",
    "твоё объяснение вполне допустимо,  но можно предположить что это мнимая зависимость, семейное положение выступает только в качестве индикатора.  А истинная причина например в...(можешь посмотреть какие данные ещё у нас представлены в табличке). Это не обязательно верно, но всегда стоит держать в голове что связь присутствовать может, но она не имеет причинно-следственного характера"
   ]
  },
  {
   "cell_type": "markdown",
   "id": "9529de68",
   "metadata": {
    "deletable": false,
    "editable": false,
    "id": "9529de68"
   },
   "source": [
    "#### 3.3 Есть ли зависимость между уровнем дохода и возвратом кредита в срок?"
   ]
  },
  {
   "cell_type": "code",
   "execution_count": 28,
   "id": "8787f44a",
   "metadata": {
    "deletable": false,
    "id": "8787f44a"
   },
   "outputs": [
    {
     "data": {
      "text/html": [
       "<div>\n",
       "<style scoped>\n",
       "    .dataframe tbody tr th:only-of-type {\n",
       "        vertical-align: middle;\n",
       "    }\n",
       "\n",
       "    .dataframe tbody tr th {\n",
       "        vertical-align: top;\n",
       "    }\n",
       "\n",
       "    .dataframe thead th {\n",
       "        text-align: right;\n",
       "    }\n",
       "</style>\n",
       "<table border=\"1\" class=\"dataframe\">\n",
       "  <thead>\n",
       "    <tr style=\"text-align: right;\">\n",
       "      <th></th>\n",
       "      <th>count_credit</th>\n",
       "      <th>sum_debt</th>\n",
       "      <th>share_debt</th>\n",
       "    </tr>\n",
       "    <tr>\n",
       "      <th>total_income_category</th>\n",
       "      <th></th>\n",
       "      <th></th>\n",
       "      <th></th>\n",
       "    </tr>\n",
       "  </thead>\n",
       "  <tbody>\n",
       "    <tr>\n",
       "      <th>D</th>\n",
       "      <td>349</td>\n",
       "      <td>21</td>\n",
       "      <td>0.060</td>\n",
       "    </tr>\n",
       "    <tr>\n",
       "      <th>B</th>\n",
       "      <td>5014</td>\n",
       "      <td>354</td>\n",
       "      <td>0.071</td>\n",
       "    </tr>\n",
       "    <tr>\n",
       "      <th>A</th>\n",
       "      <td>25</td>\n",
       "      <td>2</td>\n",
       "      <td>0.080</td>\n",
       "    </tr>\n",
       "    <tr>\n",
       "      <th>C</th>\n",
       "      <td>15921</td>\n",
       "      <td>1353</td>\n",
       "      <td>0.085</td>\n",
       "    </tr>\n",
       "    <tr>\n",
       "      <th>E</th>\n",
       "      <td>22</td>\n",
       "      <td>2</td>\n",
       "      <td>0.091</td>\n",
       "    </tr>\n",
       "  </tbody>\n",
       "</table>\n",
       "</div>"
      ],
      "text/plain": [
       "                       count_credit  sum_debt  share_debt\n",
       "total_income_category                                    \n",
       "D                               349        21       0.060\n",
       "B                              5014       354       0.071\n",
       "A                                25         2       0.080\n",
       "C                             15921      1353       0.085\n",
       "E                                22         2       0.091"
      ]
     },
     "execution_count": 28,
     "metadata": {},
     "output_type": "execute_result"
    }
   ],
   "source": [
    "data_pivot = data.pivot_table(index = ['total_income_category'], values = 'debt', aggfunc = {'count','sum'})\n",
    "data_pivot['share'] = round(data_pivot['sum']/data_pivot['count'], 3)\n",
    "data_pivot = data_pivot.sort_values(by='share', ascending=True)\n",
    "data_pivot = data_pivot.rename(columns={'count':'count_credit','sum':'sum_debt','share':'share_debt'})\n",
    "data_pivot.head(10)\n",
    "# Ваш код будет здесь. Вы можете создавать новые ячейки."
   ]
  },
  {
   "cell_type": "markdown",
   "id": "6dd14b57",
   "metadata": {
    "deletable": false,
    "id": "6dd14b57"
   },
   "source": [
    "**Вывод:**  \n",
    "категории:\n",
    "0–30000 — 'E';\n",
    "30001–50000 — 'D';\n",
    "50001–200000 — 'C';\n",
    "200001–1000000 — 'B';\n",
    "1000001 и выше — 'A'.\n",
    "\n",
    "Лучшие заемщики - люди с доходом ниже среднего (категортя D). Кредитов они берут не много и платят хорошо, вероятно, для них это покупки первой необходимости, на которые не всегда находтся деньги здесь и сейчас. \n",
    "Самые богатые (категортя A) и самые бендные (категортя E) группы людей берут кредиты крайне редко, относительно других групп, первым они не нужны, вторым непосильны. Чтобы понять, потребность этих групп в кредитовании, необходимо владеть информацией о количестве поступающих заявок на кредит.\n",
    "А вот люди с достатком выше среднего (категортя B) берут кредиты активно и платят их хорошо. Имея высокие потребности, они имеют высокую платежеспособность и кредит для них лишь способ получить большее количество желаемого в единицу времени! \n",
    "Средний класс (категортя C) - очень сложный заемщик, разброс уровня дохода очень высокий с этой категории и граничит с низким, что говорит о большой потребности в земных средсвах и, в то же время, о нестабильной возможности эти средства возвращать. При кредитловании таких заемщиков следует обращать внимание на дополнительные критерии платежеспособности (семейное положение, количество детей)."
   ]
  },
  {
   "cell_type": "markdown",
   "id": "df07d340",
   "metadata": {},
   "source": [
    "<div class=\"alert alert-warning\">\n",
    "<font size=\"5\"><b>Комментарий ревьюера</b></font>\n",
    "\n",
    "\n",
    "\n",
    "Совет 🤔:\n",
    "\n",
    "\n",
    "- Вместо букв можно было вывести разброс доходов, так табличка будет выглядеть информативней    \n",
    "    \n",
    "    \n",
    "    Самые богатые и самые бендные группы людей берут кредиты крайне редко, относительно других групп, первым они не нужны, вторым непосильны    \n",
    " \n",
    "- Тут стоит сделать поправку что таких людей вообще может быть очень мало.  Или например их вообще может не быть, но тогда они физически не смогут взять кредит. Какой информации нам не хватает чтобы сделать кто в разрезе   доходов чаще берёт кредиты?\n",
    "    \n"
   ]
  },
  {
   "cell_type": "markdown",
   "id": "1dcc9b12",
   "metadata": {
    "deletable": false,
    "editable": false,
    "id": "1dcc9b12"
   },
   "source": [
    "#### 3.4 Как разные цели кредита влияют на его возврат в срок?"
   ]
  },
  {
   "cell_type": "code",
   "execution_count": 29,
   "id": "c602bc8b",
   "metadata": {
    "deletable": false,
    "id": "c602bc8b"
   },
   "outputs": [
    {
     "data": {
      "text/html": [
       "<div>\n",
       "<style scoped>\n",
       "    .dataframe tbody tr th:only-of-type {\n",
       "        vertical-align: middle;\n",
       "    }\n",
       "\n",
       "    .dataframe tbody tr th {\n",
       "        vertical-align: top;\n",
       "    }\n",
       "\n",
       "    .dataframe thead th {\n",
       "        text-align: right;\n",
       "    }\n",
       "</style>\n",
       "<table border=\"1\" class=\"dataframe\">\n",
       "  <thead>\n",
       "    <tr style=\"text-align: right;\">\n",
       "      <th></th>\n",
       "      <th>count_credit</th>\n",
       "      <th>sum_debt</th>\n",
       "      <th>share_debt</th>\n",
       "    </tr>\n",
       "    <tr>\n",
       "      <th>purpose_category</th>\n",
       "      <th></th>\n",
       "      <th></th>\n",
       "      <th></th>\n",
       "    </tr>\n",
       "  </thead>\n",
       "  <tbody>\n",
       "    <tr>\n",
       "      <th>операции с недвижимостью</th>\n",
       "      <td>10751</td>\n",
       "      <td>780</td>\n",
       "      <td>0.073</td>\n",
       "    </tr>\n",
       "    <tr>\n",
       "      <th>проведение свадьбы</th>\n",
       "      <td>2313</td>\n",
       "      <td>183</td>\n",
       "      <td>0.079</td>\n",
       "    </tr>\n",
       "    <tr>\n",
       "      <th>операции с автомобилем</th>\n",
       "      <td>4279</td>\n",
       "      <td>400</td>\n",
       "      <td>0.093</td>\n",
       "    </tr>\n",
       "    <tr>\n",
       "      <th>получение образования</th>\n",
       "      <td>3988</td>\n",
       "      <td>369</td>\n",
       "      <td>0.093</td>\n",
       "    </tr>\n",
       "  </tbody>\n",
       "</table>\n",
       "</div>"
      ],
      "text/plain": [
       "                          count_credit  sum_debt  share_debt\n",
       "purpose_category                                            \n",
       "операции с недвижимостью         10751       780       0.073\n",
       "проведение свадьбы                2313       183       0.079\n",
       "операции с автомобилем            4279       400       0.093\n",
       "получение образования             3988       369       0.093"
      ]
     },
     "execution_count": 29,
     "metadata": {},
     "output_type": "execute_result"
    }
   ],
   "source": [
    "data_pivot = data.pivot_table(index = ['purpose_category'], values = 'debt', aggfunc = {'count','sum'})\n",
    "data_pivot['share'] = round(data_pivot['sum']/data_pivot['count'], 3)\n",
    "data_pivot = data_pivot.sort_values(by='share', ascending=True)\n",
    "data_pivot = data_pivot.rename(columns={'count':'count_credit','sum':'sum_debt','share':'share_debt'})\n",
    "data_pivot.head(10)\n",
    "# Ваш код будет здесь. Вы можете создавать новые ячейки."
   ]
  },
  {
   "cell_type": "markdown",
   "id": "cf05ed63",
   "metadata": {
    "deletable": false,
    "id": "cf05ed63"
   },
   "source": [
    "**Вывод:** Ожидаемо, что операции с недвижимостью лидируют как по количесву взятых крелитов, так и по аккуратности заемщиков при их погашении. Недвижимость базовая и основная потребность любого человека и чтобы ее закрыть все средсва хороши, даже кредит. А потеря недвижимости недопустима, поэтому к погашению кредита подход крайне отвественный! \n",
    "Свадьба, как думают молодожены, событие крайне важное, и пройти оно должно по высшему разряду. Для этого всесредва хороши, даже кредит! На позитивной волне и кредит платится легко! Ни кто не захочит начинать семейную жизнь с долгов по кредлиту!\n",
    "Кредиты на авто и образоване плаятся плохо. \n",
    "Автомобиль - средсво повышенной опасности, часто попадает в ДТП, могут угнать, авто теряет в цене, заемщик может лишиться прав. В виду этого мотивация к выплате кредиты может резко снизиться, либо прекратиться полностью. \n",
    "Образование то же самое. Сегодня ты герой - ученик первого курса, через 2 месяца должник (и это не кредит), еще через месяц кандидат на отчисление. Мотивация ниже плинтуса, кредит плаитить не хочетя. Так же имеет место возраст заемщика, верятно, это молодые люди с не высокой отвественность, могут просто забывать платить в срок!"
   ]
  },
  {
   "cell_type": "markdown",
   "id": "12f9c79b",
   "metadata": {},
   "source": [
    "<div class=\"alert alert-success\">\n",
    "<font size=\"5\"><b>Комментарий ревьюера</b></font>\n",
    "\n",
    "\n",
    "\n",
    "Успех 👍:\n",
    "\n",
    "\n",
    "\n",
    "👍\n",
    "\n",
    "\n",
    " "
   ]
  },
  {
   "cell_type": "markdown",
   "id": "46c1f10b",
   "metadata": {
    "deletable": false,
    "editable": false,
    "id": "46c1f10b"
   },
   "source": [
    "#### 3.5 Приведите возможные причины появления пропусков в исходных данных."
   ]
  },
  {
   "cell_type": "markdown",
   "id": "3697d2a9",
   "metadata": {
    "deletable": false,
    "id": "3697d2a9"
   },
   "source": [
    "*Ответ:* \n",
    "Пропуски были в столбцах days_employed - общий трудовой стаж в днях и total_income - ежемесячный доход. \n",
    "Предполагаю, что они были умышелены, в том плане, что, к примеру, кредит выдавался по одному или нескольким документам (Паспорт, водительское удостоверение). Соответвенно, данных о количестве друдовых дней (трудовая книжка) и ежемесячном доходе (2-НДФЛ) предоставлено не было. \n",
    "Еще причиной пропуска может служить человеческий фактор и некая связь между заполнением этих столбцов. В пользу этого, говорит тот факт, что количество пропусков в них одинаково. К примеру, после указания дохода, открываетмя поле для указания стажа, соответвенно, если поле дохода не заполнено, заполнить стаж не возможно! Соответственно, необходимо колонку total_income - ежемесячный доход сделать обязательной к заполнению!"
   ]
  },
  {
   "cell_type": "markdown",
   "id": "c5cdb73d",
   "metadata": {},
   "source": [
    "<div class=\"alert alert-warning\">\n",
    "<font size=\"5\"><b>Комментарий ревьюера</b></font>\n",
    "\n",
    "\n",
    "\n",
    "Совет 🤔:\n",
    "\n",
    "\n",
    "Вряд ли банк вообще будет принимать заявку которая не указан уровень дохода.  Тут скорее какая-то проблема на стороне банка "
   ]
  },
  {
   "cell_type": "markdown",
   "id": "3137d257",
   "metadata": {
    "deletable": false,
    "editable": false,
    "id": "3137d257"
   },
   "source": [
    "#### 3.6 Объясните, почему заполнить пропуски медианным значением — лучшее решение для количественных переменных."
   ]
  },
  {
   "cell_type": "markdown",
   "id": "cf40012a",
   "metadata": {
    "deletable": false,
    "id": "cf40012a"
   },
   "source": [
    "*Ответ:* Медианное значение четко показывает среднее значение из отсортированного списка значений, в то время, как средее арифметическое дает среднее значение от суммы этих значений. Это может быть не информативно, в том случае, когда одно из значений отличается от остальных на очень большую велечину, тем самым давай большое искажение при подсчете средне арифметического знаения! "
   ]
  },
  {
   "cell_type": "markdown",
   "id": "d43b406e",
   "metadata": {},
   "source": [
    "<div class=\"alert alert-success\">\n",
    "<font size=\"5\"><b>Комментарий ревьюера</b></font>\n",
    "\n",
    "\n",
    "\n",
    "Успех 👍:\n",
    "\n",
    "\n",
    "\n",
    "Верно\n",
    "\n",
    "\n",
    " "
   ]
  },
  {
   "cell_type": "markdown",
   "id": "57bc304e",
   "metadata": {
    "deletable": false,
    "editable": false,
    "id": "57bc304e"
   },
   "source": [
    "### Шаг 4: общий вывод."
   ]
  },
  {
   "cell_type": "markdown",
   "id": "1ab75d1c",
   "metadata": {
    "deletable": false,
    "id": "1ab75d1c"
   },
   "source": [
    "Напишите ваш общий вывод. \n",
    "Проанализировав полученные данные, можно сделать вывод: \n",
    "Портрет идеального заемщика: \n",
    "Вдова, с доходом 50000 (D), с 3 мя детьми, ремонтирующая квартиру! \n",
    "Портрет не добросовестного заемщика:\n",
    "Человек, состоящий в гражданском браке, с 4мя детьми, с доходом 150000 (С), покупающий автомобиль."
   ]
  },
  {
   "cell_type": "markdown",
   "id": "ed9ba049",
   "metadata": {},
   "source": [
    "<div class=\"alert alert-warning\">\n",
    "<font size=\"5\"><b>Комментарий ревьюера</b></font>\n",
    "\n",
    "\n",
    "\n",
    "Совет 🤔:\n",
    "\n",
    "\n",
    "Ценю твой юмор,  но тут лучше придерживаться более солидного тона,  представь что ты пишешь это своему будущему начальнику "
   ]
  },
  {
   "cell_type": "markdown",
   "id": "e5123e32",
   "metadata": {},
   "source": [
    "\n",
    "<div class=\"alert alert-info\">\n",
    "<font size=\"5\"><b>Комментарий ревьюера</b></font>\n",
    "\n",
    "\n",
    "Владимир, у тебя старательно выполненная работа, все четко, осмысленно \n",
    "\n",
    "Я оставил небольшие советы и вопросики (если есть время и желание можешь воспользоваться/ответить) \n",
    "    \n",
    "    \n",
    "    \n",
    "    \n",
    "Осталось уточнить по поводу вдовцов. Жду исправлений, для принятия проекта. Если какие то вопросы, то сразу спрашивай ) \n",
    "\n",
    "\n",
    "</div>\n"
   ]
  },
  {
   "cell_type": "markdown",
   "id": "8dcef3f5",
   "metadata": {},
   "source": [
    "\n",
    "<div class=\"alert alert-info\">\n",
    "<font size=\"5\"><b>Комментарий ревьюераV2</b></font>\n",
    "\n",
    "Меня попросили вернуть проект,  якобы ты его отправил по ошибке. Хотя вроде исправления вижу.  Отправляю обратно "
   ]
  },
  {
   "cell_type": "markdown",
   "id": "c53c5ba1",
   "metadata": {},
   "source": [
    "\n",
    "<div class=\"alert alert-info\">\n",
    "<font size=\"5\"><b>Комментарий ревьюераV3</b></font>\n",
    "\n",
    "Спасибо за работу!    \n",
    "\n",
    "    \n",
    " \n",
    "Красного нет, вопросов не нашел, значит все, пора принимать) Надеюсь мои советы и вопросики были полезны \n",
    "Отличная работа Владимир. Желаю успехов в дальнейшей учебе!\n",
    " "
   ]
  },
  {
   "cell_type": "code",
   "execution_count": null,
   "id": "6f276f2f",
   "metadata": {},
   "outputs": [],
   "source": []
  }
 ],
 "metadata": {
  "ExecuteTimeLog": [
   {
    "duration": 452,
    "start_time": "2024-07-17T13:07:40.004Z"
   },
   {
    "duration": 29,
    "start_time": "2024-07-17T13:07:40.458Z"
   },
   {
    "duration": 16,
    "start_time": "2024-07-17T13:07:40.489Z"
   },
   {
    "duration": 10,
    "start_time": "2024-07-17T13:07:40.507Z"
   },
   {
    "duration": 62,
    "start_time": "2024-07-17T13:07:40.519Z"
   },
   {
    "duration": 4,
    "start_time": "2024-07-17T13:07:40.582Z"
   },
   {
    "duration": 25,
    "start_time": "2024-07-17T13:07:40.587Z"
   },
   {
    "duration": 4,
    "start_time": "2024-07-17T13:07:40.614Z"
   },
   {
    "duration": 25,
    "start_time": "2024-07-17T13:07:40.619Z"
   },
   {
    "duration": 10,
    "start_time": "2024-07-17T13:07:40.646Z"
   },
   {
    "duration": 58,
    "start_time": "2024-07-17T13:07:40.658Z"
   },
   {
    "duration": 10,
    "start_time": "2024-07-17T13:07:40.717Z"
   },
   {
    "duration": 7,
    "start_time": "2024-07-17T13:07:40.728Z"
   },
   {
    "duration": 49,
    "start_time": "2024-07-17T13:07:40.736Z"
   },
   {
    "duration": 21,
    "start_time": "2024-07-17T13:07:40.787Z"
   },
   {
    "duration": 16,
    "start_time": "2024-07-17T13:07:40.810Z"
   },
   {
    "duration": 3,
    "start_time": "2024-07-17T13:07:40.828Z"
   },
   {
    "duration": 66,
    "start_time": "2024-07-17T13:07:40.833Z"
   },
   {
    "duration": 17,
    "start_time": "2024-07-17T13:07:40.901Z"
   },
   {
    "duration": 3,
    "start_time": "2024-07-17T13:07:40.920Z"
   },
   {
    "duration": 11,
    "start_time": "2024-07-17T13:07:40.925Z"
   },
   {
    "duration": 9,
    "start_time": "2024-07-17T13:07:40.938Z"
   },
   {
    "duration": 5,
    "start_time": "2024-07-17T13:07:40.948Z"
   },
   {
    "duration": 8,
    "start_time": "2024-07-17T13:07:40.955Z"
   },
   {
    "duration": 3,
    "start_time": "2024-07-17T13:07:40.965Z"
   },
   {
    "duration": 605,
    "start_time": "2024-07-18T06:44:06.928Z"
   },
   {
    "duration": 22,
    "start_time": "2024-07-18T06:44:07.534Z"
   },
   {
    "duration": 47,
    "start_time": "2024-07-18T06:44:07.557Z"
   },
   {
    "duration": 10,
    "start_time": "2024-07-18T06:44:07.606Z"
   },
   {
    "duration": 34,
    "start_time": "2024-07-18T06:44:07.617Z"
   },
   {
    "duration": 3,
    "start_time": "2024-07-18T06:44:07.653Z"
   },
   {
    "duration": 75,
    "start_time": "2024-07-18T06:44:07.658Z"
   },
   {
    "duration": 5,
    "start_time": "2024-07-18T06:44:07.735Z"
   },
   {
    "duration": 7,
    "start_time": "2024-07-18T06:44:07.742Z"
   },
   {
    "duration": 6,
    "start_time": "2024-07-18T06:44:07.752Z"
   },
   {
    "duration": 82,
    "start_time": "2024-07-18T06:44:07.759Z"
   },
   {
    "duration": 15,
    "start_time": "2024-07-18T06:44:07.843Z"
   },
   {
    "duration": 5,
    "start_time": "2024-07-18T06:44:07.860Z"
   },
   {
    "duration": 14,
    "start_time": "2024-07-18T06:44:07.866Z"
   },
   {
    "duration": 31,
    "start_time": "2024-07-18T06:44:07.882Z"
   },
   {
    "duration": 36,
    "start_time": "2024-07-18T06:44:07.915Z"
   },
   {
    "duration": 5,
    "start_time": "2024-07-18T06:44:07.953Z"
   },
   {
    "duration": 12,
    "start_time": "2024-07-18T06:44:07.959Z"
   },
   {
    "duration": 7,
    "start_time": "2024-07-18T06:44:07.973Z"
   },
   {
    "duration": 4,
    "start_time": "2024-07-18T06:44:07.982Z"
   },
   {
    "duration": 18,
    "start_time": "2024-07-18T06:44:07.988Z"
   },
   {
    "duration": 6,
    "start_time": "2024-07-18T06:44:08.008Z"
   },
   {
    "duration": 33,
    "start_time": "2024-07-18T06:44:08.016Z"
   },
   {
    "duration": 14,
    "start_time": "2024-07-18T06:44:08.051Z"
   },
   {
    "duration": 4,
    "start_time": "2024-07-18T06:44:08.067Z"
   },
   {
    "duration": 75,
    "start_time": "2024-07-18T07:55:11.186Z"
   },
   {
    "duration": 446,
    "start_time": "2024-07-18T07:56:11.364Z"
   },
   {
    "duration": 21,
    "start_time": "2024-07-18T07:56:11.812Z"
   },
   {
    "duration": 86,
    "start_time": "2024-07-18T07:56:11.835Z"
   },
   {
    "duration": 32,
    "start_time": "2024-07-18T07:56:11.923Z"
   },
   {
    "duration": 48,
    "start_time": "2024-07-18T07:56:11.957Z"
   },
   {
    "duration": 3,
    "start_time": "2024-07-18T07:56:12.007Z"
   },
   {
    "duration": 20,
    "start_time": "2024-07-18T07:56:12.012Z"
   },
   {
    "duration": 12,
    "start_time": "2024-07-18T07:56:12.033Z"
   },
   {
    "duration": 18,
    "start_time": "2024-07-18T07:56:12.046Z"
   },
   {
    "duration": 9,
    "start_time": "2024-07-18T07:56:12.067Z"
   },
   {
    "duration": 40,
    "start_time": "2024-07-18T07:56:12.077Z"
   },
   {
    "duration": 10,
    "start_time": "2024-07-18T07:56:12.119Z"
   },
   {
    "duration": 27,
    "start_time": "2024-07-18T07:56:12.130Z"
   },
   {
    "duration": 31,
    "start_time": "2024-07-18T07:56:12.159Z"
   },
   {
    "duration": 34,
    "start_time": "2024-07-18T07:56:12.191Z"
   },
   {
    "duration": 24,
    "start_time": "2024-07-18T07:56:12.227Z"
   },
   {
    "duration": 15,
    "start_time": "2024-07-18T07:56:12.253Z"
   },
   {
    "duration": 34,
    "start_time": "2024-07-18T07:56:12.270Z"
   },
   {
    "duration": 28,
    "start_time": "2024-07-18T07:56:12.305Z"
   },
   {
    "duration": 8,
    "start_time": "2024-07-18T07:56:12.335Z"
   },
   {
    "duration": 22,
    "start_time": "2024-07-18T07:56:12.345Z"
   },
   {
    "duration": 81,
    "start_time": "2024-07-18T07:56:12.369Z"
   },
   {
    "duration": 0,
    "start_time": "2024-07-18T07:56:12.452Z"
   },
   {
    "duration": 0,
    "start_time": "2024-07-18T07:56:12.453Z"
   },
   {
    "duration": 0,
    "start_time": "2024-07-18T07:56:12.455Z"
   },
   {
    "duration": 13,
    "start_time": "2024-07-18T07:56:25.178Z"
   },
   {
    "duration": 13,
    "start_time": "2024-07-18T07:57:00.086Z"
   },
   {
    "duration": 15,
    "start_time": "2024-07-18T08:00:39.660Z"
   },
   {
    "duration": 15,
    "start_time": "2024-07-18T08:01:32.678Z"
   },
   {
    "duration": 16,
    "start_time": "2024-07-18T08:01:57.542Z"
   },
   {
    "duration": 16,
    "start_time": "2024-07-18T08:03:19.817Z"
   },
   {
    "duration": 16,
    "start_time": "2024-07-18T08:03:39.321Z"
   },
   {
    "duration": 18,
    "start_time": "2024-07-18T08:06:07.650Z"
   },
   {
    "duration": 16,
    "start_time": "2024-07-18T08:11:12.350Z"
   },
   {
    "duration": 20,
    "start_time": "2024-07-18T08:33:57.406Z"
   },
   {
    "duration": 19,
    "start_time": "2024-07-18T08:34:11.509Z"
   },
   {
    "duration": 18,
    "start_time": "2024-07-18T08:34:22.213Z"
   },
   {
    "duration": 31,
    "start_time": "2024-07-18T11:28:01.734Z"
   },
   {
    "duration": 65,
    "start_time": "2024-07-18T11:29:07.095Z"
   },
   {
    "duration": 29,
    "start_time": "2024-07-18T11:29:17.827Z"
   },
   {
    "duration": 29,
    "start_time": "2024-07-18T11:48:29.131Z"
   },
   {
    "duration": 38,
    "start_time": "2024-07-18T12:01:12.213Z"
   },
   {
    "duration": 33,
    "start_time": "2024-07-18T12:01:52.098Z"
   },
   {
    "duration": 20,
    "start_time": "2024-07-18T12:03:10.755Z"
   },
   {
    "duration": 21,
    "start_time": "2024-07-18T12:32:37.196Z"
   },
   {
    "duration": 480,
    "start_time": "2024-07-19T08:18:22.175Z"
   },
   {
    "duration": 18,
    "start_time": "2024-07-19T08:18:22.656Z"
   },
   {
    "duration": 32,
    "start_time": "2024-07-19T08:18:22.675Z"
   },
   {
    "duration": 8,
    "start_time": "2024-07-19T08:18:22.709Z"
   },
   {
    "duration": 29,
    "start_time": "2024-07-19T08:18:22.718Z"
   },
   {
    "duration": 83,
    "start_time": "2024-07-19T08:18:22.749Z"
   },
   {
    "duration": 27,
    "start_time": "2024-07-19T08:18:22.833Z"
   },
   {
    "duration": 11,
    "start_time": "2024-07-19T08:18:22.861Z"
   },
   {
    "duration": 10,
    "start_time": "2024-07-19T08:18:22.873Z"
   },
   {
    "duration": 16,
    "start_time": "2024-07-19T08:18:22.886Z"
   },
   {
    "duration": 36,
    "start_time": "2024-07-19T08:18:22.903Z"
   },
   {
    "duration": 9,
    "start_time": "2024-07-19T08:18:22.941Z"
   },
   {
    "duration": 4,
    "start_time": "2024-07-19T08:18:22.951Z"
   },
   {
    "duration": 17,
    "start_time": "2024-07-19T08:18:22.957Z"
   },
   {
    "duration": 29,
    "start_time": "2024-07-19T08:18:22.975Z"
   },
   {
    "duration": 22,
    "start_time": "2024-07-19T08:18:23.006Z"
   },
   {
    "duration": 4,
    "start_time": "2024-07-19T08:18:23.030Z"
   },
   {
    "duration": 21,
    "start_time": "2024-07-19T08:18:23.035Z"
   },
   {
    "duration": 27,
    "start_time": "2024-07-19T08:18:23.057Z"
   },
   {
    "duration": 12,
    "start_time": "2024-07-19T08:18:23.085Z"
   },
   {
    "duration": 23,
    "start_time": "2024-07-19T08:18:23.098Z"
   },
   {
    "duration": 23,
    "start_time": "2024-07-19T08:18:23.122Z"
   },
   {
    "duration": 21,
    "start_time": "2024-07-19T08:18:23.147Z"
   },
   {
    "duration": 34,
    "start_time": "2024-07-19T08:18:23.170Z"
   },
   {
    "duration": 29,
    "start_time": "2024-07-19T08:18:23.206Z"
   },
   {
    "duration": 59,
    "start_time": "2024-07-19T08:46:48.014Z"
   },
   {
    "duration": 633,
    "start_time": "2024-07-19T08:46:53.473Z"
   },
   {
    "duration": 24,
    "start_time": "2024-07-19T08:46:54.112Z"
   },
   {
    "duration": 17,
    "start_time": "2024-07-19T08:46:54.137Z"
   },
   {
    "duration": 11,
    "start_time": "2024-07-19T08:46:54.156Z"
   },
   {
    "duration": 64,
    "start_time": "2024-07-19T08:46:54.168Z"
   },
   {
    "duration": 4,
    "start_time": "2024-07-19T08:46:54.233Z"
   },
   {
    "duration": 10,
    "start_time": "2024-07-19T08:46:54.238Z"
   },
   {
    "duration": 4,
    "start_time": "2024-07-19T08:46:54.249Z"
   },
   {
    "duration": 33,
    "start_time": "2024-07-19T08:46:54.254Z"
   },
   {
    "duration": 8,
    "start_time": "2024-07-19T08:46:54.294Z"
   },
   {
    "duration": 41,
    "start_time": "2024-07-19T08:46:54.304Z"
   },
   {
    "duration": 12,
    "start_time": "2024-07-19T08:46:54.346Z"
   },
   {
    "duration": 36,
    "start_time": "2024-07-19T08:46:54.360Z"
   },
   {
    "duration": 21,
    "start_time": "2024-07-19T08:46:54.398Z"
   },
   {
    "duration": 54,
    "start_time": "2024-07-19T08:46:54.421Z"
   },
   {
    "duration": 34,
    "start_time": "2024-07-19T08:46:54.477Z"
   },
   {
    "duration": 4,
    "start_time": "2024-07-19T08:46:54.513Z"
   },
   {
    "duration": 12,
    "start_time": "2024-07-19T08:46:54.519Z"
   },
   {
    "duration": 7,
    "start_time": "2024-07-19T08:46:54.533Z"
   },
   {
    "duration": 7,
    "start_time": "2024-07-19T08:46:54.541Z"
   },
   {
    "duration": 36,
    "start_time": "2024-07-19T08:46:54.550Z"
   },
   {
    "duration": 29,
    "start_time": "2024-07-19T08:46:54.596Z"
   },
   {
    "duration": 21,
    "start_time": "2024-07-19T08:46:54.626Z"
   },
   {
    "duration": 19,
    "start_time": "2024-07-19T08:46:54.648Z"
   },
   {
    "duration": 42,
    "start_time": "2024-07-19T08:46:54.669Z"
   },
   {
    "duration": 20,
    "start_time": "2024-07-19T08:47:14.629Z"
   },
   {
    "duration": 35,
    "start_time": "2024-07-19T08:49:58.799Z"
   },
   {
    "duration": 32,
    "start_time": "2024-07-19T08:51:33.062Z"
   },
   {
    "duration": 23,
    "start_time": "2024-07-19T08:59:55.734Z"
   }
  ],
  "colab": {
   "provenance": []
  },
  "kernelspec": {
   "display_name": "Python 3 (ipykernel)",
   "language": "python",
   "name": "python3"
  },
  "language_info": {
   "codemirror_mode": {
    "name": "ipython",
    "version": 3
   },
   "file_extension": ".py",
   "mimetype": "text/x-python",
   "name": "python",
   "nbconvert_exporter": "python",
   "pygments_lexer": "ipython3",
   "version": "3.9.5"
  },
  "toc": {
   "base_numbering": 1,
   "nav_menu": {},
   "number_sections": true,
   "sideBar": true,
   "skip_h1_title": true,
   "title_cell": "Table of Contents",
   "title_sidebar": "Contents",
   "toc_cell": false,
   "toc_position": {},
   "toc_section_display": true,
   "toc_window_display": false
  }
 },
 "nbformat": 4,
 "nbformat_minor": 5
}
