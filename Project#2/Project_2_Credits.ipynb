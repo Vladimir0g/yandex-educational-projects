{
 "cells": [
  {
   "cell_type": "markdown",
   "id": "4f11de00",
   "metadata": {
    "deletable": false,
    "editable": false,
    "id": "4f11de00"
   },
   "source": [
    "# Исследование надежности заемщиков"
   ]
  },
  {
   "cell_type": "markdown",
   "id": "f09d6878",
   "metadata": {
    "deletable": false,
    "editable": false,
    "id": "f09d6878"
   },
   "source": [
    "Это первая часть проекта, она будет проверена автоматически. Вторую часть проверит ревьюер. "
   ]
  },
  {
   "cell_type": "markdown",
   "id": "516620ee",
   "metadata": {
    "deletable": false,
    "editable": false,
    "id": "516620ee"
   },
   "source": [
    "## Откройте таблицу и изучите общую информацию о данных"
   ]
  },
  {
   "cell_type": "markdown",
   "id": "76a8a9ce",
   "metadata": {
    "deletable": false,
    "editable": false,
    "id": "76a8a9ce",
    "tags": [
     "start_task"
    ]
   },
   "source": [
    "**Задание 1. Импортируйте библиотеку pandas. Считайте данные из csv-файла в датафрейм и сохраните в переменную `data`. Путь к файлу:**\n",
    "\n",
    "`/datasets/data.csv`"
   ]
  },
  {
   "cell_type": "code",
   "execution_count": 1,
   "id": "fab207d0",
   "metadata": {
    "id": "fab207d0"
   },
   "outputs": [],
   "source": [
    "import pandas as pd# импортируйте библиотеку pandas"
   ]
  },
  {
   "cell_type": "code",
   "execution_count": 2,
   "id": "6c82b607",
   "metadata": {
    "id": "6c82b607"
   },
   "outputs": [],
   "source": [
    "data = pd.read_csv('/datasets/data.csv') # прочитайте csv-файл"
   ]
  },
  {
   "cell_type": "markdown",
   "id": "08bbb5b3",
   "metadata": {
    "deletable": false,
    "editable": false,
    "id": "08bbb5b3",
    "tags": [
     "start_task"
    ]
   },
   "source": [
    "**Задание 2. Выведите первые 20 строчек датафрейма `data` на экран.**"
   ]
  },
  {
   "cell_type": "code",
   "execution_count": 3,
   "id": "4ff33b36",
   "metadata": {
    "id": "4ff33b36"
   },
   "outputs": [
    {
     "data": {
      "text/html": [
       "<div>\n",
       "<style scoped>\n",
       "    .dataframe tbody tr th:only-of-type {\n",
       "        vertical-align: middle;\n",
       "    }\n",
       "\n",
       "    .dataframe tbody tr th {\n",
       "        vertical-align: top;\n",
       "    }\n",
       "\n",
       "    .dataframe thead th {\n",
       "        text-align: right;\n",
       "    }\n",
       "</style>\n",
       "<table border=\"1\" class=\"dataframe\">\n",
       "  <thead>\n",
       "    <tr style=\"text-align: right;\">\n",
       "      <th></th>\n",
       "      <th>children</th>\n",
       "      <th>days_employed</th>\n",
       "      <th>dob_years</th>\n",
       "      <th>education</th>\n",
       "      <th>education_id</th>\n",
       "      <th>family_status</th>\n",
       "      <th>family_status_id</th>\n",
       "      <th>gender</th>\n",
       "      <th>income_type</th>\n",
       "      <th>debt</th>\n",
       "      <th>total_income</th>\n",
       "      <th>purpose</th>\n",
       "    </tr>\n",
       "  </thead>\n",
       "  <tbody>\n",
       "    <tr>\n",
       "      <th>0</th>\n",
       "      <td>1</td>\n",
       "      <td>-8437.673028</td>\n",
       "      <td>42</td>\n",
       "      <td>высшее</td>\n",
       "      <td>0</td>\n",
       "      <td>женат / замужем</td>\n",
       "      <td>0</td>\n",
       "      <td>F</td>\n",
       "      <td>сотрудник</td>\n",
       "      <td>0</td>\n",
       "      <td>253875.639453</td>\n",
       "      <td>покупка жилья</td>\n",
       "    </tr>\n",
       "    <tr>\n",
       "      <th>1</th>\n",
       "      <td>1</td>\n",
       "      <td>-4024.803754</td>\n",
       "      <td>36</td>\n",
       "      <td>среднее</td>\n",
       "      <td>1</td>\n",
       "      <td>женат / замужем</td>\n",
       "      <td>0</td>\n",
       "      <td>F</td>\n",
       "      <td>сотрудник</td>\n",
       "      <td>0</td>\n",
       "      <td>112080.014102</td>\n",
       "      <td>приобретение автомобиля</td>\n",
       "    </tr>\n",
       "    <tr>\n",
       "      <th>2</th>\n",
       "      <td>0</td>\n",
       "      <td>-5623.422610</td>\n",
       "      <td>33</td>\n",
       "      <td>Среднее</td>\n",
       "      <td>1</td>\n",
       "      <td>женат / замужем</td>\n",
       "      <td>0</td>\n",
       "      <td>M</td>\n",
       "      <td>сотрудник</td>\n",
       "      <td>0</td>\n",
       "      <td>145885.952297</td>\n",
       "      <td>покупка жилья</td>\n",
       "    </tr>\n",
       "    <tr>\n",
       "      <th>3</th>\n",
       "      <td>3</td>\n",
       "      <td>-4124.747207</td>\n",
       "      <td>32</td>\n",
       "      <td>среднее</td>\n",
       "      <td>1</td>\n",
       "      <td>женат / замужем</td>\n",
       "      <td>0</td>\n",
       "      <td>M</td>\n",
       "      <td>сотрудник</td>\n",
       "      <td>0</td>\n",
       "      <td>267628.550329</td>\n",
       "      <td>дополнительное образование</td>\n",
       "    </tr>\n",
       "    <tr>\n",
       "      <th>4</th>\n",
       "      <td>0</td>\n",
       "      <td>340266.072047</td>\n",
       "      <td>53</td>\n",
       "      <td>среднее</td>\n",
       "      <td>1</td>\n",
       "      <td>гражданский брак</td>\n",
       "      <td>1</td>\n",
       "      <td>F</td>\n",
       "      <td>пенсионер</td>\n",
       "      <td>0</td>\n",
       "      <td>158616.077870</td>\n",
       "      <td>сыграть свадьбу</td>\n",
       "    </tr>\n",
       "    <tr>\n",
       "      <th>5</th>\n",
       "      <td>0</td>\n",
       "      <td>-926.185831</td>\n",
       "      <td>27</td>\n",
       "      <td>высшее</td>\n",
       "      <td>0</td>\n",
       "      <td>гражданский брак</td>\n",
       "      <td>1</td>\n",
       "      <td>M</td>\n",
       "      <td>компаньон</td>\n",
       "      <td>0</td>\n",
       "      <td>255763.565419</td>\n",
       "      <td>покупка жилья</td>\n",
       "    </tr>\n",
       "    <tr>\n",
       "      <th>6</th>\n",
       "      <td>0</td>\n",
       "      <td>-2879.202052</td>\n",
       "      <td>43</td>\n",
       "      <td>высшее</td>\n",
       "      <td>0</td>\n",
       "      <td>женат / замужем</td>\n",
       "      <td>0</td>\n",
       "      <td>F</td>\n",
       "      <td>компаньон</td>\n",
       "      <td>0</td>\n",
       "      <td>240525.971920</td>\n",
       "      <td>операции с жильем</td>\n",
       "    </tr>\n",
       "    <tr>\n",
       "      <th>7</th>\n",
       "      <td>0</td>\n",
       "      <td>-152.779569</td>\n",
       "      <td>50</td>\n",
       "      <td>СРЕДНЕЕ</td>\n",
       "      <td>1</td>\n",
       "      <td>женат / замужем</td>\n",
       "      <td>0</td>\n",
       "      <td>M</td>\n",
       "      <td>сотрудник</td>\n",
       "      <td>0</td>\n",
       "      <td>135823.934197</td>\n",
       "      <td>образование</td>\n",
       "    </tr>\n",
       "    <tr>\n",
       "      <th>8</th>\n",
       "      <td>2</td>\n",
       "      <td>-6929.865299</td>\n",
       "      <td>35</td>\n",
       "      <td>ВЫСШЕЕ</td>\n",
       "      <td>0</td>\n",
       "      <td>гражданский брак</td>\n",
       "      <td>1</td>\n",
       "      <td>F</td>\n",
       "      <td>сотрудник</td>\n",
       "      <td>0</td>\n",
       "      <td>95856.832424</td>\n",
       "      <td>на проведение свадьбы</td>\n",
       "    </tr>\n",
       "    <tr>\n",
       "      <th>9</th>\n",
       "      <td>0</td>\n",
       "      <td>-2188.756445</td>\n",
       "      <td>41</td>\n",
       "      <td>среднее</td>\n",
       "      <td>1</td>\n",
       "      <td>женат / замужем</td>\n",
       "      <td>0</td>\n",
       "      <td>M</td>\n",
       "      <td>сотрудник</td>\n",
       "      <td>0</td>\n",
       "      <td>144425.938277</td>\n",
       "      <td>покупка жилья для семьи</td>\n",
       "    </tr>\n",
       "    <tr>\n",
       "      <th>10</th>\n",
       "      <td>2</td>\n",
       "      <td>-4171.483647</td>\n",
       "      <td>36</td>\n",
       "      <td>высшее</td>\n",
       "      <td>0</td>\n",
       "      <td>женат / замужем</td>\n",
       "      <td>0</td>\n",
       "      <td>M</td>\n",
       "      <td>компаньон</td>\n",
       "      <td>0</td>\n",
       "      <td>113943.491460</td>\n",
       "      <td>покупка недвижимости</td>\n",
       "    </tr>\n",
       "    <tr>\n",
       "      <th>11</th>\n",
       "      <td>0</td>\n",
       "      <td>-792.701887</td>\n",
       "      <td>40</td>\n",
       "      <td>среднее</td>\n",
       "      <td>1</td>\n",
       "      <td>женат / замужем</td>\n",
       "      <td>0</td>\n",
       "      <td>F</td>\n",
       "      <td>сотрудник</td>\n",
       "      <td>0</td>\n",
       "      <td>77069.234271</td>\n",
       "      <td>покупка коммерческой недвижимости</td>\n",
       "    </tr>\n",
       "    <tr>\n",
       "      <th>12</th>\n",
       "      <td>0</td>\n",
       "      <td>NaN</td>\n",
       "      <td>65</td>\n",
       "      <td>среднее</td>\n",
       "      <td>1</td>\n",
       "      <td>гражданский брак</td>\n",
       "      <td>1</td>\n",
       "      <td>M</td>\n",
       "      <td>пенсионер</td>\n",
       "      <td>0</td>\n",
       "      <td>NaN</td>\n",
       "      <td>сыграть свадьбу</td>\n",
       "    </tr>\n",
       "    <tr>\n",
       "      <th>13</th>\n",
       "      <td>0</td>\n",
       "      <td>-1846.641941</td>\n",
       "      <td>54</td>\n",
       "      <td>неоконченное высшее</td>\n",
       "      <td>2</td>\n",
       "      <td>женат / замужем</td>\n",
       "      <td>0</td>\n",
       "      <td>F</td>\n",
       "      <td>сотрудник</td>\n",
       "      <td>0</td>\n",
       "      <td>130458.228857</td>\n",
       "      <td>приобретение автомобиля</td>\n",
       "    </tr>\n",
       "    <tr>\n",
       "      <th>14</th>\n",
       "      <td>0</td>\n",
       "      <td>-1844.956182</td>\n",
       "      <td>56</td>\n",
       "      <td>высшее</td>\n",
       "      <td>0</td>\n",
       "      <td>гражданский брак</td>\n",
       "      <td>1</td>\n",
       "      <td>F</td>\n",
       "      <td>компаньон</td>\n",
       "      <td>1</td>\n",
       "      <td>165127.911772</td>\n",
       "      <td>покупка жилой недвижимости</td>\n",
       "    </tr>\n",
       "    <tr>\n",
       "      <th>15</th>\n",
       "      <td>1</td>\n",
       "      <td>-972.364419</td>\n",
       "      <td>26</td>\n",
       "      <td>среднее</td>\n",
       "      <td>1</td>\n",
       "      <td>женат / замужем</td>\n",
       "      <td>0</td>\n",
       "      <td>F</td>\n",
       "      <td>сотрудник</td>\n",
       "      <td>0</td>\n",
       "      <td>116820.904450</td>\n",
       "      <td>строительство собственной недвижимости</td>\n",
       "    </tr>\n",
       "    <tr>\n",
       "      <th>16</th>\n",
       "      <td>0</td>\n",
       "      <td>-1719.934226</td>\n",
       "      <td>35</td>\n",
       "      <td>среднее</td>\n",
       "      <td>1</td>\n",
       "      <td>женат / замужем</td>\n",
       "      <td>0</td>\n",
       "      <td>F</td>\n",
       "      <td>сотрудник</td>\n",
       "      <td>0</td>\n",
       "      <td>289202.704229</td>\n",
       "      <td>недвижимость</td>\n",
       "    </tr>\n",
       "    <tr>\n",
       "      <th>17</th>\n",
       "      <td>0</td>\n",
       "      <td>-2369.999720</td>\n",
       "      <td>33</td>\n",
       "      <td>высшее</td>\n",
       "      <td>0</td>\n",
       "      <td>гражданский брак</td>\n",
       "      <td>1</td>\n",
       "      <td>M</td>\n",
       "      <td>сотрудник</td>\n",
       "      <td>0</td>\n",
       "      <td>90410.586745</td>\n",
       "      <td>строительство недвижимости</td>\n",
       "    </tr>\n",
       "    <tr>\n",
       "      <th>18</th>\n",
       "      <td>0</td>\n",
       "      <td>400281.136913</td>\n",
       "      <td>53</td>\n",
       "      <td>среднее</td>\n",
       "      <td>1</td>\n",
       "      <td>вдовец / вдова</td>\n",
       "      <td>2</td>\n",
       "      <td>F</td>\n",
       "      <td>пенсионер</td>\n",
       "      <td>0</td>\n",
       "      <td>56823.777243</td>\n",
       "      <td>на покупку подержанного автомобиля</td>\n",
       "    </tr>\n",
       "    <tr>\n",
       "      <th>19</th>\n",
       "      <td>0</td>\n",
       "      <td>-10038.818549</td>\n",
       "      <td>48</td>\n",
       "      <td>СРЕДНЕЕ</td>\n",
       "      <td>1</td>\n",
       "      <td>в разводе</td>\n",
       "      <td>3</td>\n",
       "      <td>F</td>\n",
       "      <td>сотрудник</td>\n",
       "      <td>0</td>\n",
       "      <td>242831.107982</td>\n",
       "      <td>на покупку своего автомобиля</td>\n",
       "    </tr>\n",
       "  </tbody>\n",
       "</table>\n",
       "</div>"
      ],
      "text/plain": [
       "    children  days_employed  dob_years            education  education_id  \\\n",
       "0          1   -8437.673028         42               высшее             0   \n",
       "1          1   -4024.803754         36              среднее             1   \n",
       "2          0   -5623.422610         33              Среднее             1   \n",
       "3          3   -4124.747207         32              среднее             1   \n",
       "4          0  340266.072047         53              среднее             1   \n",
       "5          0    -926.185831         27               высшее             0   \n",
       "6          0   -2879.202052         43               высшее             0   \n",
       "7          0    -152.779569         50              СРЕДНЕЕ             1   \n",
       "8          2   -6929.865299         35               ВЫСШЕЕ             0   \n",
       "9          0   -2188.756445         41              среднее             1   \n",
       "10         2   -4171.483647         36               высшее             0   \n",
       "11         0    -792.701887         40              среднее             1   \n",
       "12         0            NaN         65              среднее             1   \n",
       "13         0   -1846.641941         54  неоконченное высшее             2   \n",
       "14         0   -1844.956182         56               высшее             0   \n",
       "15         1    -972.364419         26              среднее             1   \n",
       "16         0   -1719.934226         35              среднее             1   \n",
       "17         0   -2369.999720         33               высшее             0   \n",
       "18         0  400281.136913         53              среднее             1   \n",
       "19         0  -10038.818549         48              СРЕДНЕЕ             1   \n",
       "\n",
       "       family_status  family_status_id gender income_type  debt  \\\n",
       "0    женат / замужем                 0      F   сотрудник     0   \n",
       "1    женат / замужем                 0      F   сотрудник     0   \n",
       "2    женат / замужем                 0      M   сотрудник     0   \n",
       "3    женат / замужем                 0      M   сотрудник     0   \n",
       "4   гражданский брак                 1      F   пенсионер     0   \n",
       "5   гражданский брак                 1      M   компаньон     0   \n",
       "6    женат / замужем                 0      F   компаньон     0   \n",
       "7    женат / замужем                 0      M   сотрудник     0   \n",
       "8   гражданский брак                 1      F   сотрудник     0   \n",
       "9    женат / замужем                 0      M   сотрудник     0   \n",
       "10   женат / замужем                 0      M   компаньон     0   \n",
       "11   женат / замужем                 0      F   сотрудник     0   \n",
       "12  гражданский брак                 1      M   пенсионер     0   \n",
       "13   женат / замужем                 0      F   сотрудник     0   \n",
       "14  гражданский брак                 1      F   компаньон     1   \n",
       "15   женат / замужем                 0      F   сотрудник     0   \n",
       "16   женат / замужем                 0      F   сотрудник     0   \n",
       "17  гражданский брак                 1      M   сотрудник     0   \n",
       "18    вдовец / вдова                 2      F   пенсионер     0   \n",
       "19         в разводе                 3      F   сотрудник     0   \n",
       "\n",
       "     total_income                                 purpose  \n",
       "0   253875.639453                           покупка жилья  \n",
       "1   112080.014102                 приобретение автомобиля  \n",
       "2   145885.952297                           покупка жилья  \n",
       "3   267628.550329              дополнительное образование  \n",
       "4   158616.077870                         сыграть свадьбу  \n",
       "5   255763.565419                           покупка жилья  \n",
       "6   240525.971920                       операции с жильем  \n",
       "7   135823.934197                             образование  \n",
       "8    95856.832424                   на проведение свадьбы  \n",
       "9   144425.938277                 покупка жилья для семьи  \n",
       "10  113943.491460                    покупка недвижимости  \n",
       "11   77069.234271       покупка коммерческой недвижимости  \n",
       "12            NaN                         сыграть свадьбу  \n",
       "13  130458.228857                 приобретение автомобиля  \n",
       "14  165127.911772              покупка жилой недвижимости  \n",
       "15  116820.904450  строительство собственной недвижимости  \n",
       "16  289202.704229                            недвижимость  \n",
       "17   90410.586745              строительство недвижимости  \n",
       "18   56823.777243      на покупку подержанного автомобиля  \n",
       "19  242831.107982            на покупку своего автомобиля  "
      ]
     },
     "execution_count": 3,
     "metadata": {},
     "output_type": "execute_result"
    }
   ],
   "source": [
    "data.head(20) # ваш код здесь"
   ]
  },
  {
   "cell_type": "markdown",
   "id": "c8f382ae",
   "metadata": {
    "deletable": false,
    "editable": false,
    "id": "c8f382ae",
    "tags": [
     "start_task"
    ]
   },
   "source": [
    "**Задание 3. Выведите основную информацию о датафрейме с помощью метода `info()`.**"
   ]
  },
  {
   "cell_type": "code",
   "execution_count": 4,
   "id": "e1ed9908",
   "metadata": {
    "id": "e1ed9908"
   },
   "outputs": [
    {
     "name": "stdout",
     "output_type": "stream",
     "text": [
      "<class 'pandas.core.frame.DataFrame'>\n",
      "RangeIndex: 21525 entries, 0 to 21524\n",
      "Data columns (total 12 columns):\n",
      " #   Column            Non-Null Count  Dtype  \n",
      "---  ------            --------------  -----  \n",
      " 0   children          21525 non-null  int64  \n",
      " 1   days_employed     19351 non-null  float64\n",
      " 2   dob_years         21525 non-null  int64  \n",
      " 3   education         21525 non-null  object \n",
      " 4   education_id      21525 non-null  int64  \n",
      " 5   family_status     21525 non-null  object \n",
      " 6   family_status_id  21525 non-null  int64  \n",
      " 7   gender            21525 non-null  object \n",
      " 8   income_type       21525 non-null  object \n",
      " 9   debt              21525 non-null  int64  \n",
      " 10  total_income      19351 non-null  float64\n",
      " 11  purpose           21525 non-null  object \n",
      "dtypes: float64(2), int64(5), object(5)\n",
      "memory usage: 2.0+ MB\n"
     ]
    }
   ],
   "source": [
    "data.info() # ваш код здесь"
   ]
  },
  {
   "cell_type": "markdown",
   "id": "f969a1cd",
   "metadata": {
    "deletable": false,
    "editable": false,
    "id": "f969a1cd"
   },
   "source": [
    "## Предобработка данных"
   ]
  },
  {
   "cell_type": "markdown",
   "id": "7283e864",
   "metadata": {
    "deletable": false,
    "editable": false,
    "id": "7283e864"
   },
   "source": [
    "### Удаление пропусков"
   ]
  },
  {
   "cell_type": "markdown",
   "id": "c9a0745e",
   "metadata": {
    "deletable": false,
    "editable": false,
    "id": "c9a0745e",
    "tags": [
     "start_task"
    ]
   },
   "source": [
    "**Задание 4. Выведите количество пропущенных значений для каждого столбца. Используйте комбинацию двух методов.**"
   ]
  },
  {
   "cell_type": "code",
   "execution_count": 5,
   "id": "b7a096e1",
   "metadata": {
    "id": "b7a096e1"
   },
   "outputs": [
    {
     "data": {
      "text/plain": [
       "children               0\n",
       "days_employed       2174\n",
       "dob_years              0\n",
       "education              0\n",
       "education_id           0\n",
       "family_status          0\n",
       "family_status_id       0\n",
       "gender                 0\n",
       "income_type            0\n",
       "debt                   0\n",
       "total_income        2174\n",
       "purpose                0\n",
       "dtype: int64"
      ]
     },
     "execution_count": 5,
     "metadata": {},
     "output_type": "execute_result"
    }
   ],
   "source": [
    "data.isnull().sum()\n",
    "#data.isna().sum()  # ваш код здесь"
   ]
  },
  {
   "cell_type": "markdown",
   "id": "c2578616",
   "metadata": {
    "deletable": false,
    "editable": false,
    "id": "c2578616",
    "tags": [
     "start_task"
    ]
   },
   "source": [
    "**Задание 5. В двух столбцах есть пропущенные значения. Один из них — `days_employed`. Пропуски в этом столбце вы обработаете на следующем этапе. Другой столбец с пропущенными значениями — `total_income` — хранит данные о доходах. На сумму дохода сильнее всего влияет тип занятости, поэтому заполнить пропуски в этом столбце нужно медианным значением по каждому типу из столбца `income_type`. Например, у человека с типом занятости `сотрудник` пропуск в столбце `total_income` должен быть заполнен медианным доходом среди всех записей с тем же типом.**"
   ]
  },
  {
   "cell_type": "code",
   "execution_count": 6,
   "id": "e8afc4bc",
   "metadata": {
    "id": "e8afc4bc"
   },
   "outputs": [
    {
     "data": {
      "text/plain": [
       "children               0\n",
       "days_employed       2174\n",
       "dob_years              0\n",
       "education              0\n",
       "education_id           0\n",
       "family_status          0\n",
       "family_status_id       0\n",
       "gender                 0\n",
       "income_type            0\n",
       "debt                   0\n",
       "total_income           0\n",
       "purpose                0\n",
       "dtype: int64"
      ]
     },
     "execution_count": 6,
     "metadata": {},
     "output_type": "execute_result"
    }
   ],
   "source": [
    "#mean_income = data.groupby('income_type')['total_income'].median() # ваш код здесь\n",
    "#mean_income\n",
    "# перебираем каждый тип занятости в наборе уникальных значений столба income_type\n",
    "for d in data['income_type'].unique():\n",
    "    # на каждом шаге цикла с помощью атрибута loc выбираем строки,\n",
    "    # в которых в device_type текущий тип занятости (d) и есть пропуски в total_income \n",
    "    data.loc[(data['income_type'] == d) & (data['total_income'].isnull()), 'total_income'] = \\\n",
    "    data.loc[(data['income_type'] == d), 'total_income'].median()\n",
    "    # и записываем в них среднее значение total_income среди строк с текущим типом занятости (d)\n",
    "data.isnull().sum()"
   ]
  },
  {
   "cell_type": "markdown",
   "id": "ae986d46",
   "metadata": {
    "deletable": false,
    "editable": false,
    "id": "ae986d46"
   },
   "source": [
    "### Обработка аномальных значений"
   ]
  },
  {
   "cell_type": "markdown",
   "id": "b049cbae",
   "metadata": {
    "deletable": false,
    "editable": false,
    "id": "b049cbae",
    "tags": [
     "start_task"
    ]
   },
   "source": [
    "**Задание 6. В данных могут встречаться артефакты (аномалии) — значения, которые не отражают действительность и появились по какой-то ошибке. Таким артефактом будет отрицательное количество дней трудового стажа в столбце `days_employed`. Для реальных данных это нормально. Обработайте значения в этом столбце: замените все отрицательные значения положительными с помощью метода `abs()`.**"
   ]
  },
  {
   "cell_type": "code",
   "execution_count": 7,
   "id": "187779b0",
   "metadata": {
    "id": "187779b0"
   },
   "outputs": [],
   "source": [
    "data['days_employed'] = data['days_employed'].abs() # ваш код здесь"
   ]
  },
  {
   "cell_type": "markdown",
   "id": "a13054c2",
   "metadata": {
    "deletable": false,
    "editable": false,
    "id": "a13054c2",
    "tags": [
     "start_task"
    ]
   },
   "source": [
    "**Задание 7. Для каждого типа занятости выведите медианное значение трудового стажа `days_employed` в днях.**"
   ]
  },
  {
   "cell_type": "code",
   "execution_count": 8,
   "id": "f3f5810c",
   "metadata": {
    "id": "f3f5810c"
   },
   "outputs": [
    {
     "data": {
      "text/plain": [
       "income_type\n",
       "безработный        366413.652744\n",
       "в декрете            3296.759962\n",
       "госслужащий          2689.368353\n",
       "компаньон            1547.382223\n",
       "пенсионер          365213.306266\n",
       "предприниматель       520.848083\n",
       "сотрудник            1574.202821\n",
       "студент               578.751554\n",
       "Name: days_employed, dtype: float64"
      ]
     },
     "execution_count": 8,
     "metadata": {},
     "output_type": "execute_result"
    }
   ],
   "source": [
    "median_days_employed = data.groupby('income_type')['days_employed'].median() # ваш код здесь\n",
    "median_days_employed # ваш код здесь"
   ]
  },
  {
   "cell_type": "markdown",
   "id": "dbc3168c",
   "metadata": {
    "deletable": false,
    "editable": false,
    "id": "dbc3168c"
   },
   "source": [
    "У двух типов (безработные и пенсионеры) получатся аномально большие значения. Исправить такие значения сложно, поэтому оставьте их как есть."
   ]
  },
  {
   "cell_type": "markdown",
   "id": "ff4378c2",
   "metadata": {
    "deletable": false,
    "editable": false,
    "id": "ff4378c2",
    "tags": [
     "start_task"
    ]
   },
   "source": [
    "**Задание 8. Выведите перечень уникальных значений столбца `children`.**"
   ]
  },
  {
   "cell_type": "code",
   "execution_count": 9,
   "id": "9bd0c232",
   "metadata": {
    "id": "9bd0c232"
   },
   "outputs": [
    {
     "data": {
      "text/plain": [
       "array([ 1,  0,  3,  2, -1,  4, 20,  5])"
      ]
     },
     "execution_count": 9,
     "metadata": {},
     "output_type": "execute_result"
    }
   ],
   "source": [
    "data['children'].unique() # ваш код здесь"
   ]
  },
  {
   "cell_type": "markdown",
   "id": "8e911990",
   "metadata": {
    "deletable": false,
    "editable": false,
    "id": "8e911990",
    "tags": [
     "start_task"
    ]
   },
   "source": [
    "**Задание 9. В столбце `children` есть два аномальных значения. Удалите строки, в которых встречаются такие аномальные значения из датафрейма `data`.**"
   ]
  },
  {
   "cell_type": "code",
   "execution_count": 10,
   "id": "6d5ba289",
   "metadata": {
    "id": "6d5ba289"
   },
   "outputs": [],
   "source": [
    "data = data[(data['children'] != -1) & (data['children'] != 20)]  # ваш код здесь\n",
    "\n"
   ]
  },
  {
   "cell_type": "markdown",
   "id": "18d77455",
   "metadata": {
    "deletable": false,
    "editable": false,
    "id": "18d77455",
    "tags": [
     "start_task"
    ]
   },
   "source": [
    "**Задание 10. Ещё раз выведите перечень уникальных значений столбца `children`, чтобы убедиться, что артефакты удалены.**"
   ]
  },
  {
   "cell_type": "code",
   "execution_count": 11,
   "id": "2c5fa92c",
   "metadata": {
    "id": "2c5fa92c"
   },
   "outputs": [
    {
     "data": {
      "text/plain": [
       "array([1, 0, 3, 2, 4, 5])"
      ]
     },
     "execution_count": 11,
     "metadata": {},
     "output_type": "execute_result"
    }
   ],
   "source": [
    "data['children'].unique() # ваш код здесь"
   ]
  },
  {
   "cell_type": "markdown",
   "id": "0ec07dee",
   "metadata": {
    "deletable": false,
    "editable": false,
    "id": "0ec07dee"
   },
   "source": [
    "### Удаление пропусков (продолжение)"
   ]
  },
  {
   "cell_type": "markdown",
   "id": "0fc3ae3f",
   "metadata": {
    "deletable": false,
    "editable": false,
    "id": "0fc3ae3f",
    "tags": [
     "start_task"
    ]
   },
   "source": [
    "**Задание 11. Заполните пропуски в столбце `days_employed` медианными значениями по каждому типу занятости `income_type`.**"
   ]
  },
  {
   "cell_type": "code",
   "execution_count": 12,
   "id": "e2aea7ac",
   "metadata": {
    "id": "e2aea7ac"
   },
   "outputs": [
    {
     "data": {
      "text/plain": [
       "children            0\n",
       "days_employed       0\n",
       "dob_years           0\n",
       "education           0\n",
       "education_id        0\n",
       "family_status       0\n",
       "family_status_id    0\n",
       "gender              0\n",
       "income_type         0\n",
       "debt                0\n",
       "total_income        0\n",
       "purpose             0\n",
       "dtype: int64"
      ]
     },
     "execution_count": 12,
     "metadata": {},
     "output_type": "execute_result"
    }
   ],
   "source": [
    "for dd in data['income_type'].unique():\n",
    "    # на каждом шаге цикла с помощью атрибута loc выбираем строки,\n",
    "    # в которых в device_type текущий тип занятости (d) и есть пропуски в total_income \n",
    "    data.loc[(data['income_type'] == dd) & (data['days_employed'].isna()), 'days_employed'] = \\\n",
    "    data.loc[(data['income_type'] == dd), 'days_employed'].median()\n",
    "    # и записываем в них среднее значение total_income среди строк с текущим типом занятости (d)\n",
    "data.isnull().sum() # ваш код здесь\n",
    "\n"
   ]
  },
  {
   "cell_type": "markdown",
   "id": "97b0b795",
   "metadata": {
    "deletable": false,
    "editable": false,
    "id": "97b0b795",
    "tags": [
     "start_task"
    ]
   },
   "source": [
    "**Задание 12. Убедитесь, что все пропуски заполнены. Проверьте себя и ещё раз выведите количество пропущенных значений для каждого столбца с помощью двух методов.**"
   ]
  },
  {
   "cell_type": "code",
   "execution_count": 13,
   "id": "79632a21",
   "metadata": {
    "id": "79632a21"
   },
   "outputs": [
    {
     "data": {
      "text/plain": [
       "children            0\n",
       "days_employed       0\n",
       "dob_years           0\n",
       "education           0\n",
       "education_id        0\n",
       "family_status       0\n",
       "family_status_id    0\n",
       "gender              0\n",
       "income_type         0\n",
       "debt                0\n",
       "total_income        0\n",
       "purpose             0\n",
       "dtype: int64"
      ]
     },
     "execution_count": 13,
     "metadata": {},
     "output_type": "execute_result"
    }
   ],
   "source": [
    "data.isnull().sum() # ваш код здесь"
   ]
  },
  {
   "cell_type": "markdown",
   "id": "bd4aeb20",
   "metadata": {
    "deletable": false,
    "editable": false,
    "id": "bd4aeb20"
   },
   "source": [
    "### Изменение типов данных"
   ]
  },
  {
   "cell_type": "markdown",
   "id": "963bfa58",
   "metadata": {
    "deletable": false,
    "editable": false,
    "id": "963bfa58",
    "tags": [
     "start_task"
    ]
   },
   "source": [
    "**Задание 13. Замените вещественный тип данных в столбце `total_income` на целочисленный с помощью метода `astype()`.**"
   ]
  },
  {
   "cell_type": "code",
   "execution_count": 14,
   "id": "73da6ea0",
   "metadata": {
    "id": "73da6ea0"
   },
   "outputs": [],
   "source": [
    "data['total_income'] = data['total_income'].astype(int) # ваш код здесь"
   ]
  },
  {
   "cell_type": "markdown",
   "id": "d290239e",
   "metadata": {
    "deletable": false,
    "editable": false,
    "id": "d290239e"
   },
   "source": [
    "### Обработка дубликатов"
   ]
  },
  {
   "cell_type": "markdown",
   "id": "1b5844fd",
   "metadata": {
    "deletable": false,
    "editable": false,
    "id": "1b5844fd",
    "tags": [
     "start_task"
    ]
   },
   "source": [
    "**Задание 14. Обработайте неявные дубликаты в столбце `education`. В этом столбце есть одни и те же значения, но записанные по-разному: с использованием заглавных и строчных букв. Приведите их к нижнему регистру.**"
   ]
  },
  {
   "cell_type": "code",
   "execution_count": 15,
   "id": "3f2504b3",
   "metadata": {
    "id": "3f2504b3"
   },
   "outputs": [],
   "source": [
    "data['education'] = data['education'].str.lower() # ваш код здесь"
   ]
  },
  {
   "cell_type": "markdown",
   "id": "4c22acbc",
   "metadata": {
    "deletable": false,
    "editable": false,
    "id": "4c22acbc",
    "tags": [
     "start_task"
    ]
   },
   "source": [
    "**Задание 15. Выведите на экран количество строк-дубликатов в данных. Если такие строки присутствуют, удалите их.**"
   ]
  },
  {
   "cell_type": "code",
   "execution_count": 16,
   "id": "d34a4325",
   "metadata": {
    "id": "d34a4325"
   },
   "outputs": [
    {
     "data": {
      "text/plain": [
       "71"
      ]
     },
     "execution_count": 16,
     "metadata": {},
     "output_type": "execute_result"
    }
   ],
   "source": [
    "data.duplicated().sum() # посчитайте дубликаты"
   ]
  },
  {
   "cell_type": "code",
   "execution_count": 17,
   "id": "6e1a6499",
   "metadata": {
    "id": "6e1a6499"
   },
   "outputs": [],
   "source": [
    "data = data.drop_duplicates()# удалите дубликаты"
   ]
  },
  {
   "cell_type": "markdown",
   "id": "e5686ccc",
   "metadata": {
    "deletable": false,
    "editable": false,
    "id": "e5686ccc"
   },
   "source": [
    "### Категоризация данных"
   ]
  },
  {
   "cell_type": "markdown",
   "id": "636e9acd",
   "metadata": {
    "deletable": false,
    "editable": false,
    "id": "636e9acd",
    "tags": [
     "start_task"
    ]
   },
   "source": [
    "**Задание 16. На основании диапазонов, указанных ниже, создайте в датафрейме `data` столбец `total_income_category` с категориями:**\n",
    "\n",
    "- 0–30000 — `'E'`;\n",
    "- 30001–50000 — `'D'`;\n",
    "- 50001–200000 — `'C'`;\n",
    "- 200001–1000000 — `'B'`;\n",
    "- 1000001 и выше — `'A'`.\n",
    "\n",
    "\n",
    "**Например, кредитополучателю с доходом 25000 нужно назначить категорию `'E'`, а клиенту, получающему 235000, — `'B'`. Используйте собственную функцию с именем `categorize_income()` и метод `apply()`.**"
   ]
  },
  {
   "cell_type": "code",
   "execution_count": 18,
   "id": "880a77e5",
   "metadata": {
    "id": "880a77e5"
   },
   "outputs": [],
   "source": [
    "def categorize_income(income):\n",
    "    if 0 < income <= 30000:\n",
    "        return 'E'\n",
    "    if 30001 <= income <= 50000:\n",
    "        return 'D'\n",
    "    if 50001 <= income <= 200000:\n",
    "        return 'C'\n",
    "    if 200001 <= income <= 1000000:\n",
    "        return 'B'\n",
    "    return 'A' \n",
    "\n",
    "# создайте функцию categorize_income()"
   ]
  },
  {
   "cell_type": "code",
   "execution_count": 19,
   "id": "6f25f161",
   "metadata": {
    "id": "6f25f161"
   },
   "outputs": [],
   "source": [
    "data['total_income_category'] = data['total_income'].apply(categorize_income)\n",
    "# примените функцию методом apply()"
   ]
  },
  {
   "cell_type": "markdown",
   "id": "3363b685",
   "metadata": {
    "deletable": false,
    "editable": false,
    "id": "3363b685",
    "tags": [
     "start_task"
    ]
   },
   "source": [
    "**Задание 17. Выведите на экран перечень уникальных целей взятия кредита из столбца `purpose`.**"
   ]
  },
  {
   "cell_type": "code",
   "execution_count": 20,
   "id": "e59f2c15",
   "metadata": {
    "id": "e59f2c15"
   },
   "outputs": [
    {
     "data": {
      "text/plain": [
       "array(['покупка жилья', 'приобретение автомобиля',\n",
       "       'дополнительное образование', 'сыграть свадьбу',\n",
       "       'операции с жильем', 'образование', 'на проведение свадьбы',\n",
       "       'покупка жилья для семьи', 'покупка недвижимости',\n",
       "       'покупка коммерческой недвижимости', 'покупка жилой недвижимости',\n",
       "       'строительство собственной недвижимости', 'недвижимость',\n",
       "       'строительство недвижимости', 'на покупку подержанного автомобиля',\n",
       "       'на покупку своего автомобиля',\n",
       "       'операции с коммерческой недвижимостью',\n",
       "       'строительство жилой недвижимости', 'жилье',\n",
       "       'операции со своей недвижимостью', 'автомобили',\n",
       "       'заняться образованием', 'сделка с подержанным автомобилем',\n",
       "       'получение образования', 'автомобиль', 'свадьба',\n",
       "       'получение дополнительного образования', 'покупка своего жилья',\n",
       "       'операции с недвижимостью', 'получение высшего образования',\n",
       "       'свой автомобиль', 'сделка с автомобилем',\n",
       "       'профильное образование', 'высшее образование',\n",
       "       'покупка жилья для сдачи', 'на покупку автомобиля', 'ремонт жилью',\n",
       "       'заняться высшим образованием'], dtype=object)"
      ]
     },
     "execution_count": 20,
     "metadata": {},
     "output_type": "execute_result"
    }
   ],
   "source": [
    "data['purpose'].unique() # ваш код здесь"
   ]
  },
  {
   "cell_type": "markdown",
   "id": "bb33e847",
   "metadata": {
    "deletable": false,
    "editable": false,
    "id": "bb33e847",
    "tags": [
     "start_task"
    ]
   },
   "source": [
    "**Задание 18. Создайте функцию, которая на основании данных из столбца `purpose` сформирует новый столбец `purpose_category`, в который войдут следующие категории:**\n",
    "\n",
    "- `'операции с автомобилем'`,\n",
    "- `'операции с недвижимостью'`,\n",
    "- `'проведение свадьбы'`,\n",
    "- `'получение образования'`.\n",
    "\n",
    "**Например, если в столбце `purpose` находится подстрока `'на покупку автомобиля'`, то в столбце `purpose_category` должна появиться строка `'операции с автомобилем'`.**\n",
    "\n",
    "**Используйте собственную функцию с именем `categorize_purpose()` и метод `apply()`. Изучите данные в столбце `purpose` и определите, какие подстроки помогут вам правильно определить категорию.**"
   ]
  },
  {
   "cell_type": "code",
   "execution_count": 25,
   "id": "63909b83",
   "metadata": {
    "id": "63909b83"
   },
   "outputs": [],
   "source": [
    "def categorize_purpose(pure):\n",
    "    try:\n",
    "        if 'авто' in pure:\n",
    "            return 'операции с автомобилем'\n",
    "        if 'недвиж' in pure or 'жил' in pure:\n",
    "            return 'операции с недвижимостью'\n",
    "        if 'свад' in pure:\n",
    "            return 'проведение свадьбы'\n",
    "        if 'образ' in pure:\n",
    "            return 'получение образования'\n",
    "    except:\n",
    "        return 'gg'\n",
    "# создайте функцию categorize_purpose()"
   ]
  },
  {
   "cell_type": "code",
   "execution_count": 26,
   "id": "7cb4a81d",
   "metadata": {
    "id": "7cb4a81d"
   },
   "outputs": [],
   "source": [
    "data['purpose_category'] = data['purpose'].apply(categorize_purpose)\n",
    "# примените функцию методом apply()"
   ]
  },
  {
   "cell_type": "code",
   "execution_count": null,
   "id": "2f60b9ae",
   "metadata": {},
   "outputs": [],
   "source": []
  }
 ],
 "metadata": {
  "ExecuteTimeLog": [
   {
    "duration": 405,
    "start_time": "2024-07-17T06:34:07.701Z"
   },
   {
    "duration": 142,
    "start_time": "2024-07-17T06:34:08.108Z"
   },
   {
    "duration": 22,
    "start_time": "2024-07-17T06:34:08.252Z"
   },
   {
    "duration": 22,
    "start_time": "2024-07-17T06:34:08.276Z"
   },
   {
    "duration": 2,
    "start_time": "2024-07-17T06:34:08.299Z"
   },
   {
    "duration": 12,
    "start_time": "2024-07-17T06:34:08.303Z"
   },
   {
    "duration": 4,
    "start_time": "2024-07-17T06:34:08.316Z"
   },
   {
    "duration": 4,
    "start_time": "2024-07-17T06:34:08.322Z"
   },
   {
    "duration": 4,
    "start_time": "2024-07-17T06:34:08.327Z"
   },
   {
    "duration": 11,
    "start_time": "2024-07-17T06:34:08.335Z"
   },
   {
    "duration": 2,
    "start_time": "2024-07-17T06:34:08.356Z"
   },
   {
    "duration": 4,
    "start_time": "2024-07-17T06:34:08.359Z"
   },
   {
    "duration": 6,
    "start_time": "2024-07-17T06:34:08.364Z"
   },
   {
    "duration": 16,
    "start_time": "2024-07-17T06:34:08.371Z"
   },
   {
    "duration": 4,
    "start_time": "2024-07-17T06:34:08.389Z"
   },
   {
    "duration": 7,
    "start_time": "2024-07-17T06:34:08.394Z"
   },
   {
    "duration": 7,
    "start_time": "2024-07-17T06:34:08.402Z"
   },
   {
    "duration": 27,
    "start_time": "2024-07-17T06:34:08.410Z"
   },
   {
    "duration": 13,
    "start_time": "2024-07-17T06:34:08.439Z"
   },
   {
    "duration": 7,
    "start_time": "2024-07-17T06:34:08.453Z"
   },
   {
    "duration": 12,
    "start_time": "2024-07-17T06:34:08.461Z"
   },
   {
    "duration": 4,
    "start_time": "2024-07-17T06:34:08.474Z"
   },
   {
    "duration": 11,
    "start_time": "2024-07-17T06:39:15.937Z"
   },
   {
    "duration": 65,
    "start_time": "2024-07-17T06:52:32.400Z"
   },
   {
    "duration": 6,
    "start_time": "2024-07-17T06:52:53.987Z"
   },
   {
    "duration": 392,
    "start_time": "2024-07-17T06:53:05.084Z"
   },
   {
    "duration": 79,
    "start_time": "2024-07-17T06:53:05.478Z"
   },
   {
    "duration": 22,
    "start_time": "2024-07-17T06:53:05.558Z"
   },
   {
    "duration": 17,
    "start_time": "2024-07-17T06:53:05.583Z"
   },
   {
    "duration": 11,
    "start_time": "2024-07-17T06:53:05.601Z"
   },
   {
    "duration": 15,
    "start_time": "2024-07-17T06:53:05.613Z"
   },
   {
    "duration": 20,
    "start_time": "2024-07-17T06:53:05.630Z"
   },
   {
    "duration": 13,
    "start_time": "2024-07-17T06:53:05.652Z"
   },
   {
    "duration": 12,
    "start_time": "2024-07-17T06:53:05.666Z"
   },
   {
    "duration": 3,
    "start_time": "2024-07-17T06:53:05.681Z"
   },
   {
    "duration": 3,
    "start_time": "2024-07-17T06:53:05.686Z"
   },
   {
    "duration": 5,
    "start_time": "2024-07-17T06:53:05.690Z"
   },
   {
    "duration": 6,
    "start_time": "2024-07-17T06:53:05.696Z"
   },
   {
    "duration": 18,
    "start_time": "2024-07-17T06:53:05.703Z"
   },
   {
    "duration": 24,
    "start_time": "2024-07-17T06:53:05.722Z"
   },
   {
    "duration": 13,
    "start_time": "2024-07-17T06:53:05.748Z"
   },
   {
    "duration": 27,
    "start_time": "2024-07-17T06:53:05.762Z"
   },
   {
    "duration": 74,
    "start_time": "2024-07-17T06:53:05.790Z"
   },
   {
    "duration": 9,
    "start_time": "2024-07-17T06:53:05.865Z"
   },
   {
    "duration": 7,
    "start_time": "2024-07-17T06:53:05.876Z"
   },
   {
    "duration": 4,
    "start_time": "2024-07-17T06:53:05.884Z"
   },
   {
    "duration": 4,
    "start_time": "2024-07-17T06:53:05.890Z"
   },
   {
    "duration": 8,
    "start_time": "2024-07-17T06:53:38.360Z"
   },
   {
    "duration": 25,
    "start_time": "2024-07-17T07:27:44.450Z"
   },
   {
    "duration": 10,
    "start_time": "2024-07-17T07:28:38.645Z"
   },
   {
    "duration": 16,
    "start_time": "2024-07-17T07:28:58.585Z"
   },
   {
    "duration": 10,
    "start_time": "2024-07-17T07:29:16.107Z"
   },
   {
    "duration": 2,
    "start_time": "2024-07-17T07:29:22.622Z"
   },
   {
    "duration": 11,
    "start_time": "2024-07-17T07:29:27.557Z"
   },
   {
    "duration": 104,
    "start_time": "2024-07-17T07:33:17.583Z"
   },
   {
    "duration": 33,
    "start_time": "2024-07-17T07:35:30.077Z"
   },
   {
    "duration": 36,
    "start_time": "2024-07-17T07:36:31.771Z"
   },
   {
    "duration": 428,
    "start_time": "2024-07-17T07:37:02.029Z"
   },
   {
    "duration": 81,
    "start_time": "2024-07-17T07:37:02.460Z"
   },
   {
    "duration": 23,
    "start_time": "2024-07-17T07:37:02.542Z"
   },
   {
    "duration": 35,
    "start_time": "2024-07-17T07:37:02.566Z"
   },
   {
    "duration": 43,
    "start_time": "2024-07-17T07:37:02.603Z"
   },
   {
    "duration": 118,
    "start_time": "2024-07-17T07:37:02.648Z"
   },
   {
    "duration": 0,
    "start_time": "2024-07-17T07:37:02.768Z"
   },
   {
    "duration": 0,
    "start_time": "2024-07-17T07:37:02.770Z"
   },
   {
    "duration": 0,
    "start_time": "2024-07-17T07:37:02.770Z"
   },
   {
    "duration": 0,
    "start_time": "2024-07-17T07:37:02.771Z"
   },
   {
    "duration": 0,
    "start_time": "2024-07-17T07:37:02.772Z"
   },
   {
    "duration": 0,
    "start_time": "2024-07-17T07:37:02.773Z"
   },
   {
    "duration": 0,
    "start_time": "2024-07-17T07:37:02.774Z"
   },
   {
    "duration": 0,
    "start_time": "2024-07-17T07:37:02.775Z"
   },
   {
    "duration": 0,
    "start_time": "2024-07-17T07:37:02.776Z"
   },
   {
    "duration": 0,
    "start_time": "2024-07-17T07:37:02.777Z"
   },
   {
    "duration": 0,
    "start_time": "2024-07-17T07:37:02.778Z"
   },
   {
    "duration": 0,
    "start_time": "2024-07-17T07:37:02.779Z"
   },
   {
    "duration": 0,
    "start_time": "2024-07-17T07:37:02.780Z"
   },
   {
    "duration": 0,
    "start_time": "2024-07-17T07:37:02.781Z"
   },
   {
    "duration": 0,
    "start_time": "2024-07-17T07:37:02.782Z"
   },
   {
    "duration": 0,
    "start_time": "2024-07-17T07:37:02.783Z"
   },
   {
    "duration": 47,
    "start_time": "2024-07-17T07:42:47.109Z"
   },
   {
    "duration": 58,
    "start_time": "2024-07-17T07:45:29.474Z"
   },
   {
    "duration": 40,
    "start_time": "2024-07-17T07:45:45.528Z"
   },
   {
    "duration": 56,
    "start_time": "2024-07-17T07:45:51.350Z"
   },
   {
    "duration": 8,
    "start_time": "2024-07-17T07:46:09.704Z"
   },
   {
    "duration": 8,
    "start_time": "2024-07-17T07:47:14.154Z"
   },
   {
    "duration": 9,
    "start_time": "2024-07-17T07:47:35.848Z"
   },
   {
    "duration": 12,
    "start_time": "2024-07-17T07:47:52.294Z"
   },
   {
    "duration": 5,
    "start_time": "2024-07-17T08:19:19.761Z"
   },
   {
    "duration": 65,
    "start_time": "2024-07-17T08:19:27.885Z"
   },
   {
    "duration": 44,
    "start_time": "2024-07-17T08:22:22.838Z"
   },
   {
    "duration": 4,
    "start_time": "2024-07-17T08:34:44.619Z"
   },
   {
    "duration": 8,
    "start_time": "2024-07-17T08:36:06.053Z"
   },
   {
    "duration": 5,
    "start_time": "2024-07-17T08:38:10.560Z"
   },
   {
    "duration": 83,
    "start_time": "2024-07-17T08:51:20.615Z"
   },
   {
    "duration": 14,
    "start_time": "2024-07-17T08:51:30.592Z"
   },
   {
    "duration": 8,
    "start_time": "2024-07-17T08:54:51.724Z"
   },
   {
    "duration": 2,
    "start_time": "2024-07-17T08:54:55.058Z"
   },
   {
    "duration": 11,
    "start_time": "2024-07-17T09:31:24.678Z"
   },
   {
    "duration": 24,
    "start_time": "2024-07-17T09:32:34.660Z"
   },
   {
    "duration": 31,
    "start_time": "2024-07-17T09:33:34.670Z"
   },
   {
    "duration": 10,
    "start_time": "2024-07-17T09:34:04.027Z"
   },
   {
    "duration": 26,
    "start_time": "2024-07-17T09:34:12.503Z"
   },
   {
    "duration": 13,
    "start_time": "2024-07-17T09:35:20.119Z"
   },
   {
    "duration": 14,
    "start_time": "2024-07-17T09:35:26.396Z"
   },
   {
    "duration": 23,
    "start_time": "2024-07-17T09:37:34.354Z"
   },
   {
    "duration": 7,
    "start_time": "2024-07-17T09:45:58.956Z"
   },
   {
    "duration": 49,
    "start_time": "2024-07-17T09:57:08.531Z"
   },
   {
    "duration": 418,
    "start_time": "2024-07-17T09:58:32.105Z"
   },
   {
    "duration": 82,
    "start_time": "2024-07-17T09:58:32.525Z"
   },
   {
    "duration": 24,
    "start_time": "2024-07-17T09:58:32.608Z"
   },
   {
    "duration": 107,
    "start_time": "2024-07-17T09:58:32.635Z"
   },
   {
    "duration": 40,
    "start_time": "2024-07-17T09:58:32.744Z"
   },
   {
    "duration": 129,
    "start_time": "2024-07-17T09:58:32.786Z"
   },
   {
    "duration": 26,
    "start_time": "2024-07-17T09:58:32.917Z"
   },
   {
    "duration": 113,
    "start_time": "2024-07-17T09:58:32.944Z"
   },
   {
    "duration": 15,
    "start_time": "2024-07-17T09:58:33.058Z"
   },
   {
    "duration": 42,
    "start_time": "2024-07-17T09:58:33.075Z"
   },
   {
    "duration": 9,
    "start_time": "2024-07-17T09:58:33.119Z"
   },
   {
    "duration": 64,
    "start_time": "2024-07-17T09:58:33.129Z"
   },
   {
    "duration": 2,
    "start_time": "2024-07-17T09:58:33.195Z"
   },
   {
    "duration": 20,
    "start_time": "2024-07-17T09:58:33.200Z"
   },
   {
    "duration": 19,
    "start_time": "2024-07-17T09:58:33.222Z"
   },
   {
    "duration": 23,
    "start_time": "2024-07-17T09:58:33.242Z"
   },
   {
    "duration": 8,
    "start_time": "2024-07-17T09:58:33.266Z"
   },
   {
    "duration": 21,
    "start_time": "2024-07-17T09:58:33.276Z"
   },
   {
    "duration": 9,
    "start_time": "2024-07-17T09:58:33.299Z"
   },
   {
    "duration": 3,
    "start_time": "2024-07-17T09:58:33.310Z"
   },
   {
    "duration": 27,
    "start_time": "2024-07-17T09:58:33.315Z"
   },
   {
    "duration": 10,
    "start_time": "2024-07-17T09:58:33.344Z"
   },
   {
    "duration": 46,
    "start_time": "2024-07-17T10:03:06.832Z"
   },
   {
    "duration": 356,
    "start_time": "2024-07-17T10:06:40.315Z"
   },
   {
    "duration": 79,
    "start_time": "2024-07-17T10:06:40.673Z"
   },
   {
    "duration": 21,
    "start_time": "2024-07-17T10:06:40.753Z"
   },
   {
    "duration": 16,
    "start_time": "2024-07-17T10:06:40.776Z"
   },
   {
    "duration": 10,
    "start_time": "2024-07-17T10:06:40.793Z"
   },
   {
    "duration": 65,
    "start_time": "2024-07-17T10:06:40.805Z"
   },
   {
    "duration": 4,
    "start_time": "2024-07-17T10:06:40.872Z"
   },
   {
    "duration": 9,
    "start_time": "2024-07-17T10:06:40.878Z"
   },
   {
    "duration": 15,
    "start_time": "2024-07-17T10:06:40.889Z"
   },
   {
    "duration": 20,
    "start_time": "2024-07-17T10:06:40.907Z"
   },
   {
    "duration": 40,
    "start_time": "2024-07-17T10:06:40.929Z"
   },
   {
    "duration": 73,
    "start_time": "2024-07-17T10:06:40.971Z"
   },
   {
    "duration": 2,
    "start_time": "2024-07-17T10:06:41.046Z"
   },
   {
    "duration": 46,
    "start_time": "2024-07-17T10:06:41.050Z"
   },
   {
    "duration": 6,
    "start_time": "2024-07-17T10:06:41.098Z"
   },
   {
    "duration": 3,
    "start_time": "2024-07-17T10:06:41.106Z"
   },
   {
    "duration": 5,
    "start_time": "2024-07-17T10:06:41.111Z"
   },
   {
    "duration": 3,
    "start_time": "2024-07-17T10:06:41.117Z"
   },
   {
    "duration": 5,
    "start_time": "2024-07-17T10:06:41.122Z"
   },
   {
    "duration": 12,
    "start_time": "2024-07-17T10:06:41.128Z"
   },
   {
    "duration": 6,
    "start_time": "2024-07-17T10:06:41.141Z"
   },
   {
    "duration": 4,
    "start_time": "2024-07-17T10:06:41.148Z"
   },
   {
    "duration": 47,
    "start_time": "2024-07-17T10:08:49.741Z"
   },
   {
    "duration": 421,
    "start_time": "2024-07-17T10:55:44.044Z"
   },
   {
    "duration": 82,
    "start_time": "2024-07-17T10:55:44.467Z"
   },
   {
    "duration": 23,
    "start_time": "2024-07-17T10:55:44.551Z"
   },
   {
    "duration": 15,
    "start_time": "2024-07-17T10:55:44.576Z"
   },
   {
    "duration": 24,
    "start_time": "2024-07-17T10:55:44.593Z"
   },
   {
    "duration": 58,
    "start_time": "2024-07-17T10:55:44.619Z"
   },
   {
    "duration": 3,
    "start_time": "2024-07-17T10:55:44.679Z"
   },
   {
    "duration": 12,
    "start_time": "2024-07-17T10:55:44.684Z"
   },
   {
    "duration": 7,
    "start_time": "2024-07-17T10:55:44.698Z"
   },
   {
    "duration": 7,
    "start_time": "2024-07-17T10:55:44.709Z"
   },
   {
    "duration": 5,
    "start_time": "2024-07-17T10:55:44.718Z"
   },
   {
    "duration": 46,
    "start_time": "2024-07-17T10:55:44.756Z"
   },
   {
    "duration": 11,
    "start_time": "2024-07-17T10:55:44.804Z"
   },
   {
    "duration": 4,
    "start_time": "2024-07-17T10:55:44.817Z"
   },
   {
    "duration": 5,
    "start_time": "2024-07-17T10:55:44.822Z"
   },
   {
    "duration": 74,
    "start_time": "2024-07-17T10:55:44.829Z"
   },
   {
    "duration": 11,
    "start_time": "2024-07-17T10:55:44.904Z"
   },
   {
    "duration": 6,
    "start_time": "2024-07-17T10:55:44.917Z"
   },
   {
    "duration": 5,
    "start_time": "2024-07-17T10:55:44.925Z"
   },
   {
    "duration": 4,
    "start_time": "2024-07-17T10:55:44.931Z"
   },
   {
    "duration": 4,
    "start_time": "2024-07-17T10:55:44.936Z"
   },
   {
    "duration": 2,
    "start_time": "2024-07-17T10:55:44.942Z"
   },
   {
    "duration": 3,
    "start_time": "2024-07-17T10:55:58.339Z"
   },
   {
    "duration": 394,
    "start_time": "2024-07-17T10:56:24.176Z"
   },
   {
    "duration": 79,
    "start_time": "2024-07-17T10:56:24.572Z"
   },
   {
    "duration": 22,
    "start_time": "2024-07-17T10:56:24.653Z"
   },
   {
    "duration": 20,
    "start_time": "2024-07-17T10:56:24.677Z"
   },
   {
    "duration": 20,
    "start_time": "2024-07-17T10:56:24.698Z"
   },
   {
    "duration": 56,
    "start_time": "2024-07-17T10:56:24.719Z"
   },
   {
    "duration": 3,
    "start_time": "2024-07-17T10:56:24.777Z"
   },
   {
    "duration": 22,
    "start_time": "2024-07-17T10:56:24.781Z"
   },
   {
    "duration": 12,
    "start_time": "2024-07-17T10:56:24.805Z"
   },
   {
    "duration": 7,
    "start_time": "2024-07-17T10:56:24.819Z"
   },
   {
    "duration": 6,
    "start_time": "2024-07-17T10:56:24.827Z"
   },
   {
    "duration": 89,
    "start_time": "2024-07-17T10:56:24.835Z"
   },
   {
    "duration": 10,
    "start_time": "2024-07-17T10:56:24.926Z"
   },
   {
    "duration": 12,
    "start_time": "2024-07-17T10:56:24.937Z"
   },
   {
    "duration": 5,
    "start_time": "2024-07-17T10:56:24.951Z"
   },
   {
    "duration": 7,
    "start_time": "2024-07-17T10:56:24.958Z"
   },
   {
    "duration": 7,
    "start_time": "2024-07-17T10:56:24.966Z"
   },
   {
    "duration": 7,
    "start_time": "2024-07-17T10:56:24.975Z"
   },
   {
    "duration": 11,
    "start_time": "2024-07-17T10:56:24.983Z"
   },
   {
    "duration": 30,
    "start_time": "2024-07-17T10:56:24.996Z"
   },
   {
    "duration": 6,
    "start_time": "2024-07-17T10:56:25.027Z"
   },
   {
    "duration": 5,
    "start_time": "2024-07-17T10:56:25.034Z"
   },
   {
    "duration": 14,
    "start_time": "2024-07-17T11:08:45.739Z"
   },
   {
    "duration": 21,
    "start_time": "2024-07-17T11:16:06.843Z"
   },
   {
    "duration": 32,
    "start_time": "2024-07-17T11:17:39.473Z"
   },
   {
    "duration": 21,
    "start_time": "2024-07-17T11:21:19.924Z"
   },
   {
    "duration": 68,
    "start_time": "2024-07-17T11:39:43.415Z"
   },
   {
    "duration": 8,
    "start_time": "2024-07-17T11:40:03.080Z"
   },
   {
    "duration": 3,
    "start_time": "2024-07-17T11:40:05.294Z"
   },
   {
    "duration": 460,
    "start_time": "2024-07-17T11:40:17.729Z"
   },
   {
    "duration": 80,
    "start_time": "2024-07-17T11:40:18.191Z"
   },
   {
    "duration": 22,
    "start_time": "2024-07-17T11:40:18.273Z"
   },
   {
    "duration": 19,
    "start_time": "2024-07-17T11:40:18.297Z"
   },
   {
    "duration": 10,
    "start_time": "2024-07-17T11:40:18.317Z"
   },
   {
    "duration": 66,
    "start_time": "2024-07-17T11:40:18.328Z"
   },
   {
    "duration": 4,
    "start_time": "2024-07-17T11:40:18.395Z"
   },
   {
    "duration": 16,
    "start_time": "2024-07-17T11:40:18.400Z"
   },
   {
    "duration": 5,
    "start_time": "2024-07-17T11:40:18.417Z"
   },
   {
    "duration": 24,
    "start_time": "2024-07-17T11:40:18.425Z"
   },
   {
    "duration": 8,
    "start_time": "2024-07-17T11:40:18.450Z"
   },
   {
    "duration": 55,
    "start_time": "2024-07-17T11:40:18.460Z"
   },
   {
    "duration": 10,
    "start_time": "2024-07-17T11:40:18.517Z"
   },
   {
    "duration": 9,
    "start_time": "2024-07-17T11:40:18.529Z"
   },
   {
    "duration": 25,
    "start_time": "2024-07-17T11:40:18.539Z"
   },
   {
    "duration": 29,
    "start_time": "2024-07-17T11:40:18.565Z"
   },
   {
    "duration": 26,
    "start_time": "2024-07-17T11:40:18.596Z"
   },
   {
    "duration": 4,
    "start_time": "2024-07-17T11:40:18.624Z"
   },
   {
    "duration": 32,
    "start_time": "2024-07-17T11:40:18.630Z"
   },
   {
    "duration": 3,
    "start_time": "2024-07-17T11:40:18.664Z"
   },
   {
    "duration": 18,
    "start_time": "2024-07-17T11:40:18.669Z"
   },
   {
    "duration": 19,
    "start_time": "2024-07-17T11:40:18.689Z"
   },
   {
    "duration": 4,
    "start_time": "2024-07-17T11:40:25.092Z"
   },
   {
    "duration": 10,
    "start_time": "2024-07-17T11:40:26.088Z"
   },
   {
    "duration": 6,
    "start_time": "2024-07-17T11:41:21.456Z"
   },
   {
    "duration": 6,
    "start_time": "2024-07-17T11:43:06.483Z"
   },
   {
    "duration": 440,
    "start_time": "2024-07-17T11:47:51.744Z"
   },
   {
    "duration": 84,
    "start_time": "2024-07-17T11:47:52.186Z"
   },
   {
    "duration": 22,
    "start_time": "2024-07-17T11:47:52.272Z"
   },
   {
    "duration": 18,
    "start_time": "2024-07-17T11:47:52.297Z"
   },
   {
    "duration": 16,
    "start_time": "2024-07-17T11:47:52.316Z"
   },
   {
    "duration": 59,
    "start_time": "2024-07-17T11:47:52.334Z"
   },
   {
    "duration": 3,
    "start_time": "2024-07-17T11:47:52.395Z"
   },
   {
    "duration": 39,
    "start_time": "2024-07-17T11:47:52.400Z"
   },
   {
    "duration": 12,
    "start_time": "2024-07-17T11:47:52.440Z"
   },
   {
    "duration": 7,
    "start_time": "2024-07-17T11:47:52.455Z"
   },
   {
    "duration": 10,
    "start_time": "2024-07-17T11:47:52.463Z"
   },
   {
    "duration": 47,
    "start_time": "2024-07-17T11:47:52.475Z"
   },
   {
    "duration": 10,
    "start_time": "2024-07-17T11:47:52.523Z"
   },
   {
    "duration": 25,
    "start_time": "2024-07-17T11:47:52.535Z"
   },
   {
    "duration": 16,
    "start_time": "2024-07-17T11:47:52.561Z"
   },
   {
    "duration": 36,
    "start_time": "2024-07-17T11:47:52.578Z"
   },
   {
    "duration": 17,
    "start_time": "2024-07-17T11:47:52.615Z"
   },
   {
    "duration": 3,
    "start_time": "2024-07-17T11:47:52.634Z"
   },
   {
    "duration": 16,
    "start_time": "2024-07-17T11:47:52.639Z"
   },
   {
    "duration": 6,
    "start_time": "2024-07-17T11:47:52.656Z"
   },
   {
    "duration": 7,
    "start_time": "2024-07-17T11:47:52.664Z"
   },
   {
    "duration": 6,
    "start_time": "2024-07-17T11:47:52.672Z"
   },
   {
    "duration": 408,
    "start_time": "2024-07-17T11:48:01.518Z"
   },
   {
    "duration": 83,
    "start_time": "2024-07-17T11:48:01.928Z"
   },
   {
    "duration": 22,
    "start_time": "2024-07-17T11:48:02.012Z"
   },
   {
    "duration": 74,
    "start_time": "2024-07-17T11:48:02.035Z"
   },
   {
    "duration": 32,
    "start_time": "2024-07-17T11:48:02.112Z"
   },
   {
    "duration": 66,
    "start_time": "2024-07-17T11:48:02.146Z"
   },
   {
    "duration": 122,
    "start_time": "2024-07-17T11:48:02.214Z"
   },
   {
    "duration": 77,
    "start_time": "2024-07-17T11:48:02.338Z"
   },
   {
    "duration": 31,
    "start_time": "2024-07-17T11:48:02.417Z"
   },
   {
    "duration": 36,
    "start_time": "2024-07-17T11:48:02.450Z"
   },
   {
    "duration": 19,
    "start_time": "2024-07-17T11:48:02.488Z"
   },
   {
    "duration": 64,
    "start_time": "2024-07-17T11:48:02.509Z"
   },
   {
    "duration": 12,
    "start_time": "2024-07-17T11:48:02.575Z"
   },
   {
    "duration": 64,
    "start_time": "2024-07-17T11:48:02.590Z"
   },
   {
    "duration": 72,
    "start_time": "2024-07-17T11:48:02.656Z"
   },
   {
    "duration": 44,
    "start_time": "2024-07-17T11:48:02.730Z"
   },
   {
    "duration": 37,
    "start_time": "2024-07-17T11:48:02.776Z"
   },
   {
    "duration": 71,
    "start_time": "2024-07-17T11:48:02.815Z"
   },
   {
    "duration": 142,
    "start_time": "2024-07-17T11:48:02.888Z"
   },
   {
    "duration": 167,
    "start_time": "2024-07-17T11:48:03.033Z"
   },
   {
    "duration": 147,
    "start_time": "2024-07-17T11:48:03.202Z"
   },
   {
    "duration": 30,
    "start_time": "2024-07-17T11:48:03.350Z"
   },
   {
    "duration": 401,
    "start_time": "2024-07-17T11:48:51.659Z"
   },
   {
    "duration": 78,
    "start_time": "2024-07-17T11:48:52.063Z"
   },
   {
    "duration": 22,
    "start_time": "2024-07-17T11:48:52.144Z"
   },
   {
    "duration": 16,
    "start_time": "2024-07-17T11:48:52.168Z"
   },
   {
    "duration": 11,
    "start_time": "2024-07-17T11:48:52.186Z"
   },
   {
    "duration": 66,
    "start_time": "2024-07-17T11:48:52.198Z"
   },
   {
    "duration": 3,
    "start_time": "2024-07-17T11:48:52.265Z"
   },
   {
    "duration": 15,
    "start_time": "2024-07-17T11:48:52.270Z"
   },
   {
    "duration": 5,
    "start_time": "2024-07-17T11:48:52.287Z"
   },
   {
    "duration": 17,
    "start_time": "2024-07-17T11:48:52.294Z"
   },
   {
    "duration": 6,
    "start_time": "2024-07-17T11:48:52.313Z"
   },
   {
    "duration": 53,
    "start_time": "2024-07-17T11:48:52.320Z"
   },
   {
    "duration": 11,
    "start_time": "2024-07-17T11:48:52.374Z"
   },
   {
    "duration": 6,
    "start_time": "2024-07-17T11:48:52.386Z"
   },
   {
    "duration": 14,
    "start_time": "2024-07-17T11:48:52.394Z"
   },
   {
    "duration": 23,
    "start_time": "2024-07-17T11:48:52.410Z"
   },
   {
    "duration": 35,
    "start_time": "2024-07-17T11:48:52.434Z"
   },
   {
    "duration": 3,
    "start_time": "2024-07-17T11:48:52.470Z"
   },
   {
    "duration": 23,
    "start_time": "2024-07-17T11:48:52.474Z"
   },
   {
    "duration": 7,
    "start_time": "2024-07-17T11:48:52.499Z"
   },
   {
    "duration": 3,
    "start_time": "2024-07-17T11:48:52.508Z"
   },
   {
    "duration": 3,
    "start_time": "2024-07-17T11:48:52.512Z"
   },
   {
    "duration": 4,
    "start_time": "2024-07-17T12:13:18.008Z"
   },
   {
    "duration": 3,
    "start_time": "2024-07-17T12:13:23.867Z"
   },
   {
    "duration": 4,
    "start_time": "2024-07-17T12:15:19.727Z"
   },
   {
    "duration": 8,
    "start_time": "2024-07-17T12:16:51.595Z"
   }
  ],
  "colab": {
   "provenance": []
  },
  "kernelspec": {
   "display_name": "Python 3 (ipykernel)",
   "language": "python",
   "name": "python3"
  },
  "language_info": {
   "codemirror_mode": {
    "name": "ipython",
    "version": 3
   },
   "file_extension": ".py",
   "mimetype": "text/x-python",
   "name": "python",
   "nbconvert_exporter": "python",
   "pygments_lexer": "ipython3",
   "version": "3.9.5"
  },
  "toc": {
   "base_numbering": 1,
   "nav_menu": {},
   "number_sections": true,
   "sideBar": true,
   "skip_h1_title": true,
   "title_cell": "Table of Contents",
   "title_sidebar": "Contents",
   "toc_cell": false,
   "toc_position": {},
   "toc_section_display": true,
   "toc_window_display": false
  }
 },
 "nbformat": 4,
 "nbformat_minor": 5
}
