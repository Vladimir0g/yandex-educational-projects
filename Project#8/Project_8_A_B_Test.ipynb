{
 "cells": [
  {
   "cell_type": "markdown",
   "metadata": {},
   "source": [
    "<span style=\"color:green\">**Поздравляю, твой проект принят!**</span>\n",
    "\n",
    "Владимир, отличная работа, получился качественный аналитический отчет. Поставленные задачи были успешно выполнены! Недочёты исправлены! Надеюсь, ревью было полезным:) Желаю успехов в учебе и следующих проектах!\n",
    "\n",
    "Актуальные комментарии имеют метку `v2`.\n",
    "\n",
    "<span style=\"color:purple\">**Привет, Владимир!**</span>\n",
    "\n",
    "Меня зовут **Василий** и я – ревьювер, буду проверять твой проект. Ты проделал большую работу над проектом, но давай сделаем его еще лучше.\n",
    "\n",
    "Спасибо, что прислал проект. В тетради ты сможешь найти мои комментарии. Пострайся учесть эти комментарии в ходе выполнения дальнейших проектов.\n",
    "\n",
    "Обрати внимание, я буду выделять свои комментарии цветом, в зависимости от того, какие действия, важность и особенности тебя ждут в процессе проверки.\n",
    "\n",
    "<div class=\"alert alert-block alert-success\">\n",
    "\n",
    "**Комментарий ревьювера (все отлично)**\n",
    "    \n",
    "Такими комментариями я буду помечать хорошо проделаную работу, а так же хорошо проделаную работу над ошибками.\n",
    "</div>\n",
    "\n",
    "<div class=\"alert alert-block alert-warning\">\n",
    "\n",
    "**Комментарий ревьювера (что можно улучшить)**\n",
    "    \n",
    "После таких комментариев ничего исправлять не нужно, но я дам рекомендации на будущее и подскажу, что можно улучшить.\n",
    "</div>\n",
    "\n",
    "<div class=\"alert alert-block alert-danger\">\n",
    "    \n",
    "**Комментарий ревьювера (недочет, который нужно доработать)**\n",
    "    \n",
    "Если ты видишь такой комментарий, значит я указываю тебе на недочёт, его нужно исправить. Без такого исправления я не приму твою работу:)\n",
    "</div>\n",
    "\n",
    "**Пожалуста, не удаляй мои комментарии. При повторной проверке, я буду ориентироваться на них.**\n",
    "\n",
    "<span style=\"color:blue\"> Можешь под моими комментариями оставлять свои, в которых опиши свои исправления. Это облегчит процесс проверки и мне, и тебе:) Например, вот так:</span>\n",
    "\n",
    "<div class=\"alert alert-block alert-info\">\n",
    "<b>КОММЕНТАРИЙ ОТ УЧЕНИКА: </b>\n",
    "</div>"
   ]
  },
  {
   "cell_type": "markdown",
   "metadata": {},
   "source": [
    "# Аналитика гипотез крупного интернет-магазина для увеличения выручки. \n",
    "\n",
    "### Описание проекта. Вместе с отделом маркетинга был подготовилен список гипотез для увеличения выручки.\n",
    "\n",
    "### Цель. Приоритизировать гипотезы, запустить A/B-тест и проанализировать результаты. \n",
    "### Описание данных.\n",
    "Приоритизация гипотез.\n",
    "В файле /datasets/hypothesis.csv 9 гипотез по увеличению выручки интернет-магазина с указанными параметрами Reach, Impact, Confidence, Effort.\n",
    "Анализ A/B-теста\n",
    "Вы провели A/B-тест и получили результаты, которые описаны в файлах /datasets/orders.csv и /datasets/visitors.csv.\n",
    "### План.\n",
    "1. Предобраотка \n",
    "2. Приоритизация гипотез\n",
    "3. Анализ A/B-теста\n",
    "4. Выводы"
   ]
  },
  {
   "cell_type": "markdown",
   "metadata": {},
   "source": [
    "<div class=\"alert alert-block alert-success\">\n",
    "\n",
    "**Комментарий ревьювера (все отлично)**\n",
    "    \n",
    "Хорошее введение. Выделена цель исследования. Понятно чему посвящена твоя работа и какие этапы она содержит.\n",
    "</div>"
   ]
  },
  {
   "cell_type": "code",
   "execution_count": 1,
   "metadata": {},
   "outputs": [],
   "source": [
    "# импортируем библиотеки\n",
    "import pandas as pd\n",
    "import numpy as np  \n",
    "import math\n",
    "import matplotlib.pyplot as plt\n",
    "from scipy import stats as st\n",
    "from scipy.stats import binom\n",
    "import seaborn as sns\n",
    "from datetime import datetime, timedelta\n",
    "import plotly.graph_objs as go\n",
    "import datetime as dt\n",
    "import scipy.stats as stats"
   ]
  },
  {
   "cell_type": "markdown",
   "metadata": {},
   "source": [
    "<div class=\"alert alert-block alert-success\">\n",
    "\n",
    "**Комментарий ревьювера (все отлично)**\n",
    "    \n",
    "Правильно, что импортируешь необходимые библиотеки в первой ячейке. Так твой коллега, запускающий работу, будет в курсе используемых в ней библиотек и сможет настроить свое окружение при необходимости.\n",
    "</div>"
   ]
  },
  {
   "cell_type": "code",
   "execution_count": 2,
   "metadata": {},
   "outputs": [],
   "source": [
    "# прочитали csv-файл\n",
    "hypothesis = pd.read_csv('/datasets/hypothesis.csv')  # гипотизы\n",
    "hypothesis.name = 'hypothesis'\n",
    "orders = pd.read_csv('/datasets/orders.csv')  # заказы\n",
    "orders.name = 'orders'\n",
    "visitors = pd.read_csv('/datasets/visitors.csv')  # посетители\n",
    "visitors.name = 'visitors'"
   ]
  },
  {
   "cell_type": "code",
   "execution_count": 3,
   "metadata": {},
   "outputs": [
    {
     "name": "stdout",
     "output_type": "stream",
     "text": [
      "Информация о таблице hypothesis\n",
      "\n"
     ]
    },
    {
     "data": {
      "text/html": [
       "<div>\n",
       "<style scoped>\n",
       "    .dataframe tbody tr th:only-of-type {\n",
       "        vertical-align: middle;\n",
       "    }\n",
       "\n",
       "    .dataframe tbody tr th {\n",
       "        vertical-align: top;\n",
       "    }\n",
       "\n",
       "    .dataframe thead th {\n",
       "        text-align: right;\n",
       "    }\n",
       "</style>\n",
       "<table border=\"1\" class=\"dataframe\">\n",
       "  <thead>\n",
       "    <tr style=\"text-align: right;\">\n",
       "      <th></th>\n",
       "      <th>hypothesis</th>\n",
       "      <th>reach</th>\n",
       "      <th>impact</th>\n",
       "      <th>confidence</th>\n",
       "      <th>efforts</th>\n",
       "    </tr>\n",
       "  </thead>\n",
       "  <tbody>\n",
       "    <tr>\n",
       "      <th>0</th>\n",
       "      <td>Добавить два новых канала привлечения трафика,...</td>\n",
       "      <td>3</td>\n",
       "      <td>10</td>\n",
       "      <td>8</td>\n",
       "      <td>6</td>\n",
       "    </tr>\n",
       "    <tr>\n",
       "      <th>1</th>\n",
       "      <td>Запустить собственную службу доставки, что сок...</td>\n",
       "      <td>2</td>\n",
       "      <td>5</td>\n",
       "      <td>4</td>\n",
       "      <td>10</td>\n",
       "    </tr>\n",
       "    <tr>\n",
       "      <th>2</th>\n",
       "      <td>Добавить блоки рекомендаций товаров на сайт ин...</td>\n",
       "      <td>8</td>\n",
       "      <td>3</td>\n",
       "      <td>7</td>\n",
       "      <td>3</td>\n",
       "    </tr>\n",
       "  </tbody>\n",
       "</table>\n",
       "</div>"
      ],
      "text/plain": [
       "                                          hypothesis  reach  impact  \\\n",
       "0  Добавить два новых канала привлечения трафика,...      3      10   \n",
       "1  Запустить собственную службу доставки, что сок...      2       5   \n",
       "2  Добавить блоки рекомендаций товаров на сайт ин...      8       3   \n",
       "\n",
       "   confidence  efforts  \n",
       "0           8        6  \n",
       "1           4       10  \n",
       "2           7        3  "
      ]
     },
     "metadata": {},
     "output_type": "display_data"
    },
    {
     "name": "stdout",
     "output_type": "stream",
     "text": [
      "\n",
      "<class 'pandas.core.frame.DataFrame'>\n",
      "RangeIndex: 9 entries, 0 to 8\n",
      "Data columns (total 5 columns):\n",
      " #   Column      Non-Null Count  Dtype \n",
      "---  ------      --------------  ----- \n",
      " 0   hypothesis  9 non-null      object\n",
      " 1   reach       9 non-null      int64 \n",
      " 2   impact      9 non-null      int64 \n",
      " 3   confidence  9 non-null      int64 \n",
      " 4   efforts     9 non-null      int64 \n",
      "dtypes: int64(4), object(1)\n",
      "memory usage: 488.0+ bytes\n",
      "\n",
      "\n",
      "Количество дубликатов: 0\n",
      "\n",
      "****************************************************************************************************\n",
      "Информация о таблице orders\n",
      "\n"
     ]
    },
    {
     "data": {
      "text/html": [
       "<div>\n",
       "<style scoped>\n",
       "    .dataframe tbody tr th:only-of-type {\n",
       "        vertical-align: middle;\n",
       "    }\n",
       "\n",
       "    .dataframe tbody tr th {\n",
       "        vertical-align: top;\n",
       "    }\n",
       "\n",
       "    .dataframe thead th {\n",
       "        text-align: right;\n",
       "    }\n",
       "</style>\n",
       "<table border=\"1\" class=\"dataframe\">\n",
       "  <thead>\n",
       "    <tr style=\"text-align: right;\">\n",
       "      <th></th>\n",
       "      <th>transactionid</th>\n",
       "      <th>visitorid</th>\n",
       "      <th>date</th>\n",
       "      <th>revenue</th>\n",
       "      <th>group</th>\n",
       "    </tr>\n",
       "  </thead>\n",
       "  <tbody>\n",
       "    <tr>\n",
       "      <th>0</th>\n",
       "      <td>3667963787</td>\n",
       "      <td>3312258926</td>\n",
       "      <td>2019-08-15</td>\n",
       "      <td>1650</td>\n",
       "      <td>B</td>\n",
       "    </tr>\n",
       "    <tr>\n",
       "      <th>1</th>\n",
       "      <td>2804400009</td>\n",
       "      <td>3642806036</td>\n",
       "      <td>2019-08-15</td>\n",
       "      <td>730</td>\n",
       "      <td>B</td>\n",
       "    </tr>\n",
       "    <tr>\n",
       "      <th>2</th>\n",
       "      <td>2961555356</td>\n",
       "      <td>4069496402</td>\n",
       "      <td>2019-08-15</td>\n",
       "      <td>400</td>\n",
       "      <td>A</td>\n",
       "    </tr>\n",
       "  </tbody>\n",
       "</table>\n",
       "</div>"
      ],
      "text/plain": [
       "   transactionid   visitorid        date  revenue group\n",
       "0     3667963787  3312258926  2019-08-15     1650     B\n",
       "1     2804400009  3642806036  2019-08-15      730     B\n",
       "2     2961555356  4069496402  2019-08-15      400     A"
      ]
     },
     "metadata": {},
     "output_type": "display_data"
    },
    {
     "name": "stdout",
     "output_type": "stream",
     "text": [
      "\n",
      "<class 'pandas.core.frame.DataFrame'>\n",
      "RangeIndex: 1197 entries, 0 to 1196\n",
      "Data columns (total 5 columns):\n",
      " #   Column         Non-Null Count  Dtype \n",
      "---  ------         --------------  ----- \n",
      " 0   transactionid  1197 non-null   int64 \n",
      " 1   visitorid      1197 non-null   int64 \n",
      " 2   date           1197 non-null   object\n",
      " 3   revenue        1197 non-null   int64 \n",
      " 4   group          1197 non-null   object\n",
      "dtypes: int64(3), object(2)\n",
      "memory usage: 46.9+ KB\n",
      "\n",
      "\n",
      "Количество дубликатов: 0\n",
      "\n",
      "****************************************************************************************************\n",
      "Информация о таблице visitors\n",
      "\n"
     ]
    },
    {
     "data": {
      "text/html": [
       "<div>\n",
       "<style scoped>\n",
       "    .dataframe tbody tr th:only-of-type {\n",
       "        vertical-align: middle;\n",
       "    }\n",
       "\n",
       "    .dataframe tbody tr th {\n",
       "        vertical-align: top;\n",
       "    }\n",
       "\n",
       "    .dataframe thead th {\n",
       "        text-align: right;\n",
       "    }\n",
       "</style>\n",
       "<table border=\"1\" class=\"dataframe\">\n",
       "  <thead>\n",
       "    <tr style=\"text-align: right;\">\n",
       "      <th></th>\n",
       "      <th>date</th>\n",
       "      <th>group</th>\n",
       "      <th>visitors</th>\n",
       "    </tr>\n",
       "  </thead>\n",
       "  <tbody>\n",
       "    <tr>\n",
       "      <th>0</th>\n",
       "      <td>2019-08-01</td>\n",
       "      <td>A</td>\n",
       "      <td>719</td>\n",
       "    </tr>\n",
       "    <tr>\n",
       "      <th>1</th>\n",
       "      <td>2019-08-02</td>\n",
       "      <td>A</td>\n",
       "      <td>619</td>\n",
       "    </tr>\n",
       "    <tr>\n",
       "      <th>2</th>\n",
       "      <td>2019-08-03</td>\n",
       "      <td>A</td>\n",
       "      <td>507</td>\n",
       "    </tr>\n",
       "  </tbody>\n",
       "</table>\n",
       "</div>"
      ],
      "text/plain": [
       "         date group  visitors\n",
       "0  2019-08-01     A       719\n",
       "1  2019-08-02     A       619\n",
       "2  2019-08-03     A       507"
      ]
     },
     "metadata": {},
     "output_type": "display_data"
    },
    {
     "name": "stdout",
     "output_type": "stream",
     "text": [
      "\n",
      "<class 'pandas.core.frame.DataFrame'>\n",
      "RangeIndex: 62 entries, 0 to 61\n",
      "Data columns (total 3 columns):\n",
      " #   Column    Non-Null Count  Dtype \n",
      "---  ------    --------------  ----- \n",
      " 0   date      62 non-null     object\n",
      " 1   group     62 non-null     object\n",
      " 2   visitors  62 non-null     int64 \n",
      "dtypes: int64(1), object(2)\n",
      "memory usage: 1.6+ KB\n",
      "\n",
      "\n",
      "Количество дубликатов: 0\n",
      "\n",
      "****************************************************************************************************\n"
     ]
    }
   ],
   "source": [
    "# Изучите данные и выполните предобработку\n",
    "def all_data_view(dataset):\n",
    "    print('Информация о таблице', dataset.name)\n",
    "    print()\n",
    "    dataset.columns = dataset.columns.str.lower() # в названии колонок строчные буквы\n",
    "    dataset.columns = dataset.columns.str.replace(\" \", \"_\", regex=True) # вместо пробела '_'\n",
    "    display(dataset.head(3)) # 3 первых записи\n",
    "    print()\n",
    "    dataset.info() # общая информация\n",
    "    print()\n",
    "    dataset.isnull().sum() # информация о пропущенных значениях \n",
    "    print()\n",
    "    print('Количество дубликатов:', dataset.duplicated().sum())  # информация о дубликатах\n",
    "    print()\n",
    "    print('*'*100)\n",
    "all_data_view(hypothesis)\n",
    "all_data_view(orders)\n",
    "all_data_view(visitors)"
   ]
  },
  {
   "cell_type": "code",
   "execution_count": 4,
   "metadata": {},
   "outputs": [],
   "source": [
    "# изменим тип данных\n",
    "# преобразование данных о времени\n",
    "orders['date'] = pd.to_datetime(orders['date'])\n",
    "visitors['date'] = pd.to_datetime(visitors['date'])\n",
    "\n",
    "#all_data_view(orders)\n",
    "#all_data_view(visitors)"
   ]
  },
  {
   "cell_type": "markdown",
   "metadata": {},
   "source": [
    "<div class=\"alert alert-block alert-success\">\n",
    "\n",
    "**Комментарий ревьювера (все отлично)**\n",
    "    \n",
    "Даты приведены к соответствующему типу👍\n",
    "</div>"
   ]
  },
  {
   "cell_type": "markdown",
   "metadata": {},
   "source": [
    "Вывод.\n",
    "1. Получена информация о таблицах\n",
    "2. Имена столбцов приведены к нижнему регистру, пробелы заменены '_'\n",
    "3. Пропуски, дубликаты отсутсвуют \n",
    "4. Даты приведены к соответствующему формату\n",
    "5. Данные готовы к дальнейшей обработке."
   ]
  },
  {
   "cell_type": "markdown",
   "metadata": {},
   "source": [
    "<div class=\"alert alert-block alert-danger\">\n",
    "    \n",
    "**Комментарий ревьювера (недочет, который нужно доработать)**\n",
    "    \n",
    "Проверь, есть ли в таблице orders пользователи, оказавшиеся одновременно в двух группах. Дело в том, что при АВ тестировании могут быть ошибки при логировании и распределении пользователей по группам.\n",
    "</div>"
   ]
  },
  {
   "cell_type": "code",
   "execution_count": 5,
   "metadata": {},
   "outputs": [
    {
     "data": {
      "text/plain": [
       "array([4069496402,  963407295,  351125977, 3234906277,  199603092,\n",
       "        237748145, 3803269165, 2038680547, 2378935119, 4256040402,\n",
       "       2712142231,    8300375,  276558944,  457167155, 3062433592,\n",
       "       1738359350, 2458001652, 2716752286, 3891541246, 1648269707,\n",
       "       3656415546, 2686716486, 2954449915, 2927087541, 2579882178,\n",
       "       3957174400, 2780786433, 3984495233,  818047933, 1668030113,\n",
       "       3717692402, 2044997962, 1959144690, 1294878855, 1404934699,\n",
       "       2587333274, 3202540741, 1333886533, 2600415354, 3951559397,\n",
       "        393266494, 3972127743, 4120364173, 4266935830, 1230306981,\n",
       "       1614305549,  477780734, 1602967004, 1801183820, 4186807279,\n",
       "       3766097110, 3941795274,  471551937, 1316129916,  232979603,\n",
       "       2654030115, 3963646447, 2949041841])"
      ]
     },
     "metadata": {},
     "output_type": "display_data"
    },
    {
     "name": "stdout",
     "output_type": "stream",
     "text": [
      "Количество пользователей в двух группах: 58\n",
      "Всего пользователей в тесте: 1031\n"
     ]
    }
   ],
   "source": [
    "# Проверим пользоватеей, оказавшиеся одновременно в двух группах.\n",
    "users_a = orders[orders['group'] == 'A']['visitorid']\n",
    "users_b = orders[orders['group'] == 'B']['visitorid']\n",
    "orders_ab = orders.query('visitorid in @users_a and visitorid in @users_b')\n",
    "display(orders_ab['visitorid'].unique())\n",
    "print('Количество пользователей в двух группах:', orders_ab['visitorid'].nunique())\n",
    "print('Всего пользователей в тесте:', orders['visitorid'].nunique())"
   ]
  },
  {
   "cell_type": "markdown",
   "metadata": {},
   "source": [
    "<div class=\"alert alert-block alert-success\">\n",
    "\n",
    "**Комментарий ревьювера v2 (все отлично)**\n",
    "    \n",
    "Допустимое решение удалить таких пользователей, однако они остались в таблице `visitors`, которую сложно предобработать от таких ошибок. \n",
    "    \n",
    "Важно отметить в выводе, что такие пользователи были обнаружены и что анализ был выполнен с учетом таких пользователей. Это нужно для будущих тестов, так как позволит коллегам выявить и устранить проблемы с логированием данных.\n",
    "</div>"
   ]
  },
  {
   "cell_type": "code",
   "execution_count": 6,
   "metadata": {},
   "outputs": [
    {
     "name": "stdout",
     "output_type": "stream",
     "text": [
      "Всего пользователей в тесте: 973\n"
     ]
    }
   ],
   "source": [
    "# 58 пользователей который одновременно присутствуют в двух группах. Удалим их.\n",
    "orders = orders.query('visitorid not in @orders_ab[\"visitorid\"]')\n",
    "print('Всего пользователей в тесте:', orders['visitorid'].nunique())"
   ]
  },
  {
   "cell_type": "code",
   "execution_count": 7,
   "metadata": {},
   "outputs": [
    {
     "data": {
      "text/html": [
       "<div>\n",
       "<style scoped>\n",
       "    .dataframe tbody tr th:only-of-type {\n",
       "        vertical-align: middle;\n",
       "    }\n",
       "\n",
       "    .dataframe tbody tr th {\n",
       "        vertical-align: top;\n",
       "    }\n",
       "\n",
       "    .dataframe thead th {\n",
       "        text-align: right;\n",
       "    }\n",
       "</style>\n",
       "<table border=\"1\" class=\"dataframe\">\n",
       "  <thead>\n",
       "    <tr style=\"text-align: right;\">\n",
       "      <th></th>\n",
       "      <th>hypothesis</th>\n",
       "      <th>ICE</th>\n",
       "    </tr>\n",
       "  </thead>\n",
       "  <tbody>\n",
       "    <tr>\n",
       "      <th>8</th>\n",
       "      <td>Запустить акцию, дающую скидку на товар в день рождения</td>\n",
       "      <td>16.200</td>\n",
       "    </tr>\n",
       "    <tr>\n",
       "      <th>0</th>\n",
       "      <td>Добавить два новых канала привлечения трафика, что позволит привлекать на 30% больше пользователей</td>\n",
       "      <td>13.333</td>\n",
       "    </tr>\n",
       "    <tr>\n",
       "      <th>7</th>\n",
       "      <td>Добавить форму подписки на все основные страницы, чтобы собрать базу клиентов для email-рассылок</td>\n",
       "      <td>11.200</td>\n",
       "    </tr>\n",
       "    <tr>\n",
       "      <th>6</th>\n",
       "      <td>Показать на главной странице баннеры с актуальными акциями и распродажами, чтобы увеличить конверсию</td>\n",
       "      <td>8.000</td>\n",
       "    </tr>\n",
       "    <tr>\n",
       "      <th>2</th>\n",
       "      <td>Добавить блоки рекомендаций товаров на сайт интернет магазина, чтобы повысить конверсию и средний чек заказа</td>\n",
       "      <td>7.000</td>\n",
       "    </tr>\n",
       "    <tr>\n",
       "      <th>1</th>\n",
       "      <td>Запустить собственную службу доставки, что сократит срок доставки заказов</td>\n",
       "      <td>2.000</td>\n",
       "    </tr>\n",
       "    <tr>\n",
       "      <th>5</th>\n",
       "      <td>Добавить страницу отзывов клиентов о магазине, что позволит увеличить количество заказов</td>\n",
       "      <td>1.333</td>\n",
       "    </tr>\n",
       "    <tr>\n",
       "      <th>3</th>\n",
       "      <td>Изменить структура категорий, что увеличит конверсию, т.к. пользователи быстрее найдут нужный товар</td>\n",
       "      <td>1.125</td>\n",
       "    </tr>\n",
       "    <tr>\n",
       "      <th>4</th>\n",
       "      <td>Изменить цвет фона главной страницы, чтобы увеличить вовлеченность пользователей</td>\n",
       "      <td>1.000</td>\n",
       "    </tr>\n",
       "  </tbody>\n",
       "</table>\n",
       "</div>"
      ],
      "text/plain": [
       "                                                                                                     hypothesis  \\\n",
       "8  Запустить акцию, дающую скидку на товар в день рождения                                                        \n",
       "0  Добавить два новых канала привлечения трафика, что позволит привлекать на 30% больше пользователей             \n",
       "7  Добавить форму подписки на все основные страницы, чтобы собрать базу клиентов для email-рассылок               \n",
       "6  Показать на главной странице баннеры с актуальными акциями и распродажами, чтобы увеличить конверсию           \n",
       "2  Добавить блоки рекомендаций товаров на сайт интернет магазина, чтобы повысить конверсию и средний чек заказа   \n",
       "1  Запустить собственную службу доставки, что сократит срок доставки заказов                                      \n",
       "5  Добавить страницу отзывов клиентов о магазине, что позволит увеличить количество заказов                       \n",
       "3  Изменить структура категорий, что увеличит конверсию, т.к. пользователи быстрее найдут нужный товар            \n",
       "4  Изменить цвет фона главной страницы, чтобы увеличить вовлеченность пользователей                               \n",
       "\n",
       "      ICE  \n",
       "8  16.200  \n",
       "0  13.333  \n",
       "7  11.200  \n",
       "6  8.000   \n",
       "2  7.000   \n",
       "1  2.000   \n",
       "5  1.333   \n",
       "3  1.125   \n",
       "4  1.000   "
      ]
     },
     "metadata": {},
     "output_type": "display_data"
    }
   ],
   "source": [
    "# 1. Приоритизация гипотез \n",
    "# Применим фреймворк ICE для приоритизации гипотез. Отсортируем их по убыванию приоритета.\n",
    "pd.options.display.max_colwidth = 1\n",
    "hypothesis['ICE'] = hypothesis['impact'] * hypothesis['confidence']/hypothesis['efforts'] \n",
    "hypothesis['ICE'] = hypothesis['ICE'].round(3)\n",
    "display(hypothesis[['hypothesis', 'ICE']].sort_values(by='ICE', ascending=False))"
   ]
  },
  {
   "cell_type": "markdown",
   "metadata": {},
   "source": [
    "<div class=\"alert alert-block alert-warning\">\n",
    "\n",
    "**Комментарий ревьювера (что можно улучшить)**\n",
    "    \n",
    "1) Можно увеличить ширину столбцов, если полностью не помещается информация, для этого можно написать следующий код: \n",
    "    \n",
    "    pd.options.display.max_colwidth = 1\n",
    "\n",
    "2) Рекомендую производить округление до 3 знаков после запятой.\n",
    "</div>"
   ]
  },
  {
   "cell_type": "code",
   "execution_count": 8,
   "metadata": {},
   "outputs": [
    {
     "data": {
      "text/html": [
       "<div>\n",
       "<style scoped>\n",
       "    .dataframe tbody tr th:only-of-type {\n",
       "        vertical-align: middle;\n",
       "    }\n",
       "\n",
       "    .dataframe tbody tr th {\n",
       "        vertical-align: top;\n",
       "    }\n",
       "\n",
       "    .dataframe thead th {\n",
       "        text-align: right;\n",
       "    }\n",
       "</style>\n",
       "<table border=\"1\" class=\"dataframe\">\n",
       "  <thead>\n",
       "    <tr style=\"text-align: right;\">\n",
       "      <th></th>\n",
       "      <th>hypothesis</th>\n",
       "      <th>RICE</th>\n",
       "    </tr>\n",
       "  </thead>\n",
       "  <tbody>\n",
       "    <tr>\n",
       "      <th>7</th>\n",
       "      <td>Добавить форму подписки на все основные страницы, чтобы собрать базу клиентов для email-рассылок</td>\n",
       "      <td>112.0</td>\n",
       "    </tr>\n",
       "    <tr>\n",
       "      <th>2</th>\n",
       "      <td>Добавить блоки рекомендаций товаров на сайт интернет магазина, чтобы повысить конверсию и средний чек заказа</td>\n",
       "      <td>56.0</td>\n",
       "    </tr>\n",
       "    <tr>\n",
       "      <th>0</th>\n",
       "      <td>Добавить два новых канала привлечения трафика, что позволит привлекать на 30% больше пользователей</td>\n",
       "      <td>40.0</td>\n",
       "    </tr>\n",
       "    <tr>\n",
       "      <th>6</th>\n",
       "      <td>Показать на главной странице баннеры с актуальными акциями и распродажами, чтобы увеличить конверсию</td>\n",
       "      <td>40.0</td>\n",
       "    </tr>\n",
       "    <tr>\n",
       "      <th>8</th>\n",
       "      <td>Запустить акцию, дающую скидку на товар в день рождения</td>\n",
       "      <td>16.2</td>\n",
       "    </tr>\n",
       "    <tr>\n",
       "      <th>3</th>\n",
       "      <td>Изменить структура категорий, что увеличит конверсию, т.к. пользователи быстрее найдут нужный товар</td>\n",
       "      <td>9.0</td>\n",
       "    </tr>\n",
       "    <tr>\n",
       "      <th>1</th>\n",
       "      <td>Запустить собственную службу доставки, что сократит срок доставки заказов</td>\n",
       "      <td>4.0</td>\n",
       "    </tr>\n",
       "    <tr>\n",
       "      <th>5</th>\n",
       "      <td>Добавить страницу отзывов клиентов о магазине, что позволит увеличить количество заказов</td>\n",
       "      <td>4.0</td>\n",
       "    </tr>\n",
       "    <tr>\n",
       "      <th>4</th>\n",
       "      <td>Изменить цвет фона главной страницы, чтобы увеличить вовлеченность пользователей</td>\n",
       "      <td>3.0</td>\n",
       "    </tr>\n",
       "  </tbody>\n",
       "</table>\n",
       "</div>"
      ],
      "text/plain": [
       "                                                                                                     hypothesis  \\\n",
       "7  Добавить форму подписки на все основные страницы, чтобы собрать базу клиентов для email-рассылок               \n",
       "2  Добавить блоки рекомендаций товаров на сайт интернет магазина, чтобы повысить конверсию и средний чек заказа   \n",
       "0  Добавить два новых канала привлечения трафика, что позволит привлекать на 30% больше пользователей             \n",
       "6  Показать на главной странице баннеры с актуальными акциями и распродажами, чтобы увеличить конверсию           \n",
       "8  Запустить акцию, дающую скидку на товар в день рождения                                                        \n",
       "3  Изменить структура категорий, что увеличит конверсию, т.к. пользователи быстрее найдут нужный товар            \n",
       "1  Запустить собственную службу доставки, что сократит срок доставки заказов                                      \n",
       "5  Добавить страницу отзывов клиентов о магазине, что позволит увеличить количество заказов                       \n",
       "4  Изменить цвет фона главной страницы, чтобы увеличить вовлеченность пользователей                               \n",
       "\n",
       "    RICE  \n",
       "7  112.0  \n",
       "2  56.0   \n",
       "0  40.0   \n",
       "6  40.0   \n",
       "8  16.2   \n",
       "3  9.0    \n",
       "1  4.0    \n",
       "5  4.0    \n",
       "4  3.0    "
      ]
     },
     "metadata": {},
     "output_type": "display_data"
    }
   ],
   "source": [
    "# Применим фреймворк RICE для приоритизации гипотез. Отсортируем их по убыванию приоритета.\n",
    "hypothesis['RICE'] = hypothesis['reach'] * hypothesis['impact'] * hypothesis['confidence']/hypothesis['efforts']\n",
    "display(hypothesis[['hypothesis', 'RICE']].sort_values(by='RICE', ascending=False))"
   ]
  },
  {
   "cell_type": "markdown",
   "metadata": {},
   "source": [
    "Вывод:\n",
    "Фреймворк RICE состоит из четырёх компонент:\n",
    "Reach — скольких пользователей затронет изменение, которое вы хотите внести;\n",
    "Impact — насколько сильно изменение повлияет на пользователей, их опыт и удовлетворение от продукта;\n",
    "Confidence — насколько вы уверены, что это изменение повлияет на пользователей именно так; \n",
    "Efforts — сколько стоит протестировать эту гипотезу. \n",
    "Соответвенно, чем болеше пользователей затрагивает гипотиза, тем выше она получет приоритет. Так как цель магазина увеличение выручки, будем анализировакть гипотизу, затаргивающую наибольшее количество клиентов. К тому же фреймворк ICE ставит данную гиплотизу на 3 место. "
   ]
  },
  {
   "cell_type": "markdown",
   "metadata": {},
   "source": [
    "<div class=\"alert alert-block alert-success\">\n",
    "\n",
    "**Комментарий ревьювера (все отлично)**\n",
    "    \n",
    "Все верно, охват меняет приоритезацию. Отличие фреймворков определено.\n",
    "</div>"
   ]
  },
  {
   "cell_type": "code",
   "execution_count": 9,
   "metadata": {},
   "outputs": [],
   "source": [
    "#Анализ A/B-теста\n",
    "# 1. Построим график кумулятивной выручки по группам. Сделайте выводы и предположения.\n",
    "# 1.1 Создайте датафрейм datesGroups с уникальными парами значений 'date' и 'group', таблицы orders.\n",
    "# Избавьтесь от дубликатов методом drop_duplicates().\n",
    "datesGroups = orders[['date','group']].drop_duplicates()"
   ]
  },
  {
   "cell_type": "markdown",
   "metadata": {},
   "source": [
    "1.2 Объявим переменную ordersAggregated, содержащую:\n",
    "дату;\n",
    "группу A/B-теста;\n",
    "число уникальных заказов в группе теста по указанную дату включительно;\n",
    "число уникальных пользователей, совершивших хотя бы 1 заказ в группе теста по указанную дату включительно;\n",
    "суммарную выручку заказов в группе теста по указанную дату включительно."
   ]
  },
  {
   "cell_type": "code",
   "execution_count": 10,
   "metadata": {},
   "outputs": [],
   "source": [
    "# 1.2\n",
    "ordersAggregated = datesGroups.apply(\n",
    "    lambda x: orders[np.logical_and(orders['date'] <= x['date'], orders['group'] == x['group'])].agg({\n",
    "'date' : 'max',\n",
    "'group' : 'max',\n",
    "'transactionid' : pd.Series.nunique,\n",
    "'visitorid' : pd.Series.nunique,\n",
    "'revenue' : 'sum'}), axis=1).sort_values(by=['date','group']) "
   ]
  },
  {
   "cell_type": "markdown",
   "metadata": {},
   "source": [
    "1.3\n",
    "Объявим переменную visitorsAggregated, содержащую:\n",
    "дату;\n",
    "группу A/B-теста;\n",
    "количество уникальных посетителей в группе теста по указанную дату включительно.\n",
    "1.4\n",
    "ordersAggregated и visitorsAggregated отсортируем по столбцам 'date', 'group' в указанном порядке."
   ]
  },
  {
   "cell_type": "code",
   "execution_count": 11,
   "metadata": {},
   "outputs": [],
   "source": [
    "# 1.3, 1.4\n",
    "visitorsAggregated = datesGroups.apply(\n",
    "    lambda x: visitors[np.logical_and(visitors['date'] <= x['date'], visitors['group'] == x['group'])].agg({\n",
    "        'date' : 'max', \n",
    "        'group' : 'max', \n",
    "        'visitors' : 'sum'}), axis=1).sort_values(by=['date','group'])"
   ]
  },
  {
   "cell_type": "markdown",
   "metadata": {},
   "source": [
    "1.5\n",
    "Определим переменную cumulativeData, объединив ordersAggregated и visitorsAggregated по колонкам 'date', 'group' методом merge()"
   ]
  },
  {
   "cell_type": "code",
   "execution_count": 12,
   "metadata": {},
   "outputs": [],
   "source": [
    "#5\n",
    "cumulativeData = ordersAggregated.merge(visitorsAggregated, left_on=['date', 'group'], right_on=['date', 'group'])"
   ]
  },
  {
   "cell_type": "markdown",
   "metadata": {},
   "source": [
    "1.6\n",
    "Присвоем столбцам cumulativeData названия ['date', 'group', 'orders', 'buyers', 'revenue', 'visitors']"
   ]
  },
  {
   "cell_type": "code",
   "execution_count": 13,
   "metadata": {},
   "outputs": [
    {
     "data": {
      "text/html": [
       "<div>\n",
       "<style scoped>\n",
       "    .dataframe tbody tr th:only-of-type {\n",
       "        vertical-align: middle;\n",
       "    }\n",
       "\n",
       "    .dataframe tbody tr th {\n",
       "        vertical-align: top;\n",
       "    }\n",
       "\n",
       "    .dataframe thead th {\n",
       "        text-align: right;\n",
       "    }\n",
       "</style>\n",
       "<table border=\"1\" class=\"dataframe\">\n",
       "  <thead>\n",
       "    <tr style=\"text-align: right;\">\n",
       "      <th></th>\n",
       "      <th>date</th>\n",
       "      <th>group</th>\n",
       "      <th>orders</th>\n",
       "      <th>buyers</th>\n",
       "      <th>revenue</th>\n",
       "      <th>visitors</th>\n",
       "    </tr>\n",
       "  </thead>\n",
       "  <tbody>\n",
       "    <tr>\n",
       "      <th>0</th>\n",
       "      <td>2019-08-01</td>\n",
       "      <td>A</td>\n",
       "      <td>23</td>\n",
       "      <td>19</td>\n",
       "      <td>142779</td>\n",
       "      <td>719</td>\n",
       "    </tr>\n",
       "    <tr>\n",
       "      <th>1</th>\n",
       "      <td>2019-08-01</td>\n",
       "      <td>B</td>\n",
       "      <td>17</td>\n",
       "      <td>17</td>\n",
       "      <td>59758</td>\n",
       "      <td>713</td>\n",
       "    </tr>\n",
       "    <tr>\n",
       "      <th>2</th>\n",
       "      <td>2019-08-02</td>\n",
       "      <td>A</td>\n",
       "      <td>42</td>\n",
       "      <td>36</td>\n",
       "      <td>234381</td>\n",
       "      <td>1338</td>\n",
       "    </tr>\n",
       "    <tr>\n",
       "      <th>3</th>\n",
       "      <td>2019-08-02</td>\n",
       "      <td>B</td>\n",
       "      <td>40</td>\n",
       "      <td>39</td>\n",
       "      <td>221801</td>\n",
       "      <td>1294</td>\n",
       "    </tr>\n",
       "    <tr>\n",
       "      <th>4</th>\n",
       "      <td>2019-08-03</td>\n",
       "      <td>A</td>\n",
       "      <td>66</td>\n",
       "      <td>60</td>\n",
       "      <td>346854</td>\n",
       "      <td>1845</td>\n",
       "    </tr>\n",
       "  </tbody>\n",
       "</table>\n",
       "</div>"
      ],
      "text/plain": [
       "        date group  orders  buyers  revenue  visitors\n",
       "0 2019-08-01  A     23      19      142779   719     \n",
       "1 2019-08-01  B     17      17      59758    713     \n",
       "2 2019-08-02  A     42      36      234381   1338    \n",
       "3 2019-08-02  B     40      39      221801   1294    \n",
       "4 2019-08-03  A     66      60      346854   1845    "
      ]
     },
     "metadata": {},
     "output_type": "display_data"
    }
   ],
   "source": [
    "#1.6\n",
    "cumulativeData.columns = ['date', 'group', 'orders', 'buyers', 'revenue', 'visitors']\n",
    "display(cumulativeData.head(5))"
   ]
  },
  {
   "cell_type": "markdown",
   "metadata": {},
   "source": [
    "<div class=\"alert alert-block alert-success\">\n",
    "\n",
    "**Комментарий ревьювера (все отлично)**\n",
    "    \n",
    "Кумулятивные данные собраны👍\n",
    "</div>"
   ]
  },
  {
   "cell_type": "code",
   "execution_count": 14,
   "metadata": {},
   "outputs": [
    {
     "data": {
      "image/png": "[encoded data removed]",
      "text/plain": [
       "<Figure size 864x360 with 1 Axes>"
      ]
     },
     "metadata": {
      "needs_background": "light"
     },
     "output_type": "display_data"
    }
   ],
   "source": [
    "# датафрейм с кумулятивным количеством заказов и кумулятивной выручкой по дням в группе А\n",
    "cumulativeRevenueA = cumulativeData[cumulativeData['group']=='A'][['date','revenue', 'orders']]\n",
    "\n",
    "# датафрейм с кумулятивным количеством заказов и кумулятивной выручкой по дням в группе B\n",
    "cumulativeRevenueB = cumulativeData[cumulativeData['group']=='B'][['date','revenue', 'orders']]\n",
    "\n",
    "plt.figure(figsize=(12, 5))\n",
    "\n",
    "# Строим график выручки группы А\n",
    "plt.plot(cumulativeRevenueA['date'], cumulativeRevenueA['revenue'], label='A')\n",
    "\n",
    "# Строим график выручки группы B\n",
    "plt.plot(cumulativeRevenueB['date'], cumulativeRevenueB['revenue'], label='B')\n",
    "\n",
    "plt.legend(fontsize=12)\n",
    "plt.xlabel('Дата')\n",
    "plt.ylabel('Средний чек')\n",
    "plt.title('Кумулятивная выручка по группам')\n",
    "plt.show()"
   ]
  },
  {
   "cell_type": "markdown",
   "metadata": {},
   "source": [
    "<div class=\"alert alert-block alert-danger\">\n",
    "    \n",
    "**Комментарий ревьювера (недочет, который нужно доработать)**\n",
    "    \n",
    "Стоит заняться оформлением всех графиков в отчете. Нужно добавить подписи осей и названия для всех графиков.\n",
    "\n",
    "Рекомендую также изучить новые библиотеки визуализации и новые методы в уже изученных.  Прикрепляю несколько интересных ссылок по визуализации:\n",
    "\n",
    "\n",
    "https://coderlessons.com/tutorials/python-technologies/izuchai-siborna/siborn-kratkoe-rukovodstvo\n",
    "\n",
    "https://tproger.ru/translations/python-data-vizualization/\n",
    "    \n",
    "\n",
    "</div>"
   ]
  },
  {
   "cell_type": "markdown",
   "metadata": {},
   "source": [
    "<div class=\"alert alert-block alert-success\">\n",
    "\n",
    "**Комментарий ревьювера v2 (все отлично)**\n",
    "    \n",
    "Графики готовы👍\n",
    "</div>"
   ]
  },
  {
   "cell_type": "markdown",
   "metadata": {},
   "source": [
    "Вывод:\n",
    "В середине теста сегмент B вырвался вперёд и продолжал лидировать весь остаток теста. Похоже, что аномально большие заказы всё-таки влияют на результаты. При заключительном анализе их нужно удалить."
   ]
  },
  {
   "cell_type": "markdown",
   "metadata": {},
   "source": [
    "<div class=\"alert alert-block alert-success\">\n",
    "\n",
    "**Комментарий ревьювера (все отлично)**\n",
    "    \n",
    "Резкий рост обнаружен👍\n",
    "</div>"
   ]
  },
  {
   "cell_type": "code",
   "execution_count": 15,
   "metadata": {},
   "outputs": [
    {
     "data": {
      "image/png": "[encoded data removed]",
      "text/plain": [
       "<Figure size 864x360 with 1 Axes>"
      ]
     },
     "metadata": {
      "needs_background": "light"
     },
     "output_type": "display_data"
    }
   ],
   "source": [
    "# Построим график кумулятивного среднего чека по группам. Сделайте выводы и предположения.\n",
    "plt.figure(figsize=(12, 5))\n",
    "plt.plot(cumulativeRevenueA['date'], cumulativeRevenueA['revenue']/cumulativeRevenueA['orders'], label='A')\n",
    "plt.plot(cumulativeRevenueB['date'], cumulativeRevenueB['revenue']/cumulativeRevenueB['orders'], label='B')\n",
    "plt.legend()\n",
    "plt.xlabel('Дата')\n",
    "plt.ylabel('Средний чек')\n",
    "plt.title('График кумулятивного среднего чека по группам')\n",
    "plt.show()"
   ]
  },
  {
   "cell_type": "markdown",
   "metadata": {},
   "source": [
    "Вывод:\n",
    "Кумулятивное значение среднего чека по сегментам продолжает колебаться. Скорее всего, принимать решение по этой метрике рано. Или требуется дополнительный анализ выбросов, которые так сильно искажают результаты.\n",
    "Резкий скачок в районе 19-го августа, что может сигнализировать о всплесках числа заказов, либо о появлении очень дорогих заказов в выборке."
   ]
  },
  {
   "cell_type": "markdown",
   "metadata": {},
   "source": [
    "<div class=\"alert alert-block alert-warning\">\n",
    "\n",
    "**Комментарий ревьювера (что можно улучшить)**\n",
    "    \n",
    "Может ли выброс в этом графике объяснить выброс 19 августа на предыдущем?\n",
    "</div>"
   ]
  },
  {
   "cell_type": "markdown",
   "metadata": {},
   "source": [
    "3. Постройте график относительного изменения кумулятивного среднего чека группы B к группе A. Сделайте выводы и предположения.\n",
    "\n",
    "Объединим таблицы cumulativeRevenueA и cumulativeRevenueB методом merge() так, чтобы она содержала столбцы: ['date', 'revenueA', 'revenueB', 'ordersA', 'ordersB']. Сохраним в переменной mergedCumulativeRevenue. \n",
    "Построим график относительно различия кумулятивного среднего чека группы B к группе A. \n",
    "Добавим пунктирную линию оси X (значение оси Y = 0) методом plt.axhline()."
   ]
  },
  {
   "cell_type": "code",
   "execution_count": 16,
   "metadata": {},
   "outputs": [
    {
     "data": {
      "image/png": "[encoded data removed]",
      "text/plain": [
       "<Figure size 864x360 with 1 Axes>"
      ]
     },
     "metadata": {
      "needs_background": "light"
     },
     "output_type": "display_data"
    }
   ],
   "source": [
    "mergedCumulativeRevenue = cumulativeRevenueA.merge(cumulativeRevenueB, left_on='date', right_on='date', how='left', suffixes=['A', 'B'])\n",
    "\n",
    "# cтроим отношение средних чеков\n",
    "plt.figure(figsize=(12, 5))\n",
    "plt.plot(mergedCumulativeRevenue['date'], (mergedCumulativeRevenue['revenueB']/mergedCumulativeRevenue['ordersB'])/(mergedCumulativeRevenue['revenueA']/mergedCumulativeRevenue['ordersA'])-1)\n",
    "\n",
    "# добавляем ось X\n",
    "plt.axhline(y=0, color='black', linestyle='--') \n",
    "plt.xlabel('Дата')\n",
    "plt.ylabel('Средний чек')\n",
    "plt.title('График относительного изменения кумулятивного среднего чека группы B к группе A')\n",
    "plt.show()"
   ]
  },
  {
   "cell_type": "markdown",
   "metadata": {},
   "source": [
    "Вывод:\n",
    "Результаты теста значительно и резко менялись в несколько дат. Видимо, именно тогда были совершены аномальные заказы.\n",
    "Пик 6го августа может объяснятся проведением какой-либо акции или распродажи. "
   ]
  },
  {
   "cell_type": "markdown",
   "metadata": {},
   "source": [
    "<div class=\"alert alert-block alert-warning\">\n",
    "\n",
    "**Комментарий ревьювера (что можно улучшить)**\n",
    "    \n",
    "Второй пик 19 августа можно объяснить ранее обнаруженными аномалиями. Но чем можно объяснить первый пик с учётом того, что в эти даты аномалий по среднему чеку и по выручке не было?\n",
    "</div>"
   ]
  },
  {
   "cell_type": "markdown",
   "metadata": {},
   "source": [
    "5. Построим график кумулятивного среднего количества заказов на посетителя по группам.\n",
    "Добавьте в cumulativeData столбец 'conversion' c отношением числа заказов к количеству пользователей в указанной группе в указанный день.\n",
    "Объявите переменные cumulativeDataA и cumulativeDataB, в которых сохраните данные о заказах в сегментах A и B соответственно."
   ]
  },
  {
   "cell_type": "code",
   "execution_count": 17,
   "metadata": {},
   "outputs": [
    {
     "data": {
      "image/png": "[encoded data removed]",
      "text/plain": [
       "<Figure size 864x360 with 1 Axes>"
      ]
     },
     "metadata": {
      "needs_background": "light"
     },
     "output_type": "display_data"
    }
   ],
   "source": [
    "# считаем среднее количество заказов на посетителя\n",
    "cumulativeData['conversion'] = cumulativeData['orders']/cumulativeData['visitors']\n",
    "\n",
    "# отделяем данные по группе A\n",
    "cumulativeDataA = cumulativeData[cumulativeData['group']=='A']\n",
    "\n",
    "# отделяем данные по группе B\n",
    "cumulativeDataB = cumulativeData[cumulativeData['group']=='B']\n",
    "\n",
    "# строим графики\n",
    "plt.figure(figsize=(12, 5))\n",
    "plt.plot(cumulativeDataA['date'], cumulativeDataA['conversion'], label='A')\n",
    "plt.plot(cumulativeDataB['date'], cumulativeDataB['conversion'], label='B')\n",
    "plt.legend()\n",
    "plt.xlabel('Дата')\n",
    "plt.ylabel('Количество заказов')\n",
    "plt.title('График кумулятивного среднего количества заказов на посетителя по группам')\n",
    "plt.show()\n",
    "# задаем масштаб осей\n",
    "#plt.axis([dt.datetime(2019, 8, 9), dt.datetime(2019, 9, 1), 0, 0.05])"
   ]
  },
  {
   "cell_type": "markdown",
   "metadata": {},
   "source": [
    "Вывод:\n",
    "В начале теста сегмент A имел большее кумулятивное среднее количество заказов, но постепенно сегмент B выровнялся и зафиксировался примерно около одного значения, больше значения сегмента A."
   ]
  },
  {
   "cell_type": "markdown",
   "metadata": {},
   "source": [
    "<div class=\"alert alert-block alert-success\">\n",
    "\n",
    "**Комментарий ревьювера (все отлично)**\n",
    "    \n",
    "Согласен, к середине теста графики стабилизировались около определенных значений.\n",
    "</div>"
   ]
  },
  {
   "cell_type": "markdown",
   "metadata": {},
   "source": [
    "<div class=\"alert alert-block alert-danger\">\n",
    "    \n",
    "**Комментарий ревьювера (недочет, который нужно доработать)**\n",
    "    \n",
    "По заданию нужно также построить график относительного изменения кумулятивного среднего количества заказов на посетителя группы B к группе A и прокомментировать его.\n",
    "</div>"
   ]
  },
  {
   "cell_type": "code",
   "execution_count": 18,
   "metadata": {},
   "outputs": [
    {
     "data": {
      "image/png": "[encoded data removed]",
      "text/plain": [
       "<Figure size 864x360 with 1 Axes>"
      ]
     },
     "metadata": {
      "needs_background": "light"
     },
     "output_type": "display_data"
    }
   ],
   "source": [
    "# Построить график относительного изменения кумулятивного среднего количества заказов на посетителя группы B к группе A \n",
    "mergedCumulativeData = cumulativeDataA.merge(cumulativeDataB, left_on='date', right_on='date', how='left', suffixes=['A', 'B'])\n",
    "\n",
    "# cтроим отношение средних чеков\n",
    "plt.figure(figsize=(12, 5))\n",
    "plt.plot(mergedCumulativeData['date'], (mergedCumulativeData['conversionB'])/(mergedCumulativeData['conversionA'])-1)\n",
    "\n",
    "# добавляем ось X\n",
    "plt.axhline(y=0, color='black', linestyle='--') \n",
    "plt.xlabel('Дата')\n",
    "plt.ylabel('Количество заказов')\n",
    "plt.title('График относительного изменения кумулятивного среднего количества заказов на посетителя группы B к группе A ')\n",
    "plt.show()"
   ]
  },
  {
   "cell_type": "markdown",
   "metadata": {},
   "source": [
    "Вывод:\n",
    "В начале теста группа В проигрывала группе А, но затем вырвалась вперед и сохранила лидерство до окончания тестирования."
   ]
  },
  {
   "cell_type": "markdown",
   "metadata": {},
   "source": [
    "<div class=\"alert alert-block alert-success\">\n",
    "\n",
    "**Комментарий ревьювера v2 (все отлично)**\n",
    "    \n",
    "Принято👍\n",
    "</div>"
   ]
  },
  {
   "cell_type": "code",
   "execution_count": 19,
   "metadata": {},
   "outputs": [
    {
     "data": {
      "text/html": [
       "<div>\n",
       "<style scoped>\n",
       "    .dataframe tbody tr th:only-of-type {\n",
       "        vertical-align: middle;\n",
       "    }\n",
       "\n",
       "    .dataframe tbody tr th {\n",
       "        vertical-align: top;\n",
       "    }\n",
       "\n",
       "    .dataframe thead th {\n",
       "        text-align: right;\n",
       "    }\n",
       "</style>\n",
       "<table border=\"1\" class=\"dataframe\">\n",
       "  <thead>\n",
       "    <tr style=\"text-align: right;\">\n",
       "      <th></th>\n",
       "      <th>userId</th>\n",
       "      <th>orders</th>\n",
       "    </tr>\n",
       "  </thead>\n",
       "  <tbody>\n",
       "    <tr>\n",
       "      <th>908</th>\n",
       "      <td>3967698036</td>\n",
       "      <td>3</td>\n",
       "    </tr>\n",
       "    <tr>\n",
       "      <th>55</th>\n",
       "      <td>249864742</td>\n",
       "      <td>3</td>\n",
       "    </tr>\n",
       "    <tr>\n",
       "      <th>478</th>\n",
       "      <td>2108163459</td>\n",
       "      <td>3</td>\n",
       "    </tr>\n",
       "    <tr>\n",
       "      <th>687</th>\n",
       "      <td>2988190573</td>\n",
       "      <td>3</td>\n",
       "    </tr>\n",
       "    <tr>\n",
       "      <th>890</th>\n",
       "      <td>3908431265</td>\n",
       "      <td>3</td>\n",
       "    </tr>\n",
       "  </tbody>\n",
       "</table>\n",
       "</div>"
      ],
      "text/plain": [
       "         userId  orders\n",
       "908  3967698036  3     \n",
       "55   249864742   3     \n",
       "478  2108163459  3     \n",
       "687  2988190573  3     \n",
       "890  3908431265  3     "
      ]
     },
     "metadata": {},
     "output_type": "display_data"
    },
    {
     "data": {
      "image/png": "[encoded data removed]",
      "text/plain": [
       "<Figure size 432x288 with 1 Axes>"
      ]
     },
     "metadata": {
      "needs_background": "light"
     },
     "output_type": "display_data"
    }
   ],
   "source": [
    "# 6. Построим точечный график количества заказов по пользователям.\n",
    "# Найдем число заказов по пользователям — создайте датафрейм c двумя столбцами: 'userId' и 'orders'. \n",
    "# Назовем его ordersByUsers. Отсортируйте по убыванию количества заказов пользователей и выведите на экран\n",
    "\n",
    "ordersByUsers = (\n",
    "    orders.groupby('visitorid', as_index=False)\n",
    "    .agg({'transactionid': 'nunique'})\n",
    ")\n",
    "\n",
    "ordersByUsers.columns = ['userId', 'orders']\n",
    "\n",
    "display(ordersByUsers.sort_values(by='orders', ascending=False).head()) \n",
    "\n",
    "x_values = pd.Series(range(0,len(ordersByUsers)))\n",
    "\n",
    "plt.scatter(x_values, ordersByUsers['orders']) \n",
    "plt.xlabel('Количество пользователей')\n",
    "plt.ylabel('Количество заказов')\n",
    "plt.title('График количества заказов по пользователям')\n",
    "plt.show()"
   ]
  },
  {
   "cell_type": "markdown",
   "metadata": {},
   "source": [
    "Вывод:\n",
    "Много пользователей с 2-4 заказами. Их точная доля не ясна — непонятно, считать их аномалиями или нет. "
   ]
  },
  {
   "cell_type": "code",
   "execution_count": 20,
   "metadata": {},
   "outputs": [
    {
     "data": {
      "text/plain": [
       "array([1., 2.])"
      ]
     },
     "metadata": {},
     "output_type": "display_data"
    }
   ],
   "source": [
    "# 7. Посчитаем 95-й и 99-й перцентили количества заказов на пользователя. \n",
    "# Выберем границу для определения аномальных пользователей.\n",
    "\n",
    "display(np.percentile(ordersByUsers['orders'], [95, 99])) "
   ]
  },
  {
   "cell_type": "markdown",
   "metadata": {},
   "source": [
    "Вывод:\n",
    "Не более 5% пользователей оформляли больше чем 2 заказа.\n",
    "Разумно выбрать 3 заказа на одного пользователя за верхнюю границу числа заказов, и отсеять аномальных пользователей по ней."
   ]
  },
  {
   "cell_type": "markdown",
   "metadata": {},
   "source": [
    "<div class=\"alert alert-block alert-success\">\n",
    "\n",
    "**Комментарий ревьювера (все отлично)**\n",
    "     \n",
    "Отлично, перцентили количества заказов на пользователя рассчитаны верно.\n",
    "</div>"
   ]
  },
  {
   "cell_type": "code",
   "execution_count": 21,
   "metadata": {},
   "outputs": [
    {
     "data": {
      "image/png": "[encoded data removed]",
      "text/plain": [
       "<Figure size 432x288 with 1 Axes>"
      ]
     },
     "metadata": {
      "needs_background": "light"
     },
     "output_type": "display_data"
    }
   ],
   "source": [
    "# 8. Построем точечный график стоимостей заказов.\n",
    "x_values = pd.Series(range(0,len(orders)))\n",
    "\n",
    "plt.scatter(x_values, orders['revenue']) \n",
    "plt.xlabel('Количество пользователей')\n",
    "plt.ylabel('Стоимость заказов')\n",
    "plt.title('График стоимостей заказов')\n",
    "plt.ylim([0, 105000])\n",
    "plt.show()"
   ]
  },
  {
   "cell_type": "markdown",
   "metadata": {},
   "source": [
    "<div class=\"alert alert-block alert-warning\">\n",
    "\n",
    "**Комментарий ревьювера (что можно улучшить)**\n",
    "    \n",
    "    \n",
    "Можно увеличить масштаб графика, не учитывая аномально большие значения при помощи:\n",
    "    \n",
    "    plt.ylim([0, 150000])\n",
    "</div>\n"
   ]
  },
  {
   "cell_type": "markdown",
   "metadata": {},
   "source": [
    "Вывод:\n",
    "Есть 2 выброса, один на 1.3млн! Второй меньше, на 20тр. Основнаяя масса стоимостей заказов находится в районе до 10тр."
   ]
  },
  {
   "cell_type": "code",
   "execution_count": 22,
   "metadata": {},
   "outputs": [
    {
     "data": {
      "text/plain": [
       "array([26785., 53904.])"
      ]
     },
     "metadata": {},
     "output_type": "display_data"
    }
   ],
   "source": [
    "# 9. Посчитаем 95-й и 99-й перцентили стоимости заказов. Выберем границу для определения аномальных заказов.\n",
    "display(np.percentile(orders['revenue'], [95, 99])) "
   ]
  },
  {
   "cell_type": "markdown",
   "metadata": {},
   "source": [
    "Вывод:\n",
    "Определяем границу по величине 99% перцентиля (58233)"
   ]
  },
  {
   "cell_type": "markdown",
   "metadata": {},
   "source": [
    "<div class=\"alert alert-block alert-success\">\n",
    "\n",
    "**Комментарий ревьювера (все отлично)**\n",
    "     \n",
    "Отлично, перцентили величины заказов рассчитаны верно. \n",
    "</div>"
   ]
  },
  {
   "cell_type": "markdown",
   "metadata": {},
   "source": [
    "10. Посчитаем статистическую значимость различий в среднем количестве заказов на посетителя между группами по «сырым» данным. \n",
    "Создадим переменные \n",
    "ordersByUsersA и ordersByUsersB со столбцами ['userId', 'orders'], где для пользователей, совершивших хотя бы 1 заказ, будет указано число заказов. \n",
    "Объявим переменные sampleA и sampleB, в которых пользователям с заказами будет соответствовать число заказов пользователя. А пользователям без заказов — нули. \n",
    "Посчитаем статистическую значимость различия среднего количества заказов по результатам теста. Примените тест Манна-Уитни. \n",
    "Выведите p-value для сравнения среднего между группами. Округлим p-value до 5 знаков после запятой. \n",
    "Вычислим и выведем относительное различие в среднем между группами. Округлим до 3 знаков после запятой.\n",
    "Сформулируем гипотезы. \n",
    "Нулевая: различий в среднем количестве заказов между группами нет. \n",
    "Альтернативная: различия в среднем между группами есть."
   ]
  },
  {
   "cell_type": "markdown",
   "metadata": {},
   "source": [
    "<div class=\"alert alert-block alert-success\">\n",
    "\n",
    "**Комментарий ревьювера (все отлично)**\n",
    "     \n",
    "Гипотезы верно сформулированы👍\n",
    "</div>"
   ]
  },
  {
   "cell_type": "code",
   "execution_count": 23,
   "metadata": {},
   "outputs": [
    {
     "name": "stdout",
     "output_type": "stream",
     "text": [
      "        date  ordersPerDateA  revenuePerDateA  ordersPerDateB  \\\n",
      "0 2019-08-01  23              142779           17               \n",
      "1 2019-08-02  19              91602            23               \n",
      "2 2019-08-03  24              112473           14               \n",
      "3 2019-08-04  11              41176            14               \n",
      "4 2019-08-05  22              86383            21               \n",
      "\n",
      "   revenuePerDateB  ordersCummulativeA  revenueCummulativeA  \\\n",
      "0  59758            23                  142779                \n",
      "1  162043           42                  234381                \n",
      "2  67049            66                  346854                \n",
      "3  96890            77                  388030                \n",
      "4  89908            99                  474413                \n",
      "\n",
      "   ordersCummulativeB  revenueCummulativeB  visitorsPerDateA  \\\n",
      "0  17                  59758                719                \n",
      "1  40                  221801               619                \n",
      "2  54                  288850               507                \n",
      "3  68                  385740               717                \n",
      "4  89                  475648               756                \n",
      "\n",
      "   visitorsPerDateB  visitorsCummulativeA  visitorsCummulativeB  \n",
      "0  713               719                   713                   \n",
      "1  581               1338                  1294                  \n",
      "2  509               1845                  1803                  \n",
      "3  770               2562                  2573                  \n",
      "4  707               3318                  3280                  \n"
     ]
    }
   ],
   "source": [
    "visitorsADaily = visitors[visitors['group'] == 'A'][['date', 'visitors']]\n",
    "visitorsADaily.columns = ['date', 'visitorsPerDateA']\n",
    "\n",
    "visitorsACummulative = visitorsADaily.apply(\n",
    "    lambda x: visitorsADaily[visitorsADaily['date'] <= x['date']].agg(\n",
    "        {'date': 'max', 'visitorsPerDateA': 'sum'}\n",
    "    ),\n",
    "    axis=1,\n",
    ")\n",
    "visitorsACummulative.columns = ['date', 'visitorsCummulativeA']\n",
    "\n",
    "visitorsBDaily = visitors[visitors['group'] == 'B'][['date', 'visitors']]\n",
    "visitorsBDaily.columns = ['date', 'visitorsPerDateB']\n",
    "\n",
    "visitorsBCummulative = visitorsBDaily.apply(\n",
    "    lambda x: visitorsBDaily[visitorsBDaily['date'] <= x['date']].agg(\n",
    "        {'date': 'max', 'visitorsPerDateB': 'sum'}\n",
    "    ),\n",
    "    axis=1,\n",
    ")\n",
    "visitorsBCummulative.columns = ['date', 'visitorsCummulativeB']\n",
    "    \n",
    "ordersADaily = (\n",
    "    orders[orders['group'] == 'A'][['date', 'transactionid', 'visitorid', 'revenue']]\n",
    "    .groupby('date', as_index=False)\n",
    "    .agg({'transactionid': pd.Series.nunique, 'revenue': 'sum'})\n",
    ")\n",
    "ordersADaily.columns = ['date', 'ordersPerDateA', 'revenuePerDateA']\n",
    "\n",
    "ordersACummulative = ordersADaily.apply(\n",
    "    lambda x: ordersADaily[ordersADaily['date'] <= x['date']].agg(\n",
    "        {'date': 'max', 'ordersPerDateA': 'sum', 'revenuePerDateA': 'sum'}\n",
    "    ),\n",
    "    axis=1,\n",
    ").sort_values(by=['date'])\n",
    "ordersACummulative.columns = [\n",
    "    'date',\n",
    "    'ordersCummulativeA',\n",
    "    'revenueCummulativeA',\n",
    "]\n",
    "\n",
    "ordersBDaily = (\n",
    "    orders[orders['group'] == 'B'][['date', 'transactionid', 'visitorid', 'revenue']]\n",
    "    .groupby('date', as_index=False)\n",
    "    .agg({'transactionid': pd.Series.nunique, 'revenue': 'sum'})\n",
    ")\n",
    "ordersBDaily.columns = ['date', 'ordersPerDateB', 'revenuePerDateB']\n",
    "\n",
    "ordersBCummulative = ordersBDaily.apply(\n",
    "    lambda x: ordersBDaily[ordersBDaily['date'] <= x['date']].agg(\n",
    "        {'date': 'max', 'ordersPerDateB': 'sum', 'revenuePerDateB': 'sum'}\n",
    "    ),\n",
    "    axis=1,\n",
    ").sort_values(by=['date'])\n",
    "ordersBCummulative.columns = [\n",
    "    'date',\n",
    "    'ordersCummulativeB',\n",
    "    'revenueCummulativeB',\n",
    "]\n",
    "\n",
    "data = (\n",
    "    ordersADaily.merge(\n",
    "        ordersBDaily, left_on='date', right_on='date', how='left'\n",
    "    )\n",
    "    .merge(ordersACummulative, left_on='date', right_on='date', how='left')\n",
    "    .merge(ordersBCummulative, left_on='date', right_on='date', how='left')\n",
    "    .merge(visitorsADaily, left_on='date', right_on='date', how='left')\n",
    "    .merge(visitorsBDaily, left_on='date', right_on='date', how='left')\n",
    "    .merge(visitorsACummulative, left_on='date', right_on='date', how='left')\n",
    "    .merge(visitorsBCummulative, left_on='date', right_on='date', how='left')\n",
    ")\n",
    "\n",
    "print(data.head(5))"
   ]
  },
  {
   "cell_type": "code",
   "execution_count": 24,
   "metadata": {},
   "outputs": [
    {
     "name": "stdout",
     "output_type": "stream",
     "text": [
      "\n",
      "P-value:  0.011\n",
      "Относительный прирост:  0.160\n"
     ]
    }
   ],
   "source": [
    "ordersByUsersA = (\n",
    "    orders[orders['group'] == 'A']\n",
    "    .groupby('visitorid', as_index=False)\n",
    "    .agg({'transactionid': pd.Series.nunique})\n",
    ")\n",
    "\n",
    "ordersByUsersA.columns = ['userId', 'orders']\n",
    "\n",
    "ordersByUsersB = (\n",
    "    orders[orders['group'] == 'B']\n",
    "    .groupby('visitorid', as_index=False)\n",
    "    .agg({'transactionid': pd.Series.nunique})\n",
    ")\n",
    "ordersByUsersB.columns = ['userId', 'orders']\n",
    "\n",
    "pd.Series(0, index=np.arange(data['visitorsPerDateA'].sum() - len(ordersByUsersA['orders'])), name='orders')\n",
    "[ordersByUsersA['orders'],pd.Series(0, index=np.arange(data['visitorsPerDateA'].sum() - len(ordersByUsersA['orders'])), name='orders')]\n",
    "sampleA = pd.concat([ordersByUsersA['orders'],pd.Series(0, index=np.arange(data['visitorsPerDateA'].sum() - len(ordersByUsersA['orders'])), name='orders')],axis=0)\n",
    "\n",
    "sampleB = pd.concat([ordersByUsersB['orders'],pd.Series(0, index=np.arange(data['visitorsPerDateB'].sum() - len(ordersByUsersB['orders'])), name='orders')],axis=0)\n",
    "\n",
    "ordersByUsersA = (\n",
    "    orders[orders['group'] == 'A']\n",
    "    .groupby('visitorid', as_index=False)\n",
    "    .agg({'transactionid': pd.Series.nunique})\n",
    ")\n",
    "ordersByUsersA.columns = ['userId', 'orders']\n",
    "\n",
    "ordersByUsersB = (\n",
    "    orders[orders['group'] == 'B']\n",
    "    .groupby('visitorid', as_index=False)\n",
    "    .agg({'transactionid': pd.Series.nunique})\n",
    ")\n",
    "ordersByUsersB.columns = ['userId', 'orders']\n",
    "\n",
    "sampleA = pd.concat(\n",
    "    [\n",
    "        ordersByUsersA['orders'],\n",
    "        pd.Series(\n",
    "            0,\n",
    "            index=np.arange(\n",
    "                data['visitorsPerDateA'].sum() - len(ordersByUsersA['orders'])\n",
    "            ),\n",
    "            name='orders',\n",
    "        ),\n",
    "    ],\n",
    "    axis=0,\n",
    ")\n",
    "\n",
    "sampleB = pd.concat(\n",
    "    [\n",
    "        ordersByUsersB['orders'],\n",
    "        pd.Series(\n",
    "            0,\n",
    "            index=np.arange(\n",
    "                data['visitorsPerDateB'].sum() - len(ordersByUsersB['orders'])\n",
    "            ),\n",
    "            name='orders',\n",
    "        ),\n",
    "    ],\n",
    "    axis=0,\n",
    ")\n",
    "print()\n",
    "print('P-value: ', \"{0:.3f}\".format(stats.mannwhitneyu(sampleA, sampleB)[1]))\n",
    "\n",
    "print('Относительный прирост: ', \"{0:.3f}\".format(sampleB.mean() / sampleA.mean() - 1))"
   ]
  },
  {
   "cell_type": "markdown",
   "metadata": {},
   "source": [
    "<div class=\"alert alert-block alert-danger\">\n",
    "    \n",
    "**Комментарий ревьювера (недочет, который нужно доработать)**\n",
    "    \n",
    "Ячейку нужно разбить на несколько по смыслу выполняемых задач. Сбор данных и проверка гипотез отдельные действия.\n",
    "\n",
    "</div>"
   ]
  },
  {
   "cell_type": "markdown",
   "metadata": {},
   "source": [
    "<div class=\"alert alert-block alert-warning\">\n",
    "\n",
    "**Комментарий ревьювера v2 (что можно улучшить)**\n",
    "    \n",
    "Не нужно снова собирать кумулятивные даннык. Перед анализом графиков ты уже собрал их в cumulativeData.\n",
    "\n",
    "</div>"
   ]
  },
  {
   "cell_type": "markdown",
   "metadata": {},
   "source": [
    "<div class=\"alert alert-block alert-warning\">\n",
    "\n",
    "**Комментарий ревьювера (что можно улучшить)**\n",
    "    \n",
    "Рекомендую обозначать, что именно рассчитано – где p-value, а где относительный прирост.\n",
    "</div>"
   ]
  },
  {
   "cell_type": "markdown",
   "metadata": {},
   "source": [
    "Вывод:\n",
    "P-value значительно меньше 0.05, потому нулевую гипотезу отвергаем. Анализ «сырых данных» сообщает, что в среднем количестве заказов между группами есть статистически значимые различия. Относительный прирост среднего группы B к конверсии группы A равен 13.8%."
   ]
  },
  {
   "cell_type": "markdown",
   "metadata": {},
   "source": [
    "<div class=\"alert alert-block alert-success\">\n",
    "\n",
    "**Комментарий ревьювера (все отлично)**\n",
    "    \n",
    "Согласен. Группа B лучше по результатам.\n",
    "</div>"
   ]
  },
  {
   "cell_type": "markdown",
   "metadata": {},
   "source": [
    "11. Посчитайте статистическую значимость различий в среднем чеке заказа между группами по «сырым» данным.\n",
    "Нулевая гипотеза: различий в среднем чеке между группами нет. \n",
    "Альтернативная гипотеза: различия в среднем чеке между группами есть. \n",
    "Чтобы рассчитать статистическую значимость различий в среднем чеке, передадим критерию mannwhitneyu() данные о выручке с заказов. "
   ]
  },
  {
   "cell_type": "code",
   "execution_count": 25,
   "metadata": {},
   "outputs": [
    {
     "name": "stdout",
     "output_type": "stream",
     "text": [
      "P-value:  0.829\n",
      "Относительный прирост:  0.287\n"
     ]
    }
   ],
   "source": [
    "print('P-value: ', '{0:.3f}'.format(stats.mannwhitneyu(orders[orders['group']=='A']['revenue'], orders[orders['group']=='B']['revenue'])[1]))\n",
    "print('Относительный прирост: ', '{0:.3f}'.format(orders[orders['group']=='B']['revenue'].mean()/orders[orders['group']=='A']['revenue'].mean()-1))"
   ]
  },
  {
   "cell_type": "markdown",
   "metadata": {},
   "source": [
    "Вывод:\n",
    "P-value значительно больше 0.05. Значит, причин отвергать нулевую гипотезу и считать, что в среднем чеке есть различия, нет. Не смотря на это средний чек группы B значительно выше среднего чека группы A (на 25.9%)."
   ]
  },
  {
   "cell_type": "markdown",
   "metadata": {},
   "source": [
    "<div class=\"alert alert-block alert-success\">\n",
    "\n",
    "**Комментарий ревьювера (все отлично)**\n",
    "    \n",
    "Ты верно сделал вывод, что статистически значимых различий в среднем чеке нет.\n",
    "</div>"
   ]
  },
  {
   "cell_type": "markdown",
   "metadata": {},
   "source": [
    "12. Посчитайте статистическую значимость различий в среднем количестве заказов на посетителя между группами по «очищенным» данным.\n",
    "\n",
    "Приступаем к подготовке очищенных от аномалий данных.\n",
    "95-й и 99-й перцентили средних чеков равны 28000 и 58233 рублям.\n",
    "95-й и 99-й перцентили числа заказов на одного пользователя равны 2 и 4 заказам на пользователя. \n",
    "Примите за аномальных пользователей тех, кто совершил 4 заказа и более, или совершил заказ на сумму свыше 30 000 рублей. Так мы уберём 1% пользователей с наибольшим числом заказов и от 1% до 5% заказов с наибольшей стоимостью.\n",
    "Удалять нужно именно пользователей — сначала определить аномальные заказы. Затем пользователей, совершивших их, и добавить их в список аномальных. \n",
    "Сделаем срезы пользователей с числом заказов больше 3 — usersWithManyOrders и пользователей, совершивших заказы дороже 30 000 — usersWithExpensiveOrders. Объединим их в таблице abnormalUsers, удалим дубликаты, отсортируем по возрастанию. \n",
    "Выведем первые 5 строк переменной abnormalUsers."
   ]
  },
  {
   "cell_type": "code",
   "execution_count": 26,
   "metadata": {},
   "outputs": [
    {
     "name": "stdout",
     "output_type": "stream",
     "text": [
      "1099    148427295\n",
      "928     204675465\n",
      "684     358944393\n",
      "648     382846391\n",
      "751     689129267\n",
      "dtype: int64\n"
     ]
    },
    {
     "data": {
      "text/plain": [
       "42"
      ]
     },
     "execution_count": 26,
     "metadata": {},
     "output_type": "execute_result"
    }
   ],
   "source": [
    "usersWithManyOrders = pd.concat(\n",
    "    [\n",
    "        ordersByUsersA[ordersByUsersA['orders'] > 4]['userId'],\n",
    "        ordersByUsersB[ordersByUsersB['orders'] > 4]['userId'],\n",
    "    ],\n",
    "    axis=0,\n",
    ")\n",
    "usersWithExpensiveOrders = orders[orders['revenue'] > 30000]['visitorid']  \n",
    "abnormalUsers = (\n",
    "    pd.concat([usersWithManyOrders, usersWithExpensiveOrders], axis=0)\n",
    "    .drop_duplicates()\n",
    "    .sort_values()\n",
    ")\n",
    "print(abnormalUsers.head(5))\n",
    "abnormalUsers.shape[0]"
   ]
  },
  {
   "cell_type": "markdown",
   "metadata": {},
   "source": [
    "<div class=\"alert alert-block alert-success\">\n",
    "\n",
    "**Комментарий ревьювера (все отлично)**\n",
    "    \n",
    "Здорово, что посчитал аномальных пользователей. Это важно для оценки и контроля данных после фильтрации.\n",
    "    \n",
    "</div>"
   ]
  },
  {
   "cell_type": "markdown",
   "metadata": {},
   "source": [
    "<div class=\"alert alert-block alert-warning\">\n",
    "\n",
    "**Комментарий ревьювера (что можно улучшить)**\n",
    "    \n",
    "Стоит исключить ручной ввод данных, такой код неустойчив к изменениям исходных данных. Вместо этого лучше использовать перцентили:\n",
    "    \n",
    "    int(np.percentile(orders['revenue'], [95])) \n",
    "</div>"
   ]
  },
  {
   "cell_type": "code",
   "execution_count": 27,
   "metadata": {},
   "outputs": [
    {
     "data": {
      "text/plain": [
       "26785"
      ]
     },
     "execution_count": 27,
     "metadata": {},
     "output_type": "execute_result"
    }
   ],
   "source": [
    "# извини, я не понял к чему это... объясни, пожалуйста.\n",
    "int(np.percentile(orders['revenue'], [95]))"
   ]
  },
  {
   "cell_type": "markdown",
   "metadata": {},
   "source": [
    "Теперь у вас есть множество (42) аномальных пользователей. После их удаления будет пора считать статистическую значимость. Надо выяснить, есть ли существенные различия между группами с очищенными данными.\n",
    "\n",
    "Создадим переменные sampleAFiltered и sampleBFiltered, в которых сохраним очищенные данные о заказах — не включая аномальных пользователей. \n",
    "Выведем p-value для сравнения среднего между очищенными группами. Округлии p-value до трёх знаков после запятой. \n",
    "Выведем относительный прирост среднего очищенной группы B, округлив до трёх знаков после запятой."
   ]
  },
  {
   "cell_type": "code",
   "execution_count": 28,
   "metadata": {},
   "outputs": [
    {
     "name": "stdout",
     "output_type": "stream",
     "text": [
      "P-value:  0.013\n",
      "Относительный прирост:  0.161\n"
     ]
    }
   ],
   "source": [
    "sampleAFiltered = pd.concat(\n",
    "    [\n",
    "        ordersByUsersA[\n",
    "            np.logical_not(ordersByUsersA['userId'].isin(abnormalUsers))\n",
    "        ]['orders'],\n",
    "        pd.Series(\n",
    "            0,\n",
    "            index=np.arange(\n",
    "                data['visitorsPerDateA'].sum() - len(ordersByUsersA['orders'])\n",
    "            ),\n",
    "            name='orders',\n",
    "        ),\n",
    "    ],\n",
    "    axis=0,\n",
    ")\n",
    "sampleBFiltered = pd.concat(\n",
    "    [\n",
    "        ordersByUsersB[\n",
    "            np.logical_not(ordersByUsersB['userId'].isin(abnormalUsers))\n",
    "        ]['orders'],\n",
    "        pd.Series(\n",
    "            0,\n",
    "            index=np.arange(\n",
    "                data['visitorsPerDateB'].sum() - len(ordersByUsersB['orders'])\n",
    "            ),\n",
    "            name='orders',\n",
    "        ),\n",
    "    ],\n",
    "    axis=0,\n",
    ")\n",
    "print('P-value: ', '{0:.3f}'.format(stats.mannwhitneyu(sampleAFiltered, sampleBFiltered)[1]))\n",
    "print('Относительный прирост: ', '{0:.3f}'.format(sampleBFiltered.mean()/sampleAFiltered.mean()-1))"
   ]
  },
  {
   "cell_type": "markdown",
   "metadata": {},
   "source": [
    "Вывод:\n",
    "Как и в случае с сырыми данными, статистическая значимость достигнута. Сегмент B лучше сегмента A."
   ]
  },
  {
   "cell_type": "markdown",
   "metadata": {},
   "source": [
    "<div class=\"alert alert-block alert-success\">\n",
    "\n",
    "**Комментарий ревьювера (все отлично)**\n",
    "    \n",
    "Всё верно, значимые различия по-прежнему есть.\n",
    "    \n",
    "</div>"
   ]
  },
  {
   "cell_type": "markdown",
   "metadata": {},
   "source": [
    "13. Посчитаем статистическую значимость различий в среднем чеке заказа между группами по «очищенным» данным. \n",
    "Выведем p-value для сравнения средних чеков между очищенными группами. \n",
    "Округлим p-value до трёх знаков после запятой. \n",
    "Выведем относительный прирост среднего чека очищенной группы B, округлив до трёх знаков после запятой."
   ]
  },
  {
   "cell_type": "code",
   "execution_count": 29,
   "metadata": {},
   "outputs": [
    {
     "name": "stdout",
     "output_type": "stream",
     "text": [
      "P-value:  0.842\n",
      "Относительный прирост:  -0.031\n"
     ]
    }
   ],
   "source": [
    "print('P-value: ', \n",
    "    '{0:.3f}'.format(\n",
    "        stats.mannwhitneyu(\n",
    "            orders[\n",
    "                np.logical_and(\n",
    "                    orders['group'] == 'A',\n",
    "                    np.logical_not(orders['visitorid'].isin(abnormalUsers)),\n",
    "                )\n",
    "            ]['revenue'],\n",
    "            orders[\n",
    "                np.logical_and(\n",
    "                    orders['group'] == 'B',\n",
    "                    np.logical_not(orders['visitorid'].isin(abnormalUsers)),\n",
    "                )\n",
    "            ]['revenue'],\n",
    "        )[1]\n",
    "    )\n",
    ")\n",
    "\n",
    "print('Относительный прирост: ', \n",
    "    \"{0:.3f}\".format(\n",
    "        orders[\n",
    "            np.logical_and(\n",
    "                orders['group'] == 'B',\n",
    "                np.logical_not(orders['visitorid'].isin(abnormalUsers)),\n",
    "            )\n",
    "        ]['revenue'].mean()\n",
    "        / orders[\n",
    "            np.logical_and(\n",
    "                orders['group'] == 'A',\n",
    "                np.logical_not(orders['visitorid'].isin(abnormalUsers)),\n",
    "            )\n",
    "        ]['revenue'].mean()\n",
    "        - 1\n",
    "    )\n",
    ")"
   ]
  },
  {
   "cell_type": "markdown",
   "metadata": {},
   "source": [
    "Не получилось отвергнуть нулевую гипотезу, нет оснований считать группы разными.\n",
    "По разнице средних чеков групп различий практически нет.\n",
    "\n",
    "Примимаем решение:\n",
    "Остановить тест, зафиксировать победу группы В.\n"
   ]
  },
  {
   "cell_type": "markdown",
   "metadata": {},
   "source": [
    "<div class=\"alert alert-block alert-success\">\n",
    "\n",
    "**Комментарий ревьювера (все отлично)**\n",
    "    \n",
    "Согласен с выводом. После очистки значимых отличий по среднему чеку не появилось.\n",
    "</div>"
   ]
  },
  {
   "cell_type": "markdown",
   "metadata": {},
   "source": [
    "Вывод:\n",
    "1. Предобраотка данных:\n",
    "  - Получена информация о таблицах\n",
    "  - Имена столбцов приведены к нижнему регистру, пробелы заменены '_'\n",
    "  - Пропуски, дубликаты отсутсвуют\n",
    "  - Даты приведены к соответствующему формату\n",
    "  - Данные готовы к дальнейшей обработке.\n",
    "\n",
    "2. Приоритизация гипотез. Применили 2 подхода: \n",
    " - фреймворк ICE \n",
    " - фреймворк RICE\n",
    "Приняли решение проанализировать гипотезу №7 \"Добавить форму подписки на все основные страницы\"\n",
    "\n",
    "3. Анализ A/B-теста\n",
    "  - Построили график кумулятивной выручки по группам.\n",
    "  В середине теста сегмент B вырвался вперёд и продолжал лидировать весь остаток теста. Похоже, что аномально большие заказы всё-таки влияют на результаты\n",
    "  - Построили график кумулятивного среднего чека по группам\n",
    "  Кумулятивное значение среднего чека по сегментам продолжает колебаться. Скорее всего, принимать решение по этой метрике рано. Или требуется дополнительный анализ выбросов, которые так сильно искажают результаты.\n",
    "  - Построили график относительного изменения кумулятивного среднего чека группы B к группе A\n",
    "  Результаты теста значительно и резко менялись в несколько дат. Видимо, именно тогда были совершены аномальные заказы.\n",
    "  - Построили график кумулятивного среднего количества заказов на посетителя по группам\n",
    "  В начале теста сегмент A имел большее кумулятивное среднее количество заказов, но постепенно сегмент B выровнялся и зафиксировался примерно около одного значения, больше значения сегмента A.\n",
    "  - Построили график относительного изменения кумулятивного среднего количества заказов на посетителя группы B к группе A\n",
    "  В начале теста группа В проигрывала группе А, но затем вырвалась вперед и сохранила лидерство до окончания тестирования.\n",
    "  - Построили точечный график количества заказов по пользователям. \n",
    "  Много пользователей с 2-4 заказами. Их точная доля не ясна — непонятно, считать их аномалиями или нет.\n",
    "  - Посчитали 95-й и 99-й перцентили количества заказов на пользователя.\n",
    "  Не более 5% пользователей оформляли больше чем 2 заказа. Разумно выбрать 3 заказа на одного пользователя за верхнюю границу числа заказов, и отсеять аномальных пользователей по ней.\n",
    "  - Построили точечный график стоимостей заказов. \n",
    "  Есть 2 выброса, один на 1.3млн! Второй меньше, на 20тр. Основнаяя масса стоимостей заказов находится в районе до 10тр.\n",
    "  - Посчитали 95-й и 99-й перцентили стоимости заказов.\n",
    "  Определили границу по величине 99% перцентиля (58233).\n",
    "  - Посчитали статистическую значимость различий в среднем количестве заказов на посетителя между группами по «сырым» данным.\n",
    "  Сформулировали гипотезы: \n",
    "Нулевая: различий в среднем количестве заказов между группами нет. \n",
    "Альтернативная: различия в среднем между группами есть.\n",
    "  Сделали вывод: P-value значительно меньше 0.05, потому нулевую гипотезу отвергаем. Анализ «сырых данных» сообщает, что в среднем количестве заказов между группами есть статистически значимые различия. Относительный прирост среднего группы B к конверсии группы A равен 13.8%.\n",
    "  - Посчитали статистическую значимость различий в среднем чеке заказа между группами по «сырым» данным. \n",
    "  Сформулировали гипотезы:\n",
    "Нулевая гипотеза: различий в среднем чеке между группами нет. \n",
    "Альтернативная гипотеза: различия в среднем чеке между группами есть.\n",
    "  Сделали вывод: P-value значительно больше 0.05. Значит, причин отвергать нулевую гипотезу и считать, что в среднем чеке есть различия, нет. Не смотря на это средний чек группы B значительно выше среднего чека группы A (на 25.9%).\n",
    "  - Посчитали статистическую значимость различий в среднем количестве заказов на посетителя между группами по «очищенным» данным.\n",
    "  Сформулировали гипотезы:\n",
    "Нулевая гипотеза: различий в среднем чеке между группами нет. \n",
    "Альтернативная гипотеза: различия в среднем чеке между группами есть.\n",
    "  Сделали вывод: Как и в случае с сырыми данными, статистическая значимость достигнута. Сегмент B лучше сегмента A.\n",
    "  - Посчитали статистическую значимость различий в среднем чеке заказа между группами по «очищенным» данным.\n",
    "  Сформулировали гипотезы:\n",
    "Нулевая гипотеза: различий в среднем чеке между группами нет. \n",
    "Альтернативная гипотеза: различия в среднем чеке между группами есть.\n",
    "  Сделали вывод: Не получилось отвергнуть нулевую гипотезу, нет оснований считать группы разными. По разнице средних чеков групп различий практически нет.\n",
    "  ВЫВОД:\n",
    "  Примимаем решение:\n",
    "  Остановить тест, зафиксировать победу группы В. Так как группа В демонстрирует прирост как с \"сырими\" данными, так и с \"очищенными\"."
   ]
  },
  {
   "cell_type": "markdown",
   "metadata": {},
   "source": [
    "<div class=\"alert alert-block alert-success\">\n",
    "\n",
    "**Комментарий ревьювера (все отлично)**\n",
    "    \n",
    "Согласен с решением. Тест прошел успешно! Среднее количество заказов увеличилось при отсутствии значимых изменений по среднему чеку -> выручка увеличилась, так как стали покупать чаще.\n",
    "</div>"
   ]
  },
  {
   "cell_type": "markdown",
   "metadata": {},
   "source": [
    "<div class=\"alert alert-block alert-warning\">\n",
    "\n",
    "**Комментарий ревьювера (общий вывод)**\n",
    "    \n",
    "Владимир, мне понравилась твоя работа! Выводы хорошо структурированы и достаточно содержательны, умеешь считать перцентили, собирать и визуализировать данные, качественно проводишь проверку гипотез. Спасибо за четкие комментарии по результатам исследования, аккуратный код и качественное оформление отчета! Это упростило проверку. Для принятия твоей работы нужно исправить критические недочёты:\n",
    "    \n",
    "\n",
    "* проверить пересечение групп;\n",
    "* оформить графики;\n",
    "* построить график относительного изменения кумулятивного среднего количества заказов на посетителя группы B к группе A;\n",
    "* оптимизировать код, где требуется.\n",
    "    \n",
    "В дополнении прикрепляю полезный материал по теме A/B-тестирования: \n",
    "\n",
    "* https://your-scorpion.ru/ab-tests-check-mathematics/\n",
    "    \n",
    "Жду твою работу!\n",
    "  \n",
    "</div>"
   ]
  },
  {
   "cell_type": "code",
   "execution_count": null,
   "metadata": {},
   "outputs": [],
   "source": []
  }
 ],
 "metadata": {
  "ExecuteTimeLog": [
   {
    "duration": 63,
    "start_time": "2024-11-08T17:13:23.067Z"
   },
   {
    "duration": 1251,
    "start_time": "2024-11-08T17:14:10.924Z"
   },
   {
    "duration": 226,
    "start_time": "2024-11-08T17:14:12.177Z"
   },
   {
    "duration": 73,
    "start_time": "2024-11-08T17:14:16.315Z"
   },
   {
    "duration": 103,
    "start_time": "2024-11-08T17:16:02.721Z"
   },
   {
    "duration": 1088,
    "start_time": "2024-11-08T17:16:26.545Z"
   },
   {
    "duration": 75,
    "start_time": "2024-11-08T17:16:27.635Z"
   },
   {
    "duration": 48,
    "start_time": "2024-11-08T17:16:27.711Z"
   },
   {
    "duration": 97,
    "start_time": "2024-11-08T17:39:32.643Z"
   },
   {
    "duration": 1034,
    "start_time": "2024-11-08T17:39:37.543Z"
   },
   {
    "duration": 76,
    "start_time": "2024-11-08T17:39:38.579Z"
   },
   {
    "duration": 50,
    "start_time": "2024-11-08T17:39:38.656Z"
   },
   {
    "duration": 106,
    "start_time": "2024-11-08T17:39:38.707Z"
   },
   {
    "duration": 31,
    "start_time": "2024-11-08T17:39:57.208Z"
   },
   {
    "duration": 6,
    "start_time": "2024-11-08T17:40:46.591Z"
   },
   {
    "duration": 10,
    "start_time": "2024-11-08T17:54:02.261Z"
   },
   {
    "duration": 1106,
    "start_time": "2024-11-08T17:54:07.183Z"
   },
   {
    "duration": 74,
    "start_time": "2024-11-08T17:54:08.291Z"
   },
   {
    "duration": 45,
    "start_time": "2024-11-08T17:54:08.366Z"
   },
   {
    "duration": 5,
    "start_time": "2024-11-08T17:54:08.412Z"
   },
   {
    "duration": 102,
    "start_time": "2024-11-08T17:54:08.419Z"
   },
   {
    "duration": 0,
    "start_time": "2024-11-08T17:54:08.523Z"
   },
   {
    "duration": 9,
    "start_time": "2024-11-08T17:54:20.908Z"
   },
   {
    "duration": 8,
    "start_time": "2024-11-08T17:54:29.748Z"
   },
   {
    "duration": 11,
    "start_time": "2024-11-08T18:01:38.324Z"
   },
   {
    "duration": 53,
    "start_time": "2024-11-08T18:02:19.754Z"
   },
   {
    "duration": 42,
    "start_time": "2024-11-08T18:02:35.598Z"
   },
   {
    "duration": 6,
    "start_time": "2024-11-08T18:45:54.167Z"
   },
   {
    "duration": 23,
    "start_time": "2024-11-08T18:48:24.801Z"
   },
   {
    "duration": 1087,
    "start_time": "2024-11-08T18:48:30.781Z"
   },
   {
    "duration": 74,
    "start_time": "2024-11-08T18:48:31.869Z"
   },
   {
    "duration": 42,
    "start_time": "2024-11-08T18:48:31.944Z"
   },
   {
    "duration": 5,
    "start_time": "2024-11-08T18:48:31.987Z"
   },
   {
    "duration": 10,
    "start_time": "2024-11-08T18:48:31.995Z"
   },
   {
    "duration": 11,
    "start_time": "2024-11-08T18:48:32.006Z"
   },
   {
    "duration": 5,
    "start_time": "2024-11-08T18:48:32.019Z"
   },
   {
    "duration": 123,
    "start_time": "2024-11-08T18:48:32.026Z"
   },
   {
    "duration": 159,
    "start_time": "2024-11-08T18:51:42.023Z"
   },
   {
    "duration": 108,
    "start_time": "2024-11-08T18:54:16.445Z"
   },
   {
    "duration": 6,
    "start_time": "2024-11-08T18:56:20.968Z"
   },
   {
    "duration": 3,
    "start_time": "2024-11-08T18:57:24.854Z"
   },
   {
    "duration": 9,
    "start_time": "2024-11-08T18:58:04.662Z"
   },
   {
    "duration": 238,
    "start_time": "2024-11-08T19:02:12.072Z"
   },
   {
    "duration": 133,
    "start_time": "2024-11-08T19:04:25.819Z"
   },
   {
    "duration": 158,
    "start_time": "2024-11-08T19:04:34.225Z"
   },
   {
    "duration": 146,
    "start_time": "2024-11-08T19:05:50.939Z"
   },
   {
    "duration": 238,
    "start_time": "2024-11-08T19:07:09.709Z"
   },
   {
    "duration": 146,
    "start_time": "2024-11-08T19:07:31.445Z"
   },
   {
    "duration": 138,
    "start_time": "2024-11-08T19:08:11.932Z"
   },
   {
    "duration": 211,
    "start_time": "2024-11-08T19:08:28.453Z"
   },
   {
    "duration": 145,
    "start_time": "2024-11-08T19:08:57.626Z"
   },
   {
    "duration": 147,
    "start_time": "2024-11-08T19:09:03.863Z"
   },
   {
    "duration": 242,
    "start_time": "2024-11-08T19:09:17.632Z"
   },
   {
    "duration": 150,
    "start_time": "2024-11-08T19:09:33.158Z"
   },
   {
    "duration": 266,
    "start_time": "2024-11-08T19:17:47.078Z"
   },
   {
    "duration": 161,
    "start_time": "2024-11-08T19:18:08.006Z"
   },
   {
    "duration": 177,
    "start_time": "2024-11-08T19:18:22.272Z"
   },
   {
    "duration": 162,
    "start_time": "2024-11-08T19:18:39.640Z"
   },
   {
    "duration": 197,
    "start_time": "2024-11-08T19:18:52.789Z"
   },
   {
    "duration": 166,
    "start_time": "2024-11-08T19:19:26.537Z"
   },
   {
    "duration": 1087,
    "start_time": "2024-11-08T19:24:22.896Z"
   },
   {
    "duration": 74,
    "start_time": "2024-11-08T19:24:23.986Z"
   },
   {
    "duration": 45,
    "start_time": "2024-11-08T19:24:24.061Z"
   },
   {
    "duration": 5,
    "start_time": "2024-11-08T19:24:24.108Z"
   },
   {
    "duration": 11,
    "start_time": "2024-11-08T19:24:24.114Z"
   },
   {
    "duration": 11,
    "start_time": "2024-11-08T19:24:24.129Z"
   },
   {
    "duration": 13,
    "start_time": "2024-11-08T19:24:24.141Z"
   },
   {
    "duration": 183,
    "start_time": "2024-11-08T19:24:24.155Z"
   },
   {
    "duration": 119,
    "start_time": "2024-11-08T19:24:24.340Z"
   },
   {
    "duration": 6,
    "start_time": "2024-11-08T19:24:24.461Z"
   },
   {
    "duration": 20,
    "start_time": "2024-11-08T19:24:24.468Z"
   },
   {
    "duration": 280,
    "start_time": "2024-11-08T19:24:24.490Z"
   },
   {
    "duration": 1148,
    "start_time": "2024-11-08T19:24:53.602Z"
   },
   {
    "duration": 74,
    "start_time": "2024-11-08T19:24:54.752Z"
   },
   {
    "duration": 54,
    "start_time": "2024-11-08T19:24:54.827Z"
   },
   {
    "duration": 5,
    "start_time": "2024-11-08T19:24:54.882Z"
   },
   {
    "duration": 26,
    "start_time": "2024-11-08T19:24:54.889Z"
   },
   {
    "duration": 10,
    "start_time": "2024-11-08T19:24:54.916Z"
   },
   {
    "duration": 10,
    "start_time": "2024-11-08T19:24:54.927Z"
   },
   {
    "duration": 185,
    "start_time": "2024-11-08T19:24:54.939Z"
   },
   {
    "duration": 111,
    "start_time": "2024-11-08T19:24:55.125Z"
   },
   {
    "duration": 5,
    "start_time": "2024-11-08T19:24:55.238Z"
   },
   {
    "duration": 17,
    "start_time": "2024-11-08T19:24:55.244Z"
   },
   {
    "duration": 244,
    "start_time": "2024-11-08T19:24:55.262Z"
   },
   {
    "duration": 51,
    "start_time": "2024-11-09T06:44:48.607Z"
   },
   {
    "duration": 1404,
    "start_time": "2024-11-09T06:44:52.860Z"
   },
   {
    "duration": 231,
    "start_time": "2024-11-09T06:44:54.266Z"
   },
   {
    "duration": 57,
    "start_time": "2024-11-09T06:44:54.499Z"
   },
   {
    "duration": 5,
    "start_time": "2024-11-09T06:44:54.558Z"
   },
   {
    "duration": 15,
    "start_time": "2024-11-09T06:44:54.565Z"
   },
   {
    "duration": 38,
    "start_time": "2024-11-09T06:44:54.581Z"
   },
   {
    "duration": 5,
    "start_time": "2024-11-09T06:44:54.620Z"
   },
   {
    "duration": 206,
    "start_time": "2024-11-09T06:44:54.627Z"
   },
   {
    "duration": 128,
    "start_time": "2024-11-09T06:44:54.835Z"
   },
   {
    "duration": 5,
    "start_time": "2024-11-09T06:44:54.965Z"
   },
   {
    "duration": 16,
    "start_time": "2024-11-09T06:44:54.972Z"
   },
   {
    "duration": 287,
    "start_time": "2024-11-09T06:44:54.990Z"
   },
   {
    "duration": 192,
    "start_time": "2024-11-09T06:45:14.734Z"
   },
   {
    "duration": 204,
    "start_time": "2024-11-09T06:45:27.888Z"
   },
   {
    "duration": 172,
    "start_time": "2024-11-09T06:50:15.959Z"
   },
   {
    "duration": 216,
    "start_time": "2024-11-09T06:50:57.211Z"
   },
   {
    "duration": 292,
    "start_time": "2024-11-09T06:56:19.143Z"
   },
   {
    "duration": 304,
    "start_time": "2024-11-09T06:56:43.293Z"
   },
   {
    "duration": 353,
    "start_time": "2024-11-09T06:57:06.968Z"
   },
   {
    "duration": 287,
    "start_time": "2024-11-09T07:32:54.125Z"
   },
   {
    "duration": 1233,
    "start_time": "2024-11-09T07:32:58.819Z"
   },
   {
    "duration": 77,
    "start_time": "2024-11-09T07:33:00.054Z"
   },
   {
    "duration": 56,
    "start_time": "2024-11-09T07:33:00.132Z"
   },
   {
    "duration": 21,
    "start_time": "2024-11-09T07:33:00.189Z"
   },
   {
    "duration": 40,
    "start_time": "2024-11-09T07:33:00.212Z"
   },
   {
    "duration": 63,
    "start_time": "2024-11-09T07:33:00.254Z"
   },
   {
    "duration": 15,
    "start_time": "2024-11-09T07:33:00.319Z"
   },
   {
    "duration": 210,
    "start_time": "2024-11-09T07:33:00.336Z"
   },
   {
    "duration": 124,
    "start_time": "2024-11-09T07:33:00.547Z"
   },
   {
    "duration": 6,
    "start_time": "2024-11-09T07:33:00.673Z"
   },
   {
    "duration": 19,
    "start_time": "2024-11-09T07:33:00.680Z"
   },
   {
    "duration": 319,
    "start_time": "2024-11-09T07:33:00.701Z"
   },
   {
    "duration": 208,
    "start_time": "2024-11-09T07:33:01.022Z"
   },
   {
    "duration": 277,
    "start_time": "2024-11-09T07:33:01.233Z"
   },
   {
    "duration": 321,
    "start_time": "2024-11-09T07:33:01.512Z"
   },
   {
    "duration": 1217,
    "start_time": "2024-11-09T07:34:34.754Z"
   },
   {
    "duration": 78,
    "start_time": "2024-11-09T07:34:35.973Z"
   },
   {
    "duration": 54,
    "start_time": "2024-11-09T07:34:36.053Z"
   },
   {
    "duration": 6,
    "start_time": "2024-11-09T07:34:36.109Z"
   },
   {
    "duration": 56,
    "start_time": "2024-11-09T07:34:36.117Z"
   },
   {
    "duration": 44,
    "start_time": "2024-11-09T07:34:36.175Z"
   },
   {
    "duration": 42,
    "start_time": "2024-11-09T07:34:36.221Z"
   },
   {
    "duration": 216,
    "start_time": "2024-11-09T07:34:36.265Z"
   },
   {
    "duration": 122,
    "start_time": "2024-11-09T07:34:36.483Z"
   },
   {
    "duration": 6,
    "start_time": "2024-11-09T07:34:36.606Z"
   },
   {
    "duration": 11,
    "start_time": "2024-11-09T07:34:36.617Z"
   },
   {
    "duration": 283,
    "start_time": "2024-11-09T07:34:36.630Z"
   },
   {
    "duration": 207,
    "start_time": "2024-11-09T07:34:36.915Z"
   },
   {
    "duration": 295,
    "start_time": "2024-11-09T07:34:37.125Z"
   },
   {
    "duration": 163,
    "start_time": "2024-11-09T07:34:37.422Z"
   },
   {
    "duration": 197,
    "start_time": "2024-11-09T07:34:54.099Z"
   },
   {
    "duration": 208,
    "start_time": "2024-11-09T07:35:38.832Z"
   },
   {
    "duration": 5,
    "start_time": "2024-11-09T07:40:04.893Z"
   },
   {
    "duration": 418,
    "start_time": "2024-11-09T07:40:16.515Z"
   },
   {
    "duration": 324,
    "start_time": "2024-11-09T07:41:10.878Z"
   },
   {
    "duration": 197,
    "start_time": "2024-11-09T07:41:58.283Z"
   },
   {
    "duration": 12,
    "start_time": "2024-11-09T09:05:06.755Z"
   },
   {
    "duration": 11,
    "start_time": "2024-11-09T09:05:26.952Z"
   },
   {
    "duration": 11,
    "start_time": "2024-11-09T09:05:38.810Z"
   },
   {
    "duration": 124,
    "start_time": "2024-11-09T09:06:25.608Z"
   },
   {
    "duration": 120,
    "start_time": "2024-11-09T09:07:07.290Z"
   },
   {
    "duration": 349,
    "start_time": "2024-11-09T09:07:33.634Z"
   },
   {
    "duration": 342,
    "start_time": "2024-11-09T09:07:51.583Z"
   },
   {
    "duration": 210,
    "start_time": "2024-11-09T09:08:01.290Z"
   },
   {
    "duration": 5,
    "start_time": "2024-11-09T09:13:57.761Z"
   },
   {
    "duration": 6,
    "start_time": "2024-11-09T09:17:04.424Z"
   },
   {
    "duration": 5,
    "start_time": "2024-11-09T09:18:32.992Z"
   },
   {
    "duration": 140,
    "start_time": "2024-11-09T09:43:30.527Z"
   },
   {
    "duration": 1180,
    "start_time": "2024-11-09T12:13:46.859Z"
   },
   {
    "duration": 78,
    "start_time": "2024-11-09T12:13:48.041Z"
   },
   {
    "duration": 51,
    "start_time": "2024-11-09T12:13:48.120Z"
   },
   {
    "duration": 6,
    "start_time": "2024-11-09T12:13:48.173Z"
   },
   {
    "duration": 39,
    "start_time": "2024-11-09T12:13:48.180Z"
   },
   {
    "duration": 11,
    "start_time": "2024-11-09T12:13:48.221Z"
   },
   {
    "duration": 14,
    "start_time": "2024-11-09T12:13:48.234Z"
   },
   {
    "duration": 209,
    "start_time": "2024-11-09T12:13:48.249Z"
   },
   {
    "duration": 138,
    "start_time": "2024-11-09T12:13:48.460Z"
   },
   {
    "duration": 18,
    "start_time": "2024-11-09T12:13:48.600Z"
   },
   {
    "duration": 18,
    "start_time": "2024-11-09T12:13:48.620Z"
   },
   {
    "duration": 280,
    "start_time": "2024-11-09T12:13:48.640Z"
   },
   {
    "duration": 221,
    "start_time": "2024-11-09T12:13:48.921Z"
   },
   {
    "duration": 299,
    "start_time": "2024-11-09T12:13:49.144Z"
   },
   {
    "duration": 229,
    "start_time": "2024-11-09T12:13:49.445Z"
   },
   {
    "duration": 132,
    "start_time": "2024-11-09T12:13:49.676Z"
   },
   {
    "duration": 9,
    "start_time": "2024-11-09T12:13:49.809Z"
   },
   {
    "duration": 138,
    "start_time": "2024-11-09T12:13:49.819Z"
   },
   {
    "duration": 6,
    "start_time": "2024-11-09T12:25:26.229Z"
   },
   {
    "duration": 6,
    "start_time": "2024-11-09T12:25:50.004Z"
   },
   {
    "duration": 5,
    "start_time": "2024-11-09T12:26:13.333Z"
   },
   {
    "duration": 5,
    "start_time": "2024-11-09T12:26:31.523Z"
   },
   {
    "duration": 278,
    "start_time": "2024-11-09T12:43:40.952Z"
   },
   {
    "duration": 1175,
    "start_time": "2024-11-09T12:44:38.277Z"
   },
   {
    "duration": 78,
    "start_time": "2024-11-09T12:44:39.454Z"
   },
   {
    "duration": 58,
    "start_time": "2024-11-09T12:44:39.534Z"
   },
   {
    "duration": 6,
    "start_time": "2024-11-09T12:44:39.594Z"
   },
   {
    "duration": 30,
    "start_time": "2024-11-09T12:44:39.602Z"
   },
   {
    "duration": 12,
    "start_time": "2024-11-09T12:44:39.635Z"
   },
   {
    "duration": 6,
    "start_time": "2024-11-09T12:44:39.649Z"
   },
   {
    "duration": 229,
    "start_time": "2024-11-09T12:44:39.657Z"
   },
   {
    "duration": 146,
    "start_time": "2024-11-09T12:44:39.888Z"
   },
   {
    "duration": 6,
    "start_time": "2024-11-09T12:44:40.036Z"
   },
   {
    "duration": 10,
    "start_time": "2024-11-09T12:44:40.044Z"
   },
   {
    "duration": 296,
    "start_time": "2024-11-09T12:44:40.056Z"
   },
   {
    "duration": 200,
    "start_time": "2024-11-09T12:44:40.354Z"
   },
   {
    "duration": 276,
    "start_time": "2024-11-09T12:44:40.556Z"
   },
   {
    "duration": 216,
    "start_time": "2024-11-09T12:44:40.835Z"
   },
   {
    "duration": 130,
    "start_time": "2024-11-09T12:44:41.053Z"
   },
   {
    "duration": 5,
    "start_time": "2024-11-09T12:44:41.185Z"
   },
   {
    "duration": 141,
    "start_time": "2024-11-09T12:44:41.192Z"
   },
   {
    "duration": 5,
    "start_time": "2024-11-09T12:44:41.335Z"
   },
   {
    "duration": 298,
    "start_time": "2024-11-09T12:44:41.342Z"
   },
   {
    "duration": 127,
    "start_time": "2024-11-09T12:52:45.941Z"
   },
   {
    "duration": 494,
    "start_time": "2024-11-09T12:53:48.480Z"
   },
   {
    "duration": 1215,
    "start_time": "2024-11-09T12:57:36.343Z"
   },
   {
    "duration": 79,
    "start_time": "2024-11-09T12:57:37.568Z"
   },
   {
    "duration": 71,
    "start_time": "2024-11-09T12:57:37.652Z"
   },
   {
    "duration": 8,
    "start_time": "2024-11-09T12:57:37.725Z"
   },
   {
    "duration": 25,
    "start_time": "2024-11-09T12:57:37.735Z"
   },
   {
    "duration": 12,
    "start_time": "2024-11-09T12:57:37.762Z"
   },
   {
    "duration": 16,
    "start_time": "2024-11-09T12:57:37.776Z"
   },
   {
    "duration": 200,
    "start_time": "2024-11-09T12:57:37.794Z"
   },
   {
    "duration": 148,
    "start_time": "2024-11-09T12:57:37.997Z"
   },
   {
    "duration": 6,
    "start_time": "2024-11-09T12:57:38.146Z"
   },
   {
    "duration": 17,
    "start_time": "2024-11-09T12:57:38.154Z"
   },
   {
    "duration": 285,
    "start_time": "2024-11-09T12:57:38.172Z"
   },
   {
    "duration": 198,
    "start_time": "2024-11-09T12:57:38.458Z"
   },
   {
    "duration": 306,
    "start_time": "2024-11-09T12:57:38.658Z"
   },
   {
    "duration": 261,
    "start_time": "2024-11-09T12:57:38.966Z"
   },
   {
    "duration": 151,
    "start_time": "2024-11-09T12:57:39.229Z"
   },
   {
    "duration": 6,
    "start_time": "2024-11-09T12:57:39.382Z"
   },
   {
    "duration": 146,
    "start_time": "2024-11-09T12:57:39.390Z"
   },
   {
    "duration": 6,
    "start_time": "2024-11-09T12:57:39.537Z"
   },
   {
    "duration": 501,
    "start_time": "2024-11-09T12:57:39.545Z"
   },
   {
    "duration": 562,
    "start_time": "2024-11-09T13:04:36.579Z"
   },
   {
    "duration": 1210,
    "start_time": "2024-11-09T13:05:23.329Z"
   },
   {
    "duration": 77,
    "start_time": "2024-11-09T13:05:24.541Z"
   },
   {
    "duration": 54,
    "start_time": "2024-11-09T13:05:24.620Z"
   },
   {
    "duration": 7,
    "start_time": "2024-11-09T13:05:24.675Z"
   },
   {
    "duration": 45,
    "start_time": "2024-11-09T13:05:24.684Z"
   },
   {
    "duration": 16,
    "start_time": "2024-11-09T13:05:24.731Z"
   },
   {
    "duration": 17,
    "start_time": "2024-11-09T13:05:24.749Z"
   },
   {
    "duration": 214,
    "start_time": "2024-11-09T13:05:24.768Z"
   },
   {
    "duration": 136,
    "start_time": "2024-11-09T13:05:24.984Z"
   },
   {
    "duration": 22,
    "start_time": "2024-11-09T13:05:25.121Z"
   },
   {
    "duration": 21,
    "start_time": "2024-11-09T13:05:25.145Z"
   },
   {
    "duration": 293,
    "start_time": "2024-11-09T13:05:25.168Z"
   },
   {
    "duration": 223,
    "start_time": "2024-11-09T13:05:25.463Z"
   },
   {
    "duration": 346,
    "start_time": "2024-11-09T13:05:25.689Z"
   },
   {
    "duration": 217,
    "start_time": "2024-11-09T13:05:26.036Z"
   },
   {
    "duration": 132,
    "start_time": "2024-11-09T13:05:26.255Z"
   },
   {
    "duration": 4,
    "start_time": "2024-11-09T13:05:26.389Z"
   },
   {
    "duration": 147,
    "start_time": "2024-11-09T13:05:26.395Z"
   },
   {
    "duration": 4,
    "start_time": "2024-11-09T13:05:26.543Z"
   },
   {
    "duration": 542,
    "start_time": "2024-11-09T13:05:26.549Z"
   },
   {
    "duration": 620,
    "start_time": "2024-11-09T13:06:02.904Z"
   },
   {
    "duration": 525,
    "start_time": "2024-11-09T13:06:35.145Z"
   },
   {
    "duration": 14,
    "start_time": "2024-11-09T14:19:38.070Z"
   },
   {
    "duration": 10,
    "start_time": "2024-11-09T14:24:58.732Z"
   },
   {
    "duration": 1271,
    "start_time": "2024-11-09T16:30:17.940Z"
   },
   {
    "duration": 1252,
    "start_time": "2024-11-09T16:30:23.799Z"
   },
   {
    "duration": 77,
    "start_time": "2024-11-09T16:30:25.053Z"
   },
   {
    "duration": 52,
    "start_time": "2024-11-09T16:30:25.132Z"
   },
   {
    "duration": 5,
    "start_time": "2024-11-09T16:30:25.186Z"
   },
   {
    "duration": 30,
    "start_time": "2024-11-09T16:30:25.193Z"
   },
   {
    "duration": 18,
    "start_time": "2024-11-09T16:30:25.224Z"
   },
   {
    "duration": 10,
    "start_time": "2024-11-09T16:30:25.244Z"
   },
   {
    "duration": 209,
    "start_time": "2024-11-09T16:30:25.255Z"
   },
   {
    "duration": 131,
    "start_time": "2024-11-09T16:30:25.465Z"
   },
   {
    "duration": 20,
    "start_time": "2024-11-09T16:30:25.598Z"
   },
   {
    "duration": 12,
    "start_time": "2024-11-09T16:30:25.620Z"
   },
   {
    "duration": 329,
    "start_time": "2024-11-09T16:30:25.634Z"
   },
   {
    "duration": 198,
    "start_time": "2024-11-09T16:30:25.965Z"
   },
   {
    "duration": 294,
    "start_time": "2024-11-09T16:30:26.165Z"
   },
   {
    "duration": 215,
    "start_time": "2024-11-09T16:30:26.461Z"
   },
   {
    "duration": 128,
    "start_time": "2024-11-09T16:30:26.678Z"
   },
   {
    "duration": 10,
    "start_time": "2024-11-09T16:30:26.808Z"
   },
   {
    "duration": 129,
    "start_time": "2024-11-09T16:30:26.820Z"
   },
   {
    "duration": 5,
    "start_time": "2024-11-09T16:30:26.951Z"
   },
   {
    "duration": 507,
    "start_time": "2024-11-09T16:30:26.957Z"
   },
   {
    "duration": 11,
    "start_time": "2024-11-09T16:30:27.466Z"
   },
   {
    "duration": 1222,
    "start_time": "2024-11-09T16:30:27.478Z"
   },
   {
    "duration": 8,
    "start_time": "2024-11-09T16:31:45.812Z"
   },
   {
    "duration": 1128,
    "start_time": "2024-11-09T16:35:07.118Z"
   },
   {
    "duration": 9,
    "start_time": "2024-11-09T16:35:21.462Z"
   },
   {
    "duration": 32,
    "start_time": "2024-11-09T16:51:53.876Z"
   },
   {
    "duration": 32,
    "start_time": "2024-11-09T16:57:03.460Z"
   },
   {
    "duration": 1172,
    "start_time": "2024-11-09T17:10:47.676Z"
   },
   {
    "duration": 16,
    "start_time": "2024-11-09T17:13:05.688Z"
   },
   {
    "duration": 11,
    "start_time": "2024-11-09T17:23:33.941Z"
   },
   {
    "duration": 1241,
    "start_time": "2024-11-09T17:34:23.821Z"
   },
   {
    "duration": 77,
    "start_time": "2024-11-09T17:34:25.064Z"
   },
   {
    "duration": 56,
    "start_time": "2024-11-09T17:34:25.143Z"
   },
   {
    "duration": 5,
    "start_time": "2024-11-09T17:34:25.202Z"
   },
   {
    "duration": 62,
    "start_time": "2024-11-09T17:34:25.209Z"
   },
   {
    "duration": 16,
    "start_time": "2024-11-09T17:34:25.273Z"
   },
   {
    "duration": 23,
    "start_time": "2024-11-09T17:34:25.291Z"
   },
   {
    "duration": 196,
    "start_time": "2024-11-09T17:34:25.316Z"
   },
   {
    "duration": 132,
    "start_time": "2024-11-09T17:34:25.514Z"
   },
   {
    "duration": 6,
    "start_time": "2024-11-09T17:34:25.649Z"
   },
   {
    "duration": 30,
    "start_time": "2024-11-09T17:34:25.657Z"
   },
   {
    "duration": 314,
    "start_time": "2024-11-09T17:34:25.689Z"
   },
   {
    "duration": 208,
    "start_time": "2024-11-09T17:34:26.005Z"
   },
   {
    "duration": 305,
    "start_time": "2024-11-09T17:34:26.217Z"
   },
   {
    "duration": 219,
    "start_time": "2024-11-09T17:34:26.524Z"
   },
   {
    "duration": 134,
    "start_time": "2024-11-09T17:34:26.745Z"
   },
   {
    "duration": 5,
    "start_time": "2024-11-09T17:34:26.880Z"
   },
   {
    "duration": 134,
    "start_time": "2024-11-09T17:34:26.886Z"
   },
   {
    "duration": 5,
    "start_time": "2024-11-09T17:34:27.021Z"
   },
   {
    "duration": 536,
    "start_time": "2024-11-09T17:34:27.027Z"
   },
   {
    "duration": 11,
    "start_time": "2024-11-09T17:34:27.565Z"
   },
   {
    "duration": 10,
    "start_time": "2024-11-09T17:34:27.577Z"
   },
   {
    "duration": 60,
    "start_time": "2024-11-09T17:34:27.589Z"
   },
   {
    "duration": 14,
    "start_time": "2024-11-09T17:34:27.651Z"
   },
   {
    "duration": 20,
    "start_time": "2024-11-09T17:39:59.248Z"
   },
   {
    "duration": 18,
    "start_time": "2024-11-09T17:40:04.459Z"
   },
   {
    "duration": 15,
    "start_time": "2024-11-09T17:56:03.381Z"
   },
   {
    "duration": 1346,
    "start_time": "2024-11-10T09:16:08.807Z"
   },
   {
    "duration": 240,
    "start_time": "2024-11-10T09:16:10.155Z"
   },
   {
    "duration": 59,
    "start_time": "2024-11-10T09:16:10.397Z"
   },
   {
    "duration": 5,
    "start_time": "2024-11-10T09:16:10.458Z"
   },
   {
    "duration": 13,
    "start_time": "2024-11-10T09:16:10.464Z"
   },
   {
    "duration": 10,
    "start_time": "2024-11-10T09:16:10.478Z"
   },
   {
    "duration": 33,
    "start_time": "2024-11-10T09:16:10.490Z"
   },
   {
    "duration": 186,
    "start_time": "2024-11-10T09:16:10.524Z"
   },
   {
    "duration": 124,
    "start_time": "2024-11-10T09:16:10.712Z"
   },
   {
    "duration": 6,
    "start_time": "2024-11-10T09:16:10.839Z"
   },
   {
    "duration": 9,
    "start_time": "2024-11-10T09:16:10.846Z"
   },
   {
    "duration": 264,
    "start_time": "2024-11-10T09:16:10.857Z"
   },
   {
    "duration": 178,
    "start_time": "2024-11-10T09:16:11.123Z"
   },
   {
    "duration": 341,
    "start_time": "2024-11-10T09:16:11.303Z"
   },
   {
    "duration": 217,
    "start_time": "2024-11-10T09:16:11.646Z"
   },
   {
    "duration": 137,
    "start_time": "2024-11-10T09:16:11.864Z"
   },
   {
    "duration": 5,
    "start_time": "2024-11-10T09:16:12.002Z"
   },
   {
    "duration": 134,
    "start_time": "2024-11-10T09:16:12.008Z"
   },
   {
    "duration": 5,
    "start_time": "2024-11-10T09:16:12.143Z"
   },
   {
    "duration": 561,
    "start_time": "2024-11-10T09:16:12.149Z"
   },
   {
    "duration": 17,
    "start_time": "2024-11-10T09:16:12.712Z"
   },
   {
    "duration": 9,
    "start_time": "2024-11-10T09:16:12.731Z"
   },
   {
    "duration": 28,
    "start_time": "2024-11-10T09:16:12.742Z"
   },
   {
    "duration": 12,
    "start_time": "2024-11-10T09:16:12.772Z"
   },
   {
    "duration": 1259,
    "start_time": "2024-11-10T14:02:37.878Z"
   },
   {
    "duration": 223,
    "start_time": "2024-11-10T14:02:39.140Z"
   },
   {
    "duration": 45,
    "start_time": "2024-11-10T14:02:39.364Z"
   },
   {
    "duration": 5,
    "start_time": "2024-11-10T14:02:39.410Z"
   },
   {
    "duration": 12,
    "start_time": "2024-11-10T14:02:39.417Z"
   },
   {
    "duration": 28,
    "start_time": "2024-11-10T14:02:39.430Z"
   },
   {
    "duration": 5,
    "start_time": "2024-11-10T14:02:39.459Z"
   },
   {
    "duration": 177,
    "start_time": "2024-11-10T14:02:39.465Z"
   },
   {
    "duration": 122,
    "start_time": "2024-11-10T14:02:39.644Z"
   },
   {
    "duration": 6,
    "start_time": "2024-11-10T14:02:39.767Z"
   },
   {
    "duration": 11,
    "start_time": "2024-11-10T14:02:39.774Z"
   },
   {
    "duration": 277,
    "start_time": "2024-11-10T14:02:39.786Z"
   },
   {
    "duration": 165,
    "start_time": "2024-11-10T14:02:40.064Z"
   },
   {
    "duration": 345,
    "start_time": "2024-11-10T14:02:40.232Z"
   },
   {
    "duration": 187,
    "start_time": "2024-11-10T14:02:40.578Z"
   },
   {
    "duration": 109,
    "start_time": "2024-11-10T14:02:40.767Z"
   },
   {
    "duration": 4,
    "start_time": "2024-11-10T14:02:40.877Z"
   },
   {
    "duration": 120,
    "start_time": "2024-11-10T14:02:40.882Z"
   },
   {
    "duration": 5,
    "start_time": "2024-11-10T14:02:41.004Z"
   },
   {
    "duration": 465,
    "start_time": "2024-11-10T14:02:41.010Z"
   },
   {
    "duration": 9,
    "start_time": "2024-11-10T14:02:41.476Z"
   },
   {
    "duration": 33,
    "start_time": "2024-11-10T14:02:41.486Z"
   },
   {
    "duration": 62,
    "start_time": "2024-11-10T14:02:41.520Z"
   },
   {
    "duration": 11,
    "start_time": "2024-11-10T14:02:41.583Z"
   },
   {
    "duration": 1078,
    "start_time": "2024-11-10T14:22:03.049Z"
   },
   {
    "duration": 75,
    "start_time": "2024-11-10T14:22:04.128Z"
   },
   {
    "duration": 45,
    "start_time": "2024-11-10T14:22:04.205Z"
   },
   {
    "duration": 18,
    "start_time": "2024-11-10T14:22:04.252Z"
   },
   {
    "duration": 10,
    "start_time": "2024-11-10T14:22:04.272Z"
   },
   {
    "duration": 16,
    "start_time": "2024-11-10T14:22:04.283Z"
   },
   {
    "duration": 19,
    "start_time": "2024-11-10T14:22:04.301Z"
   },
   {
    "duration": 176,
    "start_time": "2024-11-10T14:22:04.322Z"
   },
   {
    "duration": 114,
    "start_time": "2024-11-10T14:22:04.499Z"
   },
   {
    "duration": 30,
    "start_time": "2024-11-10T14:22:04.615Z"
   },
   {
    "duration": 23,
    "start_time": "2024-11-10T14:22:04.647Z"
   },
   {
    "duration": 269,
    "start_time": "2024-11-10T14:22:04.672Z"
   },
   {
    "duration": 174,
    "start_time": "2024-11-10T14:22:04.942Z"
   },
   {
    "duration": 274,
    "start_time": "2024-11-10T14:22:05.117Z"
   },
   {
    "duration": 203,
    "start_time": "2024-11-10T14:22:05.393Z"
   },
   {
    "duration": 111,
    "start_time": "2024-11-10T14:22:05.597Z"
   },
   {
    "duration": 4,
    "start_time": "2024-11-10T14:22:05.710Z"
   },
   {
    "duration": 119,
    "start_time": "2024-11-10T14:22:05.715Z"
   },
   {
    "duration": 3,
    "start_time": "2024-11-10T14:22:05.836Z"
   },
   {
    "duration": 497,
    "start_time": "2024-11-10T14:22:05.840Z"
   },
   {
    "duration": 25,
    "start_time": "2024-11-10T14:22:06.338Z"
   },
   {
    "duration": 53,
    "start_time": "2024-11-10T14:22:06.367Z"
   },
   {
    "duration": 28,
    "start_time": "2024-11-10T14:22:06.421Z"
   },
   {
    "duration": 18,
    "start_time": "2024-11-10T14:22:06.450Z"
   },
   {
    "duration": 52,
    "start_time": "2024-11-12T17:30:26.611Z"
   },
   {
    "duration": 1461,
    "start_time": "2024-11-12T17:30:32.314Z"
   },
   {
    "duration": 241,
    "start_time": "2024-11-12T17:30:33.777Z"
   },
   {
    "duration": 55,
    "start_time": "2024-11-12T17:30:34.020Z"
   },
   {
    "duration": 6,
    "start_time": "2024-11-12T17:30:34.078Z"
   },
   {
    "duration": 837,
    "start_time": "2024-11-12T17:30:34.098Z"
   },
   {
    "duration": 0,
    "start_time": "2024-11-12T17:30:34.937Z"
   },
   {
    "duration": 0,
    "start_time": "2024-11-12T17:30:34.938Z"
   },
   {
    "duration": 0,
    "start_time": "2024-11-12T17:30:34.939Z"
   },
   {
    "duration": 0,
    "start_time": "2024-11-12T17:30:34.941Z"
   },
   {
    "duration": 0,
    "start_time": "2024-11-12T17:30:34.943Z"
   },
   {
    "duration": 0,
    "start_time": "2024-11-12T17:30:34.944Z"
   },
   {
    "duration": 0,
    "start_time": "2024-11-12T17:30:34.945Z"
   },
   {
    "duration": 0,
    "start_time": "2024-11-12T17:30:34.946Z"
   },
   {
    "duration": 0,
    "start_time": "2024-11-12T17:30:34.947Z"
   },
   {
    "duration": 0,
    "start_time": "2024-11-12T17:30:34.948Z"
   },
   {
    "duration": 0,
    "start_time": "2024-11-12T17:30:34.950Z"
   },
   {
    "duration": 0,
    "start_time": "2024-11-12T17:30:34.951Z"
   },
   {
    "duration": 0,
    "start_time": "2024-11-12T17:30:34.952Z"
   },
   {
    "duration": 0,
    "start_time": "2024-11-12T17:30:34.954Z"
   },
   {
    "duration": 0,
    "start_time": "2024-11-12T17:30:34.955Z"
   },
   {
    "duration": 0,
    "start_time": "2024-11-12T17:30:34.956Z"
   },
   {
    "duration": 0,
    "start_time": "2024-11-12T17:30:34.957Z"
   },
   {
    "duration": 0,
    "start_time": "2024-11-12T17:30:34.958Z"
   },
   {
    "duration": 0,
    "start_time": "2024-11-12T17:30:34.960Z"
   },
   {
    "duration": 0,
    "start_time": "2024-11-12T17:30:34.961Z"
   },
   {
    "duration": 767,
    "start_time": "2024-11-12T17:31:50.566Z"
   },
   {
    "duration": 699,
    "start_time": "2024-11-12T17:32:01.691Z"
   },
   {
    "duration": 12,
    "start_time": "2024-11-12T17:32:13.530Z"
   },
   {
    "duration": 11,
    "start_time": "2024-11-12T17:33:47.319Z"
   },
   {
    "duration": 32,
    "start_time": "2024-11-12T17:35:22.310Z"
   },
   {
    "duration": 18,
    "start_time": "2024-11-12T17:35:39.159Z"
   },
   {
    "duration": 13,
    "start_time": "2024-11-12T17:36:29.433Z"
   },
   {
    "duration": 11,
    "start_time": "2024-11-12T17:37:03.451Z"
   },
   {
    "duration": 12,
    "start_time": "2024-11-12T17:37:12.816Z"
   },
   {
    "duration": 10,
    "start_time": "2024-11-12T17:39:09.274Z"
   },
   {
    "duration": 13,
    "start_time": "2024-11-12T17:40:53.347Z"
   },
   {
    "duration": 12,
    "start_time": "2024-11-12T17:41:41.119Z"
   },
   {
    "duration": 12,
    "start_time": "2024-11-12T17:41:56.570Z"
   },
   {
    "duration": 10,
    "start_time": "2024-11-12T17:43:05.614Z"
   },
   {
    "duration": 1189,
    "start_time": "2024-11-12T17:43:12.156Z"
   },
   {
    "duration": 83,
    "start_time": "2024-11-12T17:43:13.347Z"
   },
   {
    "duration": 54,
    "start_time": "2024-11-12T17:43:13.432Z"
   },
   {
    "duration": 6,
    "start_time": "2024-11-12T17:43:13.488Z"
   },
   {
    "duration": 18,
    "start_time": "2024-11-12T17:43:13.495Z"
   },
   {
    "duration": 143,
    "start_time": "2024-11-12T17:43:13.514Z"
   },
   {
    "duration": 13,
    "start_time": "2024-11-12T17:43:13.658Z"
   },
   {
    "duration": 25,
    "start_time": "2024-11-12T17:43:13.673Z"
   },
   {
    "duration": 5,
    "start_time": "2024-11-12T17:43:13.700Z"
   },
   {
    "duration": 199,
    "start_time": "2024-11-12T17:43:13.707Z"
   },
   {
    "duration": 132,
    "start_time": "2024-11-12T17:43:13.908Z"
   },
   {
    "duration": 6,
    "start_time": "2024-11-12T17:43:14.041Z"
   },
   {
    "duration": 43,
    "start_time": "2024-11-12T17:43:14.049Z"
   },
   {
    "duration": 303,
    "start_time": "2024-11-12T17:43:14.094Z"
   },
   {
    "duration": 201,
    "start_time": "2024-11-12T17:43:14.399Z"
   },
   {
    "duration": 280,
    "start_time": "2024-11-12T17:43:14.601Z"
   },
   {
    "duration": 216,
    "start_time": "2024-11-12T17:43:14.882Z"
   },
   {
    "duration": 150,
    "start_time": "2024-11-12T17:43:15.099Z"
   },
   {
    "duration": 5,
    "start_time": "2024-11-12T17:43:15.250Z"
   },
   {
    "duration": 142,
    "start_time": "2024-11-12T17:43:15.257Z"
   },
   {
    "duration": 4,
    "start_time": "2024-11-12T17:43:15.401Z"
   },
   {
    "duration": 502,
    "start_time": "2024-11-12T17:43:15.407Z"
   },
   {
    "duration": 11,
    "start_time": "2024-11-12T17:43:15.911Z"
   },
   {
    "duration": 12,
    "start_time": "2024-11-12T17:43:15.924Z"
   },
   {
    "duration": 44,
    "start_time": "2024-11-12T17:43:15.938Z"
   },
   {
    "duration": 24,
    "start_time": "2024-11-12T17:43:15.983Z"
   },
   {
    "duration": 285,
    "start_time": "2024-11-12T17:49:53.914Z"
   },
   {
    "duration": 225,
    "start_time": "2024-11-12T17:51:32.292Z"
   },
   {
    "duration": 218,
    "start_time": "2024-11-12T17:52:37.987Z"
   },
   {
    "duration": 207,
    "start_time": "2024-11-12T17:53:08.060Z"
   },
   {
    "duration": 323,
    "start_time": "2024-11-12T18:17:47.588Z"
   },
   {
    "duration": 271,
    "start_time": "2024-11-12T18:18:02.747Z"
   },
   {
    "duration": 223,
    "start_time": "2024-11-12T18:21:00.305Z"
   },
   {
    "duration": 162,
    "start_time": "2024-11-12T18:29:17.067Z"
   },
   {
    "duration": 182,
    "start_time": "2024-11-12T18:30:02.300Z"
   },
   {
    "duration": 292,
    "start_time": "2024-11-12T18:55:04.156Z"
   },
   {
    "duration": 289,
    "start_time": "2024-11-12T19:00:30.521Z"
   },
   {
    "duration": 79,
    "start_time": "2024-11-12T19:02:54.559Z"
   },
   {
    "duration": 413,
    "start_time": "2024-11-12T19:03:27.266Z"
   },
   {
    "duration": 290,
    "start_time": "2024-11-12T19:04:03.619Z"
   },
   {
    "duration": 330,
    "start_time": "2024-11-12T19:05:23.662Z"
   },
   {
    "duration": 135,
    "start_time": "2024-11-12T19:42:17.960Z"
   },
   {
    "duration": 139,
    "start_time": "2024-11-12T19:42:36.388Z"
   },
   {
    "duration": 147,
    "start_time": "2024-11-12T19:42:43.468Z"
   },
   {
    "duration": 129,
    "start_time": "2024-11-12T19:42:53.416Z"
   },
   {
    "duration": 153,
    "start_time": "2024-11-12T19:43:06.602Z"
   },
   {
    "duration": 142,
    "start_time": "2024-11-12T19:43:20.297Z"
   },
   {
    "duration": 140,
    "start_time": "2024-11-12T19:43:29.287Z"
   },
   {
    "duration": 138,
    "start_time": "2024-11-12T19:43:37.602Z"
   },
   {
    "duration": 311,
    "start_time": "2024-11-12T19:48:40.708Z"
   },
   {
    "duration": 227,
    "start_time": "2024-11-12T19:49:12.218Z"
   },
   {
    "duration": 296,
    "start_time": "2024-11-12T19:50:05.855Z"
   },
   {
    "duration": 316,
    "start_time": "2024-11-12T19:50:28.951Z"
   },
   {
    "duration": 297,
    "start_time": "2024-11-12T19:50:45.647Z"
   },
   {
    "duration": 336,
    "start_time": "2024-11-12T19:51:48.118Z"
   },
   {
    "duration": 297,
    "start_time": "2024-11-12T19:52:31.604Z"
   },
   {
    "duration": 10,
    "start_time": "2024-11-12T19:53:44.645Z"
   },
   {
    "duration": 5,
    "start_time": "2024-11-12T19:56:15.322Z"
   },
   {
    "duration": 35,
    "start_time": "2024-11-12T19:58:36.809Z"
   },
   {
    "duration": 22,
    "start_time": "2024-11-12T19:59:32.002Z"
   },
   {
    "duration": 1217,
    "start_time": "2024-11-12T20:05:09.098Z"
   },
   {
    "duration": 84,
    "start_time": "2024-11-12T20:05:10.317Z"
   },
   {
    "duration": 63,
    "start_time": "2024-11-12T20:05:10.403Z"
   },
   {
    "duration": 30,
    "start_time": "2024-11-12T20:05:10.468Z"
   },
   {
    "duration": 84,
    "start_time": "2024-11-12T20:05:10.501Z"
   },
   {
    "duration": 134,
    "start_time": "2024-11-12T20:05:10.587Z"
   },
   {
    "duration": 15,
    "start_time": "2024-11-12T20:05:10.723Z"
   },
   {
    "duration": 13,
    "start_time": "2024-11-12T20:05:10.739Z"
   },
   {
    "duration": 6,
    "start_time": "2024-11-12T20:05:10.754Z"
   },
   {
    "duration": 223,
    "start_time": "2024-11-12T20:05:10.763Z"
   },
   {
    "duration": 141,
    "start_time": "2024-11-12T20:05:10.988Z"
   },
   {
    "duration": 6,
    "start_time": "2024-11-12T20:05:11.131Z"
   },
   {
    "duration": 16,
    "start_time": "2024-11-12T20:05:11.138Z"
   },
   {
    "duration": 310,
    "start_time": "2024-11-12T20:05:11.156Z"
   },
   {
    "duration": 235,
    "start_time": "2024-11-12T20:05:11.467Z"
   },
   {
    "duration": 326,
    "start_time": "2024-11-12T20:05:11.705Z"
   },
   {
    "duration": 238,
    "start_time": "2024-11-12T20:05:12.032Z"
   },
   {
    "duration": 359,
    "start_time": "2024-11-12T20:05:12.271Z"
   },
   {
    "duration": 167,
    "start_time": "2024-11-12T20:05:12.631Z"
   },
   {
    "duration": 9,
    "start_time": "2024-11-12T20:05:12.799Z"
   },
   {
    "duration": 139,
    "start_time": "2024-11-12T20:05:12.811Z"
   },
   {
    "duration": 5,
    "start_time": "2024-11-12T20:05:12.952Z"
   },
   {
    "duration": 337,
    "start_time": "2024-11-12T20:05:12.958Z"
   },
   {
    "duration": 298,
    "start_time": "2024-11-12T20:05:13.297Z"
   },
   {
    "duration": 15,
    "start_time": "2024-11-12T20:05:13.599Z"
   },
   {
    "duration": 15,
    "start_time": "2024-11-12T20:05:13.615Z"
   },
   {
    "duration": 9,
    "start_time": "2024-11-12T20:05:13.632Z"
   },
   {
    "duration": 73,
    "start_time": "2024-11-12T20:05:13.645Z"
   },
   {
    "duration": 15,
    "start_time": "2024-11-12T20:05:13.720Z"
   },
   {
    "duration": 25,
    "start_time": "2024-11-12T20:06:10.764Z"
   },
   {
    "duration": 11,
    "start_time": "2024-11-12T20:06:35.967Z"
   },
   {
    "duration": 184,
    "start_time": "2024-11-12T20:14:14.449Z"
   },
   {
    "duration": 140,
    "start_time": "2024-11-12T20:15:29.322Z"
   },
   {
    "duration": 175,
    "start_time": "2024-11-12T20:16:28.408Z"
   },
   {
    "duration": 176,
    "start_time": "2024-11-12T20:16:46.788Z"
   },
   {
    "duration": 1240,
    "start_time": "2024-11-12T20:18:33.728Z"
   },
   {
    "duration": 86,
    "start_time": "2024-11-12T20:18:34.970Z"
   },
   {
    "duration": 67,
    "start_time": "2024-11-12T20:18:35.058Z"
   },
   {
    "duration": 5,
    "start_time": "2024-11-12T20:18:35.127Z"
   },
   {
    "duration": 18,
    "start_time": "2024-11-12T20:18:35.134Z"
   },
   {
    "duration": 133,
    "start_time": "2024-11-12T20:18:35.154Z"
   },
   {
    "duration": 23,
    "start_time": "2024-11-12T20:18:35.289Z"
   },
   {
    "duration": 24,
    "start_time": "2024-11-12T20:18:35.314Z"
   },
   {
    "duration": 15,
    "start_time": "2024-11-12T20:18:35.340Z"
   },
   {
    "duration": 227,
    "start_time": "2024-11-12T20:18:35.358Z"
   },
   {
    "duration": 143,
    "start_time": "2024-11-12T20:18:35.587Z"
   },
   {
    "duration": 7,
    "start_time": "2024-11-12T20:18:35.732Z"
   },
   {
    "duration": 13,
    "start_time": "2024-11-12T20:18:35.741Z"
   },
   {
    "duration": 321,
    "start_time": "2024-11-12T20:18:35.756Z"
   },
   {
    "duration": 250,
    "start_time": "2024-11-12T20:18:36.079Z"
   },
   {
    "duration": 321,
    "start_time": "2024-11-12T20:18:36.331Z"
   },
   {
    "duration": 258,
    "start_time": "2024-11-12T20:18:36.654Z"
   },
   {
    "duration": 321,
    "start_time": "2024-11-12T20:18:36.914Z"
   },
   {
    "duration": 198,
    "start_time": "2024-11-12T20:18:37.237Z"
   },
   {
    "duration": 6,
    "start_time": "2024-11-12T20:18:37.436Z"
   },
   {
    "duration": 198,
    "start_time": "2024-11-12T20:18:37.443Z"
   },
   {
    "duration": 5,
    "start_time": "2024-11-12T20:18:37.642Z"
   },
   {
    "duration": 350,
    "start_time": "2024-11-12T20:18:37.649Z"
   },
   {
    "duration": 368,
    "start_time": "2024-11-12T20:18:38.002Z"
   },
   {
    "duration": 15,
    "start_time": "2024-11-12T20:18:38.372Z"
   },
   {
    "duration": 23,
    "start_time": "2024-11-12T20:18:38.389Z"
   },
   {
    "duration": 9,
    "start_time": "2024-11-12T20:18:38.415Z"
   },
   {
    "duration": 76,
    "start_time": "2024-11-12T20:18:38.428Z"
   },
   {
    "duration": 21,
    "start_time": "2024-11-12T20:18:38.507Z"
   },
   {
    "duration": 1420,
    "start_time": "2024-11-13T12:45:29.405Z"
   },
   {
    "duration": 266,
    "start_time": "2024-11-13T12:45:30.827Z"
   },
   {
    "duration": 61,
    "start_time": "2024-11-13T12:45:31.095Z"
   },
   {
    "duration": 6,
    "start_time": "2024-11-13T12:45:31.157Z"
   },
   {
    "duration": 46,
    "start_time": "2024-11-13T12:45:31.165Z"
   },
   {
    "duration": 130,
    "start_time": "2024-11-13T12:45:31.213Z"
   },
   {
    "duration": 12,
    "start_time": "2024-11-13T12:45:31.344Z"
   },
   {
    "duration": 20,
    "start_time": "2024-11-13T12:45:31.357Z"
   },
   {
    "duration": 19,
    "start_time": "2024-11-13T12:45:31.379Z"
   },
   {
    "duration": 211,
    "start_time": "2024-11-13T12:45:31.400Z"
   },
   {
    "duration": 130,
    "start_time": "2024-11-13T12:45:31.613Z"
   },
   {
    "duration": 6,
    "start_time": "2024-11-13T12:45:31.744Z"
   },
   {
    "duration": 65,
    "start_time": "2024-11-13T12:45:31.752Z"
   },
   {
    "duration": 306,
    "start_time": "2024-11-13T12:45:31.820Z"
   },
   {
    "duration": 228,
    "start_time": "2024-11-13T12:45:32.127Z"
   },
   {
    "duration": 321,
    "start_time": "2024-11-13T12:45:32.357Z"
   },
   {
    "duration": 252,
    "start_time": "2024-11-13T12:45:32.680Z"
   },
   {
    "duration": 316,
    "start_time": "2024-11-13T12:45:32.934Z"
   },
   {
    "duration": 188,
    "start_time": "2024-11-13T12:45:33.252Z"
   },
   {
    "duration": 5,
    "start_time": "2024-11-13T12:45:33.443Z"
   },
   {
    "duration": 175,
    "start_time": "2024-11-13T12:45:33.450Z"
   },
   {
    "duration": 6,
    "start_time": "2024-11-13T12:45:33.627Z"
   },
   {
    "duration": 328,
    "start_time": "2024-11-13T12:45:33.634Z"
   },
   {
    "duration": 295,
    "start_time": "2024-11-13T12:45:33.964Z"
   },
   {
    "duration": 11,
    "start_time": "2024-11-13T12:45:34.261Z"
   },
   {
    "duration": 28,
    "start_time": "2024-11-13T12:45:34.274Z"
   },
   {
    "duration": 25,
    "start_time": "2024-11-13T12:45:34.304Z"
   },
   {
    "duration": 52,
    "start_time": "2024-11-13T12:45:34.330Z"
   },
   {
    "duration": 13,
    "start_time": "2024-11-13T12:45:34.383Z"
   },
   {
    "duration": 1282,
    "start_time": "2024-11-13T13:10:58.291Z"
   },
   {
    "duration": 94,
    "start_time": "2024-11-13T13:10:59.575Z"
   },
   {
    "duration": 66,
    "start_time": "2024-11-13T13:10:59.670Z"
   },
   {
    "duration": 6,
    "start_time": "2024-11-13T13:10:59.738Z"
   },
   {
    "duration": 33,
    "start_time": "2024-11-13T13:10:59.746Z"
   },
   {
    "duration": 149,
    "start_time": "2024-11-13T13:10:59.781Z"
   },
   {
    "duration": 13,
    "start_time": "2024-11-13T13:10:59.931Z"
   },
   {
    "duration": 14,
    "start_time": "2024-11-13T13:10:59.946Z"
   },
   {
    "duration": 10,
    "start_time": "2024-11-13T13:10:59.961Z"
   },
   {
    "duration": 208,
    "start_time": "2024-11-13T13:10:59.972Z"
   },
   {
    "duration": 141,
    "start_time": "2024-11-13T13:11:00.181Z"
   },
   {
    "duration": 6,
    "start_time": "2024-11-13T13:11:00.323Z"
   },
   {
    "duration": 96,
    "start_time": "2024-11-13T13:11:00.331Z"
   },
   {
    "duration": 340,
    "start_time": "2024-11-13T13:11:00.430Z"
   },
   {
    "duration": 252,
    "start_time": "2024-11-13T13:11:00.772Z"
   },
   {
    "duration": 327,
    "start_time": "2024-11-13T13:11:01.026Z"
   },
   {
    "duration": 277,
    "start_time": "2024-11-13T13:11:01.355Z"
   },
   {
    "duration": 322,
    "start_time": "2024-11-13T13:11:01.634Z"
   },
   {
    "duration": 193,
    "start_time": "2024-11-13T13:11:01.957Z"
   },
   {
    "duration": 5,
    "start_time": "2024-11-13T13:11:02.151Z"
   },
   {
    "duration": 169,
    "start_time": "2024-11-13T13:11:02.157Z"
   },
   {
    "duration": 6,
    "start_time": "2024-11-13T13:11:02.328Z"
   },
   {
    "duration": 327,
    "start_time": "2024-11-13T13:11:02.336Z"
   },
   {
    "duration": 314,
    "start_time": "2024-11-13T13:11:02.664Z"
   },
   {
    "duration": 19,
    "start_time": "2024-11-13T13:11:02.980Z"
   },
   {
    "duration": 22,
    "start_time": "2024-11-13T13:11:03.002Z"
   },
   {
    "duration": 14,
    "start_time": "2024-11-13T13:11:03.026Z"
   },
   {
    "duration": 31,
    "start_time": "2024-11-13T13:11:03.041Z"
   },
   {
    "duration": 39,
    "start_time": "2024-11-13T13:11:03.074Z"
   },
   {
    "duration": 1308,
    "start_time": "2024-11-13T13:18:10.682Z"
   },
   {
    "duration": 92,
    "start_time": "2024-11-13T13:18:11.992Z"
   },
   {
    "duration": 63,
    "start_time": "2024-11-13T13:18:12.086Z"
   },
   {
    "duration": 7,
    "start_time": "2024-11-13T13:18:12.151Z"
   },
   {
    "duration": 42,
    "start_time": "2024-11-13T13:18:12.161Z"
   },
   {
    "duration": 136,
    "start_time": "2024-11-13T13:18:12.206Z"
   },
   {
    "duration": 12,
    "start_time": "2024-11-13T13:18:12.344Z"
   },
   {
    "duration": 63,
    "start_time": "2024-11-13T13:18:12.358Z"
   },
   {
    "duration": 20,
    "start_time": "2024-11-13T13:18:12.423Z"
   },
   {
    "duration": 202,
    "start_time": "2024-11-13T13:18:12.444Z"
   },
   {
    "duration": 164,
    "start_time": "2024-11-13T13:18:12.648Z"
   },
   {
    "duration": 7,
    "start_time": "2024-11-13T13:18:12.815Z"
   },
   {
    "duration": 93,
    "start_time": "2024-11-13T13:18:12.823Z"
   },
   {
    "duration": 333,
    "start_time": "2024-11-13T13:18:12.921Z"
   },
   {
    "duration": 350,
    "start_time": "2024-11-13T13:18:13.256Z"
   },
   {
    "duration": 303,
    "start_time": "2024-11-13T13:18:13.608Z"
   },
   {
    "duration": 234,
    "start_time": "2024-11-13T13:18:13.914Z"
   },
   {
    "duration": 319,
    "start_time": "2024-11-13T13:18:14.149Z"
   },
   {
    "duration": 174,
    "start_time": "2024-11-13T13:18:14.469Z"
   },
   {
    "duration": 5,
    "start_time": "2024-11-13T13:18:14.645Z"
   },
   {
    "duration": 153,
    "start_time": "2024-11-13T13:18:14.652Z"
   },
   {
    "duration": 8,
    "start_time": "2024-11-13T13:18:14.807Z"
   },
   {
    "duration": 320,
    "start_time": "2024-11-13T13:18:14.817Z"
   },
   {
    "duration": 312,
    "start_time": "2024-11-13T13:18:15.139Z"
   },
   {
    "duration": 12,
    "start_time": "2024-11-13T13:18:15.453Z"
   },
   {
    "duration": 13,
    "start_time": "2024-11-13T13:18:15.466Z"
   },
   {
    "duration": 22,
    "start_time": "2024-11-13T13:18:15.480Z"
   },
   {
    "duration": 57,
    "start_time": "2024-11-13T13:18:15.504Z"
   },
   {
    "duration": 18,
    "start_time": "2024-11-13T13:18:15.564Z"
   },
   {
    "duration": 52,
    "start_time": "2024-11-16T06:50:29.548Z"
   },
   {
    "duration": 1168,
    "start_time": "2024-11-16T06:50:33.534Z"
   },
   {
    "duration": 229,
    "start_time": "2024-11-16T06:50:34.704Z"
   },
   {
    "duration": 56,
    "start_time": "2024-11-16T06:50:34.935Z"
   },
   {
    "duration": 6,
    "start_time": "2024-11-16T06:50:34.993Z"
   },
   {
    "duration": 31,
    "start_time": "2024-11-16T06:50:35.000Z"
   },
   {
    "duration": 148,
    "start_time": "2024-11-16T06:50:35.032Z"
   },
   {
    "duration": 11,
    "start_time": "2024-11-16T06:50:35.182Z"
   },
   {
    "duration": 40,
    "start_time": "2024-11-16T06:50:35.195Z"
   },
   {
    "duration": 16,
    "start_time": "2024-11-16T06:50:35.236Z"
   },
   {
    "duration": 182,
    "start_time": "2024-11-16T06:50:35.254Z"
   },
   {
    "duration": 127,
    "start_time": "2024-11-16T06:50:35.437Z"
   },
   {
    "duration": 5,
    "start_time": "2024-11-16T06:50:35.566Z"
   },
   {
    "duration": 28,
    "start_time": "2024-11-16T06:50:35.573Z"
   },
   {
    "duration": 335,
    "start_time": "2024-11-16T06:50:35.603Z"
   },
   {
    "duration": 211,
    "start_time": "2024-11-16T06:50:35.939Z"
   },
   {
    "duration": 290,
    "start_time": "2024-11-16T06:50:36.152Z"
   },
   {
    "duration": 211,
    "start_time": "2024-11-16T06:50:36.443Z"
   },
   {
    "duration": 287,
    "start_time": "2024-11-16T06:50:36.656Z"
   },
   {
    "duration": 167,
    "start_time": "2024-11-16T06:50:36.945Z"
   },
   {
    "duration": 7,
    "start_time": "2024-11-16T06:50:37.113Z"
   },
   {
    "duration": 166,
    "start_time": "2024-11-16T06:50:37.122Z"
   },
   {
    "duration": 5,
    "start_time": "2024-11-16T06:50:37.289Z"
   },
   {
    "duration": 307,
    "start_time": "2024-11-16T06:50:37.295Z"
   },
   {
    "duration": 293,
    "start_time": "2024-11-16T06:50:37.604Z"
   },
   {
    "duration": 10,
    "start_time": "2024-11-16T06:50:37.898Z"
   },
   {
    "duration": 33,
    "start_time": "2024-11-16T06:50:37.917Z"
   },
   {
    "duration": 5,
    "start_time": "2024-11-16T06:50:37.952Z"
   },
   {
    "duration": 31,
    "start_time": "2024-11-16T06:50:37.960Z"
   },
   {
    "duration": 14,
    "start_time": "2024-11-16T06:50:37.993Z"
   },
   {
    "duration": 1220,
    "start_time": "2024-12-04T16:24:12.301Z"
   },
   {
    "duration": 267,
    "start_time": "2024-12-04T16:24:13.523Z"
   },
   {
    "duration": 56,
    "start_time": "2024-12-04T16:24:13.791Z"
   },
   {
    "duration": 6,
    "start_time": "2024-12-04T16:24:13.849Z"
   },
   {
    "duration": 44,
    "start_time": "2024-12-04T16:24:13.857Z"
   },
   {
    "duration": 123,
    "start_time": "2024-12-04T16:24:13.902Z"
   },
   {
    "duration": 12,
    "start_time": "2024-12-04T16:24:14.027Z"
   },
   {
    "duration": 17,
    "start_time": "2024-12-04T16:24:14.041Z"
   },
   {
    "duration": 10,
    "start_time": "2024-12-04T16:24:14.059Z"
   },
   {
    "duration": 204,
    "start_time": "2024-12-04T16:24:14.072Z"
   },
   {
    "duration": 139,
    "start_time": "2024-12-04T16:24:14.278Z"
   },
   {
    "duration": 6,
    "start_time": "2024-12-04T16:24:14.419Z"
   },
   {
    "duration": 19,
    "start_time": "2024-12-04T16:24:14.426Z"
   },
   {
    "duration": 312,
    "start_time": "2024-12-04T16:24:14.447Z"
   },
   {
    "duration": 223,
    "start_time": "2024-12-04T16:24:14.761Z"
   },
   {
    "duration": 347,
    "start_time": "2024-12-04T16:24:14.986Z"
   },
   {
    "duration": 228,
    "start_time": "2024-12-04T16:24:15.335Z"
   },
   {
    "duration": 386,
    "start_time": "2024-12-04T16:24:15.565Z"
   },
   {
    "duration": 173,
    "start_time": "2024-12-04T16:24:15.953Z"
   },
   {
    "duration": 4,
    "start_time": "2024-12-04T16:24:16.128Z"
   },
   {
    "duration": 155,
    "start_time": "2024-12-04T16:24:16.134Z"
   },
   {
    "duration": 6,
    "start_time": "2024-12-04T16:24:16.298Z"
   },
   {
    "duration": 303,
    "start_time": "2024-12-04T16:24:16.306Z"
   },
   {
    "duration": 277,
    "start_time": "2024-12-04T16:24:16.611Z"
   },
   {
    "duration": 12,
    "start_time": "2024-12-04T16:24:16.898Z"
   },
   {
    "duration": 38,
    "start_time": "2024-12-04T16:24:16.912Z"
   },
   {
    "duration": 14,
    "start_time": "2024-12-04T16:24:16.951Z"
   },
   {
    "duration": 31,
    "start_time": "2024-12-04T16:24:16.968Z"
   },
   {
    "duration": 15,
    "start_time": "2024-12-04T16:24:17.000Z"
   }
  ],
  "kernelspec": {
   "display_name": "Python 3 (ipykernel)",
   "language": "python",
   "name": "python3"
  },
  "language_info": {
   "codemirror_mode": {
    "name": "ipython",
    "version": 3
   },
   "file_extension": ".py",
   "mimetype": "text/x-python",
   "name": "python",
   "nbconvert_exporter": "python",
   "pygments_lexer": "ipython3",
   "version": "3.9.5"
  },
  "toc": {
   "base_numbering": 1,
   "nav_menu": {},
   "number_sections": true,
   "sideBar": true,
   "skip_h1_title": true,
   "title_cell": "Table of Contents",
   "title_sidebar": "Contents",
   "toc_cell": false,
   "toc_position": {},
   "toc_section_display": true,
   "toc_window_display": false
  }
 },
 "nbformat": 4,
 "nbformat_minor": 2
}
