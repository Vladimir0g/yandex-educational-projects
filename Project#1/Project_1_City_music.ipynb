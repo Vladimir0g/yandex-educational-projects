{
 "cells": [
  {
   "cell_type": "markdown",
   "metadata": {
    "deletable": false,
    "editable": false,
    "id": "E0vqbgi9ay0H"
   },
   "source": [
    "# Яндекс Музыка"
   ]
  },
  {
   "cell_type": "markdown",
   "metadata": {
    "deletable": false,
    "editable": false,
    "id": "VUC88oWjTJw2"
   },
   "source": [
    "Сравнение Москвы и Петербурга окружено мифами. Например:\n",
    " * Москва — мегаполис, подчинённый жёсткому ритму рабочей недели;\n",
    " * Петербург — культурная столица, со своими вкусами.\n",
    "\n",
    "На данных Яндекс Музыки вы сравните поведение пользователей двух столиц.\n",
    "\n",
    "**Цель исследования** — проверьте три гипотезы:\n",
    "1. Активность пользователей зависит от дня недели. Причём в Москве и Петербурге это проявляется по-разному.\n",
    "2. В понедельник утром в Москве преобладают одни жанры, а в Петербурге — другие. Так же и вечером пятницы преобладают разные жанры — в зависимости от города.\n",
    "3. Москва и Петербург предпочитают разные жанры музыки. В Москве чаще слушают поп-музыку, в Петербурге — русский рэп.\n",
    "\n",
    "**Ход исследования**\n",
    "\n",
    "Данные о поведении пользователей вы получите из файла `yandex_music_project.csv`. О качестве данных ничего не известно. Поэтому перед проверкой гипотез понадобится обзор данных.\n",
    "\n",
    "Вы проверите данные на ошибки и оцените их влияние на исследование. Затем, на этапе предобработки вы поищете возможность исправить самые критичные ошибки данных.\n",
    "\n",
    "Таким образом, исследование пройдёт в три этапа:\n",
    " 1. Обзор данных.\n",
    " 2. Предобработка данных.\n",
    " 3. Проверка гипотез.\n",
    "\n"
   ]
  },
  {
   "cell_type": "markdown",
   "metadata": {
    "deletable": false,
    "editable": false,
    "id": "Ml1hmfXC_Zcs"
   },
   "source": [
    "## Обзор данных\n",
    "\n",
    "Составьте первое представление о данных Яндекс Музыки.\n",
    "\n",
    "\n"
   ]
  },
  {
   "cell_type": "markdown",
   "metadata": {
    "deletable": false,
    "editable": false,
    "id": "57eAOGIz_Zcs",
    "tags": [
     "start_task"
    ]
   },
   "source": [
    "**Задание 1**"
   ]
  },
  {
   "cell_type": "code",
   "execution_count": 1,
   "metadata": {
    "deletable": false,
    "id": "AXN7PHPN_Zcs"
   },
   "outputs": [],
   "source": [
    "# импорт библиотеки pandas\n",
    "import pandas as pd"
   ]
  },
  {
   "cell_type": "markdown",
   "metadata": {
    "deletable": false,
    "editable": false,
    "id": "SG23P8tt_Zcs",
    "tags": [
     "start_task"
    ]
   },
   "source": [
    "**Задание 2**"
   ]
  },
  {
   "cell_type": "code",
   "execution_count": 2,
   "metadata": {
    "deletable": false,
    "id": "fFVu7vqh_Zct"
   },
   "outputs": [],
   "source": [
    "# чтение файла с данными и сохранение в df\n",
    "df = pd.read_csv('/datasets/yandex_music_project.csv')"
   ]
  },
  {
   "cell_type": "markdown",
   "metadata": {
    "deletable": false,
    "editable": false,
    "id": "rDoOMd3uTqnZ",
    "tags": [
     "start_task"
    ]
   },
   "source": [
    "**Задание 3**"
   ]
  },
  {
   "cell_type": "code",
   "execution_count": 3,
   "metadata": {
    "deletable": false,
    "id": "oWTVX3gW_Zct"
   },
   "outputs": [
    {
     "data": {
      "text/html": [
       "<div>\n",
       "<style scoped>\n",
       "    .dataframe tbody tr th:only-of-type {\n",
       "        vertical-align: middle;\n",
       "    }\n",
       "\n",
       "    .dataframe tbody tr th {\n",
       "        vertical-align: top;\n",
       "    }\n",
       "\n",
       "    .dataframe thead th {\n",
       "        text-align: right;\n",
       "    }\n",
       "</style>\n",
       "<table border=\"1\" class=\"dataframe\">\n",
       "  <thead>\n",
       "    <tr style=\"text-align: right;\">\n",
       "      <th></th>\n",
       "      <th>userID</th>\n",
       "      <th>Track</th>\n",
       "      <th>artist</th>\n",
       "      <th>genre</th>\n",
       "      <th>City</th>\n",
       "      <th>time</th>\n",
       "      <th>Day</th>\n",
       "    </tr>\n",
       "  </thead>\n",
       "  <tbody>\n",
       "    <tr>\n",
       "      <th>0</th>\n",
       "      <td>FFB692EC</td>\n",
       "      <td>Kamigata To Boots</td>\n",
       "      <td>The Mass Missile</td>\n",
       "      <td>rock</td>\n",
       "      <td>Saint-Petersburg</td>\n",
       "      <td>20:28:33</td>\n",
       "      <td>Wednesday</td>\n",
       "    </tr>\n",
       "    <tr>\n",
       "      <th>1</th>\n",
       "      <td>55204538</td>\n",
       "      <td>Delayed Because of Accident</td>\n",
       "      <td>Andreas Rönnberg</td>\n",
       "      <td>rock</td>\n",
       "      <td>Moscow</td>\n",
       "      <td>14:07:09</td>\n",
       "      <td>Friday</td>\n",
       "    </tr>\n",
       "    <tr>\n",
       "      <th>2</th>\n",
       "      <td>20EC38</td>\n",
       "      <td>Funiculì funiculà</td>\n",
       "      <td>Mario Lanza</td>\n",
       "      <td>pop</td>\n",
       "      <td>Saint-Petersburg</td>\n",
       "      <td>20:58:07</td>\n",
       "      <td>Wednesday</td>\n",
       "    </tr>\n",
       "    <tr>\n",
       "      <th>3</th>\n",
       "      <td>A3DD03C9</td>\n",
       "      <td>Dragons in the Sunset</td>\n",
       "      <td>Fire + Ice</td>\n",
       "      <td>folk</td>\n",
       "      <td>Saint-Petersburg</td>\n",
       "      <td>08:37:09</td>\n",
       "      <td>Monday</td>\n",
       "    </tr>\n",
       "    <tr>\n",
       "      <th>4</th>\n",
       "      <td>E2DC1FAE</td>\n",
       "      <td>Soul People</td>\n",
       "      <td>Space Echo</td>\n",
       "      <td>dance</td>\n",
       "      <td>Moscow</td>\n",
       "      <td>08:34:34</td>\n",
       "      <td>Monday</td>\n",
       "    </tr>\n",
       "    <tr>\n",
       "      <th>5</th>\n",
       "      <td>842029A1</td>\n",
       "      <td>Преданная</td>\n",
       "      <td>IMPERVTOR</td>\n",
       "      <td>rusrap</td>\n",
       "      <td>Saint-Petersburg</td>\n",
       "      <td>13:09:41</td>\n",
       "      <td>Friday</td>\n",
       "    </tr>\n",
       "    <tr>\n",
       "      <th>6</th>\n",
       "      <td>4CB90AA5</td>\n",
       "      <td>True</td>\n",
       "      <td>Roman Messer</td>\n",
       "      <td>dance</td>\n",
       "      <td>Moscow</td>\n",
       "      <td>13:00:07</td>\n",
       "      <td>Wednesday</td>\n",
       "    </tr>\n",
       "    <tr>\n",
       "      <th>7</th>\n",
       "      <td>F03E1C1F</td>\n",
       "      <td>Feeling This Way</td>\n",
       "      <td>Polina Griffith</td>\n",
       "      <td>dance</td>\n",
       "      <td>Moscow</td>\n",
       "      <td>20:47:49</td>\n",
       "      <td>Wednesday</td>\n",
       "    </tr>\n",
       "    <tr>\n",
       "      <th>8</th>\n",
       "      <td>8FA1D3BE</td>\n",
       "      <td>И вновь продолжается бой</td>\n",
       "      <td>NaN</td>\n",
       "      <td>ruspop</td>\n",
       "      <td>Moscow</td>\n",
       "      <td>09:17:40</td>\n",
       "      <td>Friday</td>\n",
       "    </tr>\n",
       "    <tr>\n",
       "      <th>9</th>\n",
       "      <td>E772D5C0</td>\n",
       "      <td>Pessimist</td>\n",
       "      <td>NaN</td>\n",
       "      <td>dance</td>\n",
       "      <td>Saint-Petersburg</td>\n",
       "      <td>21:20:49</td>\n",
       "      <td>Wednesday</td>\n",
       "    </tr>\n",
       "  </tbody>\n",
       "</table>\n",
       "</div>"
      ],
      "text/plain": [
       "     userID                        Track            artist   genre  \\\n",
       "0  FFB692EC            Kamigata To Boots  The Mass Missile    rock   \n",
       "1  55204538  Delayed Because of Accident  Andreas Rönnberg    rock   \n",
       "2    20EC38            Funiculì funiculà       Mario Lanza     pop   \n",
       "3  A3DD03C9        Dragons in the Sunset        Fire + Ice    folk   \n",
       "4  E2DC1FAE                  Soul People        Space Echo   dance   \n",
       "5  842029A1                    Преданная         IMPERVTOR  rusrap   \n",
       "6  4CB90AA5                         True      Roman Messer   dance   \n",
       "7  F03E1C1F             Feeling This Way   Polina Griffith   dance   \n",
       "8  8FA1D3BE     И вновь продолжается бой               NaN  ruspop   \n",
       "9  E772D5C0                    Pessimist               NaN   dance   \n",
       "\n",
       "             City        time        Day  \n",
       "0  Saint-Petersburg  20:28:33  Wednesday  \n",
       "1            Moscow  14:07:09     Friday  \n",
       "2  Saint-Petersburg  20:58:07  Wednesday  \n",
       "3  Saint-Petersburg  08:37:09     Monday  \n",
       "4            Moscow  08:34:34     Monday  \n",
       "5  Saint-Petersburg  13:09:41     Friday  \n",
       "6            Moscow  13:00:07  Wednesday  \n",
       "7            Moscow  20:47:49  Wednesday  \n",
       "8            Moscow  09:17:40     Friday  \n",
       "9  Saint-Petersburg  21:20:49  Wednesday  "
      ]
     },
     "execution_count": 3,
     "metadata": {},
     "output_type": "execute_result"
    }
   ],
   "source": [
    "# получение первых 10 строк таблицы df\n",
    "df.head(10)"
   ]
  },
  {
   "cell_type": "markdown",
   "metadata": {
    "deletable": false,
    "editable": false,
    "id": "EO73Kwic_Zct",
    "tags": [
     "start_task"
    ]
   },
   "source": [
    "**Задание 4**"
   ]
  },
  {
   "cell_type": "code",
   "execution_count": 4,
   "metadata": {
    "deletable": false,
    "id": "DSf2kIb-_Zct"
   },
   "outputs": [
    {
     "name": "stdout",
     "output_type": "stream",
     "text": [
      "<class 'pandas.core.frame.DataFrame'>\n",
      "RangeIndex: 65079 entries, 0 to 65078\n",
      "Data columns (total 7 columns):\n",
      " #   Column    Non-Null Count  Dtype \n",
      "---  ------    --------------  ----- \n",
      " 0     userID  65079 non-null  object\n",
      " 1   Track     63848 non-null  object\n",
      " 2   artist    57876 non-null  object\n",
      " 3   genre     63881 non-null  object\n",
      " 4     City    65079 non-null  object\n",
      " 5   time      65079 non-null  object\n",
      " 6   Day       65079 non-null  object\n",
      "dtypes: object(7)\n",
      "memory usage: 3.5+ MB\n"
     ]
    }
   ],
   "source": [
    "# получение общей информации о данных в таблице df\n",
    "df.info()"
   ]
  },
  {
   "cell_type": "markdown",
   "metadata": {
    "deletable": false,
    "editable": false,
    "id": "TaQ2Iwbr_Zct"
   },
   "source": [
    "Количество значений в столбцах различается. Значит, в данных есть пропущенные значения."
   ]
  },
  {
   "cell_type": "markdown",
   "metadata": {
    "deletable": false,
    "editable": false,
    "id": "4P0UCWzswgEm",
    "tags": [
     "start_task"
    ]
   },
   "source": [
    "**Задание 5**"
   ]
  },
  {
   "cell_type": "code",
   "execution_count": 5,
   "metadata": {
    "id": "c137-ZstwgEm"
   },
   "outputs": [],
   "source": [
    "# Имя колонки userID задано с нарушение стиля:\n",
    "#    1. Строчные буквы сочетаются с прописными\n",
    "#    2. Слова написаны слитно. Правильно: user_id"
   ]
  },
  {
   "cell_type": "markdown",
   "metadata": {
    "deletable": false,
    "editable": false,
    "id": "MCB6-dXG_Zct"
   },
   "source": [
    "**Выводы**\n",
    "\n",
    "В каждой строке таблицы — данные о прослушанном треке. Часть колонок описывает саму композицию: название, исполнителя и жанр. Остальные данные рассказывают о пользователе: из какого он города, когда он слушал музыку.\n",
    "\n",
    "Предварительно можно утверждать, что данных достаточно для проверки гипотез. Но встречаются пропуски в данных, а в названиях колонок — расхождения с хорошим стилем.\n",
    "\n",
    "Чтобы двигаться дальше, нужно устранить проблемы в данных."
   ]
  },
  {
   "cell_type": "markdown",
   "metadata": {
    "deletable": false,
    "editable": false,
    "id": "SjYF6Ub9_Zct"
   },
   "source": [
    "## Предобработка данных"
   ]
  },
  {
   "cell_type": "markdown",
   "metadata": {
    "deletable": false,
    "editable": false,
    "id": "dIaKXr29_Zct",
    "tags": [
     "start_task"
    ]
   },
   "source": [
    "### Переименование столбцов\n",
    "\n",
    "**Задание 6**"
   ]
  },
  {
   "cell_type": "code",
   "execution_count": 6,
   "metadata": {
    "deletable": false,
    "id": "oKOTdF_Q_Zct"
   },
   "outputs": [
    {
     "data": {
      "text/plain": [
       "Index(['  userID', 'Track', 'artist', 'genre', '  City  ', 'time', 'Day'], dtype='object')"
      ]
     },
     "execution_count": 6,
     "metadata": {},
     "output_type": "execute_result"
    }
   ],
   "source": [
    "# перечень названий столбцов таблицы df\n",
    "df.columns"
   ]
  },
  {
   "cell_type": "markdown",
   "metadata": {
    "deletable": false,
    "editable": false,
    "id": "zj5534cv_Zct",
    "tags": [
     "start_task"
    ]
   },
   "source": [
    "**Задание 7**"
   ]
  },
  {
   "cell_type": "code",
   "execution_count": 7,
   "metadata": {
    "deletable": false,
    "id": "ISlFqs5y_Zct"
   },
   "outputs": [],
   "source": [
    "# переименование столбцов\n",
    "df = df.rename(columns={'  userID': 'user_id', 'Track': 'track', '  City  ': 'city', 'Day': 'day'})"
   ]
  },
  {
   "cell_type": "markdown",
   "metadata": {
    "deletable": false,
    "editable": false,
    "id": "1dqbh00J_Zct",
    "tags": [
     "start_task"
    ]
   },
   "source": [
    "**Задание 8**"
   ]
  },
  {
   "cell_type": "code",
   "execution_count": 8,
   "metadata": {
    "deletable": false,
    "id": "d4NOAmTW_Zct"
   },
   "outputs": [
    {
     "data": {
      "text/plain": [
       "Index(['user_id', 'track', 'artist', 'genre', 'city', 'time', 'day'], dtype='object')"
      ]
     },
     "execution_count": 8,
     "metadata": {},
     "output_type": "execute_result"
    }
   ],
   "source": [
    "# проверка результатов - перечень названий столбцов\n",
    "df.columns"
   ]
  },
  {
   "cell_type": "markdown",
   "metadata": {
    "deletable": false,
    "editable": false,
    "id": "5ISfbcfY_Zct",
    "tags": [
     "start_task"
    ]
   },
   "source": [
    "### Обработка пропущенных значений\n",
    "\n",
    "**Задание 9**"
   ]
  },
  {
   "cell_type": "code",
   "execution_count": 9,
   "metadata": {
    "deletable": false,
    "id": "RskX29qr_Zct"
   },
   "outputs": [
    {
     "data": {
      "text/plain": [
       "user_id       0\n",
       "track      1231\n",
       "artist     7203\n",
       "genre      1198\n",
       "city          0\n",
       "time          0\n",
       "day           0\n",
       "dtype: int64"
      ]
     },
     "execution_count": 9,
     "metadata": {},
     "output_type": "execute_result"
    }
   ],
   "source": [
    "# подсчёт пропусков\n",
    "df.isna().sum()"
   ]
  },
  {
   "cell_type": "markdown",
   "metadata": {
    "deletable": false,
    "editable": false,
    "id": "fSv2laPA_Zct",
    "tags": [
     "start_task"
    ]
   },
   "source": [
    "**Задание 10**"
   ]
  },
  {
   "cell_type": "code",
   "execution_count": 10,
   "metadata": {
    "deletable": false,
    "id": "KplB5qWs_Zct"
   },
   "outputs": [],
   "source": [
    "# замена пропущенных значений на 'unknown'\n",
    "columns_to_replace = ['track', 'artist', 'genre']\n",
    "for column in columns_to_replace:\n",
    "    df[column] = df[column].fillna('unknown') "
   ]
  },
  {
   "cell_type": "markdown",
   "metadata": {
    "deletable": false,
    "editable": false,
    "id": "Ilsm-MZo_Zct",
    "tags": [
     "start_task"
    ]
   },
   "source": [
    "**Задание 11**"
   ]
  },
  {
   "cell_type": "code",
   "execution_count": 11,
   "metadata": {
    "deletable": false,
    "id": "Tq4nYRX4_Zct"
   },
   "outputs": [
    {
     "data": {
      "text/plain": [
       "user_id    0\n",
       "track      0\n",
       "artist     0\n",
       "genre      0\n",
       "city       0\n",
       "time       0\n",
       "day        0\n",
       "dtype: int64"
      ]
     },
     "execution_count": 11,
     "metadata": {},
     "output_type": "execute_result"
    }
   ],
   "source": [
    "# проверка на отсутствие пропусков\n",
    "df.isna().sum()"
   ]
  },
  {
   "cell_type": "markdown",
   "metadata": {
    "deletable": false,
    "editable": false,
    "id": "BWKRtBJ3_Zct",
    "tags": [
     "start_task"
    ]
   },
   "source": [
    "### Обработка дубликатов\n",
    "\n",
    "**Задание 12**"
   ]
  },
  {
   "cell_type": "code",
   "execution_count": 12,
   "metadata": {
    "deletable": false,
    "id": "36eES_S0_Zct"
   },
   "outputs": [
    {
     "data": {
      "text/plain": [
       "3826"
      ]
     },
     "execution_count": 12,
     "metadata": {},
     "output_type": "execute_result"
    }
   ],
   "source": [
    "# подсчёт явных дубликатов\n",
    "df.duplicated().sum()"
   ]
  },
  {
   "cell_type": "markdown",
   "metadata": {
    "deletable": false,
    "editable": false,
    "id": "Ot25h6XR_Zct",
    "tags": [
     "start_task"
    ]
   },
   "source": [
    "**Задание 13**"
   ]
  },
  {
   "cell_type": "code",
   "execution_count": 13,
   "metadata": {
    "deletable": false,
    "id": "exFHq6tt_Zct"
   },
   "outputs": [],
   "source": [
    "# удаление явных дубликатов, создание новых индексов и удаление старых\n",
    "df = df.drop_duplicates().reset_index(drop=True)"
   ]
  },
  {
   "cell_type": "markdown",
   "metadata": {
    "deletable": false,
    "editable": false,
    "id": "Im2YwBEG_Zct",
    "tags": [
     "start_task"
    ]
   },
   "source": [
    "**Задание 14**"
   ]
  },
  {
   "cell_type": "code",
   "execution_count": 14,
   "metadata": {
    "deletable": false,
    "id": "-8PuNWQ0_Zct"
   },
   "outputs": [
    {
     "data": {
      "text/plain": [
       "0"
      ]
     },
     "execution_count": 14,
     "metadata": {},
     "output_type": "execute_result"
    }
   ],
   "source": [
    "# проверка на отсутствие явных дубликатов\n",
    "df.duplicated().sum()"
   ]
  },
  {
   "cell_type": "markdown",
   "metadata": {
    "deletable": false,
    "editable": false,
    "id": "eSjWwsOh_Zct",
    "tags": [
     "start_task"
    ]
   },
   "source": [
    "**Задание 15**"
   ]
  },
  {
   "cell_type": "code",
   "execution_count": 15,
   "metadata": {
    "deletable": false,
    "id": "JIUcqzZN_Zct"
   },
   "outputs": [
    {
     "data": {
      "text/plain": [
       "array(['acid', 'acoustic', 'action', 'adult', 'africa', 'afrikaans',\n",
       "       'alternative', 'alternativepunk', 'ambient', 'americana',\n",
       "       'animated', 'anime', 'arabesk', 'arabic', 'arena',\n",
       "       'argentinetango', 'art', 'audiobook', 'author', 'avantgarde',\n",
       "       'axé', 'baile', 'balkan', 'beats', 'bigroom', 'black', 'bluegrass',\n",
       "       'blues', 'bollywood', 'bossa', 'brazilian', 'breakbeat', 'breaks',\n",
       "       'broadway', 'cantautori', 'cantopop', 'canzone', 'caribbean',\n",
       "       'caucasian', 'celtic', 'chamber', 'chanson', 'children', 'chill',\n",
       "       'chinese', 'choral', 'christian', 'christmas', 'classical',\n",
       "       'classicmetal', 'club', 'colombian', 'comedy', 'conjazz',\n",
       "       'contemporary', 'country', 'cuban', 'dance', 'dancehall',\n",
       "       'dancepop', 'dark', 'death', 'deep', 'deutschrock', 'deutschspr',\n",
       "       'dirty', 'disco', 'dnb', 'documentary', 'downbeat', 'downtempo',\n",
       "       'drum', 'dub', 'dubstep', 'eastern', 'easy', 'electronic',\n",
       "       'electropop', 'emo', 'entehno', 'epicmetal', 'estrada', 'ethnic',\n",
       "       'eurofolk', 'european', 'experimental', 'extrememetal', 'fado',\n",
       "       'fairytail', 'film', 'fitness', 'flamenco', 'folk', 'folklore',\n",
       "       'folkmetal', 'folkrock', 'folktronica', 'forró', 'frankreich',\n",
       "       'französisch', 'french', 'funk', 'future', 'gangsta', 'garage',\n",
       "       'german', 'ghazal', 'gitarre', 'glitch', 'gospel', 'gothic',\n",
       "       'grime', 'grunge', 'gypsy', 'handsup', \"hard'n'heavy\", 'hardcore',\n",
       "       'hardstyle', 'hardtechno', 'hip', 'hip-hop', 'hiphop',\n",
       "       'historisch', 'holiday', 'hop', 'horror', 'house', 'hymn', 'idm',\n",
       "       'independent', 'indian', 'indie', 'indipop', 'industrial',\n",
       "       'inspirational', 'instrumental', 'international', 'irish', 'jam',\n",
       "       'japanese', 'jazz', 'jewish', 'jpop', 'jungle', 'k-pop',\n",
       "       'karadeniz', 'karaoke', 'kayokyoku', 'korean', 'laiko', 'latin',\n",
       "       'latino', 'leftfield', 'local', 'lounge', 'loungeelectronic',\n",
       "       'lovers', 'malaysian', 'mandopop', 'marschmusik', 'meditative',\n",
       "       'mediterranean', 'melodic', 'metal', 'metalcore', 'mexican',\n",
       "       'middle', 'minimal', 'miscellaneous', 'modern', 'mood', 'mpb',\n",
       "       'muslim', 'native', 'neoklassik', 'neue', 'new', 'newage',\n",
       "       'newwave', 'nu', 'nujazz', 'numetal', 'oceania', 'old', 'opera',\n",
       "       'orchestral', 'other', 'piano', 'podcasts', 'pop', 'popdance',\n",
       "       'popelectronic', 'popeurodance', 'poprussian', 'post',\n",
       "       'posthardcore', 'postrock', 'power', 'progmetal', 'progressive',\n",
       "       'psychedelic', 'punjabi', 'punk', 'quebecois', 'ragga', 'ram',\n",
       "       'rancheras', 'rap', 'rave', 'reggae', 'reggaeton', 'regional',\n",
       "       'relax', 'religious', 'retro', 'rhythm', 'rnb', 'rnr', 'rock',\n",
       "       'rockabilly', 'rockalternative', 'rockindie', 'rockother',\n",
       "       'romance', 'roots', 'ruspop', 'rusrap', 'rusrock', 'russian',\n",
       "       'salsa', 'samba', 'scenic', 'schlager', 'self', 'sertanejo',\n",
       "       'shanson', 'shoegazing', 'showtunes', 'singer', 'ska', 'skarock',\n",
       "       'slow', 'smooth', 'soft', 'soul', 'soulful', 'sound', 'soundtrack',\n",
       "       'southern', 'specialty', 'speech', 'spiritual', 'sport',\n",
       "       'stonerrock', 'surf', 'swing', 'synthpop', 'synthrock',\n",
       "       'sängerportrait', 'tango', 'tanzorchester', 'taraftar', 'tatar',\n",
       "       'tech', 'techno', 'teen', 'thrash', 'top', 'traditional',\n",
       "       'tradjazz', 'trance', 'tribal', 'trip', 'triphop', 'tropical',\n",
       "       'türk', 'türkçe', 'ukrrock', 'unknown', 'urban', 'uzbek',\n",
       "       'variété', 'vi', 'videogame', 'vocal', 'western', 'world',\n",
       "       'worldbeat', 'ïîï', 'электроника'], dtype=object)"
      ]
     },
     "execution_count": 15,
     "metadata": {},
     "output_type": "execute_result"
    }
   ],
   "source": [
    "# просмотр уникальных отсортированных названий жанров\n",
    "df['genre'].sort_values().unique()"
   ]
  },
  {
   "cell_type": "markdown",
   "metadata": {
    "deletable": false,
    "editable": false,
    "id": "qej-Qmuo_Zct",
    "tags": [
     "start_task"
    ]
   },
   "source": [
    "**Задание 16**"
   ]
  },
  {
   "cell_type": "code",
   "execution_count": 16,
   "metadata": {
    "deletable": false,
    "id": "ErNDkmns_Zct"
   },
   "outputs": [],
   "source": [
    "# устранение неявных дубликатов\n",
    "df = df.replace('hip', 'hiphop')\n",
    "df = df.replace('hop', 'hiphop')\n",
    "df = df.replace('hip-hop', 'hiphop')"
   ]
  },
  {
   "cell_type": "markdown",
   "metadata": {
    "deletable": false,
    "editable": false,
    "id": "zQKF16_RG15m",
    "tags": [
     "start_task"
    ]
   },
   "source": [
    "**Задание 17**"
   ]
  },
  {
   "cell_type": "code",
   "execution_count": 17,
   "metadata": {
    "deletable": false,
    "id": "wvixALnFG15m"
   },
   "outputs": [
    {
     "data": {
      "text/plain": [
       "array(['acid', 'acoustic', 'action', 'adult', 'africa', 'afrikaans',\n",
       "       'alternative', 'alternativepunk', 'ambient', 'americana',\n",
       "       'animated', 'anime', 'arabesk', 'arabic', 'arena',\n",
       "       'argentinetango', 'art', 'audiobook', 'author', 'avantgarde',\n",
       "       'axé', 'baile', 'balkan', 'beats', 'bigroom', 'black', 'bluegrass',\n",
       "       'blues', 'bollywood', 'bossa', 'brazilian', 'breakbeat', 'breaks',\n",
       "       'broadway', 'cantautori', 'cantopop', 'canzone', 'caribbean',\n",
       "       'caucasian', 'celtic', 'chamber', 'chanson', 'children', 'chill',\n",
       "       'chinese', 'choral', 'christian', 'christmas', 'classical',\n",
       "       'classicmetal', 'club', 'colombian', 'comedy', 'conjazz',\n",
       "       'contemporary', 'country', 'cuban', 'dance', 'dancehall',\n",
       "       'dancepop', 'dark', 'death', 'deep', 'deutschrock', 'deutschspr',\n",
       "       'dirty', 'disco', 'dnb', 'documentary', 'downbeat', 'downtempo',\n",
       "       'drum', 'dub', 'dubstep', 'eastern', 'easy', 'electronic',\n",
       "       'electropop', 'emo', 'entehno', 'epicmetal', 'estrada', 'ethnic',\n",
       "       'eurofolk', 'european', 'experimental', 'extrememetal', 'fado',\n",
       "       'fairytail', 'film', 'fitness', 'flamenco', 'folk', 'folklore',\n",
       "       'folkmetal', 'folkrock', 'folktronica', 'forró', 'frankreich',\n",
       "       'französisch', 'french', 'funk', 'future', 'gangsta', 'garage',\n",
       "       'german', 'ghazal', 'gitarre', 'glitch', 'gospel', 'gothic',\n",
       "       'grime', 'grunge', 'gypsy', 'handsup', \"hard'n'heavy\", 'hardcore',\n",
       "       'hardstyle', 'hardtechno', 'hiphop', 'historisch', 'holiday',\n",
       "       'horror', 'house', 'hymn', 'idm', 'independent', 'indian', 'indie',\n",
       "       'indipop', 'industrial', 'inspirational', 'instrumental',\n",
       "       'international', 'irish', 'jam', 'japanese', 'jazz', 'jewish',\n",
       "       'jpop', 'jungle', 'k-pop', 'karadeniz', 'karaoke', 'kayokyoku',\n",
       "       'korean', 'laiko', 'latin', 'latino', 'leftfield', 'local',\n",
       "       'lounge', 'loungeelectronic', 'lovers', 'malaysian', 'mandopop',\n",
       "       'marschmusik', 'meditative', 'mediterranean', 'melodic', 'metal',\n",
       "       'metalcore', 'mexican', 'middle', 'minimal', 'miscellaneous',\n",
       "       'modern', 'mood', 'mpb', 'muslim', 'native', 'neoklassik', 'neue',\n",
       "       'new', 'newage', 'newwave', 'nu', 'nujazz', 'numetal', 'oceania',\n",
       "       'old', 'opera', 'orchestral', 'other', 'piano', 'podcasts', 'pop',\n",
       "       'popdance', 'popelectronic', 'popeurodance', 'poprussian', 'post',\n",
       "       'posthardcore', 'postrock', 'power', 'progmetal', 'progressive',\n",
       "       'psychedelic', 'punjabi', 'punk', 'quebecois', 'ragga', 'ram',\n",
       "       'rancheras', 'rap', 'rave', 'reggae', 'reggaeton', 'regional',\n",
       "       'relax', 'religious', 'retro', 'rhythm', 'rnb', 'rnr', 'rock',\n",
       "       'rockabilly', 'rockalternative', 'rockindie', 'rockother',\n",
       "       'romance', 'roots', 'ruspop', 'rusrap', 'rusrock', 'russian',\n",
       "       'salsa', 'samba', 'scenic', 'schlager', 'self', 'sertanejo',\n",
       "       'shanson', 'shoegazing', 'showtunes', 'singer', 'ska', 'skarock',\n",
       "       'slow', 'smooth', 'soft', 'soul', 'soulful', 'sound', 'soundtrack',\n",
       "       'southern', 'specialty', 'speech', 'spiritual', 'sport',\n",
       "       'stonerrock', 'surf', 'swing', 'synthpop', 'synthrock',\n",
       "       'sängerportrait', 'tango', 'tanzorchester', 'taraftar', 'tatar',\n",
       "       'tech', 'techno', 'teen', 'thrash', 'top', 'traditional',\n",
       "       'tradjazz', 'trance', 'tribal', 'trip', 'triphop', 'tropical',\n",
       "       'türk', 'türkçe', 'ukrrock', 'unknown', 'urban', 'uzbek',\n",
       "       'variété', 'vi', 'videogame', 'vocal', 'western', 'world',\n",
       "       'worldbeat', 'ïîï', 'электроника'], dtype=object)"
      ]
     },
     "execution_count": 17,
     "metadata": {},
     "output_type": "execute_result"
    }
   ],
   "source": [
    "# проверка на отсутствие неявных дубликатов\n",
    "df['genre'].sort_values().unique()"
   ]
  },
  {
   "cell_type": "markdown",
   "metadata": {
    "deletable": false,
    "editable": false,
    "id": "jz6a9-7HQUDd"
   },
   "source": [
    "**Выводы**\n",
    "\n",
    "Предобработка обнаружила три проблемы в данных:\n",
    "\n",
    "- нарушения в стиле заголовков,\n",
    "- пропущенные значения,\n",
    "- дубликаты — явные и неявные.\n",
    "\n",
    "Вы исправили заголовки, чтобы упростить работу с таблицей. Без дубликатов исследование станет более точным.\n",
    "\n",
    "Пропущенные значения вы заменили на `'unknown'`. Ещё предстоит увидеть, не повредят ли исследованию пропуски в колонке `genre`.\n",
    "\n",
    "Теперь можно перейти к проверке гипотез."
   ]
  },
  {
   "cell_type": "markdown",
   "metadata": {
    "deletable": false,
    "editable": false,
    "id": "WttZHXH0SqKk"
   },
   "source": [
    "## Проверка гипотез"
   ]
  },
  {
   "cell_type": "markdown",
   "metadata": {
    "deletable": false,
    "editable": false,
    "id": "Im936VVi_Zcu"
   },
   "source": [
    "### Сравнение поведения пользователей двух столиц"
   ]
  },
  {
   "cell_type": "markdown",
   "metadata": {
    "deletable": false,
    "editable": false,
    "id": "nwt_MuaL_Zcu"
   },
   "source": [
    "Первая гипотеза утверждает, что пользователи по-разному слушают музыку в Москве и Санкт-Петербурге. Проверим это предположение по данным о трёх днях недели — понедельнике, среде и пятнице. Для этого:\n",
    "\n",
    "* Разделим пользователей Москвы и Санкт-Петербурга.\n",
    "* Сравним, сколько треков послушала каждая группа пользователей в понедельник, среду и пятницу.\n"
   ]
  },
  {
   "cell_type": "markdown",
   "metadata": {
    "deletable": false,
    "id": "8Dw_YMmT_Zcu",
    "tags": [
     "start_task"
    ]
   },
   "source": [
    "**Задание 18**\n",
    "\n"
   ]
  },
  {
   "cell_type": "code",
   "execution_count": 18,
   "metadata": {
    "deletable": false,
    "id": "0_Qs96oh_Zcu"
   },
   "outputs": [
    {
     "data": {
      "text/plain": [
       "city\n",
       "Moscow              42741\n",
       "Saint-Petersburg    18512\n",
       "Name: track, dtype: int64"
      ]
     },
     "execution_count": 18,
     "metadata": {},
     "output_type": "execute_result"
    }
   ],
   "source": [
    "# подсчёт прослушиваний в каждом городе\n",
    "df.groupby('city')['track'].count()"
   ]
  },
  {
   "cell_type": "markdown",
   "metadata": {
    "id": "dzli3w8o_Zcu",
    "tags": [
     "start_task"
    ]
   },
   "source": [
    "**Задание 19**\n"
   ]
  },
  {
   "cell_type": "code",
   "execution_count": 19,
   "metadata": {
    "deletable": false,
    "id": "uZMKjiJz_Zcu"
   },
   "outputs": [
    {
     "data": {
      "text/plain": [
       "day\n",
       "Friday       21840\n",
       "Monday       21354\n",
       "Wednesday    18059\n",
       "Name: track, dtype: int64"
      ]
     },
     "execution_count": 19,
     "metadata": {},
     "output_type": "execute_result"
    }
   ],
   "source": [
    "# подсчёт прослушиваний в каждый из трёх дней\n",
    "df.groupby('day')['track'].count()"
   ]
  },
  {
   "cell_type": "markdown",
   "metadata": {
    "deletable": false,
    "editable": false,
    "id": "POzs8bGa_Zcu",
    "tags": [
     "start_task"
    ]
   },
   "source": [
    "**Задание 20**"
   ]
  },
  {
   "cell_type": "code",
   "execution_count": 20,
   "metadata": {
    "deletable": false,
    "id": "Nz3GdQB1_Zcu"
   },
   "outputs": [],
   "source": [
    "def number_tracks(day, city):\n",
    "    # выберите только строки df со значением переменной day в столбце day\n",
    "    track_list = df[df['day']==day]\n",
    "    # выберите только строки track_list со значением переменной city в столбце city\n",
    "    track_list = track_list[track_list['city']==city]\n",
    "    # вызовите метод подсчета строк для track_list и выберите столбец user_id\n",
    "    track_list_count = track_list['user_id'].count()\n",
    "    # верните значение track_list_count из функции\n",
    "    return track_list_count"
   ]
  },
  {
   "cell_type": "markdown",
   "metadata": {
    "deletable": false,
    "editable": false,
    "id": "ytf7xFrFJQ2r",
    "tags": [
     "start_task"
    ]
   },
   "source": [
    "**Задание 21**"
   ]
  },
  {
   "cell_type": "code",
   "execution_count": 21,
   "metadata": {
    "deletable": false,
    "id": "rJcRATNQ_Zcu"
   },
   "outputs": [
    {
     "name": "stdout",
     "output_type": "stream",
     "text": [
      "15740\n",
      "5614\n",
      "11056\n",
      "7003\n",
      "15945\n",
      "5895\n"
     ]
    }
   ],
   "source": [
    "# количество прослушиваний в Москве по понедельникам\n",
    "day_city_list = [\n",
    "    ['Monday', 'Moscow'],\n",
    "    ['Monday', 'Saint-Petersburg'],\n",
    "    ['Wednesday', 'Moscow'],\n",
    "    ['Wednesday', 'Saint-Petersburg'],\n",
    "    ['Friday', 'Moscow'],\n",
    "    ['Friday', 'Saint-Petersburg']\n",
    "]\n",
    "for i in day_city_list:\n",
    "    day_city_filtered = number_tracks(i[0], i[1])\n",
    "    print(day_city_filtered)"
   ]
  },
  {
   "cell_type": "code",
   "execution_count": 22,
   "metadata": {
    "deletable": false,
    "id": "hq_ncZ5T_Zcu"
   },
   "outputs": [],
   "source": [
    "# количество прослушиваний в Санкт-Петербурге по понедельникам"
   ]
  },
  {
   "cell_type": "code",
   "execution_count": 23,
   "metadata": {
    "deletable": false,
    "id": "_NTy2VPU_Zcu"
   },
   "outputs": [],
   "source": [
    "# количество прослушиваний в Москве по средам"
   ]
  },
  {
   "cell_type": "code",
   "execution_count": 24,
   "metadata": {
    "deletable": false,
    "id": "j2y3TAwo_Zcu"
   },
   "outputs": [],
   "source": [
    "# количество прослушиваний в Санкт-Петербурге по средам"
   ]
  },
  {
   "cell_type": "code",
   "execution_count": 25,
   "metadata": {
    "deletable": false,
    "id": "vYDw5u_K_Zcu"
   },
   "outputs": [],
   "source": [
    "# количество прослушиваний в Москве по пятницам"
   ]
  },
  {
   "cell_type": "code",
   "execution_count": 26,
   "metadata": {
    "deletable": false,
    "id": "8_yzFtW3_Zcu"
   },
   "outputs": [],
   "source": [
    "# количество прослушиваний в Санкт-Петербурге по пятницам"
   ]
  },
  {
   "cell_type": "markdown",
   "metadata": {
    "deletable": false,
    "editable": false,
    "id": "7QXffbO-_Zcu",
    "tags": [
     "start_task"
    ]
   },
   "source": [
    "**Задание 22**"
   ]
  },
  {
   "cell_type": "code",
   "execution_count": 27,
   "metadata": {
    "deletable": false,
    "id": "APAcLpOr_Zcu"
   },
   "outputs": [
    {
     "data": {
      "text/html": [
       "<div>\n",
       "<style scoped>\n",
       "    .dataframe tbody tr th:only-of-type {\n",
       "        vertical-align: middle;\n",
       "    }\n",
       "\n",
       "    .dataframe tbody tr th {\n",
       "        vertical-align: top;\n",
       "    }\n",
       "\n",
       "    .dataframe thead th {\n",
       "        text-align: right;\n",
       "    }\n",
       "</style>\n",
       "<table border=\"1\" class=\"dataframe\">\n",
       "  <thead>\n",
       "    <tr style=\"text-align: right;\">\n",
       "      <th></th>\n",
       "      <th>city</th>\n",
       "      <th>monday</th>\n",
       "      <th>wednesday</th>\n",
       "      <th>friday</th>\n",
       "    </tr>\n",
       "  </thead>\n",
       "  <tbody>\n",
       "    <tr>\n",
       "      <th>0</th>\n",
       "      <td>Москва</td>\n",
       "      <td>15740</td>\n",
       "      <td>11056</td>\n",
       "      <td>15945</td>\n",
       "    </tr>\n",
       "    <tr>\n",
       "      <th>1</th>\n",
       "      <td>Санкт-Петербург</td>\n",
       "      <td>5614</td>\n",
       "      <td>7003</td>\n",
       "      <td>5895</td>\n",
       "    </tr>\n",
       "  </tbody>\n",
       "</table>\n",
       "</div>"
      ],
      "text/plain": [
       "              city  monday  wednesday  friday\n",
       "0           Москва   15740      11056   15945\n",
       "1  Санкт-Петербург    5614       7003    5895"
      ]
     },
     "execution_count": 27,
     "metadata": {},
     "output_type": "execute_result"
    }
   ],
   "source": [
    "# создание таблицы с результатами\n",
    "info = pd.DataFrame(data=[['Москва', 15740, 11056, 15945],\n",
    "                          ['Санкт-Петербург', 5614, 7003, 5895]], \n",
    "                    columns=['city', 'monday', 'wednesday', 'friday'])\n",
    "# вывод таблицы на экран\n",
    "info \n",
    "\n"
   ]
  },
  {
   "cell_type": "markdown",
   "metadata": {
    "deletable": false,
    "editable": false,
    "id": "-EgPIHYu_Zcu"
   },
   "source": [
    "**Выводы**\n",
    "\n",
    "Данные показывают разницу поведения пользователей:\n",
    "\n",
    "- В Москве пик прослушиваний приходится на понедельник и пятницу, а в среду заметен спад.\n",
    "- В Петербурге, наоборот, больше слушают музыку по средам. Активность в понедельник и пятницу здесь почти в равной мере уступает среде.\n",
    "\n",
    "Значит, данные говорят в пользу первой гипотезы."
   ]
  },
  {
   "cell_type": "markdown",
   "metadata": {
    "deletable": false,
    "editable": false,
    "id": "atZAxtq4_Zcu"
   },
   "source": [
    "### Музыка в начале и в конце недели"
   ]
  },
  {
   "cell_type": "markdown",
   "metadata": {
    "deletable": false,
    "editable": false,
    "id": "eXrQqXFH_Zcu"
   },
   "source": [
    "Согласно второй гипотезе, утром в понедельник в Москве преобладают одни жанры, а в Петербурге — другие. Так же и вечером пятницы преобладают разные жанры — в зависимости от города."
   ]
  },
  {
   "cell_type": "markdown",
   "metadata": {
    "deletable": false,
    "editable": false,
    "id": "S8UcW6Hw_Zcu",
    "tags": [
     "start_task"
    ]
   },
   "source": [
    "**Задание 23**"
   ]
  },
  {
   "cell_type": "code",
   "execution_count": 28,
   "metadata": {
    "deletable": false,
    "id": "qeaFfM_P_Zcu"
   },
   "outputs": [],
   "source": [
    "# получение таблицы moscow_general из тех строк таблицы df, для которых значение в столбце 'city' равно 'Moscow'\n",
    "moscow_general = df[df['city'] == 'Moscow']"
   ]
  },
  {
   "cell_type": "code",
   "execution_count": 29,
   "metadata": {
    "deletable": false,
    "id": "ORaVRKto_Zcu"
   },
   "outputs": [],
   "source": [
    "# получение таблицы spb_general из тех строк таблицы df, для которых значение в столбце 'city' равно 'Saint-Petersburg'\n",
    "spb_general = df[df['city'] == 'Saint-Petersburg']"
   ]
  },
  {
   "cell_type": "markdown",
   "metadata": {
    "deletable": false,
    "editable": false,
    "id": "MEJV-CX2_Zcu",
    "tags": [
     "start_task"
    ]
   },
   "source": [
    "**Задание 24**"
   ]
  },
  {
   "cell_type": "code",
   "execution_count": 30,
   "metadata": {
    "deletable": false,
    "id": "laJT9BYl_Zcu"
   },
   "outputs": [],
   "source": [
    "def genre_weekday(df, day, time1, time2):\n",
    "    # последовательная фильтрация\n",
    "    # оставляем в genre_df только те строки df, у которых день равен day\n",
    "    genre_df = df[df['day'] == day]\n",
    "    # оставляем в genre_df только те строки genre_df, у которых время меньше time2\n",
    "    genre_df = genre_df[genre_df['time'] < time2]\n",
    "    # оставляем в genre_df только те строки genre_df, у которых время больше time1\n",
    "    genre_df = genre_df[genre_df['time'] > time1]\n",
    "    # сгруппируем отфильтрованный датафрейм по столбцу с названиями жанров, возьмём столбец genre и посчитаем кол-во строк для каждого жанра методом count()\n",
    "    genre_df_grouped = genre_df.groupby('genre')['genre'].count()\n",
    "    # отсортируем результат по убыванию (чтобы в начале Series оказались самые популярные жанры)\n",
    "    genre_df_sorted = genre_df_grouped.sort_values(ascending=False)\n",
    "    # вернём Series с 10 самыми популярными жанрами в указанный отрезок времени заданного дня\n",
    "    return genre_df_sorted[:10]"
   ]
  },
  {
   "cell_type": "markdown",
   "metadata": {
    "deletable": false,
    "editable": false,
    "id": "la2s2_PF_Zcu",
    "tags": [
     "start_task"
    ]
   },
   "source": [
    "**Задание 25**"
   ]
  },
  {
   "cell_type": "code",
   "execution_count": 31,
   "metadata": {
    "deletable": false,
    "id": "yz7itPUQ_Zcu"
   },
   "outputs": [
    {
     "name": "stdout",
     "output_type": "stream",
     "text": [
      "genre\n",
      "pop            781\n",
      "dance          549\n",
      "electronic     480\n",
      "rock           474\n",
      "hiphop         286\n",
      "ruspop         186\n",
      "world          181\n",
      "rusrap         175\n",
      "alternative    164\n",
      "unknown        161\n",
      "Name: genre, dtype: int64\n",
      "genre\n",
      "pop            218\n",
      "dance          182\n",
      "rock           162\n",
      "electronic     147\n",
      "hiphop          80\n",
      "ruspop          64\n",
      "alternative     58\n",
      "rusrap          55\n",
      "jazz            44\n",
      "classical       40\n",
      "Name: genre, dtype: int64\n",
      "genre\n",
      "pop            713\n",
      "rock           517\n",
      "dance          495\n",
      "electronic     482\n",
      "hiphop         273\n",
      "world          208\n",
      "ruspop         170\n",
      "alternative    163\n",
      "classical      163\n",
      "rusrap         142\n",
      "Name: genre, dtype: int64\n",
      "genre\n",
      "pop            256\n",
      "electronic     216\n",
      "rock           216\n",
      "dance          210\n",
      "hiphop          97\n",
      "alternative     63\n",
      "jazz            61\n",
      "classical       60\n",
      "rusrap          59\n",
      "world           54\n",
      "Name: genre, dtype: int64\n"
     ]
    }
   ],
   "source": [
    "# вызов функции для утра понедельника в Москве (вместо df — таблица moscow_general)\n",
    "day_city_cheack = [\n",
    "    [moscow_general, 'Monday', '07:00', '11:00'],\n",
    "    [spb_general, 'Monday', '07:00', '11:00'],\n",
    "    [moscow_general, 'Friday', '17:00', '23:00'],\n",
    "    [spb_general, 'Friday', '17:00', '23:00']\n",
    "]\n",
    "for i in day_city_cheack:\n",
    "    day_city_filtered = genre_weekday(i[0], i[1], i[2], i[3])\n",
    "    print(day_city_filtered)"
   ]
  },
  {
   "cell_type": "code",
   "execution_count": 32,
   "metadata": {
    "deletable": false,
    "id": "kwUcHPdy_Zcu"
   },
   "outputs": [],
   "source": [
    "# вызов функции для утра понедельника в Петербурге (вместо df — таблица spb_general)"
   ]
  },
  {
   "cell_type": "code",
   "execution_count": 33,
   "metadata": {
    "deletable": false,
    "id": "EzXVRE1o_Zcu"
   },
   "outputs": [],
   "source": [
    "# вызов функции для вечера пятницы в Москве"
   ]
  },
  {
   "cell_type": "code",
   "execution_count": 34,
   "metadata": {
    "deletable": false,
    "id": "JZaEKu5v_Zcu"
   },
   "outputs": [],
   "source": [
    "# вызов функции для вечера пятницы в Петербурге"
   ]
  },
  {
   "cell_type": "markdown",
   "metadata": {
    "deletable": false,
    "editable": false,
    "id": "wrCe4MNX_Zcu"
   },
   "source": [
    "**Выводы**\n",
    "\n",
    "Если сравнить топ-10 жанров в понедельник утром, можно сделать такие выводы:\n",
    "\n",
    "1. В Москве и Петербурге слушают похожую музыку. Единственное различие — в московский рейтинг вошёл жанр “world”, а в петербургский — джаз и классика.\n",
    "\n",
    "2. В Москве пропущенных значений оказалось так много, что значение `'unknown'` заняло десятое место среди самых популярных жанров. Значит, пропущенные значения занимают существенную долю в данных и угрожают достоверности исследования.\n",
    "\n",
    "Вечер пятницы не меняет эту картину. Некоторые жанры поднимаются немного выше, другие спускаются, но в целом топ-10 остаётся тем же самым.\n",
    "\n",
    "Таким образом, вторая гипотеза подтвердилась лишь частично:\n",
    "* Пользователи слушают похожую музыку в начале недели и в конце.\n",
    "* Разница между Москвой и Петербургом не слишком выражена. В Москве чаще слушают русскую популярную музыку, в Петербурге — джаз.\n",
    "\n",
    "Однако пропуски в данных ставят под сомнение этот результат. В Москве их так много, что рейтинг топ-10 мог бы выглядеть иначе, если бы не утерянные  данные о жанрах."
   ]
  },
  {
   "cell_type": "markdown",
   "metadata": {
    "deletable": false,
    "editable": false,
    "id": "JolODAqr_Zcu"
   },
   "source": [
    "### Жанровые предпочтения в Москве и Петербурге\n",
    "\n",
    "Гипотеза: Петербург — столица рэпа, музыку этого жанра там слушают чаще, чем в Москве.  А Москва — город контрастов, в котором, тем не менее, преобладает поп-музыка."
   ]
  },
  {
   "cell_type": "markdown",
   "metadata": {
    "deletable": false,
    "editable": false,
    "id": "DlegSvaT_Zcu",
    "tags": [
     "start_task"
    ]
   },
   "source": [
    "**Задание 26**"
   ]
  },
  {
   "cell_type": "code",
   "execution_count": 35,
   "metadata": {
    "deletable": false,
    "id": "r19lIPke_Zcu"
   },
   "outputs": [],
   "source": [
    "# одной строкой: группировка таблицы moscow_general по столбцу 'genre', выбор столбца `genre`, подсчёт числа значений 'genre' методом count(), сохранение в moscow_genres\n",
    "# сортировка получившегося Series в порядке убывания и сохранение обратно в moscow_genres\n",
    "moscow_genres = moscow_general.groupby('genre')['genre'].count()\n",
    "moscow_genres = moscow_genres.sort_values(ascending=False)"
   ]
  },
  {
   "cell_type": "markdown",
   "metadata": {
    "deletable": false,
    "editable": false,
    "id": "6kMuomxTiIr8",
    "tags": [
     "start_task"
    ]
   },
   "source": [
    "**Задание 27**"
   ]
  },
  {
   "cell_type": "code",
   "execution_count": 36,
   "metadata": {
    "deletable": false,
    "id": "WhCSooF8_Zcv"
   },
   "outputs": [
    {
     "data": {
      "text/plain": [
       "genre\n",
       "pop            5892\n",
       "dance          4435\n",
       "rock           3965\n",
       "electronic     3786\n",
       "hiphop         2096\n",
       "classical      1616\n",
       "world          1432\n",
       "alternative    1379\n",
       "ruspop         1372\n",
       "rusrap         1161\n",
       "Name: genre, dtype: int64"
      ]
     },
     "execution_count": 36,
     "metadata": {},
     "output_type": "execute_result"
    }
   ],
   "source": [
    "# просмотр первых 10 строк moscow_genres\n",
    "moscow_genres.head(10)"
   ]
  },
  {
   "cell_type": "markdown",
   "metadata": {
    "deletable": false,
    "editable": false,
    "id": "cnPG2vnN_Zcv",
    "tags": [
     "start_task"
    ]
   },
   "source": [
    "**Задание 28**"
   ]
  },
  {
   "cell_type": "code",
   "execution_count": 37,
   "metadata": {
    "deletable": false,
    "id": "gluLIpE7_Zcv"
   },
   "outputs": [],
   "source": [
    "# одной строкой: группировка таблицы spb_general по столбцу 'genre', выбор столбца `genre`, подсчёт числа значений 'genre' методом count(), сохранение в spb_genres\n",
    "# сортировка получившегося Series в порядке убывания и сохранение обратно в spb_genres\n",
    "spb_genres = spb_general.groupby('genre')['genre'].count()\n",
    "spb_genres = spb_genres.sort_values(ascending=False)"
   ]
  },
  {
   "cell_type": "markdown",
   "metadata": {
    "deletable": false,
    "editable": false,
    "id": "5Doha_ODgyQ8",
    "tags": [
     "start_task"
    ]
   },
   "source": [
    "**Задание 29**"
   ]
  },
  {
   "cell_type": "code",
   "execution_count": 39,
   "metadata": {
    "deletable": false,
    "id": "uaGJHjVU_Zcv"
   },
   "outputs": [
    {
     "data": {
      "text/plain": [
       "genre\n",
       "pop            2431\n",
       "dance          1932\n",
       "rock           1879\n",
       "electronic     1736\n",
       "hiphop          960\n",
       "alternative     649\n",
       "classical       646\n",
       "rusrap          564\n",
       "ruspop          538\n",
       "world           515\n",
       "Name: genre, dtype: int64"
      ]
     },
     "execution_count": 39,
     "metadata": {},
     "output_type": "execute_result"
    }
   ],
   "source": [
    "# просмотр первых 10 строк spb_genres\n",
    "spb_genres.head(10)"
   ]
  },
  {
   "cell_type": "markdown",
   "metadata": {
    "deletable": false,
    "editable": false,
    "id": "RY51YJYu_Zcv"
   },
   "source": [
    "**Выводы**"
   ]
  },
  {
   "cell_type": "markdown",
   "metadata": {
    "deletable": false,
    "editable": false,
    "id": "nVhnJEm__Zcv"
   },
   "source": [
    "Гипотеза частично подтвердилась:\n",
    "* Поп-музыка — самый популярный жанр в Москве, как и предполагала гипотеза. Более того, в топ-10 жанров встречается близкий жанр — русская популярная музыка.\n",
    "* Вопреки ожиданиям, рэп одинаково популярен в Москве и Петербурге.\n"
   ]
  },
  {
   "cell_type": "markdown",
   "metadata": {
    "deletable": false,
    "editable": false,
    "id": "ykKQ0N65_Zcv"
   },
   "source": [
    "## Итоги исследования"
   ]
  },
  {
   "cell_type": "markdown",
   "metadata": {
    "deletable": false,
    "editable": false,
    "id": "tjUwbHb3_Zcv"
   },
   "source": [
    "Вы проверили три гипотезы и установили:\n",
    "\n",
    "1. День недели по-разному влияет на активность пользователей в Москве и Петербурге.\n",
    "\n",
    "Первая гипотеза полностью подтвердилась.\n",
    "\n",
    "2. Музыкальные предпочтения не сильно меняются в течение недели — будь то Москва или Петербург. Небольшие различия заметны в начале недели, по понедельникам:\n",
    "* в Москве слушают музыку жанра “world”,\n",
    "* в Петербурге — джаз и классику.\n",
    "\n",
    "Таким образом, вторая гипотеза подтвердилась лишь отчасти. Этот результат мог оказаться иным, если бы не пропуски в данных.\n",
    "\n",
    "3. Во вкусах пользователей Москвы и Петербурга больше общего, чем различий. Вопреки ожиданиям, предпочтения жанров в Петербурге напоминают московские.\n",
    "\n",
    "Третья гипотеза не подтвердилась. Если различия в предпочтениях и существуют, на основной массе пользователей они незаметны.\n",
    "\n",
    "**На практике исследования содержат проверки статистических гипотез.**\n",
    "Из части данных одного сервиса невозможно сделать какие-то выводы о всех пользователях сервиса без методов статистики.\n",
    "Проверки статистических гипотез покажут, насколько они достоверны, исходя из имеющихся данных.\n",
    "С методами проверок гипотез вы ещё познакомитесь в следующих темах."
   ]
  },
  {
   "cell_type": "code",
   "execution_count": null,
   "metadata": {},
   "outputs": [],
   "source": []
  }
 ],
 "metadata": {
  "ExecuteTimeLog": [
   {
    "duration": 46,
    "start_time": "2024-06-28T05:59:46.912Z"
   },
   {
    "duration": 450,
    "start_time": "2024-06-28T05:59:57.425Z"
   },
   {
    "duration": 227,
    "start_time": "2024-06-28T05:59:57.877Z"
   },
   {
    "duration": 17,
    "start_time": "2024-06-28T05:59:58.108Z"
   },
   {
    "duration": 40,
    "start_time": "2024-06-28T05:59:58.128Z"
   },
   {
    "duration": 27,
    "start_time": "2024-06-28T05:59:58.169Z"
   },
   {
    "duration": 11,
    "start_time": "2024-06-28T05:59:58.197Z"
   },
   {
    "duration": 23,
    "start_time": "2024-06-28T05:59:58.209Z"
   },
   {
    "duration": 4,
    "start_time": "2024-06-28T05:59:58.234Z"
   },
   {
    "duration": 5,
    "start_time": "2024-06-28T05:59:58.240Z"
   },
   {
    "duration": 31,
    "start_time": "2024-06-28T05:59:58.247Z"
   },
   {
    "duration": 4,
    "start_time": "2024-06-28T05:59:58.279Z"
   },
   {
    "duration": 5,
    "start_time": "2024-06-28T05:59:58.284Z"
   },
   {
    "duration": 3,
    "start_time": "2024-06-28T05:59:58.290Z"
   },
   {
    "duration": 3,
    "start_time": "2024-06-28T05:59:58.295Z"
   },
   {
    "duration": 4,
    "start_time": "2024-06-28T05:59:58.299Z"
   },
   {
    "duration": 4,
    "start_time": "2024-06-28T05:59:58.304Z"
   },
   {
    "duration": 2,
    "start_time": "2024-06-28T05:59:58.310Z"
   },
   {
    "duration": 3,
    "start_time": "2024-06-28T05:59:58.314Z"
   },
   {
    "duration": 3,
    "start_time": "2024-06-28T05:59:58.319Z"
   },
   {
    "duration": 46,
    "start_time": "2024-06-28T05:59:58.323Z"
   },
   {
    "duration": 0,
    "start_time": "2024-06-28T05:59:58.372Z"
   },
   {
    "duration": 0,
    "start_time": "2024-06-28T05:59:58.373Z"
   },
   {
    "duration": 0,
    "start_time": "2024-06-28T05:59:58.374Z"
   },
   {
    "duration": 0,
    "start_time": "2024-06-28T05:59:58.375Z"
   },
   {
    "duration": 0,
    "start_time": "2024-06-28T05:59:58.376Z"
   },
   {
    "duration": 0,
    "start_time": "2024-06-28T05:59:58.377Z"
   },
   {
    "duration": 0,
    "start_time": "2024-06-28T05:59:58.378Z"
   },
   {
    "duration": 0,
    "start_time": "2024-06-28T05:59:58.378Z"
   },
   {
    "duration": 0,
    "start_time": "2024-06-28T05:59:58.380Z"
   },
   {
    "duration": 0,
    "start_time": "2024-06-28T05:59:58.381Z"
   },
   {
    "duration": 0,
    "start_time": "2024-06-28T05:59:58.382Z"
   },
   {
    "duration": 0,
    "start_time": "2024-06-28T05:59:58.382Z"
   },
   {
    "duration": 0,
    "start_time": "2024-06-28T05:59:58.383Z"
   },
   {
    "duration": 0,
    "start_time": "2024-06-28T05:59:58.384Z"
   },
   {
    "duration": 0,
    "start_time": "2024-06-28T05:59:58.388Z"
   },
   {
    "duration": 0,
    "start_time": "2024-06-28T05:59:58.388Z"
   },
   {
    "duration": 0,
    "start_time": "2024-06-28T05:59:58.389Z"
   },
   {
    "duration": 0,
    "start_time": "2024-06-28T05:59:58.390Z"
   },
   {
    "duration": 61,
    "start_time": "2024-06-28T06:20:55.759Z"
   },
   {
    "duration": 0,
    "start_time": "2024-06-28T06:21:12.813Z"
   },
   {
    "duration": 0,
    "start_time": "2024-06-28T06:21:12.814Z"
   },
   {
    "duration": 0,
    "start_time": "2024-06-28T06:21:12.815Z"
   },
   {
    "duration": 0,
    "start_time": "2024-06-28T06:21:12.815Z"
   },
   {
    "duration": 0,
    "start_time": "2024-06-28T06:21:12.816Z"
   },
   {
    "duration": 0,
    "start_time": "2024-06-28T06:21:12.817Z"
   },
   {
    "duration": 0,
    "start_time": "2024-06-28T06:21:12.817Z"
   },
   {
    "duration": 0,
    "start_time": "2024-06-28T06:21:12.818Z"
   },
   {
    "duration": 0,
    "start_time": "2024-06-28T06:21:12.819Z"
   },
   {
    "duration": 0,
    "start_time": "2024-06-28T06:21:12.820Z"
   },
   {
    "duration": 0,
    "start_time": "2024-06-28T06:21:12.821Z"
   },
   {
    "duration": 0,
    "start_time": "2024-06-28T06:21:12.822Z"
   },
   {
    "duration": 0,
    "start_time": "2024-06-28T06:21:12.822Z"
   },
   {
    "duration": 0,
    "start_time": "2024-06-28T06:21:12.823Z"
   },
   {
    "duration": 0,
    "start_time": "2024-06-28T06:21:12.824Z"
   },
   {
    "duration": 0,
    "start_time": "2024-06-28T06:21:12.825Z"
   },
   {
    "duration": 0,
    "start_time": "2024-06-28T06:21:12.826Z"
   },
   {
    "duration": 0,
    "start_time": "2024-06-28T06:21:12.827Z"
   },
   {
    "duration": 0,
    "start_time": "2024-06-28T06:21:12.827Z"
   },
   {
    "duration": 0,
    "start_time": "2024-06-28T06:21:12.828Z"
   },
   {
    "duration": 0,
    "start_time": "2024-06-28T06:21:12.829Z"
   },
   {
    "duration": 0,
    "start_time": "2024-06-28T06:21:12.830Z"
   },
   {
    "duration": 0,
    "start_time": "2024-06-28T06:21:12.830Z"
   },
   {
    "duration": 0,
    "start_time": "2024-06-28T06:21:12.831Z"
   },
   {
    "duration": 0,
    "start_time": "2024-06-28T06:21:12.831Z"
   },
   {
    "duration": 0,
    "start_time": "2024-06-28T06:21:12.832Z"
   },
   {
    "duration": 0,
    "start_time": "2024-06-28T06:21:12.833Z"
   },
   {
    "duration": 0,
    "start_time": "2024-06-28T06:21:12.834Z"
   },
   {
    "duration": 0,
    "start_time": "2024-06-28T06:21:12.835Z"
   },
   {
    "duration": 0,
    "start_time": "2024-06-28T06:21:12.836Z"
   },
   {
    "duration": 0,
    "start_time": "2024-06-28T06:21:12.837Z"
   },
   {
    "duration": 0,
    "start_time": "2024-06-28T06:21:12.838Z"
   },
   {
    "duration": 0,
    "start_time": "2024-06-28T06:21:12.839Z"
   },
   {
    "duration": 0,
    "start_time": "2024-06-28T06:21:12.839Z"
   },
   {
    "duration": 0,
    "start_time": "2024-06-28T06:21:12.840Z"
   },
   {
    "duration": 0,
    "start_time": "2024-06-28T06:21:12.841Z"
   },
   {
    "duration": 0,
    "start_time": "2024-06-28T06:21:12.842Z"
   },
   {
    "duration": 0,
    "start_time": "2024-06-28T06:21:12.843Z"
   },
   {
    "duration": 368,
    "start_time": "2024-06-28T06:21:47.337Z"
   },
   {
    "duration": 153,
    "start_time": "2024-06-28T06:21:47.706Z"
   },
   {
    "duration": 16,
    "start_time": "2024-06-28T06:21:47.860Z"
   },
   {
    "duration": 40,
    "start_time": "2024-06-28T06:21:47.877Z"
   },
   {
    "duration": 25,
    "start_time": "2024-06-28T06:21:47.918Z"
   },
   {
    "duration": 72,
    "start_time": "2024-06-28T06:21:47.944Z"
   },
   {
    "duration": 0,
    "start_time": "2024-06-28T06:21:48.018Z"
   },
   {
    "duration": 0,
    "start_time": "2024-06-28T06:21:48.019Z"
   },
   {
    "duration": 0,
    "start_time": "2024-06-28T06:21:48.020Z"
   },
   {
    "duration": 0,
    "start_time": "2024-06-28T06:21:48.021Z"
   },
   {
    "duration": 0,
    "start_time": "2024-06-28T06:21:48.022Z"
   },
   {
    "duration": 0,
    "start_time": "2024-06-28T06:21:48.022Z"
   },
   {
    "duration": 0,
    "start_time": "2024-06-28T06:21:48.024Z"
   },
   {
    "duration": 0,
    "start_time": "2024-06-28T06:21:48.025Z"
   },
   {
    "duration": 0,
    "start_time": "2024-06-28T06:21:48.027Z"
   },
   {
    "duration": 0,
    "start_time": "2024-06-28T06:21:48.027Z"
   },
   {
    "duration": 0,
    "start_time": "2024-06-28T06:21:48.028Z"
   },
   {
    "duration": 0,
    "start_time": "2024-06-28T06:21:48.029Z"
   },
   {
    "duration": 0,
    "start_time": "2024-06-28T06:21:48.030Z"
   },
   {
    "duration": 0,
    "start_time": "2024-06-28T06:21:48.031Z"
   },
   {
    "duration": 0,
    "start_time": "2024-06-28T06:21:48.031Z"
   },
   {
    "duration": 0,
    "start_time": "2024-06-28T06:21:48.032Z"
   },
   {
    "duration": 0,
    "start_time": "2024-06-28T06:21:48.033Z"
   },
   {
    "duration": 0,
    "start_time": "2024-06-28T06:21:48.034Z"
   },
   {
    "duration": 0,
    "start_time": "2024-06-28T06:21:48.035Z"
   },
   {
    "duration": 0,
    "start_time": "2024-06-28T06:21:48.036Z"
   },
   {
    "duration": 0,
    "start_time": "2024-06-28T06:21:48.037Z"
   },
   {
    "duration": 0,
    "start_time": "2024-06-28T06:21:48.038Z"
   },
   {
    "duration": 0,
    "start_time": "2024-06-28T06:21:48.038Z"
   },
   {
    "duration": 0,
    "start_time": "2024-06-28T06:21:48.039Z"
   },
   {
    "duration": 0,
    "start_time": "2024-06-28T06:21:48.040Z"
   },
   {
    "duration": 0,
    "start_time": "2024-06-28T06:21:48.041Z"
   },
   {
    "duration": 0,
    "start_time": "2024-06-28T06:21:48.042Z"
   },
   {
    "duration": 0,
    "start_time": "2024-06-28T06:21:48.043Z"
   },
   {
    "duration": 0,
    "start_time": "2024-06-28T06:21:48.044Z"
   },
   {
    "duration": 0,
    "start_time": "2024-06-28T06:21:48.046Z"
   },
   {
    "duration": 0,
    "start_time": "2024-06-28T06:21:48.046Z"
   },
   {
    "duration": 0,
    "start_time": "2024-06-28T06:21:48.048Z"
   },
   {
    "duration": 4,
    "start_time": "2024-06-28T06:22:59.801Z"
   },
   {
    "duration": 10,
    "start_time": "2024-06-28T06:25:54.539Z"
   },
   {
    "duration": 5,
    "start_time": "2024-06-28T06:26:54.164Z"
   },
   {
    "duration": 7,
    "start_time": "2024-06-28T06:36:39.666Z"
   },
   {
    "duration": 21,
    "start_time": "2024-06-28T06:37:00.100Z"
   },
   {
    "duration": 769,
    "start_time": "2024-06-28T06:50:19.173Z"
   },
   {
    "duration": 24,
    "start_time": "2024-06-28T06:50:57.546Z"
   },
   {
    "duration": 23,
    "start_time": "2024-06-28T06:51:39.457Z"
   },
   {
    "duration": 65,
    "start_time": "2024-06-28T06:52:51.790Z"
   },
   {
    "duration": 78,
    "start_time": "2024-06-28T06:56:23.646Z"
   },
   {
    "duration": 85,
    "start_time": "2024-06-28T07:17:04.869Z"
   },
   {
    "duration": 52,
    "start_time": "2024-06-29T10:29:11.757Z"
   },
   {
    "duration": 395,
    "start_time": "2024-06-29T10:29:24.385Z"
   },
   {
    "duration": 273,
    "start_time": "2024-06-29T10:29:24.781Z"
   },
   {
    "duration": 15,
    "start_time": "2024-06-29T10:29:25.055Z"
   },
   {
    "duration": 22,
    "start_time": "2024-06-29T10:29:25.071Z"
   },
   {
    "duration": 18,
    "start_time": "2024-06-29T10:29:25.094Z"
   },
   {
    "duration": 12,
    "start_time": "2024-06-29T10:29:25.114Z"
   },
   {
    "duration": 11,
    "start_time": "2024-06-29T10:29:25.128Z"
   },
   {
    "duration": 10,
    "start_time": "2024-06-29T10:29:25.141Z"
   },
   {
    "duration": 23,
    "start_time": "2024-06-29T10:29:25.153Z"
   },
   {
    "duration": 34,
    "start_time": "2024-06-29T10:29:25.177Z"
   },
   {
    "duration": 31,
    "start_time": "2024-06-29T10:29:25.213Z"
   },
   {
    "duration": 57,
    "start_time": "2024-06-29T10:29:25.245Z"
   },
   {
    "duration": 68,
    "start_time": "2024-06-29T10:29:25.303Z"
   },
   {
    "duration": 51,
    "start_time": "2024-06-29T10:29:25.373Z"
   },
   {
    "duration": 2,
    "start_time": "2024-06-29T10:29:25.425Z"
   },
   {
    "duration": 8,
    "start_time": "2024-06-29T10:29:25.429Z"
   },
   {
    "duration": 3,
    "start_time": "2024-06-29T10:29:25.438Z"
   },
   {
    "duration": 10,
    "start_time": "2024-06-29T10:29:25.442Z"
   },
   {
    "duration": 11,
    "start_time": "2024-06-29T10:29:25.453Z"
   },
   {
    "duration": 104,
    "start_time": "2024-06-29T10:29:25.465Z"
   },
   {
    "duration": 0,
    "start_time": "2024-06-29T10:29:25.570Z"
   },
   {
    "duration": 0,
    "start_time": "2024-06-29T10:29:25.571Z"
   },
   {
    "duration": 0,
    "start_time": "2024-06-29T10:29:25.572Z"
   },
   {
    "duration": 0,
    "start_time": "2024-06-29T10:29:25.573Z"
   },
   {
    "duration": 0,
    "start_time": "2024-06-29T10:29:25.574Z"
   },
   {
    "duration": 0,
    "start_time": "2024-06-29T10:29:25.575Z"
   },
   {
    "duration": 0,
    "start_time": "2024-06-29T10:29:25.576Z"
   },
   {
    "duration": 0,
    "start_time": "2024-06-29T10:29:25.577Z"
   },
   {
    "duration": 0,
    "start_time": "2024-06-29T10:29:25.578Z"
   },
   {
    "duration": 0,
    "start_time": "2024-06-29T10:29:25.579Z"
   },
   {
    "duration": 0,
    "start_time": "2024-06-29T10:29:25.580Z"
   },
   {
    "duration": 0,
    "start_time": "2024-06-29T10:29:25.581Z"
   },
   {
    "duration": 0,
    "start_time": "2024-06-29T10:29:25.582Z"
   },
   {
    "duration": 0,
    "start_time": "2024-06-29T10:29:25.584Z"
   },
   {
    "duration": 0,
    "start_time": "2024-06-29T10:29:25.585Z"
   },
   {
    "duration": 0,
    "start_time": "2024-06-29T10:29:25.586Z"
   },
   {
    "duration": 0,
    "start_time": "2024-06-29T10:29:25.587Z"
   },
   {
    "duration": 0,
    "start_time": "2024-06-29T10:29:25.588Z"
   },
   {
    "duration": 38,
    "start_time": "2024-06-29T11:07:13.808Z"
   },
   {
    "duration": 14,
    "start_time": "2024-06-29T11:12:27.404Z"
   },
   {
    "duration": 10,
    "start_time": "2024-06-29T11:17:27.039Z"
   },
   {
    "duration": 8,
    "start_time": "2024-06-29T11:18:21.926Z"
   },
   {
    "duration": 8,
    "start_time": "2024-06-29T11:19:05.872Z"
   },
   {
    "duration": 338,
    "start_time": "2024-06-29T11:19:17.919Z"
   },
   {
    "duration": 150,
    "start_time": "2024-06-29T11:19:18.258Z"
   },
   {
    "duration": 15,
    "start_time": "2024-06-29T11:19:18.409Z"
   },
   {
    "duration": 22,
    "start_time": "2024-06-29T11:19:18.426Z"
   },
   {
    "duration": 2,
    "start_time": "2024-06-29T11:19:18.450Z"
   },
   {
    "duration": 4,
    "start_time": "2024-06-29T11:19:18.454Z"
   },
   {
    "duration": 10,
    "start_time": "2024-06-29T11:19:18.471Z"
   },
   {
    "duration": 4,
    "start_time": "2024-06-29T11:19:18.482Z"
   },
   {
    "duration": 19,
    "start_time": "2024-06-29T11:19:18.488Z"
   },
   {
    "duration": 21,
    "start_time": "2024-06-29T11:19:18.509Z"
   },
   {
    "duration": 54,
    "start_time": "2024-06-29T11:19:18.532Z"
   },
   {
    "duration": 62,
    "start_time": "2024-06-29T11:19:18.587Z"
   },
   {
    "duration": 81,
    "start_time": "2024-06-29T11:19:18.650Z"
   },
   {
    "duration": 59,
    "start_time": "2024-06-29T11:19:18.734Z"
   },
   {
    "duration": 39,
    "start_time": "2024-06-29T11:19:18.794Z"
   },
   {
    "duration": 61,
    "start_time": "2024-06-29T11:19:18.835Z"
   },
   {
    "duration": 33,
    "start_time": "2024-06-29T11:19:18.898Z"
   },
   {
    "duration": 2,
    "start_time": "2024-06-29T11:19:18.932Z"
   },
   {
    "duration": 5,
    "start_time": "2024-06-29T11:19:18.935Z"
   },
   {
    "duration": 56,
    "start_time": "2024-06-29T11:19:18.941Z"
   },
   {
    "duration": 0,
    "start_time": "2024-06-29T11:19:18.998Z"
   },
   {
    "duration": 0,
    "start_time": "2024-06-29T11:19:18.999Z"
   },
   {
    "duration": 0,
    "start_time": "2024-06-29T11:19:19.000Z"
   },
   {
    "duration": 0,
    "start_time": "2024-06-29T11:19:19.001Z"
   },
   {
    "duration": 0,
    "start_time": "2024-06-29T11:19:19.002Z"
   },
   {
    "duration": 0,
    "start_time": "2024-06-29T11:19:19.003Z"
   },
   {
    "duration": 0,
    "start_time": "2024-06-29T11:19:19.004Z"
   },
   {
    "duration": 0,
    "start_time": "2024-06-29T11:19:19.004Z"
   },
   {
    "duration": 0,
    "start_time": "2024-06-29T11:19:19.005Z"
   },
   {
    "duration": 0,
    "start_time": "2024-06-29T11:19:19.006Z"
   },
   {
    "duration": 0,
    "start_time": "2024-06-29T11:19:19.007Z"
   },
   {
    "duration": 0,
    "start_time": "2024-06-29T11:19:19.008Z"
   },
   {
    "duration": 0,
    "start_time": "2024-06-29T11:19:19.009Z"
   },
   {
    "duration": 0,
    "start_time": "2024-06-29T11:19:19.009Z"
   },
   {
    "duration": 1,
    "start_time": "2024-06-29T11:19:19.010Z"
   },
   {
    "duration": 0,
    "start_time": "2024-06-29T11:19:19.011Z"
   },
   {
    "duration": 0,
    "start_time": "2024-06-29T11:19:19.012Z"
   },
   {
    "duration": 0,
    "start_time": "2024-06-29T11:19:19.012Z"
   },
   {
    "duration": 35,
    "start_time": "2024-06-29T11:19:40.845Z"
   },
   {
    "duration": 8,
    "start_time": "2024-06-29T11:36:04.349Z"
   },
   {
    "duration": 373,
    "start_time": "2024-06-29T11:36:11.186Z"
   },
   {
    "duration": 147,
    "start_time": "2024-06-29T11:36:11.561Z"
   },
   {
    "duration": 16,
    "start_time": "2024-06-29T11:36:11.709Z"
   },
   {
    "duration": 24,
    "start_time": "2024-06-29T11:36:11.727Z"
   },
   {
    "duration": 2,
    "start_time": "2024-06-29T11:36:11.753Z"
   },
   {
    "duration": 17,
    "start_time": "2024-06-29T11:36:11.756Z"
   },
   {
    "duration": 10,
    "start_time": "2024-06-29T11:36:11.775Z"
   },
   {
    "duration": 7,
    "start_time": "2024-06-29T11:36:11.787Z"
   },
   {
    "duration": 26,
    "start_time": "2024-06-29T11:36:11.796Z"
   },
   {
    "duration": 15,
    "start_time": "2024-06-29T11:36:11.824Z"
   },
   {
    "duration": 43,
    "start_time": "2024-06-29T11:36:11.840Z"
   },
   {
    "duration": 65,
    "start_time": "2024-06-29T11:36:11.885Z"
   },
   {
    "duration": 76,
    "start_time": "2024-06-29T11:36:11.951Z"
   },
   {
    "duration": 57,
    "start_time": "2024-06-29T11:36:12.028Z"
   },
   {
    "duration": 36,
    "start_time": "2024-06-29T11:36:12.086Z"
   },
   {
    "duration": 78,
    "start_time": "2024-06-29T11:36:12.123Z"
   },
   {
    "duration": 35,
    "start_time": "2024-06-29T11:36:12.202Z"
   },
   {
    "duration": 70,
    "start_time": "2024-06-29T11:36:12.239Z"
   },
   {
    "duration": 0,
    "start_time": "2024-06-29T11:36:12.310Z"
   },
   {
    "duration": 0,
    "start_time": "2024-06-29T11:36:12.311Z"
   },
   {
    "duration": 0,
    "start_time": "2024-06-29T11:36:12.312Z"
   },
   {
    "duration": 0,
    "start_time": "2024-06-29T11:36:12.313Z"
   },
   {
    "duration": 0,
    "start_time": "2024-06-29T11:36:12.314Z"
   },
   {
    "duration": 0,
    "start_time": "2024-06-29T11:36:12.315Z"
   },
   {
    "duration": 0,
    "start_time": "2024-06-29T11:36:12.316Z"
   },
   {
    "duration": 0,
    "start_time": "2024-06-29T11:36:12.316Z"
   },
   {
    "duration": 0,
    "start_time": "2024-06-29T11:36:12.317Z"
   },
   {
    "duration": 0,
    "start_time": "2024-06-29T11:36:12.318Z"
   },
   {
    "duration": 0,
    "start_time": "2024-06-29T11:36:12.318Z"
   },
   {
    "duration": 0,
    "start_time": "2024-06-29T11:36:12.319Z"
   },
   {
    "duration": 0,
    "start_time": "2024-06-29T11:36:12.320Z"
   },
   {
    "duration": 0,
    "start_time": "2024-06-29T11:36:12.320Z"
   },
   {
    "duration": 0,
    "start_time": "2024-06-29T11:36:12.321Z"
   },
   {
    "duration": 0,
    "start_time": "2024-06-29T11:36:12.322Z"
   },
   {
    "duration": 0,
    "start_time": "2024-06-29T11:36:12.322Z"
   },
   {
    "duration": 0,
    "start_time": "2024-06-29T11:36:12.323Z"
   },
   {
    "duration": 0,
    "start_time": "2024-06-29T11:36:12.324Z"
   },
   {
    "duration": 0,
    "start_time": "2024-06-29T11:36:12.324Z"
   },
   {
    "duration": 8,
    "start_time": "2024-06-29T11:36:31.035Z"
   },
   {
    "duration": 9,
    "start_time": "2024-06-29T11:36:52.431Z"
   },
   {
    "duration": 30,
    "start_time": "2024-06-29T11:39:41.216Z"
   },
   {
    "duration": 10,
    "start_time": "2024-06-29T11:42:41.837Z"
   },
   {
    "duration": 15,
    "start_time": "2024-06-29T11:44:15.458Z"
   },
   {
    "duration": 50,
    "start_time": "2024-06-29T12:01:14.059Z"
   },
   {
    "duration": 390,
    "start_time": "2024-06-29T12:01:22.465Z"
   },
   {
    "duration": 149,
    "start_time": "2024-06-29T12:01:22.857Z"
   },
   {
    "duration": 14,
    "start_time": "2024-06-29T12:01:23.007Z"
   },
   {
    "duration": 102,
    "start_time": "2024-06-29T12:01:23.023Z"
   },
   {
    "duration": 22,
    "start_time": "2024-06-29T12:01:23.126Z"
   },
   {
    "duration": 29,
    "start_time": "2024-06-29T12:01:23.150Z"
   },
   {
    "duration": 20,
    "start_time": "2024-06-29T12:01:23.181Z"
   },
   {
    "duration": 6,
    "start_time": "2024-06-29T12:01:23.202Z"
   },
   {
    "duration": 42,
    "start_time": "2024-06-29T12:01:23.209Z"
   },
   {
    "duration": 15,
    "start_time": "2024-06-29T12:01:23.254Z"
   },
   {
    "duration": 20,
    "start_time": "2024-06-29T12:01:23.270Z"
   },
   {
    "duration": 59,
    "start_time": "2024-06-29T12:01:23.291Z"
   },
   {
    "duration": 70,
    "start_time": "2024-06-29T12:01:23.352Z"
   },
   {
    "duration": 57,
    "start_time": "2024-06-29T12:01:23.423Z"
   },
   {
    "duration": 38,
    "start_time": "2024-06-29T12:01:23.481Z"
   },
   {
    "duration": 58,
    "start_time": "2024-06-29T12:01:23.520Z"
   },
   {
    "duration": 42,
    "start_time": "2024-06-29T12:01:23.580Z"
   },
   {
    "duration": 10,
    "start_time": "2024-06-29T12:01:23.624Z"
   },
   {
    "duration": 35,
    "start_time": "2024-06-29T12:01:23.635Z"
   },
   {
    "duration": 41,
    "start_time": "2024-06-29T12:01:23.671Z"
   },
   {
    "duration": 0,
    "start_time": "2024-06-29T12:01:23.713Z"
   },
   {
    "duration": 0,
    "start_time": "2024-06-29T12:01:23.714Z"
   },
   {
    "duration": 0,
    "start_time": "2024-06-29T12:01:23.715Z"
   },
   {
    "duration": 0,
    "start_time": "2024-06-29T12:01:23.716Z"
   },
   {
    "duration": 0,
    "start_time": "2024-06-29T12:01:23.717Z"
   },
   {
    "duration": 0,
    "start_time": "2024-06-29T12:01:23.718Z"
   },
   {
    "duration": 0,
    "start_time": "2024-06-29T12:01:23.719Z"
   },
   {
    "duration": 0,
    "start_time": "2024-06-29T12:01:23.720Z"
   },
   {
    "duration": 0,
    "start_time": "2024-06-29T12:01:23.722Z"
   },
   {
    "duration": 0,
    "start_time": "2024-06-29T12:01:23.723Z"
   },
   {
    "duration": 0,
    "start_time": "2024-06-29T12:01:23.724Z"
   },
   {
    "duration": 0,
    "start_time": "2024-06-29T12:01:23.725Z"
   },
   {
    "duration": 0,
    "start_time": "2024-06-29T12:01:23.725Z"
   },
   {
    "duration": 0,
    "start_time": "2024-06-29T12:01:23.726Z"
   },
   {
    "duration": 0,
    "start_time": "2024-06-29T12:01:23.728Z"
   },
   {
    "duration": 0,
    "start_time": "2024-06-29T12:01:23.729Z"
   },
   {
    "duration": 0,
    "start_time": "2024-06-29T12:01:23.731Z"
   },
   {
    "duration": 0,
    "start_time": "2024-06-29T12:01:23.732Z"
   },
   {
    "duration": 3,
    "start_time": "2024-06-29T12:02:22.785Z"
   },
   {
    "duration": 3,
    "start_time": "2024-06-29T12:12:33.651Z"
   },
   {
    "duration": 3,
    "start_time": "2024-06-29T12:14:27.962Z"
   },
   {
    "duration": 3,
    "start_time": "2024-06-29T12:24:31.755Z"
   },
   {
    "duration": 381,
    "start_time": "2024-06-29T12:24:49.885Z"
   },
   {
    "duration": 144,
    "start_time": "2024-06-29T12:24:50.267Z"
   },
   {
    "duration": 14,
    "start_time": "2024-06-29T12:24:50.412Z"
   },
   {
    "duration": 32,
    "start_time": "2024-06-29T12:24:50.428Z"
   },
   {
    "duration": 24,
    "start_time": "2024-06-29T12:24:50.461Z"
   },
   {
    "duration": 12,
    "start_time": "2024-06-29T12:24:50.486Z"
   },
   {
    "duration": 10,
    "start_time": "2024-06-29T12:24:50.499Z"
   },
   {
    "duration": 4,
    "start_time": "2024-06-29T12:24:50.510Z"
   },
   {
    "duration": 27,
    "start_time": "2024-06-29T12:24:50.515Z"
   },
   {
    "duration": 31,
    "start_time": "2024-06-29T12:24:50.544Z"
   },
   {
    "duration": 28,
    "start_time": "2024-06-29T12:24:50.576Z"
   },
   {
    "duration": 61,
    "start_time": "2024-06-29T12:24:50.605Z"
   },
   {
    "duration": 67,
    "start_time": "2024-06-29T12:24:50.667Z"
   },
   {
    "duration": 56,
    "start_time": "2024-06-29T12:24:50.735Z"
   },
   {
    "duration": 39,
    "start_time": "2024-06-29T12:24:50.793Z"
   },
   {
    "duration": 62,
    "start_time": "2024-06-29T12:24:50.833Z"
   },
   {
    "duration": 37,
    "start_time": "2024-06-29T12:24:50.897Z"
   },
   {
    "duration": 10,
    "start_time": "2024-06-29T12:24:50.935Z"
   },
   {
    "duration": 27,
    "start_time": "2024-06-29T12:24:50.946Z"
   },
   {
    "duration": 21,
    "start_time": "2024-06-29T12:24:50.974Z"
   },
   {
    "duration": 8,
    "start_time": "2024-06-29T12:24:50.996Z"
   },
   {
    "duration": 9,
    "start_time": "2024-06-29T12:24:51.005Z"
   },
   {
    "duration": 21,
    "start_time": "2024-06-29T12:24:51.016Z"
   },
   {
    "duration": 24,
    "start_time": "2024-06-29T12:24:51.039Z"
   },
   {
    "duration": 80,
    "start_time": "2024-06-29T12:24:51.064Z"
   },
   {
    "duration": 14,
    "start_time": "2024-06-29T12:24:51.145Z"
   },
   {
    "duration": 14,
    "start_time": "2024-06-29T12:24:51.160Z"
   },
   {
    "duration": 13,
    "start_time": "2024-06-29T12:24:51.176Z"
   },
   {
    "duration": 17,
    "start_time": "2024-06-29T12:24:51.190Z"
   },
   {
    "duration": 45,
    "start_time": "2024-06-29T12:24:51.208Z"
   },
   {
    "duration": 0,
    "start_time": "2024-06-29T12:24:51.255Z"
   },
   {
    "duration": 0,
    "start_time": "2024-06-29T12:24:51.257Z"
   },
   {
    "duration": 0,
    "start_time": "2024-06-29T12:24:51.258Z"
   },
   {
    "duration": 0,
    "start_time": "2024-06-29T12:24:51.259Z"
   },
   {
    "duration": 0,
    "start_time": "2024-06-29T12:24:51.260Z"
   },
   {
    "duration": 0,
    "start_time": "2024-06-29T12:24:51.261Z"
   },
   {
    "duration": 0,
    "start_time": "2024-06-29T12:24:51.262Z"
   },
   {
    "duration": 0,
    "start_time": "2024-06-29T12:24:51.264Z"
   },
   {
    "duration": 3,
    "start_time": "2024-06-29T12:25:03.804Z"
   },
   {
    "duration": 3,
    "start_time": "2024-06-29T12:26:12.050Z"
   },
   {
    "duration": 400,
    "start_time": "2024-06-29T12:27:56.131Z"
   },
   {
    "duration": 150,
    "start_time": "2024-06-29T12:27:56.533Z"
   },
   {
    "duration": 23,
    "start_time": "2024-06-29T12:27:56.685Z"
   },
   {
    "duration": 35,
    "start_time": "2024-06-29T12:27:56.710Z"
   },
   {
    "duration": 9,
    "start_time": "2024-06-29T12:27:56.747Z"
   },
   {
    "duration": 16,
    "start_time": "2024-06-29T12:27:56.757Z"
   },
   {
    "duration": 17,
    "start_time": "2024-06-29T12:27:56.774Z"
   },
   {
    "duration": 18,
    "start_time": "2024-06-29T12:27:56.793Z"
   },
   {
    "duration": 23,
    "start_time": "2024-06-29T12:27:56.812Z"
   },
   {
    "duration": 24,
    "start_time": "2024-06-29T12:27:56.837Z"
   },
   {
    "duration": 40,
    "start_time": "2024-06-29T12:27:56.862Z"
   },
   {
    "duration": 82,
    "start_time": "2024-06-29T12:27:56.903Z"
   },
   {
    "duration": 65,
    "start_time": "2024-06-29T12:27:56.986Z"
   },
   {
    "duration": 79,
    "start_time": "2024-06-29T12:27:57.053Z"
   },
   {
    "duration": 44,
    "start_time": "2024-06-29T12:27:57.134Z"
   },
   {
    "duration": 47,
    "start_time": "2024-06-29T12:27:57.179Z"
   },
   {
    "duration": 52,
    "start_time": "2024-06-29T12:27:57.228Z"
   },
   {
    "duration": 12,
    "start_time": "2024-06-29T12:27:57.283Z"
   },
   {
    "duration": 14,
    "start_time": "2024-06-29T12:27:57.296Z"
   },
   {
    "duration": 25,
    "start_time": "2024-06-29T12:27:57.311Z"
   },
   {
    "duration": 16,
    "start_time": "2024-06-29T12:27:57.338Z"
   },
   {
    "duration": 19,
    "start_time": "2024-06-29T12:27:57.355Z"
   },
   {
    "duration": 8,
    "start_time": "2024-06-29T12:27:57.375Z"
   },
   {
    "duration": 4,
    "start_time": "2024-06-29T12:27:57.384Z"
   },
   {
    "duration": 4,
    "start_time": "2024-06-29T12:27:57.390Z"
   },
   {
    "duration": 4,
    "start_time": "2024-06-29T12:27:57.395Z"
   },
   {
    "duration": 2,
    "start_time": "2024-06-29T12:27:57.402Z"
   },
   {
    "duration": 16,
    "start_time": "2024-06-29T12:27:57.405Z"
   },
   {
    "duration": 30,
    "start_time": "2024-06-29T12:27:57.423Z"
   },
   {
    "duration": 38,
    "start_time": "2024-06-29T12:27:57.455Z"
   },
   {
    "duration": 0,
    "start_time": "2024-06-29T12:27:57.495Z"
   },
   {
    "duration": 0,
    "start_time": "2024-06-29T12:27:57.496Z"
   },
   {
    "duration": 0,
    "start_time": "2024-06-29T12:27:57.496Z"
   },
   {
    "duration": 0,
    "start_time": "2024-06-29T12:27:57.498Z"
   },
   {
    "duration": 0,
    "start_time": "2024-06-29T12:27:57.498Z"
   },
   {
    "duration": 0,
    "start_time": "2024-06-29T12:27:57.499Z"
   },
   {
    "duration": 0,
    "start_time": "2024-06-29T12:27:57.500Z"
   },
   {
    "duration": 0,
    "start_time": "2024-06-29T12:27:57.501Z"
   },
   {
    "duration": 4,
    "start_time": "2024-06-29T12:28:21.045Z"
   },
   {
    "duration": 3,
    "start_time": "2024-06-29T12:29:50.280Z"
   },
   {
    "duration": 430,
    "start_time": "2024-06-29T13:41:51.595Z"
   },
   {
    "duration": 232,
    "start_time": "2024-06-29T13:41:52.027Z"
   },
   {
    "duration": 16,
    "start_time": "2024-06-29T13:41:52.261Z"
   },
   {
    "duration": 24,
    "start_time": "2024-06-29T13:41:52.279Z"
   },
   {
    "duration": 3,
    "start_time": "2024-06-29T13:41:52.309Z"
   },
   {
    "duration": 13,
    "start_time": "2024-06-29T13:41:52.313Z"
   },
   {
    "duration": 16,
    "start_time": "2024-06-29T13:41:52.327Z"
   },
   {
    "duration": 29,
    "start_time": "2024-06-29T13:41:52.344Z"
   },
   {
    "duration": 38,
    "start_time": "2024-06-29T13:41:52.375Z"
   },
   {
    "duration": 47,
    "start_time": "2024-06-29T13:41:52.414Z"
   },
   {
    "duration": 21,
    "start_time": "2024-06-29T13:41:53.000Z"
   },
   {
    "duration": 78,
    "start_time": "2024-06-29T13:41:53.022Z"
   },
   {
    "duration": 96,
    "start_time": "2024-06-29T13:41:53.101Z"
   },
   {
    "duration": 62,
    "start_time": "2024-06-29T13:41:53.199Z"
   },
   {
    "duration": 56,
    "start_time": "2024-06-29T13:41:53.263Z"
   },
   {
    "duration": 45,
    "start_time": "2024-06-29T13:41:53.320Z"
   },
   {
    "duration": 36,
    "start_time": "2024-06-29T13:41:53.787Z"
   },
   {
    "duration": 30,
    "start_time": "2024-06-29T13:41:53.825Z"
   },
   {
    "duration": 15,
    "start_time": "2024-06-29T13:41:53.857Z"
   },
   {
    "duration": 4,
    "start_time": "2024-06-29T13:41:54.026Z"
   },
   {
    "duration": 12,
    "start_time": "2024-06-29T13:41:54.031Z"
   },
   {
    "duration": 2,
    "start_time": "2024-06-29T13:41:55.182Z"
   },
   {
    "duration": 14,
    "start_time": "2024-06-29T13:41:55.186Z"
   },
   {
    "duration": 4,
    "start_time": "2024-06-29T13:41:55.201Z"
   },
   {
    "duration": 4,
    "start_time": "2024-06-29T13:41:55.206Z"
   },
   {
    "duration": 15,
    "start_time": "2024-06-29T13:41:55.212Z"
   },
   {
    "duration": 7,
    "start_time": "2024-06-29T13:41:55.229Z"
   },
   {
    "duration": 2,
    "start_time": "2024-06-29T13:41:55.586Z"
   },
   {
    "duration": 11,
    "start_time": "2024-06-29T13:41:55.590Z"
   },
   {
    "duration": 42,
    "start_time": "2024-06-29T13:41:55.680Z"
   },
   {
    "duration": 0,
    "start_time": "2024-06-29T13:41:55.724Z"
   },
   {
    "duration": 0,
    "start_time": "2024-06-29T13:41:55.725Z"
   },
   {
    "duration": 0,
    "start_time": "2024-06-29T13:41:55.727Z"
   },
   {
    "duration": 0,
    "start_time": "2024-06-29T13:41:55.728Z"
   },
   {
    "duration": 0,
    "start_time": "2024-06-29T13:41:55.729Z"
   },
   {
    "duration": 0,
    "start_time": "2024-06-29T13:41:55.731Z"
   },
   {
    "duration": 2,
    "start_time": "2024-06-29T13:41:56.512Z"
   },
   {
    "duration": 35,
    "start_time": "2024-06-29T13:41:56.515Z"
   },
   {
    "duration": 3,
    "start_time": "2024-06-29T13:47:52.516Z"
   },
   {
    "duration": 4,
    "start_time": "2024-06-29T13:48:24.115Z"
   },
   {
    "duration": 58,
    "start_time": "2024-06-29T14:04:56.484Z"
   },
   {
    "duration": 4,
    "start_time": "2024-06-29T14:05:21.718Z"
   },
   {
    "duration": 380,
    "start_time": "2024-06-29T14:35:07.471Z"
   },
   {
    "duration": 175,
    "start_time": "2024-06-29T14:35:07.853Z"
   },
   {
    "duration": 17,
    "start_time": "2024-06-29T14:35:08.030Z"
   },
   {
    "duration": 24,
    "start_time": "2024-06-29T14:35:08.049Z"
   },
   {
    "duration": 2,
    "start_time": "2024-06-29T14:35:08.074Z"
   },
   {
    "duration": 5,
    "start_time": "2024-06-29T14:35:08.077Z"
   },
   {
    "duration": 32,
    "start_time": "2024-06-29T14:35:08.083Z"
   },
   {
    "duration": 5,
    "start_time": "2024-06-29T14:35:08.117Z"
   },
   {
    "duration": 26,
    "start_time": "2024-06-29T14:35:08.123Z"
   },
   {
    "duration": 16,
    "start_time": "2024-06-29T14:35:08.151Z"
   },
   {
    "duration": 44,
    "start_time": "2024-06-29T14:35:08.168Z"
   },
   {
    "duration": 65,
    "start_time": "2024-06-29T14:35:08.213Z"
   },
   {
    "duration": 77,
    "start_time": "2024-06-29T14:35:08.280Z"
   },
   {
    "duration": 64,
    "start_time": "2024-06-29T14:35:08.359Z"
   },
   {
    "duration": 40,
    "start_time": "2024-06-29T14:35:08.424Z"
   },
   {
    "duration": 60,
    "start_time": "2024-06-29T14:35:08.466Z"
   },
   {
    "duration": 38,
    "start_time": "2024-06-29T14:35:08.528Z"
   },
   {
    "duration": 11,
    "start_time": "2024-06-29T14:35:08.568Z"
   },
   {
    "duration": 34,
    "start_time": "2024-06-29T14:35:08.580Z"
   },
   {
    "duration": 6,
    "start_time": "2024-06-29T14:35:08.616Z"
   },
   {
    "duration": 76,
    "start_time": "2024-06-29T14:35:08.623Z"
   },
   {
    "duration": 0,
    "start_time": "2024-06-29T14:35:08.710Z"
   },
   {
    "duration": 0,
    "start_time": "2024-06-29T14:35:08.711Z"
   },
   {
    "duration": 0,
    "start_time": "2024-06-29T14:35:08.712Z"
   },
   {
    "duration": 0,
    "start_time": "2024-06-29T14:35:08.714Z"
   },
   {
    "duration": 0,
    "start_time": "2024-06-29T14:35:08.715Z"
   },
   {
    "duration": 0,
    "start_time": "2024-06-29T14:35:08.716Z"
   },
   {
    "duration": 0,
    "start_time": "2024-06-29T14:35:08.717Z"
   },
   {
    "duration": 0,
    "start_time": "2024-06-29T14:35:08.720Z"
   },
   {
    "duration": 0,
    "start_time": "2024-06-29T14:35:08.721Z"
   },
   {
    "duration": 0,
    "start_time": "2024-06-29T14:35:08.723Z"
   },
   {
    "duration": 0,
    "start_time": "2024-06-29T14:35:08.725Z"
   },
   {
    "duration": 0,
    "start_time": "2024-06-29T14:35:08.727Z"
   },
   {
    "duration": 0,
    "start_time": "2024-06-29T14:35:08.729Z"
   },
   {
    "duration": 0,
    "start_time": "2024-06-29T14:35:08.730Z"
   },
   {
    "duration": 0,
    "start_time": "2024-06-29T14:35:08.731Z"
   },
   {
    "duration": 0,
    "start_time": "2024-06-29T14:35:08.733Z"
   },
   {
    "duration": 0,
    "start_time": "2024-06-29T14:35:08.734Z"
   },
   {
    "duration": 6,
    "start_time": "2024-06-29T14:35:17.866Z"
   },
   {
    "duration": 7,
    "start_time": "2024-06-29T14:36:40.951Z"
   },
   {
    "duration": 4,
    "start_time": "2024-06-29T14:37:58.725Z"
   },
   {
    "duration": 6,
    "start_time": "2024-06-29T14:38:02.797Z"
   },
   {
    "duration": 424,
    "start_time": "2024-06-29T14:38:07.392Z"
   },
   {
    "duration": 154,
    "start_time": "2024-06-29T14:38:07.819Z"
   },
   {
    "duration": 16,
    "start_time": "2024-06-29T14:38:07.974Z"
   },
   {
    "duration": 32,
    "start_time": "2024-06-29T14:38:07.992Z"
   },
   {
    "duration": 3,
    "start_time": "2024-06-29T14:38:08.026Z"
   },
   {
    "duration": 8,
    "start_time": "2024-06-29T14:38:08.030Z"
   },
   {
    "duration": 11,
    "start_time": "2024-06-29T14:38:08.039Z"
   },
   {
    "duration": 16,
    "start_time": "2024-06-29T14:38:08.052Z"
   },
   {
    "duration": 28,
    "start_time": "2024-06-29T14:38:08.069Z"
   },
   {
    "duration": 21,
    "start_time": "2024-06-29T14:38:08.099Z"
   },
   {
    "duration": 27,
    "start_time": "2024-06-29T14:38:08.122Z"
   },
   {
    "duration": 92,
    "start_time": "2024-06-29T14:38:08.150Z"
   },
   {
    "duration": 72,
    "start_time": "2024-06-29T14:38:08.243Z"
   },
   {
    "duration": 63,
    "start_time": "2024-06-29T14:38:08.317Z"
   },
   {
    "duration": 58,
    "start_time": "2024-06-29T14:38:08.382Z"
   },
   {
    "duration": 55,
    "start_time": "2024-06-29T14:38:08.441Z"
   },
   {
    "duration": 55,
    "start_time": "2024-06-29T14:38:08.498Z"
   },
   {
    "duration": 11,
    "start_time": "2024-06-29T14:38:08.554Z"
   },
   {
    "duration": 10,
    "start_time": "2024-06-29T14:38:08.566Z"
   },
   {
    "duration": 3,
    "start_time": "2024-06-29T14:38:08.578Z"
   },
   {
    "duration": 94,
    "start_time": "2024-06-29T14:38:08.582Z"
   },
   {
    "duration": 0,
    "start_time": "2024-06-29T14:38:08.678Z"
   },
   {
    "duration": 0,
    "start_time": "2024-06-29T14:38:08.679Z"
   },
   {
    "duration": 0,
    "start_time": "2024-06-29T14:38:08.680Z"
   },
   {
    "duration": 0,
    "start_time": "2024-06-29T14:38:08.681Z"
   },
   {
    "duration": 0,
    "start_time": "2024-06-29T14:38:08.683Z"
   },
   {
    "duration": 0,
    "start_time": "2024-06-29T14:38:08.684Z"
   },
   {
    "duration": 0,
    "start_time": "2024-06-29T14:38:08.685Z"
   },
   {
    "duration": 0,
    "start_time": "2024-06-29T14:38:08.687Z"
   },
   {
    "duration": 0,
    "start_time": "2024-06-29T14:38:08.688Z"
   },
   {
    "duration": 0,
    "start_time": "2024-06-29T14:38:08.689Z"
   },
   {
    "duration": 0,
    "start_time": "2024-06-29T14:38:08.690Z"
   },
   {
    "duration": 0,
    "start_time": "2024-06-29T14:38:08.722Z"
   },
   {
    "duration": 1,
    "start_time": "2024-06-29T14:38:08.732Z"
   },
   {
    "duration": 0,
    "start_time": "2024-06-29T14:38:08.734Z"
   },
   {
    "duration": 0,
    "start_time": "2024-06-29T14:38:08.735Z"
   },
   {
    "duration": 0,
    "start_time": "2024-06-29T14:38:08.736Z"
   },
   {
    "duration": 0,
    "start_time": "2024-06-29T14:38:08.738Z"
   },
   {
    "duration": 46,
    "start_time": "2024-06-29T14:40:09.446Z"
   },
   {
    "duration": 7,
    "start_time": "2024-06-29T14:40:22.279Z"
   },
   {
    "duration": 59,
    "start_time": "2024-06-29T14:42:05.958Z"
   },
   {
    "duration": 8,
    "start_time": "2024-06-29T15:03:51.923Z"
   },
   {
    "duration": 12,
    "start_time": "2024-06-29T15:07:37.405Z"
   },
   {
    "duration": 8,
    "start_time": "2024-06-29T15:07:41.815Z"
   },
   {
    "duration": 10,
    "start_time": "2024-06-29T15:07:42.728Z"
   },
   {
    "duration": 45,
    "start_time": "2024-06-29T19:55:33.789Z"
   },
   {
    "duration": 343,
    "start_time": "2024-06-29T19:55:42.415Z"
   },
   {
    "duration": 463,
    "start_time": "2024-06-29T19:55:42.760Z"
   },
   {
    "duration": 15,
    "start_time": "2024-06-29T19:55:43.224Z"
   },
   {
    "duration": 31,
    "start_time": "2024-06-29T19:55:43.241Z"
   },
   {
    "duration": 2,
    "start_time": "2024-06-29T19:55:43.273Z"
   },
   {
    "duration": 4,
    "start_time": "2024-06-29T19:55:43.277Z"
   },
   {
    "duration": 13,
    "start_time": "2024-06-29T19:55:43.282Z"
   },
   {
    "duration": 10,
    "start_time": "2024-06-29T19:55:43.296Z"
   },
   {
    "duration": 26,
    "start_time": "2024-06-29T19:55:43.307Z"
   },
   {
    "duration": 37,
    "start_time": "2024-06-29T19:55:43.336Z"
   },
   {
    "duration": 25,
    "start_time": "2024-06-29T19:55:43.374Z"
   },
   {
    "duration": 78,
    "start_time": "2024-06-29T19:55:43.401Z"
   },
   {
    "duration": 71,
    "start_time": "2024-06-29T19:55:43.481Z"
   },
   {
    "duration": 65,
    "start_time": "2024-06-29T19:55:43.554Z"
   },
   {
    "duration": 53,
    "start_time": "2024-06-29T19:55:43.620Z"
   },
   {
    "duration": 54,
    "start_time": "2024-06-29T19:55:43.674Z"
   },
   {
    "duration": 51,
    "start_time": "2024-06-29T19:55:43.729Z"
   },
   {
    "duration": 12,
    "start_time": "2024-06-29T19:55:43.782Z"
   },
   {
    "duration": 11,
    "start_time": "2024-06-29T19:55:43.795Z"
   },
   {
    "duration": 3,
    "start_time": "2024-06-29T19:55:43.808Z"
   },
   {
    "duration": 97,
    "start_time": "2024-06-29T19:55:43.812Z"
   },
   {
    "duration": 2,
    "start_time": "2024-06-29T19:55:43.911Z"
   },
   {
    "duration": 12,
    "start_time": "2024-06-29T19:55:43.914Z"
   },
   {
    "duration": 3,
    "start_time": "2024-06-29T19:55:43.927Z"
   },
   {
    "duration": 5,
    "start_time": "2024-06-29T19:55:43.931Z"
   },
   {
    "duration": 5,
    "start_time": "2024-06-29T19:55:43.938Z"
   },
   {
    "duration": 18,
    "start_time": "2024-06-29T19:55:43.944Z"
   },
   {
    "duration": 10,
    "start_time": "2024-06-29T19:55:43.966Z"
   },
   {
    "duration": 25,
    "start_time": "2024-06-29T19:55:43.977Z"
   },
   {
    "duration": 88,
    "start_time": "2024-06-29T19:55:44.003Z"
   },
   {
    "duration": 0,
    "start_time": "2024-06-29T19:55:44.092Z"
   },
   {
    "duration": 0,
    "start_time": "2024-06-29T19:55:44.094Z"
   },
   {
    "duration": 0,
    "start_time": "2024-06-29T19:55:44.095Z"
   },
   {
    "duration": 0,
    "start_time": "2024-06-29T19:55:44.097Z"
   },
   {
    "duration": 0,
    "start_time": "2024-06-29T19:55:44.101Z"
   },
   {
    "duration": 0,
    "start_time": "2024-06-29T19:55:44.101Z"
   },
   {
    "duration": 0,
    "start_time": "2024-06-29T19:55:44.102Z"
   },
   {
    "duration": 0,
    "start_time": "2024-06-29T19:55:44.104Z"
   },
   {
    "duration": 12,
    "start_time": "2024-06-29T19:55:55.616Z"
   },
   {
    "duration": 9,
    "start_time": "2024-06-29T19:56:15.600Z"
   },
   {
    "duration": 4,
    "start_time": "2024-06-29T22:45:56.337Z"
   },
   {
    "duration": 380,
    "start_time": "2024-06-29T23:01:15.890Z"
   },
   {
    "duration": 163,
    "start_time": "2024-06-29T23:01:16.272Z"
   },
   {
    "duration": 15,
    "start_time": "2024-06-29T23:01:16.437Z"
   },
   {
    "duration": 36,
    "start_time": "2024-06-29T23:01:16.454Z"
   },
   {
    "duration": 10,
    "start_time": "2024-06-29T23:01:16.492Z"
   },
   {
    "duration": 10,
    "start_time": "2024-06-29T23:01:16.504Z"
   },
   {
    "duration": 13,
    "start_time": "2024-06-29T23:01:16.515Z"
   },
   {
    "duration": 6,
    "start_time": "2024-06-29T23:01:16.529Z"
   },
   {
    "duration": 31,
    "start_time": "2024-06-29T23:01:16.536Z"
   },
   {
    "duration": 26,
    "start_time": "2024-06-29T23:01:16.569Z"
   },
   {
    "duration": 25,
    "start_time": "2024-06-29T23:01:16.596Z"
   },
   {
    "duration": 67,
    "start_time": "2024-06-29T23:01:16.622Z"
   },
   {
    "duration": 83,
    "start_time": "2024-06-29T23:01:16.691Z"
   },
   {
    "duration": 54,
    "start_time": "2024-06-29T23:01:16.776Z"
   },
   {
    "duration": 50,
    "start_time": "2024-06-29T23:01:16.831Z"
   },
   {
    "duration": 56,
    "start_time": "2024-06-29T23:01:16.883Z"
   },
   {
    "duration": 48,
    "start_time": "2024-06-29T23:01:16.941Z"
   },
   {
    "duration": 12,
    "start_time": "2024-06-29T23:01:16.990Z"
   },
   {
    "duration": 11,
    "start_time": "2024-06-29T23:01:17.003Z"
   },
   {
    "duration": 3,
    "start_time": "2024-06-29T23:01:17.015Z"
   },
   {
    "duration": 90,
    "start_time": "2024-06-29T23:01:17.019Z"
   },
   {
    "duration": 2,
    "start_time": "2024-06-29T23:01:17.111Z"
   },
   {
    "duration": 6,
    "start_time": "2024-06-29T23:01:17.115Z"
   },
   {
    "duration": 7,
    "start_time": "2024-06-29T23:01:17.122Z"
   },
   {
    "duration": 6,
    "start_time": "2024-06-29T23:01:17.130Z"
   },
   {
    "duration": 5,
    "start_time": "2024-06-29T23:01:17.137Z"
   },
   {
    "duration": 22,
    "start_time": "2024-06-29T23:01:17.143Z"
   },
   {
    "duration": 12,
    "start_time": "2024-06-29T23:01:17.167Z"
   },
   {
    "duration": 8,
    "start_time": "2024-06-29T23:01:17.180Z"
   },
   {
    "duration": 5,
    "start_time": "2024-06-29T23:01:17.189Z"
   },
   {
    "duration": 8,
    "start_time": "2024-06-29T23:01:17.195Z"
   },
   {
    "duration": 99,
    "start_time": "2024-06-29T23:01:17.204Z"
   },
   {
    "duration": 6,
    "start_time": "2024-06-29T23:01:17.305Z"
   },
   {
    "duration": 6,
    "start_time": "2024-06-29T23:01:17.312Z"
   },
   {
    "duration": 13,
    "start_time": "2024-06-29T23:01:17.319Z"
   },
   {
    "duration": 5,
    "start_time": "2024-06-29T23:01:17.333Z"
   },
   {
    "duration": 7,
    "start_time": "2024-06-29T23:01:17.339Z"
   },
   {
    "duration": 3,
    "start_time": "2024-06-29T23:01:17.348Z"
   },
   {
    "duration": 4,
    "start_time": "2024-06-29T23:01:23.579Z"
   },
   {
    "duration": 66,
    "start_time": "2024-06-29T23:11:01.372Z"
   },
   {
    "duration": 58,
    "start_time": "2024-06-29T23:12:40.936Z"
   },
   {
    "duration": 737,
    "start_time": "2024-06-29T23:13:20.330Z"
   },
   {
    "duration": 374,
    "start_time": "2024-06-29T23:14:15.531Z"
   },
   {
    "duration": 180,
    "start_time": "2024-06-29T23:14:15.906Z"
   },
   {
    "duration": 14,
    "start_time": "2024-06-29T23:14:16.088Z"
   },
   {
    "duration": 39,
    "start_time": "2024-06-29T23:14:16.104Z"
   },
   {
    "duration": 3,
    "start_time": "2024-06-29T23:14:16.144Z"
   },
   {
    "duration": 16,
    "start_time": "2024-06-29T23:14:16.165Z"
   },
   {
    "duration": 11,
    "start_time": "2024-06-29T23:14:16.183Z"
   },
   {
    "duration": 5,
    "start_time": "2024-06-29T23:14:16.195Z"
   },
   {
    "duration": 29,
    "start_time": "2024-06-29T23:14:16.201Z"
   },
   {
    "duration": 33,
    "start_time": "2024-06-29T23:14:16.234Z"
   },
   {
    "duration": 23,
    "start_time": "2024-06-29T23:14:16.269Z"
   },
   {
    "duration": 76,
    "start_time": "2024-06-29T23:14:16.294Z"
   },
   {
    "duration": 67,
    "start_time": "2024-06-29T23:14:16.371Z"
   },
   {
    "duration": 75,
    "start_time": "2024-06-29T23:14:16.440Z"
   },
   {
    "duration": 39,
    "start_time": "2024-06-29T23:14:16.517Z"
   },
   {
    "duration": 59,
    "start_time": "2024-06-29T23:14:16.557Z"
   },
   {
    "duration": 48,
    "start_time": "2024-06-29T23:14:16.618Z"
   },
   {
    "duration": 11,
    "start_time": "2024-06-29T23:14:16.667Z"
   },
   {
    "duration": 11,
    "start_time": "2024-06-29T23:14:16.679Z"
   },
   {
    "duration": 2,
    "start_time": "2024-06-29T23:14:16.692Z"
   },
   {
    "duration": 85,
    "start_time": "2024-06-29T23:14:16.696Z"
   },
   {
    "duration": 3,
    "start_time": "2024-06-29T23:14:16.782Z"
   },
   {
    "duration": 5,
    "start_time": "2024-06-29T23:14:16.786Z"
   },
   {
    "duration": 9,
    "start_time": "2024-06-29T23:14:16.792Z"
   },
   {
    "duration": 11,
    "start_time": "2024-06-29T23:14:16.802Z"
   },
   {
    "duration": 4,
    "start_time": "2024-06-29T23:14:16.814Z"
   },
   {
    "duration": 10,
    "start_time": "2024-06-29T23:14:16.819Z"
   },
   {
    "duration": 10,
    "start_time": "2024-06-29T23:14:16.832Z"
   },
   {
    "duration": 21,
    "start_time": "2024-06-29T23:14:16.844Z"
   },
   {
    "duration": 4,
    "start_time": "2024-06-29T23:14:16.866Z"
   },
   {
    "duration": 47,
    "start_time": "2024-06-29T23:14:16.872Z"
   },
   {
    "duration": 3,
    "start_time": "2024-06-29T23:14:16.920Z"
   },
   {
    "duration": 77,
    "start_time": "2024-06-29T23:14:16.924Z"
   },
   {
    "duration": 13,
    "start_time": "2024-06-29T23:14:17.002Z"
   },
   {
    "duration": 5,
    "start_time": "2024-06-29T23:14:17.017Z"
   },
   {
    "duration": 10,
    "start_time": "2024-06-29T23:14:17.023Z"
   },
   {
    "duration": 4,
    "start_time": "2024-06-29T23:14:17.034Z"
   },
   {
    "duration": 4,
    "start_time": "2024-06-29T23:14:17.039Z"
   },
   {
    "duration": 49,
    "start_time": "2024-06-30T07:06:17.218Z"
   },
   {
    "duration": 481,
    "start_time": "2024-06-30T07:06:20.982Z"
   },
   {
    "duration": 490,
    "start_time": "2024-06-30T07:06:21.464Z"
   },
   {
    "duration": 20,
    "start_time": "2024-06-30T07:06:21.955Z"
   },
   {
    "duration": 46,
    "start_time": "2024-06-30T07:06:21.977Z"
   },
   {
    "duration": 2,
    "start_time": "2024-06-30T07:06:22.025Z"
   },
   {
    "duration": 6,
    "start_time": "2024-06-30T07:06:22.029Z"
   },
   {
    "duration": 20,
    "start_time": "2024-06-30T07:06:22.036Z"
   },
   {
    "duration": 6,
    "start_time": "2024-06-30T07:06:22.060Z"
   },
   {
    "duration": 31,
    "start_time": "2024-06-30T07:06:22.068Z"
   },
   {
    "duration": 28,
    "start_time": "2024-06-30T07:06:22.103Z"
   },
   {
    "duration": 45,
    "start_time": "2024-06-30T07:06:22.133Z"
   },
   {
    "duration": 95,
    "start_time": "2024-06-30T07:06:22.180Z"
   },
   {
    "duration": 102,
    "start_time": "2024-06-30T07:06:22.278Z"
   },
   {
    "duration": 80,
    "start_time": "2024-06-30T07:06:22.382Z"
   },
   {
    "duration": 55,
    "start_time": "2024-06-30T07:06:22.464Z"
   },
   {
    "duration": 103,
    "start_time": "2024-06-30T07:06:22.521Z"
   },
   {
    "duration": 62,
    "start_time": "2024-06-30T07:06:22.626Z"
   },
   {
    "duration": 21,
    "start_time": "2024-06-30T07:06:22.689Z"
   },
   {
    "duration": 13,
    "start_time": "2024-06-30T07:06:22.711Z"
   },
   {
    "duration": 3,
    "start_time": "2024-06-30T07:06:22.725Z"
   },
   {
    "duration": 119,
    "start_time": "2024-06-30T07:06:22.730Z"
   },
   {
    "duration": 12,
    "start_time": "2024-06-30T07:06:22.850Z"
   },
   {
    "duration": 17,
    "start_time": "2024-06-30T07:06:22.864Z"
   },
   {
    "duration": 4,
    "start_time": "2024-06-30T07:06:22.883Z"
   },
   {
    "duration": 3,
    "start_time": "2024-06-30T07:06:22.889Z"
   },
   {
    "duration": 4,
    "start_time": "2024-06-30T07:06:22.893Z"
   },
   {
    "duration": 11,
    "start_time": "2024-06-30T07:06:22.898Z"
   },
   {
    "duration": 14,
    "start_time": "2024-06-30T07:06:22.912Z"
   },
   {
    "duration": 10,
    "start_time": "2024-06-30T07:06:22.927Z"
   },
   {
    "duration": 24,
    "start_time": "2024-06-30T07:06:22.939Z"
   },
   {
    "duration": 52,
    "start_time": "2024-06-30T07:06:22.965Z"
   },
   {
    "duration": 33,
    "start_time": "2024-06-30T07:06:23.019Z"
   },
   {
    "duration": 5,
    "start_time": "2024-06-30T07:06:23.054Z"
   },
   {
    "duration": 10,
    "start_time": "2024-06-30T07:06:23.060Z"
   },
   {
    "duration": 82,
    "start_time": "2024-06-30T07:06:23.072Z"
   },
   {
    "duration": 0,
    "start_time": "2024-06-30T07:06:23.156Z"
   },
   {
    "duration": 0,
    "start_time": "2024-06-30T07:06:23.157Z"
   },
   {
    "duration": 0,
    "start_time": "2024-06-30T07:06:23.159Z"
   },
   {
    "duration": 9,
    "start_time": "2024-06-30T07:06:41.585Z"
   },
   {
    "duration": 10,
    "start_time": "2024-06-30T07:06:44.311Z"
   },
   {
    "duration": 6,
    "start_time": "2024-06-30T07:08:56.169Z"
   },
   {
    "duration": 9,
    "start_time": "2024-06-30T07:11:56.163Z"
   },
   {
    "duration": 386,
    "start_time": "2024-06-30T07:11:59.907Z"
   },
   {
    "duration": 200,
    "start_time": "2024-06-30T07:12:00.296Z"
   },
   {
    "duration": 19,
    "start_time": "2024-06-30T07:12:00.498Z"
   },
   {
    "duration": 89,
    "start_time": "2024-06-30T07:12:00.519Z"
   },
   {
    "duration": 120,
    "start_time": "2024-06-30T07:12:00.611Z"
   },
   {
    "duration": 214,
    "start_time": "2024-06-30T07:12:00.732Z"
   },
   {
    "duration": 130,
    "start_time": "2024-06-30T07:12:00.948Z"
   },
   {
    "duration": 31,
    "start_time": "2024-06-30T07:12:01.080Z"
   },
   {
    "duration": 91,
    "start_time": "2024-06-30T07:12:01.113Z"
   },
   {
    "duration": 107,
    "start_time": "2024-06-30T07:12:01.206Z"
   },
   {
    "duration": 59,
    "start_time": "2024-06-30T07:12:01.315Z"
   },
   {
    "duration": 170,
    "start_time": "2024-06-30T07:12:01.375Z"
   },
   {
    "duration": 89,
    "start_time": "2024-06-30T07:12:01.546Z"
   },
   {
    "duration": 74,
    "start_time": "2024-06-30T07:12:01.639Z"
   },
   {
    "duration": 51,
    "start_time": "2024-06-30T07:12:01.714Z"
   },
   {
    "duration": 74,
    "start_time": "2024-06-30T07:12:01.767Z"
   },
   {
    "duration": 64,
    "start_time": "2024-06-30T07:12:01.843Z"
   },
   {
    "duration": 14,
    "start_time": "2024-06-30T07:12:01.909Z"
   },
   {
    "duration": 38,
    "start_time": "2024-06-30T07:12:01.924Z"
   },
   {
    "duration": 7,
    "start_time": "2024-06-30T07:12:01.964Z"
   },
   {
    "duration": 114,
    "start_time": "2024-06-30T07:12:01.973Z"
   },
   {
    "duration": 3,
    "start_time": "2024-06-30T07:12:02.089Z"
   },
   {
    "duration": 6,
    "start_time": "2024-06-30T07:12:02.093Z"
   },
   {
    "duration": 8,
    "start_time": "2024-06-30T07:12:02.101Z"
   },
   {
    "duration": 8,
    "start_time": "2024-06-30T07:12:02.111Z"
   },
   {
    "duration": 17,
    "start_time": "2024-06-30T07:12:02.120Z"
   },
   {
    "duration": 15,
    "start_time": "2024-06-30T07:12:02.139Z"
   },
   {
    "duration": 17,
    "start_time": "2024-06-30T07:12:02.156Z"
   },
   {
    "duration": 16,
    "start_time": "2024-06-30T07:12:02.175Z"
   },
   {
    "duration": 4,
    "start_time": "2024-06-30T07:12:02.193Z"
   },
   {
    "duration": 64,
    "start_time": "2024-06-30T07:12:02.199Z"
   },
   {
    "duration": 3,
    "start_time": "2024-06-30T07:12:02.264Z"
   },
   {
    "duration": 15,
    "start_time": "2024-06-30T07:12:02.268Z"
   },
   {
    "duration": 19,
    "start_time": "2024-06-30T07:12:02.285Z"
   },
   {
    "duration": 14,
    "start_time": "2024-06-30T07:12:02.306Z"
   },
   {
    "duration": 6,
    "start_time": "2024-06-30T07:12:02.322Z"
   },
   {
    "duration": 91,
    "start_time": "2024-06-30T07:12:02.329Z"
   },
   {
    "duration": 16,
    "start_time": "2024-06-30T07:12:02.422Z"
   },
   {
    "duration": 7,
    "start_time": "2024-06-30T07:12:02.537Z"
   }
  ],
  "celltoolbar": "Отсутствует",
  "colab": {
   "collapsed_sections": [
    "E0vqbgi9ay0H",
    "VUC88oWjTJw2"
   ],
   "provenance": []
  },
  "kernelspec": {
   "display_name": "Python 3 (ipykernel)",
   "language": "python",
   "name": "python3"
  },
  "language_info": {
   "codemirror_mode": {
    "name": "ipython",
    "version": 3
   },
   "file_extension": ".py",
   "mimetype": "text/x-python",
   "name": "python",
   "nbconvert_exporter": "python",
   "pygments_lexer": "ipython3",
   "version": "3.9.5"
  },
  "toc": {
   "base_numbering": 1,
   "nav_menu": {
    "height": "215px",
    "width": "403px"
   },
   "number_sections": true,
   "sideBar": true,
   "skip_h1_title": true,
   "title_cell": "Table of Contents",
   "title_sidebar": "Contents",
   "toc_cell": false,
   "toc_position": {
    "height": "calc(100% - 180px)",
    "left": "10px",
    "top": "150px",
    "width": "285.825px"
   },
   "toc_section_display": true,
   "toc_window_display": false
  }
 },
 "nbformat": 4,
 "nbformat_minor": 1
}
