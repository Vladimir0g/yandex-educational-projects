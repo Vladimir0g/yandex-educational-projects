{
 "cells": [
  {
   "cell_type": "markdown",
   "id": "1d33b17f",
   "metadata": {},
   "source": [
    "<div class=\"alert alert-success\">\n",
    "<font size=\"5\", color= \"seagreen\"><b>✔️ Комментарий ревьюера в2</b></font>\n",
    "    <br /> \n",
    "    <font size=\"3\", color = \"black\">\n",
    "<br />  Привет, Владимир :)\n",
    "        \n",
    "Спасибо за все исправления и комментарии\n",
    "        \n",
    "Стоит поправить пару штрихов на проекте        \n",
    "        \n",
    "Основные навыки, тестируемые на проекте:\n",
    "        \n",
    " + внимательное чтение технического задания проекта \n",
    " + объединение разных таблиц в единый датасет, — на рабочих проектах стоит уделить особое внимание на способы объединения (left или inner, можно кого-нить забыть, значение параметра how по умолчанию), на пропуски и возможные дубликаты\n",
    " + формирование, чтение и сравнение показателей на графике двух выборок, \n",
    " + формирование выводов о данных по статистическим показателям,\n",
    " + формулирование и проверку односторонних и двусторонних гипотез, <b>интерпретацию значения p-value - можно повторить недели через две </b>(для профилактики 🤝 )\n",
    " + формирование рекомендаций для бизнеса \n",
    "        \n",
    "        \n",
    "<b>Поздравляю со сданным проектом на факультете дата-аналитики Я.Практикум</b>\n",
    "\n",
    "<div class=\"alert alert-success\">\n",
    "    <font size=\"5\", color= \"seagreen\"><b>Успехов в дальнейшей учебе 🤝</b></font><br />\n",
    "    \n",
    "\n",
    "    \n",
    "добавил бонус, несколько подсказок    \n",
    "    \n",
    "и одну ссылку [Функции в Python](https://www.codecamp.ru/blog/python-functions/?ysclid=loyw96tz7822158015)      "
   ]
  },
  {
   "cell_type": "markdown",
   "id": "ee240f65",
   "metadata": {},
   "source": [
    "<div class=\"alert alert-success\">\n",
    "<font size=\"4\"><b>Комментарий ревьюера</b></font>\n",
    "    <br /> \n",
    "    <font size=\"3\", color = \"black\">\n",
    "<br />\n",
    "    Привет, Владимир :) Спасибо, что прислал задание 🤝 Меня зовут Ринат Хисамов и я буду проверять твой проект. Предлагаю обращаться друг к другу на ты. Так нам будет гораздо проще и удобней общаться\n",
    "\n",
    "Мои комментарии обозначены пометкой <b>Комментарий ревьюера</b>. Далее в файле сможешь найти их в похожих ячейках (если фон комментария зелёный — всё сделано правильно (✔️), рекомендации таким же цветом. Отдельным цветом — блок ссылок (примеры ниже, 🍕). Оранжевым или светло желтым рекомендации, которые, хоть и не обязательны, но точно сделают ревью лучше. (⚠️); <u> красный комментарий</u>: код, график или вывод стоит переделать (❌)). \n",
    "\n",
    "Не удаляй все эти комментарии и постарайся учесть их в ходе выполнения данного проекта. \n",
    "Будет замечательно, если добавишь свои комментарии и пояснения✍\n",
    "        \n",
    "__Увидев у тебя неточность, в первый раз я лишь укажу на ее наличие, а ты попробуешь исправить ее самостоятельно. Но если ты пока не справишься с такой задачей — при следующей проверке я дам более подробную подсказку!__        \n",
    "        \n",
    "Поехали 🚀\n",
    "    <br />\n",
    "    </font>\n",
    "\n",
    "</div>"
   ]
  },
  {
   "cell_type": "markdown",
   "id": "9e336820",
   "metadata": {},
   "source": [
    "<div style=\"border:solid steelblue 1px; padding: 20px\">\n",
    "    \n",
    "<font size=\"4\"><p style=\"text-align:center\"><b>Примеры комментариев </b></p></font>\n",
    "    \n",
    "<div style=\"border:solid steelblue 3px; padding: 20px\">\n",
    "<font size=\"4\"><b>🍕 Пример комментария - совета, здесь м.б. просто ссылка</b></font>\n",
    "    <br /> \n",
    "        <font size=\"3\", color = \"black\">\n",
    "<br />\n",
    "    Тут всего такого разного и вкусного :), есть способы прокачать проект визуализациями (ценит большинство \"боссов\")  <br /><br />\n",
    "        <a href=\"https://devpractice.ru/matplotlib-book/\">“Библиотека Matplotlib” доступна для скачивания БЕСПЛАТНО!</a>\n",
    "        На сайте много полезных материалов, мне самому очень помогло в свое время, до сих пор подсматриваю :)\n",
    "\n",
    "\n",
    "</div>\n",
    "    \n",
    "<div class=\"alert alert-warning\", style=\"border:solid coral 3px; padding: 20px\">\n",
    "    <font size=\"3\"><b>⚠️ Пример оформления некритичного комментария</b>\n",
    "    <br /> \n",
    "    <font size=\"2\", color = \"black\">\n",
    "<br />\n",
    "    Рекомендации, которые, хоть и не обязательны, но точно сделают ревью лучше\n",
    "    <br />\n",
    "    </font>\n",
    "\n",
    "</div>\n",
    "    \n",
    "<div class=\"alert alert-danger\">\n",
    "<font size=\"3\"><b>❌ Пример оформления комментария к блоку(строке) программного кода (или выводу), который стоит переделать</b></font>\n",
    "    <br /> \n",
    "    <font size=\"2\", color = \"black\">\n",
    "<br />\n",
    "    Отправлен не тот проект, напиши в своих комментариях, что случилось? жду — <b>это пример</b>\n",
    "    <br />\n",
    "    </font>\n",
    "\n",
    "</div>\n",
    "    \n",
    "<div class=\"alert alert-success\">\n",
    "<font size=\"4\"><b>✔️ Пример оформления комментария, который нравится большинству студентов</b></font>\n",
    "    <br /> \n",
    "    <font size=\"3\", color = \"black\">\n",
    "<br />\n",
    "    Круто, молодец, отлично, логично, или — 👌, 👍, или — выводы отвечают на все вопросы к данным и проекту\n",
    "    <br />\n",
    "    </font>\n",
    "\n",
    "</div>"
   ]
  },
  {
   "cell_type": "markdown",
   "id": "690d8f1b",
   "metadata": {},
   "source": [
    "# Для твоих вопросов или комментариев оставлю такую ячейку, чтобы было удобнее взаимодействовать на проекте"
   ]
  },
  {
   "cell_type": "markdown",
   "id": "2038a54c",
   "metadata": {},
   "source": [
    "<div class=\"alert alert-info\">\n",
    "<font size=\"4\", color = \"black\"><b>✍ Комментарий студента</b></font>\n",
    "    <br /> \n",
    "    <font size=\"3\", color = \"black\">\n",
    "<br /> ... , вот мой вопрос ...\n",
    "        \n",
    "        "
   ]
  },
  {
   "cell_type": "code",
   "execution_count": null,
   "id": "12ff194e",
   "metadata": {},
   "outputs": [],
   "source": []
  },
  {
   "cell_type": "code",
   "execution_count": null,
   "id": "e87df199",
   "metadata": {},
   "outputs": [],
   "source": []
  },
  {
   "cell_type": "markdown",
   "id": "148621e0",
   "metadata": {},
   "source": [
    "<div class=\"alert alert-dan ger\">\n",
    "<font size=\"4\"><b>❌ Комментарий ревьюера</b></font>\n",
    "    <br /> \n",
    "    <font size=\"3\", color = \"black\">\n",
    "<br />\n",
    "Название придаст вес проекту\n",
    "        \n",
    "а подробности выполнения проекта дадут возможность вспомнить через полгода — что мы тут делали "
   ]
  },
  {
   "cell_type": "markdown",
   "id": "d577d215",
   "metadata": {},
   "source": [
    "Проект: Статистический анализ данных сервиса аренды самокатов GoFast."
   ]
  },
  {
   "cell_type": "markdown",
   "id": "5b955ca7",
   "metadata": {},
   "source": [
    "<div class=\"alert alert-warning\", style=\"border:solid coral 3px; padding: 20px\">\n",
    "<font size=\"4\", color = \"DimGrey\"><b>⚠️ Комментарий ревьюера в2</b></font>\n",
    "    <br /> \n",
    "    <font size=\"3\", color = \"black\">\n",
    "<br /> Стоит добавить подробностей, без которых тяжело будет вспомнить через полгода суть проекта (без отдельного брифа проекта)"
   ]
  },
  {
   "cell_type": "code",
   "execution_count": 1,
   "id": "72576667",
   "metadata": {},
   "outputs": [],
   "source": [
    "import pandas as pd # импортируем библиотеки\n",
    "import numpy as np  \n",
    "import math\n",
    "import matplotlib.pyplot as plt\n",
    "from scipy import stats as st\n",
    "from scipy.stats import binom"
   ]
  },
  {
   "cell_type": "markdown",
   "id": "c42cbe00",
   "metadata": {},
   "source": [
    "#### Шаг 1. Загрузка данных"
   ]
  },
  {
   "cell_type": "code",
   "execution_count": 2,
   "id": "eff9f206",
   "metadata": {},
   "outputs": [],
   "source": [
    "users = pd.read_csv('/datasets/users_go.csv') # прочитали csv-файл\n",
    "rides = pd.read_csv('/datasets/rides_go.csv', parse_dates=['date'])\n",
    "subscriptions = pd.read_csv('/datasets/subscriptions_go.csv')"
   ]
  },
  {
   "cell_type": "markdown",
   "id": "36e05e02",
   "metadata": {},
   "source": [
    "<div class=\"alert alert-warning\", style=\"border:solid coral 3px; padding: 20px\">\n",
    "<font size=\"4\", color = \"DimGrey\"><b>⚠️ Комментарий ревьюера</b></font>\n",
    "    <br /> \n",
    "    <font size=\"3\", color = \"black\">\n",
    "<br />\n",
    "        \n",
    "        \n",
    "        \n",
    "Если при загрузке данных добавить параметр `parse_dates` то тип данных автоматически переведется в даты. Подробнее про это можно прочитать по ссылке ниже\n",
    "        \n",
    "`parse_dates=['date']`     \n",
    "        \n",
    "        \n",
    "\n",
    "https://newtechaudit.ru/gruzi-daty-krasivo/"
   ]
  },
  {
   "cell_type": "markdown",
   "id": "00ed48c7",
   "metadata": {},
   "source": [
    "<div class=\"alert alert-warning\", style=\"border:solid coral 3px; padding: 20px\">\n",
    "<font size=\"4\", color = \"DimGrey\"><b>⚠️ Комментарий ревьюера</b></font>\n",
    "    <br /> \n",
    "    <font size=\"3\", color = \"black\">\n",
    "<br /> Все  методы можно собрать в функцию и оптимизировать код вывода первичной информации\n",
    "        \n",
    "        def ...:\n",
    "            ... dataset.head()\n",
    "            ... dataset.info()"
   ]
  },
  {
   "cell_type": "code",
   "execution_count": 3,
   "id": "d7a82be1",
   "metadata": {
    "scrolled": true
   },
   "outputs": [
    {
     "name": "stdout",
     "output_type": "stream",
     "text": [
      "   user_id        name  age            city subscription_type\n",
      "0        1        Кира   22          Тюмень             ultra\n",
      "1        2   Станислав   31            Омск             ultra\n",
      "2        3     Алексей   20          Москва             ultra\n",
      "3        4  Константин   26  Ростов-на-Дону             ultra\n",
      "4        5       Адель   28            Омск             ultra\n",
      "<class 'pandas.core.frame.DataFrame'>\n",
      "RangeIndex: 1565 entries, 0 to 1564\n",
      "Data columns (total 5 columns):\n",
      " #   Column             Non-Null Count  Dtype \n",
      "---  ------             --------------  ----- \n",
      " 0   user_id            1565 non-null   int64 \n",
      " 1   name               1565 non-null   object\n",
      " 2   age                1565 non-null   int64 \n",
      " 3   city               1565 non-null   object\n",
      " 4   subscription_type  1565 non-null   object\n",
      "dtypes: int64(2), object(3)\n",
      "memory usage: 61.3+ KB\n",
      "\n",
      "   user_id     distance   duration       date\n",
      "0        1  4409.919140  25.599769 2021-01-01\n",
      "1        1  2617.592153  15.816871 2021-01-18\n",
      "2        1   754.159807   6.232113 2021-04-20\n",
      "3        1  2694.783254  18.511000 2021-08-11\n",
      "4        1  4028.687306  26.265803 2021-08-28\n",
      "<class 'pandas.core.frame.DataFrame'>\n",
      "RangeIndex: 18068 entries, 0 to 18067\n",
      "Data columns (total 4 columns):\n",
      " #   Column    Non-Null Count  Dtype         \n",
      "---  ------    --------------  -----         \n",
      " 0   user_id   18068 non-null  int64         \n",
      " 1   distance  18068 non-null  float64       \n",
      " 2   duration  18068 non-null  float64       \n",
      " 3   date      18068 non-null  datetime64[ns]\n",
      "dtypes: datetime64[ns](1), float64(2), int64(1)\n",
      "memory usage: 564.8 KB\n",
      "\n",
      "  subscription_type  minute_price  start_ride_price  subscription_fee\n",
      "0              free             8                50                 0\n",
      "1             ultra             6                 0               199\n",
      "<class 'pandas.core.frame.DataFrame'>\n",
      "RangeIndex: 2 entries, 0 to 1\n",
      "Data columns (total 4 columns):\n",
      " #   Column             Non-Null Count  Dtype \n",
      "---  ------             --------------  ----- \n",
      " 0   subscription_type  2 non-null      object\n",
      " 1   minute_price       2 non-null      int64 \n",
      " 2   start_ride_price   2 non-null      int64 \n",
      " 3   subscription_fee   2 non-null      int64 \n",
      "dtypes: int64(3), object(1)\n",
      "memory usage: 192.0+ bytes\n",
      "\n"
     ]
    }
   ],
   "source": [
    "def all_data_view(dataset):\n",
    "    print(dataset.head())\n",
    "    dataset.info()\n",
    "    print()\n",
    "all_data_view(users)\n",
    "all_data_view(rides)\n",
    "all_data_view(subscriptions)"
   ]
  },
  {
   "cell_type": "markdown",
   "id": "1660ad3e",
   "metadata": {},
   "source": [
    "Данные выглядят хорошо. Пригодны к обработке."
   ]
  },
  {
   "cell_type": "markdown",
   "id": "d96d2808",
   "metadata": {},
   "source": [
    "<div class=\"alert alert-warning\", style=\"border:solid coral 3px; padding: 20px\">\n",
    "<font size=\"4\", color = \"DimGrey\"><b>⚠️ <b> Комментарий ревьюера в2</b></font>\n",
    "<br /> \n",
    "<font size=\"3\", color = \"black\">\n",
    "<br /> display() вместо print(), поможет навести красоту на проекте\n",
    "    \n",
    "        print(dataset.head())"
   ]
  },
  {
   "cell_type": "markdown",
   "id": "e95ebca7",
   "metadata": {},
   "source": [
    "#### Шаг 2. Предобработка данных"
   ]
  },
  {
   "cell_type": "markdown",
   "id": "72bb75da",
   "metadata": {},
   "source": [
    "Создадим новый столбец с номером месяца на основе столбца date."
   ]
  },
  {
   "cell_type": "code",
   "execution_count": 4,
   "id": "8c71fc59",
   "metadata": {},
   "outputs": [
    {
     "data": {
      "text/plain": [
       "array([2021])"
      ]
     },
     "execution_count": 4,
     "metadata": {},
     "output_type": "execute_result"
    }
   ],
   "source": [
    "rides['month_number'] = rides['date'].dt.month \n",
    "rides['date'].dt.year.unique() # датасет содержит данные за 2021г"
   ]
  },
  {
   "cell_type": "markdown",
   "id": "0ce88e9e",
   "metadata": {},
   "source": [
    "<div style>\n",
    "<font size=\"4\"><b></b></font>\n",
    "<font size=\"5\", color = \"black\">\n",
    "🤝"
   ]
  },
  {
   "cell_type": "markdown",
   "id": "e45c5b09",
   "metadata": {},
   "source": [
    "<div class=\"alert alert-warning\", style=\"border:solid coral 3px; padding: 20px\">\n",
    "<font size=\"4\", color = \"DimGrey\"><b>⚠️ Комментарий ревьюера</b></font>\n",
    "    <br /> \n",
    "    <font size=\"3\", color = \"black\">\n",
    "<br /> Стоит проверить — за какой период (год или несколько лет) у нас собраны данные\n",
    "         "
   ]
  },
  {
   "cell_type": "markdown",
   "id": "cda9e21c",
   "metadata": {},
   "source": [
    "Проверим наличие пропущенных значений и дубликатов в датафреймах. Обработаем их, если такие значения присутствуют."
   ]
  },
  {
   "cell_type": "code",
   "execution_count": 5,
   "id": "b720668a",
   "metadata": {},
   "outputs": [
    {
     "data": {
      "text/plain": [
       "user_id              0\n",
       "name                 0\n",
       "age                  0\n",
       "city                 0\n",
       "subscription_type    0\n",
       "dtype: int64"
      ]
     },
     "execution_count": 5,
     "metadata": {},
     "output_type": "execute_result"
    }
   ],
   "source": [
    "users.isnull().sum()"
   ]
  },
  {
   "cell_type": "code",
   "execution_count": 6,
   "id": "db88cfda",
   "metadata": {},
   "outputs": [
    {
     "data": {
      "text/plain": [
       "31"
      ]
     },
     "execution_count": 6,
     "metadata": {},
     "output_type": "execute_result"
    }
   ],
   "source": [
    "users.duplicated().sum()"
   ]
  },
  {
   "cell_type": "code",
   "execution_count": 7,
   "id": "f52d79b3",
   "metadata": {},
   "outputs": [
    {
     "data": {
      "text/plain": [
       "0"
      ]
     },
     "execution_count": 7,
     "metadata": {},
     "output_type": "execute_result"
    }
   ],
   "source": [
    "users = users.drop_duplicates() #удаляем дубликаты\n",
    "users.duplicated().sum()"
   ]
  },
  {
   "cell_type": "markdown",
   "id": "f8c33e6b",
   "metadata": {},
   "source": [
    "<div class=\"alert alert-success\">\n",
    "<font size=\"4\", color= \"seagreen\"><b>✔️ Комментарий ревьюера</b></font>\n",
    "    <br /> \n",
    "    <font size=\"3\", color = \"black\">\n",
    "<br />Проверка на поиск дубликатов выполнена, молодец\n",
    "        \n",
    "Особенно это станет важным, когда мы перейдем к более сложным задачам на втором модуле курса\n",
    "          "
   ]
  },
  {
   "cell_type": "code",
   "execution_count": 8,
   "id": "e00805db",
   "metadata": {},
   "outputs": [
    {
     "data": {
      "text/plain": [
       "user_id         0\n",
       "distance        0\n",
       "duration        0\n",
       "date            0\n",
       "month_number    0\n",
       "dtype: int64"
      ]
     },
     "execution_count": 8,
     "metadata": {},
     "output_type": "execute_result"
    }
   ],
   "source": [
    "rides.isnull().sum()"
   ]
  },
  {
   "cell_type": "code",
   "execution_count": 9,
   "id": "fc2212fb",
   "metadata": {},
   "outputs": [
    {
     "data": {
      "text/plain": [
       "0"
      ]
     },
     "execution_count": 9,
     "metadata": {},
     "output_type": "execute_result"
    }
   ],
   "source": [
    "rides.duplicated().sum()"
   ]
  },
  {
   "cell_type": "code",
   "execution_count": 10,
   "id": "94cb8d26",
   "metadata": {},
   "outputs": [
    {
     "data": {
      "text/plain": [
       "subscription_type    0\n",
       "minute_price         0\n",
       "start_ride_price     0\n",
       "subscription_fee     0\n",
       "dtype: int64"
      ]
     },
     "execution_count": 10,
     "metadata": {},
     "output_type": "execute_result"
    }
   ],
   "source": [
    "subscriptions.isnull().sum()"
   ]
  },
  {
   "cell_type": "code",
   "execution_count": 11,
   "id": "d1522893",
   "metadata": {},
   "outputs": [
    {
     "data": {
      "text/plain": [
       "0"
      ]
     },
     "execution_count": 11,
     "metadata": {},
     "output_type": "execute_result"
    }
   ],
   "source": [
    "subscriptions.duplicated().sum()"
   ]
  },
  {
   "cell_type": "markdown",
   "id": "adc79034",
   "metadata": {},
   "source": [
    "Пропуски не обнаружены, дубликаты удалены."
   ]
  },
  {
   "cell_type": "markdown",
   "id": "212593c7",
   "metadata": {},
   "source": [
    "#### Шаг 3. Исследовательский анализ данных"
   ]
  },
  {
   "cell_type": "markdown",
   "id": "23926aed",
   "metadata": {},
   "source": [
    "3.1 частота встречаемости городов;"
   ]
  },
  {
   "cell_type": "code",
   "execution_count": 12,
   "id": "cc9e7fad",
   "metadata": {
    "scrolled": true
   },
   "outputs": [
    {
     "data": {
      "text/plain": [
       "Пятигорск         219\n",
       "Екатеринбург      204\n",
       "Ростов-на-Дону    198\n",
       "Краснодар         193\n",
       "Сочи              189\n",
       "Омск              183\n",
       "Тюмень            180\n",
       "Москва            168\n",
       "Name: city, dtype: int64"
      ]
     },
     "execution_count": 12,
     "metadata": {},
     "output_type": "execute_result"
    }
   ],
   "source": [
    "users['city'].value_counts()"
   ]
  },
  {
   "cell_type": "code",
   "execution_count": 13,
   "id": "f09e9110",
   "metadata": {},
   "outputs": [
    {
     "data": {
      "image/png": "[encoded data removed]",
      "text/plain": [
       "<Figure size 864x360 with 1 Axes>"
      ]
     },
     "metadata": {
      "needs_background": "light"
     },
     "output_type": "display_data"
    }
   ],
   "source": [
    "d2 = users.pivot_table(index='city', values='user_id', aggfunc='count')\n",
    "d2 = d2.sort_values(by='user_id', ascending=True)\n",
    "d2.plot(grid=True, style='o-', figsize=(12, 5), title='Количество пользователей по городам')\n",
    "plt.xlabel('Количество пользователей')\n",
    "plt.ylabel('Город')\n",
    "plt.show()"
   ]
  },
  {
   "cell_type": "markdown",
   "id": "d5e618b7",
   "metadata": {},
   "source": [
    "<div class=\"alert alert-warning\", style=\"border:solid coral 3px; padding: 20px\">\n",
    "<font size=\"4\", color = \"DimGrey\"><b>⚠️ Комментарий ревьюера в2</b></font>\n",
    "    <br /> \n",
    "    <font size=\"3\", color = \"black\">\n",
    "<br /> Стоит поменять тип графика на бары, на линейном смотрим обычно за динамикой одного параметра"
   ]
  },
  {
   "cell_type": "markdown",
   "id": "62da3ebf",
   "metadata": {},
   "source": [
    "<div class=\"alert alert-da nger\">\n",
    "<font size=\"4\"><b>❌ Комментарий ревьюера</b></font>\n",
    "    <br /> \n",
    "    <font size=\"3\", color = \"black\">\n",
    "<br /> Стоит  добавить график для таблицы"
   ]
  },
  {
   "cell_type": "markdown",
   "id": "732f6839",
   "metadata": {},
   "source": [
    "Предполагаю, что в Москве самокаты имеют наименьшую популярность ввиду большей обеспеченности населения. Люди выбирают более комфортабельные средства передвижения по городу: такси, каршеринг."
   ]
  },
  {
   "cell_type": "markdown",
   "id": "6ccd04e2",
   "metadata": {},
   "source": [
    "<div class=\"alert alert-warning\", style=\"border:solid coral 3px; padding: 20px\">\n",
    "<font size=\"4\", color = \"DimGrey\"><b>⚠️ Комментарий ревьюера</b></font>\n",
    "    <br /> \n",
    "    <font size=\"3\", color = \"black\">\n",
    "<br /> В Пятигорске на 30% больше пользователей чем в Москве \n",
    "        \n",
    "        219/168\n",
    "        \n",
    "и это вызывает вопросы для бизнеса, почему столь разные города имеют такую разницу и не в пользу Москвы        "
   ]
  },
  {
   "cell_type": "markdown",
   "id": "7ed18b4e",
   "metadata": {},
   "source": [
    "3.2 соотношение пользователей с подпиской и без подписки;"
   ]
  },
  {
   "cell_type": "code",
   "execution_count": 14,
   "id": "6c5cf1ed",
   "metadata": {
    "scrolled": true
   },
   "outputs": [
    {
     "data": {
      "text/plain": [
       "free     835\n",
       "ultra    699\n",
       "Name: subscription_type, dtype: int64"
      ]
     },
     "execution_count": 14,
     "metadata": {},
     "output_type": "execute_result"
    }
   ],
   "source": [
    "users['subscription_type'].value_counts()"
   ]
  },
  {
   "cell_type": "code",
   "execution_count": 15,
   "id": "32b1ac33",
   "metadata": {},
   "outputs": [
    {
     "data": {
      "image/png": "[encoded data removed]",
      "text/plain": [
       "<Figure size 360x360 with 1 Axes>"
      ]
     },
     "metadata": {},
     "output_type": "display_data"
    }
   ],
   "source": [
    "# построим диаграмму для наглядности\n",
    "users.groupby(['subscription_type']).count().plot(kind='pie', \n",
    "                                                  y='user_id', figsize=(5, 5), \n",
    "                                                  ylabel='Соотношение типов подписки', autopct='%1.0f%%')\n",
    "plt.show()"
   ]
  },
  {
   "cell_type": "markdown",
   "id": "0941a308",
   "metadata": {},
   "source": [
    "Пользователей с подпиской не много меньше."
   ]
  },
  {
   "cell_type": "markdown",
   "id": "f12bff98",
   "metadata": {},
   "source": [
    "<div class=\"alert alert-success\">\n",
    "<font size=\"4\", color= \"seagreen\"><b>✔️ Комментарий ревьюера в2</b></font>\n",
    "    <br /> \n",
    "    <font size=\"3\", color = \"black\">\n",
    "<br />\n",
    "        \n",
    "\n",
    "Можно просмотреть этот [материал](https://yuliyakelidi.com/%D0%BA%D0%B0%D0%BA-%D0%BF%D1%80%D0%B0%D0%B2%D0%B8%D0%BB%D1%8C%D0%BD%D0%BE-%D0%BF%D0%BE%D0%B4%D0%B1%D0%B8%D1%80%D0%B0%D1%82%D1%8C-%D1%86%D0%B2%D0%B5%D1%82%D0%B0-%D0%B4%D0%BB%D1%8F-%D1%84%D0%BE%D0%BD/), а здесь выбрать [шаблон для заливки и шрифтов](https://gradients.app/ru/legibility)        \n",
    "        \n",
    "[Здесь примеры оформления круговых диаграмм](https://www.pythoncharts.com/matplotlib/pie-chart-matplotlib/)                 "
   ]
  },
  {
   "cell_type": "markdown",
   "id": "bf19cdd7",
   "metadata": {},
   "source": [
    "<div class=\"alert alert-warning\", style=\"border:solid coral 3px; padding: 20px\">\n",
    "<font size=\"4\", color = \"DimGrey\"><b>⚠️ Комментарий ревьюера</b></font>\n",
    "    <br />  \n",
    "    <font size=\"3\", color = \"black\">\n",
    "<br /> В этом случае круговая диаграмма наглядно показывает разность между двумя категориями, молодец\n",
    "        \n",
    "Стоит добавить подписи секторов круга"
   ]
  },
  {
   "cell_type": "markdown",
   "id": "9092b8ea",
   "metadata": {},
   "source": [
    "3.3 возраст пользователей;"
   ]
  },
  {
   "cell_type": "code",
   "execution_count": 16,
   "id": "0c259491",
   "metadata": {
    "scrolled": true
   },
   "outputs": [
    {
     "data": {
      "text/plain": [
       "25    145\n",
       "24    132\n",
       "26    131\n",
       "23    129\n",
       "27    119\n",
       "22    119\n",
       "28    112\n",
       "21     93\n",
       "20     71\n",
       "30     68\n",
       "29     68\n",
       "31     48\n",
       "19     47\n",
       "18     46\n",
       "32     41\n",
       "33     39\n",
       "17     26\n",
       "34     19\n",
       "16     19\n",
       "35     15\n",
       "15     13\n",
       "14      9\n",
       "13      8\n",
       "36      6\n",
       "12      4\n",
       "38      3\n",
       "37      2\n",
       "39      1\n",
       "43      1\n",
       "Name: age, dtype: int64"
      ]
     },
     "execution_count": 16,
     "metadata": {},
     "output_type": "execute_result"
    }
   ],
   "source": [
    "users['age'].value_counts()"
   ]
  },
  {
   "cell_type": "code",
   "execution_count": 17,
   "id": "376c76c3",
   "metadata": {},
   "outputs": [
    {
     "data": {
      "image/png": "[encoded data removed]",
      "text/plain": [
       "<Figure size 432x288 with 1 Axes>"
      ]
     },
     "metadata": {
      "needs_background": "light"
     },
     "output_type": "display_data"
    }
   ],
   "source": [
    "# построим гистограмму для наглядности\n",
    "plt.hist(users['age'], bins=50, range=(10,45))\n",
    "plt.title('Соотношение пользователей по возрасту')\n",
    "plt.xlabel('Возраст')\n",
    "plt.ylabel('Количество пользователей')\n",
    "plt.show()"
   ]
  },
  {
   "cell_type": "code",
   "execution_count": 18,
   "id": "57521480",
   "metadata": {},
   "outputs": [
    {
     "data": {
      "text/plain": [
       "count    1534.000000\n",
       "mean       24.903520\n",
       "std         4.572367\n",
       "min        12.000000\n",
       "25%        22.000000\n",
       "50%        25.000000\n",
       "75%        28.000000\n",
       "max        43.000000\n",
       "Name: age, dtype: float64"
      ]
     },
     "execution_count": 18,
     "metadata": {},
     "output_type": "execute_result"
    }
   ],
   "source": [
    "users['age'].describe()"
   ]
  },
  {
   "cell_type": "markdown",
   "id": "61f26507",
   "metadata": {},
   "source": [
    "Самые активные пользователи в ворасте от 22 до 27 лет."
   ]
  },
  {
   "attachments": {
    "image.png": {
     "image/png": "[encoded data removed]"
    }
   },
   "cell_type": "markdown",
   "id": "b619cc71",
   "metadata": {},
   "source": [
    "<div class=\"alert alert-da nger\">\n",
    "<font size=\"4\"><b>❌ Комментарий ревьюера</b></font>\n",
    "    <br />\n",
    "    <font size=\"3\", color = \"black\">\n",
    "<br />Стоит  увеличить кол-во корзин для гистограммы\n",
    "        \n",
    "![image.png](attachment:image.png)        "
   ]
  },
  {
   "cell_type": "markdown",
   "id": "d3557663",
   "metadata": {},
   "source": [
    "3.4 расстояние, которое пользователь преодолел за одну поездку;"
   ]
  },
  {
   "cell_type": "code",
   "execution_count": 19,
   "id": "c4407349",
   "metadata": {},
   "outputs": [
    {
     "data": {
      "text/plain": [
       "7211"
      ]
     },
     "execution_count": 19,
     "metadata": {},
     "output_type": "execute_result"
    }
   ],
   "source": [
    "rides['distance'] = rides['distance'].astype(int)\n",
    "rides['distance'].max()"
   ]
  },
  {
   "cell_type": "code",
   "execution_count": 20,
   "id": "3cf62588",
   "metadata": {
    "scrolled": false
   },
   "outputs": [
    {
     "data": {
      "image/png": "[encoded data removed]",
      "text/plain": [
       "<Figure size 432x288 with 1 Axes>"
      ]
     },
     "metadata": {
      "needs_background": "light"
     },
     "output_type": "display_data"
    }
   ],
   "source": [
    "# построим гистограмму для наглядности\n",
    "plt.hist(rides['distance'], bins=100, range=(0,7300))\n",
    "plt.title('Соотношение пользователей по дистанции')\n",
    "plt.xlabel('Дистанция')\n",
    "plt.ylabel('Количество пользователей')\n",
    "plt.show()"
   ]
  },
  {
   "cell_type": "code",
   "execution_count": 21,
   "id": "95075624",
   "metadata": {},
   "outputs": [
    {
     "data": {
      "text/plain": [
       "count    18068.000000\n",
       "mean      3070.159841\n",
       "std       1116.831548\n",
       "min          0.000000\n",
       "25%       2542.750000\n",
       "50%       3133.000000\n",
       "75%       3776.000000\n",
       "max       7211.000000\n",
       "Name: distance, dtype: float64"
      ]
     },
     "execution_count": 21,
     "metadata": {},
     "output_type": "execute_result"
    }
   ],
   "source": [
    "rides['distance'].describe()"
   ]
  },
  {
   "cell_type": "markdown",
   "id": "2890dfb2",
   "metadata": {},
   "source": [
    "Чаще всего пользователь преодолевает расстояние от 2500 до 4000 метров. На графике выделилась группа, совершающая короткие поездки. Предположу, что эта группа - дети, короткие поездки обусловлены как малым количеством средств, так и перемещением без опледеленой цели, те простое желание прокатиться, получить порцию новых ощущуений."
   ]
  },
  {
   "cell_type": "markdown",
   "id": "4c6b77f9",
   "metadata": {},
   "source": [
    "<div class=\"alert alert-warning\", style=\"border:solid coral 3px; padding: 20px\">\n",
    "<font size=\"4\", color = \"DimGrey\"><b>⚠️ Комментарий ревьюера в2</b></font>\n",
    "    <br />\n",
    "<font size=\"3\", color = \"black\">\n",
    "<br />Вопрос про группу был — пользователи какого из тарифов катаются чаще на короткие расстояния?\n",
    "    \n",
    "    Интересно, какая группа пользователей чаще совершает короткие поездки?"
   ]
  },
  {
   "cell_type": "markdown",
   "id": "f737dd26",
   "metadata": {},
   "source": [
    "<div class=\"alert alert-warning\", style=\"border:solid coral 3px; padding: 20px\">\n",
    "<font size=\"4\", color = \"DimGrey\"><b>⚠️ Комментарий ревьюера</b></font>\n",
    "    <br />\n",
    "<font size=\"3\", color = \"black\">\n",
    "<br />Интересно, какая группа пользователей чаще совершает короткие поездки?"
   ]
  },
  {
   "cell_type": "markdown",
   "id": "81f66eb8",
   "metadata": {},
   "source": [
    "<div class=\"alert alert-warning\", style=\"border:solid coral 3px; padding: 20px\">\n",
    "<font size=\"4\", color = \"DimGrey\"><b>⚠️ Комментарий ревьюера</b></font>\n",
    "    <br />\n",
    "<font size=\"3\", color = \"black\">\n",
    "<br />Можно добавить свои предположения, по какой причине у нас пользователи разделились на две части: совершают короткие и длинные поездки, с пиками около 700-а и 3100-а метров "
   ]
  },
  {
   "cell_type": "markdown",
   "id": "70f3d1e2",
   "metadata": {},
   "source": [
    "3.5 продолжительность поездок."
   ]
  },
  {
   "cell_type": "code",
   "execution_count": 22,
   "id": "6e0cc182",
   "metadata": {},
   "outputs": [
    {
     "data": {
      "text/plain": [
       "41"
      ]
     },
     "execution_count": 22,
     "metadata": {},
     "output_type": "execute_result"
    }
   ],
   "source": [
    "#rides['duration'] = round(rides['duration'], 1) # округлим значение до десятых \n",
    "# каждое значение из столбца duration округляется с помощью «потолка»: \n",
    "rides['duration'] = np.ceil(rides['duration']).astype(int)\n",
    "rides['duration'].max()"
   ]
  },
  {
   "cell_type": "markdown",
   "id": "7e458cf7",
   "metadata": {},
   "source": [
    "<div class=\"alert alert-success\">\n",
    "<font size=\"4\", color= \"seagreen\"><b>✔️ Комментарий ревьюера</b></font>\n",
    "    <br /> \n",
    "    <font size=\"3\", color = \"black\">\n",
    "<br /> Округление выполнено по плану проекта, молодец"
   ]
  },
  {
   "cell_type": "code",
   "execution_count": 23,
   "id": "59adfa23",
   "metadata": {},
   "outputs": [
    {
     "data": {
      "image/png": "[encoded data removed]",
      "text/plain": [
       "<Figure size 432x288 with 1 Axes>"
      ]
     },
     "metadata": {
      "needs_background": "light"
     },
     "output_type": "display_data"
    }
   ],
   "source": [
    "# построим гистограмму для наглядности\n",
    "plt.hist(rides['duration'], bins=50, range=(0,41))\n",
    "plt.title('Соотношение продолжительности поездок')\n",
    "plt.xlabel('Время')\n",
    "plt.ylabel('Количество пользователей')\n",
    "plt.show()"
   ]
  },
  {
   "cell_type": "code",
   "execution_count": 24,
   "id": "5109ad4d",
   "metadata": {},
   "outputs": [
    {
     "data": {
      "text/plain": [
       "count    18068.000000\n",
       "mean        18.303520\n",
       "std          6.094928\n",
       "min          1.000000\n",
       "25%         14.000000\n",
       "50%         18.000000\n",
       "75%         22.000000\n",
       "max         41.000000\n",
       "Name: duration, dtype: float64"
      ]
     },
     "execution_count": 24,
     "metadata": {},
     "output_type": "execute_result"
    }
   ],
   "source": [
    "rides['duration'].describe()"
   ]
  },
  {
   "cell_type": "markdown",
   "id": "8f3cd99e",
   "metadata": {},
   "source": [
    "Большинство пользователей предпочитает ездить от 12 до 22 минут. Данные имеют вид нормального распределения Гауса (колокол).\n",
    "На графике присутвует аномалия, примерно 100 поездок продолжительностью менее 1 минуты. Возможно, имеет место факт не готовности самоката к поездке, например, севший аккумулятор либо иная неисправность. Это может быть проблемой для пользователей без подписки, тк они оплачивают факт начала поездки, которую не могут совершить из-за техничестких проблем. "
   ]
  },
  {
   "cell_type": "code",
   "execution_count": 25,
   "id": "83474d61",
   "metadata": {},
   "outputs": [
    {
     "data": {
      "text/plain": [
       "count    17945.000000\n",
       "mean        18.365784\n",
       "std          5.937898\n",
       "min          3.000000\n",
       "25%         14.000000\n",
       "50%         18.000000\n",
       "75%         22.000000\n",
       "max         35.000000\n",
       "Name: duration, dtype: float64"
      ]
     },
     "execution_count": 25,
     "metadata": {},
     "output_type": "execute_result"
    }
   ],
   "source": [
    "rides = rides[(rides['duration'] < 36) & (rides['duration'] > 1)] # избавимся от аномалий\n",
    "rides['duration'].describe() # потеря менее 1% данных допустима"
   ]
  },
  {
   "cell_type": "markdown",
   "id": "bc52a573",
   "metadata": {},
   "source": [
    "<div class=\"alert alert-danger\">\n",
    "<font size=\"4\"><b>❌ Комментарий ревьюера в2</b></font>\n",
    "    <br /> \n",
    "    <font size=\"3\", color = \"black\">\n",
    "<br /> Не стоит на этом проекте удалять выбросы по подобной схеме. В отличии от проекта про недвижимость — на этом проекте мы изучаем параметр выручки, удаляя часть данных, мы можем исказить результаты исследования — т.к. нам передали только часть данных про пользователей"
   ]
  },
  {
   "cell_type": "markdown",
   "id": "cce0abbe",
   "metadata": {},
   "source": [
    "<div class=\"alert alert-warning\", style=\"border:solid coral 3px; padding: 20px\">\n",
    "<font size=\"4\", color = \"DimGrey\"><b>⚠️ Комментарий ревьюера</b></font>\n",
    "    <br />\n",
    "<font size=\"3\", color = \"black\">\n",
    "<br />     \n",
    "Можно описать вид распределения (данных) на гистограммах    "
   ]
  },
  {
   "cell_type": "markdown",
   "id": "57398dd5",
   "metadata": {},
   "source": [
    "В ходе анализа установлено:\n",
    "1. Самые часто встречающиеся города: Пятигорск и Екатеринбург.\n",
    "2. Визуализировали соотношение пользователей с подпиской и без подписки.\n",
    "3. Выяснили, что самые активные пользователи в ворасте от 22 до 27 лет (пик - 25 лет). Это подтверждает информация о данном столбце: медиана поездок находится на 25 лет, первый квартиль находится на значении 22 года, третий квартиль на 28 лет. \n",
    "4. Узнали, что чаще всего пользователь преодолевает расстояние от 2500 до 4000 метров за одну поездку. Это подтверждает информация о данном столбце: медиана поездок находится на 3133 м, первый квартиль находится на значении 2542 м, третий квартиль на 3776 м. \n",
    "5. Большинство пользователей предпочитает ездить от 12 до 22 минут. Это подтверждает информация о данном столбце: медиана поездок находится на 18 мин, первый квартиль находится на значении 14 мин, третий квартиль на 22 мин."
   ]
  },
  {
   "cell_type": "markdown",
   "id": "25913256",
   "metadata": {},
   "source": [
    "<div class=\"alert alert-warning\", style=\"border:solid coral 3px; padding: 20px\">\n",
    "<font size=\"4\", color = \"DimGrey\"><b>⚠️ Комментарий ревьюера</b></font>\n",
    "    <br /> \n",
    "    <font size=\"3\", color = \"black\">\n",
    "<br />    Стоит больше кода посвятить изучению самих данных, возможных аномалий, редких значений ... Например проверить колонку длительности на наличие аномалий "
   ]
  },
  {
   "attachments": {
    "image.png": {
     "image/png": "[encoded data removed]"
    }
   },
   "cell_type": "markdown",
   "id": "855cf3e2",
   "metadata": {},
   "source": [
    "<div class=\"alert alert-da nger\">\n",
    "<font size=\"4\"><b>❌ Комментарий ревьюера</b></font>\n",
    "    <br /> \n",
    "    <font size=\"3\", color = \"black\">\n",
    "<br /> Стоит  добавить в промежуточный вывод о результатах выполнения исследовательских задач и сведения о межквартильном размахе в данных:\n",
    "        \n",
    "+ по возрасту, длительности и пройденному расстоянию\n",
    "        \n",
    "![image.png](attachment:image.png)        \n",
    "        "
   ]
  },
  {
   "cell_type": "markdown",
   "id": "145c69e9",
   "metadata": {},
   "source": [
    "<div class=\"alert alert-success\">\n",
    "<font size=\"4\", color= \"seagreen\"><b>✔️ Комментарий ревьюера в2</b></font>\n",
    "    <br /> \n",
    "    <font size=\"3\", color = \"black\">\n",
    "<br />   \n",
    "        \n",
    "Межквартильный размах является мерой разброса данных, которая особенно полезна в анализе из-за следующих преимуществ:\n",
    "        \n",
    "1. Устойчивость к выбросам. В отличие от среднего арифметического, межквартильный размах менее чувствителен к выбросам в данных. Это делает его более надежной мерой разброса по сравнению со средним арифметическим, особенно в случаях, когда данные содержат необычные значения или аномалии.\n",
    "2. Простота понимания и интерпретации. Межквартильный диапазон легко понять и интерпретировать, так как он показывает расстояние между 25% наименьших и 25% наибольших значений в наборе данных.\n",
    "3. Разделение среднего и дисперсии. Межквартильный размах отделяет среднее значение от дисперсии, что может быть полезно для анализа данных, так как позволяет изучать эти два аспекта отдельно.\n",
    "4. Более высокая эффективность в некоторых случаях. В некоторых ситуациях использование межквартильного диапазона вместо среднего арифметического может быть более эффективным, например, при анализе данных с тяжелыми хвостами распределения или асимметричными        \n",
    "        \n",
    "В маркетинге межквартильный размах может использоваться для анализа следующих аспектов:\n",
    "        \n",
    "1. Поведение пользователей: IQR может помочь маркетологам определить, как пользователи взаимодействуют с продуктом или услугой, например, как часто они используют продукт, на какие функции они чаще всего нажимают и т.д.\n",
    "2. Эффективность рекламы: IQR можно использовать для анализа эффективности рекламных кампаний, чтобы определить, какие рекламные сообщения привлекают наибольшее внимание и какие не вызывают интереса у аудитории.        "
   ]
  },
  {
   "cell_type": "markdown",
   "id": "4ef51331",
   "metadata": {},
   "source": [
    "#### Шаг 4. Объединение данных"
   ]
  },
  {
   "cell_type": "markdown",
   "id": "f83c05c1",
   "metadata": {},
   "source": [
    "4.1 Объедините данные о пользователях, поездках и подписках в один датафрейм. Для этого воспользуемся методом merge()."
   ]
  },
  {
   "cell_type": "code",
   "execution_count": 26,
   "id": "5892a574",
   "metadata": {},
   "outputs": [
    {
     "data": {
      "text/html": [
       "<div>\n",
       "<style scoped>\n",
       "    .dataframe tbody tr th:only-of-type {\n",
       "        vertical-align: middle;\n",
       "    }\n",
       "\n",
       "    .dataframe tbody tr th {\n",
       "        vertical-align: top;\n",
       "    }\n",
       "\n",
       "    .dataframe thead th {\n",
       "        text-align: right;\n",
       "    }\n",
       "</style>\n",
       "<table border=\"1\" class=\"dataframe\">\n",
       "  <thead>\n",
       "    <tr style=\"text-align: right;\">\n",
       "      <th></th>\n",
       "      <th>user_id</th>\n",
       "      <th>name</th>\n",
       "      <th>age</th>\n",
       "      <th>city</th>\n",
       "      <th>subscription_type</th>\n",
       "      <th>distance</th>\n",
       "      <th>duration</th>\n",
       "      <th>date</th>\n",
       "      <th>month_number</th>\n",
       "      <th>minute_price</th>\n",
       "      <th>start_ride_price</th>\n",
       "      <th>subscription_fee</th>\n",
       "    </tr>\n",
       "  </thead>\n",
       "  <tbody>\n",
       "    <tr>\n",
       "      <th>0</th>\n",
       "      <td>1</td>\n",
       "      <td>Кира</td>\n",
       "      <td>22</td>\n",
       "      <td>Тюмень</td>\n",
       "      <td>ultra</td>\n",
       "      <td>4409</td>\n",
       "      <td>26</td>\n",
       "      <td>2021-01-01</td>\n",
       "      <td>1</td>\n",
       "      <td>6</td>\n",
       "      <td>0</td>\n",
       "      <td>199</td>\n",
       "    </tr>\n",
       "    <tr>\n",
       "      <th>1</th>\n",
       "      <td>1</td>\n",
       "      <td>Кира</td>\n",
       "      <td>22</td>\n",
       "      <td>Тюмень</td>\n",
       "      <td>ultra</td>\n",
       "      <td>2617</td>\n",
       "      <td>16</td>\n",
       "      <td>2021-01-18</td>\n",
       "      <td>1</td>\n",
       "      <td>6</td>\n",
       "      <td>0</td>\n",
       "      <td>199</td>\n",
       "    </tr>\n",
       "    <tr>\n",
       "      <th>2</th>\n",
       "      <td>1</td>\n",
       "      <td>Кира</td>\n",
       "      <td>22</td>\n",
       "      <td>Тюмень</td>\n",
       "      <td>ultra</td>\n",
       "      <td>754</td>\n",
       "      <td>7</td>\n",
       "      <td>2021-04-20</td>\n",
       "      <td>4</td>\n",
       "      <td>6</td>\n",
       "      <td>0</td>\n",
       "      <td>199</td>\n",
       "    </tr>\n",
       "    <tr>\n",
       "      <th>3</th>\n",
       "      <td>1</td>\n",
       "      <td>Кира</td>\n",
       "      <td>22</td>\n",
       "      <td>Тюмень</td>\n",
       "      <td>ultra</td>\n",
       "      <td>2694</td>\n",
       "      <td>19</td>\n",
       "      <td>2021-08-11</td>\n",
       "      <td>8</td>\n",
       "      <td>6</td>\n",
       "      <td>0</td>\n",
       "      <td>199</td>\n",
       "    </tr>\n",
       "    <tr>\n",
       "      <th>4</th>\n",
       "      <td>1</td>\n",
       "      <td>Кира</td>\n",
       "      <td>22</td>\n",
       "      <td>Тюмень</td>\n",
       "      <td>ultra</td>\n",
       "      <td>4028</td>\n",
       "      <td>27</td>\n",
       "      <td>2021-08-28</td>\n",
       "      <td>8</td>\n",
       "      <td>6</td>\n",
       "      <td>0</td>\n",
       "      <td>199</td>\n",
       "    </tr>\n",
       "  </tbody>\n",
       "</table>\n",
       "</div>"
      ],
      "text/plain": [
       "   user_id  name  age    city subscription_type  distance  duration  \\\n",
       "0        1  Кира   22  Тюмень             ultra      4409        26   \n",
       "1        1  Кира   22  Тюмень             ultra      2617        16   \n",
       "2        1  Кира   22  Тюмень             ultra       754         7   \n",
       "3        1  Кира   22  Тюмень             ultra      2694        19   \n",
       "4        1  Кира   22  Тюмень             ultra      4028        27   \n",
       "\n",
       "        date  month_number  minute_price  start_ride_price  subscription_fee  \n",
       "0 2021-01-01             1             6                 0               199  \n",
       "1 2021-01-18             1             6                 0               199  \n",
       "2 2021-04-20             4             6                 0               199  \n",
       "3 2021-08-11             8             6                 0               199  \n",
       "4 2021-08-28             8             6                 0               199  "
      ]
     },
     "execution_count": 26,
     "metadata": {},
     "output_type": "execute_result"
    }
   ],
   "source": [
    "data = users.merge(rides, on='user_id') # название столбца, по которому объединять, передаем в параметре on\n",
    "data = data.merge(subscriptions, on='subscription_type')\n",
    "data.head()"
   ]
  },
  {
   "cell_type": "code",
   "execution_count": 27,
   "id": "25a8de0f",
   "metadata": {},
   "outputs": [
    {
     "name": "stdout",
     "output_type": "stream",
     "text": [
      "   user_id  name  age    city subscription_type  distance  duration  \\\n",
      "0        1  Кира   22  Тюмень             ultra      4409        26   \n",
      "1        1  Кира   22  Тюмень             ultra      2617        16   \n",
      "2        1  Кира   22  Тюмень             ultra       754         7   \n",
      "3        1  Кира   22  Тюмень             ultra      2694        19   \n",
      "4        1  Кира   22  Тюмень             ultra      4028        27   \n",
      "\n",
      "        date  month_number  minute_price  start_ride_price  subscription_fee  \n",
      "0 2021-01-01             1             6                 0               199  \n",
      "1 2021-01-18             1             6                 0               199  \n",
      "2 2021-04-20             4             6                 0               199  \n",
      "3 2021-08-11             8             6                 0               199  \n",
      "4 2021-08-28             8             6                 0               199  \n",
      "<class 'pandas.core.frame.DataFrame'>\n",
      "Int64Index: 17945 entries, 0 to 17944\n",
      "Data columns (total 12 columns):\n",
      " #   Column             Non-Null Count  Dtype         \n",
      "---  ------             --------------  -----         \n",
      " 0   user_id            17945 non-null  int64         \n",
      " 1   name               17945 non-null  object        \n",
      " 2   age                17945 non-null  int64         \n",
      " 3   city               17945 non-null  object        \n",
      " 4   subscription_type  17945 non-null  object        \n",
      " 5   distance           17945 non-null  int64         \n",
      " 6   duration           17945 non-null  int64         \n",
      " 7   date               17945 non-null  datetime64[ns]\n",
      " 8   month_number       17945 non-null  int64         \n",
      " 9   minute_price       17945 non-null  int64         \n",
      " 10  start_ride_price   17945 non-null  int64         \n",
      " 11  subscription_fee   17945 non-null  int64         \n",
      "dtypes: datetime64[ns](1), int64(8), object(3)\n",
      "memory usage: 1.8+ MB\n",
      "\n"
     ]
    }
   ],
   "source": [
    "all_data_view(data)"
   ]
  },
  {
   "cell_type": "code",
   "execution_count": 28,
   "id": "6f8f1088",
   "metadata": {},
   "outputs": [
    {
     "data": {
      "text/plain": [
       "user_id              0\n",
       "name                 0\n",
       "age                  0\n",
       "city                 0\n",
       "subscription_type    0\n",
       "dtype: int64"
      ]
     },
     "execution_count": 28,
     "metadata": {},
     "output_type": "execute_result"
    }
   ],
   "source": [
    "users.isnull().sum() "
   ]
  },
  {
   "cell_type": "markdown",
   "id": "fb453aea",
   "metadata": {},
   "source": [
    "Итог: Таблицы объеденены успешно, пропусков нет. Теперь можно производить дальнейшие операции с общей базой данных."
   ]
  },
  {
   "cell_type": "markdown",
   "id": "b07b7912",
   "metadata": {},
   "source": [
    "<div class=\"alert alert-success\">\n",
    "<font size=\"4\", color= \"seagreen\"><b>✔️ Комментарий ревьюера</b></font>\n",
    "    <br /> \n",
    "    <font size=\"3\", color = \"black\">\n",
    "<br /> На этих данных — объединение прошло по плану.\n",
    "         \n",
    "        \n",
    "        \n",
    "Обрати внимание на параметры, которые пандас выставляет по умолчанию при merge (для справки в join такая же «засада» по характеру, но другая по исполнению)\n",
    "        \n",
    "Использование параметров по умолчанию может привести к потере данных при объединении        \n",
    "     \n",
    "        \n",
    "[Примеры объединения таблиц, merge](https://pandas.pydata.org/pandas-docs/version/1.5/reference/api/pandas.DataFrame.merge.html?highlight=merge#pandas.DataFrame.merge)  \n",
    "        \n",
    "[Примеры объединения таблиц, join](https://pandas.pydata.org/pandas-docs/version/1.5/reference/api/pandas.DataFrame.join.html?highlight=join#pandas.DataFrame.join)          "
   ]
  },
  {
   "cell_type": "markdown",
   "id": "b63eeddb",
   "metadata": {},
   "source": [
    "<div class=\"alert alert-dan ger\">\n",
    "<font size=\"4\"><b>❌ Комментарий ревьюера</b></font>\n",
    "    <br /> \n",
    "    <font size=\"3\", color = \"black\">\n",
    "<br />  Стоит проверить размерность  до объединения и после у полученной таблицы, чтобы размерность ДО == размерности после (по кол-ву строк), и наличие пропусков после объединения.\n",
    "        \n",
    "Можно добавить минивывод о результатах этой важной операции\n",
    "        \n",
    " "
   ]
  },
  {
   "cell_type": "markdown",
   "id": "7c969189",
   "metadata": {},
   "source": [
    "4.2 Создадим ещё два датафрейма из датафрейма, созданного на этапе 4.1:\n",
    "c данными о пользователях без подписки;"
   ]
  },
  {
   "cell_type": "code",
   "execution_count": 29,
   "id": "168be4e9",
   "metadata": {},
   "outputs": [
    {
     "data": {
      "text/html": [
       "<div>\n",
       "<style scoped>\n",
       "    .dataframe tbody tr th:only-of-type {\n",
       "        vertical-align: middle;\n",
       "    }\n",
       "\n",
       "    .dataframe tbody tr th {\n",
       "        vertical-align: top;\n",
       "    }\n",
       "\n",
       "    .dataframe thead th {\n",
       "        text-align: right;\n",
       "    }\n",
       "</style>\n",
       "<table border=\"1\" class=\"dataframe\">\n",
       "  <thead>\n",
       "    <tr style=\"text-align: right;\">\n",
       "      <th></th>\n",
       "      <th>user_id</th>\n",
       "      <th>name</th>\n",
       "      <th>age</th>\n",
       "      <th>city</th>\n",
       "      <th>subscription_type</th>\n",
       "      <th>distance</th>\n",
       "      <th>duration</th>\n",
       "      <th>date</th>\n",
       "      <th>month_number</th>\n",
       "      <th>minute_price</th>\n",
       "      <th>start_ride_price</th>\n",
       "      <th>subscription_fee</th>\n",
       "    </tr>\n",
       "  </thead>\n",
       "  <tbody>\n",
       "    <tr>\n",
       "      <th>6472</th>\n",
       "      <td>700</td>\n",
       "      <td>Айдар</td>\n",
       "      <td>22</td>\n",
       "      <td>Омск</td>\n",
       "      <td>free</td>\n",
       "      <td>2515</td>\n",
       "      <td>15</td>\n",
       "      <td>2021-01-02</td>\n",
       "      <td>1</td>\n",
       "      <td>8</td>\n",
       "      <td>50</td>\n",
       "      <td>0</td>\n",
       "    </tr>\n",
       "    <tr>\n",
       "      <th>6473</th>\n",
       "      <td>700</td>\n",
       "      <td>Айдар</td>\n",
       "      <td>22</td>\n",
       "      <td>Омск</td>\n",
       "      <td>free</td>\n",
       "      <td>846</td>\n",
       "      <td>17</td>\n",
       "      <td>2021-02-01</td>\n",
       "      <td>2</td>\n",
       "      <td>8</td>\n",
       "      <td>50</td>\n",
       "      <td>0</td>\n",
       "    </tr>\n",
       "    <tr>\n",
       "      <th>6474</th>\n",
       "      <td>700</td>\n",
       "      <td>Айдар</td>\n",
       "      <td>22</td>\n",
       "      <td>Омск</td>\n",
       "      <td>free</td>\n",
       "      <td>4004</td>\n",
       "      <td>21</td>\n",
       "      <td>2021-02-04</td>\n",
       "      <td>2</td>\n",
       "      <td>8</td>\n",
       "      <td>50</td>\n",
       "      <td>0</td>\n",
       "    </tr>\n",
       "    <tr>\n",
       "      <th>6475</th>\n",
       "      <td>700</td>\n",
       "      <td>Айдар</td>\n",
       "      <td>22</td>\n",
       "      <td>Омск</td>\n",
       "      <td>free</td>\n",
       "      <td>1205</td>\n",
       "      <td>10</td>\n",
       "      <td>2021-02-10</td>\n",
       "      <td>2</td>\n",
       "      <td>8</td>\n",
       "      <td>50</td>\n",
       "      <td>0</td>\n",
       "    </tr>\n",
       "    <tr>\n",
       "      <th>6476</th>\n",
       "      <td>700</td>\n",
       "      <td>Айдар</td>\n",
       "      <td>22</td>\n",
       "      <td>Омск</td>\n",
       "      <td>free</td>\n",
       "      <td>3047</td>\n",
       "      <td>18</td>\n",
       "      <td>2021-02-14</td>\n",
       "      <td>2</td>\n",
       "      <td>8</td>\n",
       "      <td>50</td>\n",
       "      <td>0</td>\n",
       "    </tr>\n",
       "  </tbody>\n",
       "</table>\n",
       "</div>"
      ],
      "text/plain": [
       "      user_id   name  age  city subscription_type  distance  duration  \\\n",
       "6472      700  Айдар   22  Омск              free      2515        15   \n",
       "6473      700  Айдар   22  Омск              free       846        17   \n",
       "6474      700  Айдар   22  Омск              free      4004        21   \n",
       "6475      700  Айдар   22  Омск              free      1205        10   \n",
       "6476      700  Айдар   22  Омск              free      3047        18   \n",
       "\n",
       "           date  month_number  minute_price  start_ride_price  \\\n",
       "6472 2021-01-02             1             8                50   \n",
       "6473 2021-02-01             2             8                50   \n",
       "6474 2021-02-04             2             8                50   \n",
       "6475 2021-02-10             2             8                50   \n",
       "6476 2021-02-14             2             8                50   \n",
       "\n",
       "      subscription_fee  \n",
       "6472                 0  \n",
       "6473                 0  \n",
       "6474                 0  \n",
       "6475                 0  \n",
       "6476                 0  "
      ]
     },
     "execution_count": 29,
     "metadata": {},
     "output_type": "execute_result"
    }
   ],
   "source": [
    "users_free = data[data['subscription_type'] == 'free']\n",
    "users_free.head()"
   ]
  },
  {
   "cell_type": "markdown",
   "id": "6d60fe2c",
   "metadata": {},
   "source": [
    "с данными о пользователях с подпиской."
   ]
  },
  {
   "cell_type": "code",
   "execution_count": 30,
   "id": "71160d07",
   "metadata": {},
   "outputs": [
    {
     "data": {
      "text/html": [
       "<div>\n",
       "<style scoped>\n",
       "    .dataframe tbody tr th:only-of-type {\n",
       "        vertical-align: middle;\n",
       "    }\n",
       "\n",
       "    .dataframe tbody tr th {\n",
       "        vertical-align: top;\n",
       "    }\n",
       "\n",
       "    .dataframe thead th {\n",
       "        text-align: right;\n",
       "    }\n",
       "</style>\n",
       "<table border=\"1\" class=\"dataframe\">\n",
       "  <thead>\n",
       "    <tr style=\"text-align: right;\">\n",
       "      <th></th>\n",
       "      <th>user_id</th>\n",
       "      <th>name</th>\n",
       "      <th>age</th>\n",
       "      <th>city</th>\n",
       "      <th>subscription_type</th>\n",
       "      <th>distance</th>\n",
       "      <th>duration</th>\n",
       "      <th>date</th>\n",
       "      <th>month_number</th>\n",
       "      <th>minute_price</th>\n",
       "      <th>start_ride_price</th>\n",
       "      <th>subscription_fee</th>\n",
       "    </tr>\n",
       "  </thead>\n",
       "  <tbody>\n",
       "    <tr>\n",
       "      <th>0</th>\n",
       "      <td>1</td>\n",
       "      <td>Кира</td>\n",
       "      <td>22</td>\n",
       "      <td>Тюмень</td>\n",
       "      <td>ultra</td>\n",
       "      <td>4409</td>\n",
       "      <td>26</td>\n",
       "      <td>2021-01-01</td>\n",
       "      <td>1</td>\n",
       "      <td>6</td>\n",
       "      <td>0</td>\n",
       "      <td>199</td>\n",
       "    </tr>\n",
       "    <tr>\n",
       "      <th>1</th>\n",
       "      <td>1</td>\n",
       "      <td>Кира</td>\n",
       "      <td>22</td>\n",
       "      <td>Тюмень</td>\n",
       "      <td>ultra</td>\n",
       "      <td>2617</td>\n",
       "      <td>16</td>\n",
       "      <td>2021-01-18</td>\n",
       "      <td>1</td>\n",
       "      <td>6</td>\n",
       "      <td>0</td>\n",
       "      <td>199</td>\n",
       "    </tr>\n",
       "    <tr>\n",
       "      <th>2</th>\n",
       "      <td>1</td>\n",
       "      <td>Кира</td>\n",
       "      <td>22</td>\n",
       "      <td>Тюмень</td>\n",
       "      <td>ultra</td>\n",
       "      <td>754</td>\n",
       "      <td>7</td>\n",
       "      <td>2021-04-20</td>\n",
       "      <td>4</td>\n",
       "      <td>6</td>\n",
       "      <td>0</td>\n",
       "      <td>199</td>\n",
       "    </tr>\n",
       "    <tr>\n",
       "      <th>3</th>\n",
       "      <td>1</td>\n",
       "      <td>Кира</td>\n",
       "      <td>22</td>\n",
       "      <td>Тюмень</td>\n",
       "      <td>ultra</td>\n",
       "      <td>2694</td>\n",
       "      <td>19</td>\n",
       "      <td>2021-08-11</td>\n",
       "      <td>8</td>\n",
       "      <td>6</td>\n",
       "      <td>0</td>\n",
       "      <td>199</td>\n",
       "    </tr>\n",
       "    <tr>\n",
       "      <th>4</th>\n",
       "      <td>1</td>\n",
       "      <td>Кира</td>\n",
       "      <td>22</td>\n",
       "      <td>Тюмень</td>\n",
       "      <td>ultra</td>\n",
       "      <td>4028</td>\n",
       "      <td>27</td>\n",
       "      <td>2021-08-28</td>\n",
       "      <td>8</td>\n",
       "      <td>6</td>\n",
       "      <td>0</td>\n",
       "      <td>199</td>\n",
       "    </tr>\n",
       "  </tbody>\n",
       "</table>\n",
       "</div>"
      ],
      "text/plain": [
       "   user_id  name  age    city subscription_type  distance  duration  \\\n",
       "0        1  Кира   22  Тюмень             ultra      4409        26   \n",
       "1        1  Кира   22  Тюмень             ultra      2617        16   \n",
       "2        1  Кира   22  Тюмень             ultra       754         7   \n",
       "3        1  Кира   22  Тюмень             ultra      2694        19   \n",
       "4        1  Кира   22  Тюмень             ultra      4028        27   \n",
       "\n",
       "        date  month_number  minute_price  start_ride_price  subscription_fee  \n",
       "0 2021-01-01             1             6                 0               199  \n",
       "1 2021-01-18             1             6                 0               199  \n",
       "2 2021-04-20             4             6                 0               199  \n",
       "3 2021-08-11             8             6                 0               199  \n",
       "4 2021-08-28             8             6                 0               199  "
      ]
     },
     "execution_count": 30,
     "metadata": {},
     "output_type": "execute_result"
    }
   ],
   "source": [
    "users_ultra = data[data['subscription_type'] == 'ultra']\n",
    "users_ultra.head()"
   ]
  },
  {
   "cell_type": "code",
   "execution_count": 31,
   "id": "aed0912d",
   "metadata": {
    "scrolled": true
   },
   "outputs": [
    {
     "name": "stdout",
     "output_type": "stream",
     "text": [
      "      user_id   name  age  city subscription_type  distance  duration  \\\n",
      "6472      700  Айдар   22  Омск              free      2515        15   \n",
      "6473      700  Айдар   22  Омск              free       846        17   \n",
      "6474      700  Айдар   22  Омск              free      4004        21   \n",
      "6475      700  Айдар   22  Омск              free      1205        10   \n",
      "6476      700  Айдар   22  Омск              free      3047        18   \n",
      "\n",
      "           date  month_number  minute_price  start_ride_price  \\\n",
      "6472 2021-01-02             1             8                50   \n",
      "6473 2021-02-01             2             8                50   \n",
      "6474 2021-02-04             2             8                50   \n",
      "6475 2021-02-10             2             8                50   \n",
      "6476 2021-02-14             2             8                50   \n",
      "\n",
      "      subscription_fee  \n",
      "6472                 0  \n",
      "6473                 0  \n",
      "6474                 0  \n",
      "6475                 0  \n",
      "6476                 0  \n",
      "<class 'pandas.core.frame.DataFrame'>\n",
      "Int64Index: 11473 entries, 6472 to 17944\n",
      "Data columns (total 12 columns):\n",
      " #   Column             Non-Null Count  Dtype         \n",
      "---  ------             --------------  -----         \n",
      " 0   user_id            11473 non-null  int64         \n",
      " 1   name               11473 non-null  object        \n",
      " 2   age                11473 non-null  int64         \n",
      " 3   city               11473 non-null  object        \n",
      " 4   subscription_type  11473 non-null  object        \n",
      " 5   distance           11473 non-null  int64         \n",
      " 6   duration           11473 non-null  int64         \n",
      " 7   date               11473 non-null  datetime64[ns]\n",
      " 8   month_number       11473 non-null  int64         \n",
      " 9   minute_price       11473 non-null  int64         \n",
      " 10  start_ride_price   11473 non-null  int64         \n",
      " 11  subscription_fee   11473 non-null  int64         \n",
      "dtypes: datetime64[ns](1), int64(8), object(3)\n",
      "memory usage: 1.1+ MB\n",
      "\n"
     ]
    }
   ],
   "source": [
    "all_data_view(users_free)"
   ]
  },
  {
   "cell_type": "code",
   "execution_count": 32,
   "id": "1f990b54",
   "metadata": {
    "scrolled": true
   },
   "outputs": [
    {
     "data": {
      "text/plain": [
       "user_id              0\n",
       "name                 0\n",
       "age                  0\n",
       "city                 0\n",
       "subscription_type    0\n",
       "distance             0\n",
       "duration             0\n",
       "date                 0\n",
       "month_number         0\n",
       "minute_price         0\n",
       "start_ride_price     0\n",
       "subscription_fee     0\n",
       "dtype: int64"
      ]
     },
     "execution_count": 32,
     "metadata": {},
     "output_type": "execute_result"
    }
   ],
   "source": [
    "users_free.isnull().sum()"
   ]
  },
  {
   "cell_type": "code",
   "execution_count": 33,
   "id": "3ee1cc14",
   "metadata": {},
   "outputs": [
    {
     "name": "stdout",
     "output_type": "stream",
     "text": [
      "   user_id  name  age    city subscription_type  distance  duration  \\\n",
      "0        1  Кира   22  Тюмень             ultra      4409        26   \n",
      "1        1  Кира   22  Тюмень             ultra      2617        16   \n",
      "2        1  Кира   22  Тюмень             ultra       754         7   \n",
      "3        1  Кира   22  Тюмень             ultra      2694        19   \n",
      "4        1  Кира   22  Тюмень             ultra      4028        27   \n",
      "\n",
      "        date  month_number  minute_price  start_ride_price  subscription_fee  \n",
      "0 2021-01-01             1             6                 0               199  \n",
      "1 2021-01-18             1             6                 0               199  \n",
      "2 2021-04-20             4             6                 0               199  \n",
      "3 2021-08-11             8             6                 0               199  \n",
      "4 2021-08-28             8             6                 0               199  \n",
      "<class 'pandas.core.frame.DataFrame'>\n",
      "Int64Index: 6472 entries, 0 to 6471\n",
      "Data columns (total 12 columns):\n",
      " #   Column             Non-Null Count  Dtype         \n",
      "---  ------             --------------  -----         \n",
      " 0   user_id            6472 non-null   int64         \n",
      " 1   name               6472 non-null   object        \n",
      " 2   age                6472 non-null   int64         \n",
      " 3   city               6472 non-null   object        \n",
      " 4   subscription_type  6472 non-null   object        \n",
      " 5   distance           6472 non-null   int64         \n",
      " 6   duration           6472 non-null   int64         \n",
      " 7   date               6472 non-null   datetime64[ns]\n",
      " 8   month_number       6472 non-null   int64         \n",
      " 9   minute_price       6472 non-null   int64         \n",
      " 10  start_ride_price   6472 non-null   int64         \n",
      " 11  subscription_fee   6472 non-null   int64         \n",
      "dtypes: datetime64[ns](1), int64(8), object(3)\n",
      "memory usage: 657.3+ KB\n",
      "\n"
     ]
    }
   ],
   "source": [
    "all_data_view(users_ultra)"
   ]
  },
  {
   "cell_type": "code",
   "execution_count": 34,
   "id": "74ec59e9",
   "metadata": {},
   "outputs": [
    {
     "data": {
      "text/plain": [
       "user_id              0\n",
       "name                 0\n",
       "age                  0\n",
       "city                 0\n",
       "subscription_type    0\n",
       "distance             0\n",
       "duration             0\n",
       "date                 0\n",
       "month_number         0\n",
       "minute_price         0\n",
       "start_ride_price     0\n",
       "subscription_fee     0\n",
       "dtype: int64"
      ]
     },
     "execution_count": 34,
     "metadata": {},
     "output_type": "execute_result"
    }
   ],
   "source": [
    "users_ultra.isnull().sum()"
   ]
  },
  {
   "cell_type": "markdown",
   "id": "b3336524",
   "metadata": {},
   "source": [
    "<div class=\"alert alert-dang er\">\n",
    "<font size=\"4\"><b>❌ Комментарий ревьюера</b></font>\n",
    "    <br /> \n",
    "    <font size=\"3\", color = \"black\">\n",
    "<br />  Стоит проверить наличие пропусков и размерность у новых таблиц после разделения"
   ]
  },
  {
   "cell_type": "markdown",
   "id": "9c8771e1",
   "metadata": {},
   "source": [
    "4.3 Визуализируйте информацию о расстоянии и времени поездок для пользователей обеих категорий."
   ]
  },
  {
   "cell_type": "code",
   "execution_count": 35,
   "id": "6679b222",
   "metadata": {},
   "outputs": [
    {
     "data": {
      "image/png": "[encoded data removed]",
      "text/plain": [
       "<Figure size 432x288 with 1 Axes>"
      ]
     },
     "metadata": {
      "needs_background": "light"
     },
     "output_type": "display_data"
    }
   ],
   "source": [
    "plt.hist([users_free['distance'], users_ultra['distance']], bins=50, range=(1,5600), label=['free', 'ultra'])\n",
    "plt.legend(loc='upper right')\n",
    "plt.title('Соотношение пользователей с подпиской ULTRA и FREE по дистанции')\n",
    "plt.xlabel('Расстояние в метрах')\n",
    "plt.ylabel('Количество поездок')\n",
    "plt.show()"
   ]
  },
  {
   "cell_type": "markdown",
   "id": "7f23aeb3",
   "metadata": {},
   "source": [
    "Диапазон расстояний поездок пользователей без подписки (FREE) гораздо шире, чем у пользователей с подпиской (ULTRA).\n",
    "Предпологаяю, что пользователи без подписки используют самокат от случая к случаю, не имея опредленного маршрута покздки, например, для прогулки. В связи с этим диапазон пройденных расстояний становится широким."
   ]
  },
  {
   "cell_type": "code",
   "execution_count": 36,
   "id": "81721724",
   "metadata": {},
   "outputs": [
    {
     "data": {
      "image/png": "[encoded data removed]",
      "text/plain": [
       "<Figure size 432x288 with 1 Axes>"
      ]
     },
     "metadata": {
      "needs_background": "light"
     },
     "output_type": "display_data"
    }
   ],
   "source": [
    "plt.hist([users_free['duration'], users_ultra['duration']], bins=30, range=(1,30), label=['free', 'ultra'])\n",
    "plt.legend(loc='upper right')\n",
    "plt.title('Соотношение продолжительности поездок пользователей с подпиской ULTRA и FREE')\n",
    "plt.xlabel('Продолжительность поездки')\n",
    "plt.ylabel('Количество поездок')\n",
    "plt.show()"
   ]
  },
  {
   "cell_type": "markdown",
   "id": "9a2f5521",
   "metadata": {},
   "source": [
    "<div class=\"alert alert-success\">\n",
    "<font size=\"4\", color= \"seagreen\"><b>✔️ Комментарий ревьюера в2</b></font>\n",
    "    <br /> \n",
    "    <font size=\"3\", color = \"black\">\n",
    "<br />Молодец — совмещены оба графика, так их проще сравнивать друг с другом"
   ]
  },
  {
   "cell_type": "markdown",
   "id": "6eb2f74a",
   "metadata": {},
   "source": [
    "<div class=\"alert alert-warning\", style=\"border:solid coral 3px; padding: 20px\">\n",
    "<font size=\"4\", color = \"DimGrey\"><b>⚠️ Комментарий ревьюера</b></font>\n",
    "    <br /> \n",
    "    <font size=\"3\", color = \"black\">\n",
    "<br /> Стоит совместить гистограммы на одном виде, по две гистограммы для каждого параметра (у тарифа), чтобы появилась возможность визуально сравнить параметры у двух разных групп клиентов"
   ]
  },
  {
   "cell_type": "markdown",
   "id": "1ef30856",
   "metadata": {},
   "source": [
    "Анналогичная, но чуть менее выраженная ситуация со временем поездки. Пользователи с подпиской четко знают куда едут, маршрут более выверен, например, поездка на работу. Диапазон времени поездки уже!"
   ]
  },
  {
   "cell_type": "code",
   "execution_count": 37,
   "id": "c0609078",
   "metadata": {},
   "outputs": [
    {
     "data": {
      "text/plain": [
       "<bound method NDFrame.describe of 6472     2515\n",
       "6473      846\n",
       "6474     4004\n",
       "6475     1205\n",
       "6476     3047\n",
       "         ... \n",
       "17940    3781\n",
       "17941    2840\n",
       "17942    3826\n",
       "17943    2902\n",
       "17944    2371\n",
       "Name: distance, Length: 11473, dtype: int64>"
      ]
     },
     "execution_count": 37,
     "metadata": {},
     "output_type": "execute_result"
    }
   ],
   "source": [
    "users_free['distance'].describe"
   ]
  },
  {
   "cell_type": "code",
   "execution_count": 38,
   "id": "41b96711",
   "metadata": {},
   "outputs": [
    {
     "data": {
      "text/plain": [
       "<bound method NDFrame.describe of 0       4409\n",
       "1       2617\n",
       "2        754\n",
       "3       2694\n",
       "4       4028\n",
       "        ... \n",
       "6467    3973\n",
       "6468    3288\n",
       "6469    3076\n",
       "6470    4707\n",
       "6471    3202\n",
       "Name: distance, Length: 6472, dtype: int64>"
      ]
     },
     "execution_count": 38,
     "metadata": {},
     "output_type": "execute_result"
    }
   ],
   "source": [
    "users_ultra['distance'].describe"
   ]
  },
  {
   "cell_type": "code",
   "execution_count": 39,
   "id": "98dcd9c8",
   "metadata": {},
   "outputs": [
    {
     "data": {
      "text/plain": [
       "<bound method NDFrame.describe of 6472     15\n",
       "6473     17\n",
       "6474     21\n",
       "6475     10\n",
       "6476     18\n",
       "         ..\n",
       "17940    20\n",
       "17941    22\n",
       "17942    19\n",
       "17943    17\n",
       "17944    16\n",
       "Name: duration, Length: 11473, dtype: int64>"
      ]
     },
     "execution_count": 39,
     "metadata": {},
     "output_type": "execute_result"
    }
   ],
   "source": [
    "users_free['duration'].describe"
   ]
  },
  {
   "cell_type": "code",
   "execution_count": 40,
   "id": "2f465769",
   "metadata": {},
   "outputs": [
    {
     "data": {
      "text/plain": [
       "<bound method NDFrame.describe of 0       26\n",
       "1       16\n",
       "2        7\n",
       "3       19\n",
       "4       27\n",
       "        ..\n",
       "6467    25\n",
       "6468    16\n",
       "6469    15\n",
       "6470    16\n",
       "6471    26\n",
       "Name: duration, Length: 6472, dtype: int64>"
      ]
     },
     "execution_count": 40,
     "metadata": {},
     "output_type": "execute_result"
    }
   ],
   "source": [
    "users_ultra['duration'].describe"
   ]
  },
  {
   "cell_type": "markdown",
   "id": "a22103d3",
   "metadata": {},
   "source": [
    "Вывод:\n",
    "1. Методом merge() объеденили 3 таблицы в одну.\n",
    "2. Визуализировали информацию о расстоянии и времени поездок для пользователей обеих категорий."
   ]
  },
  {
   "cell_type": "markdown",
   "id": "c5a3cf87",
   "metadata": {},
   "source": [
    "<div class=\"alert alert-danger\">\n",
    "<font size=\"4\"><b>❌ Комментарий ревьюера в2</b></font>\n",
    "    <br /> \n",
    "    <font size=\"3\", color = \"black\">\n",
    "<br /> Стоит  добавить скобки методу\n",
    "        \n",
    "        users_ultra['duration'].describe\n",
    "        \n",
    "        Стоит  добавить  сравнение статистик у двух групп пользователей при помощи метода \n",
    "        \n",
    "        .describe()"
   ]
  },
  {
   "cell_type": "markdown",
   "id": "49152f6c",
   "metadata": {},
   "source": [
    "<div class=\"alert alert-dan ger\">\n",
    "<font size=\"4\"><b>❌ Комментарий ревьюера</b></font>\n",
    "    <br /> \n",
    "    <font size=\"3\", color = \"black\">\n",
    "<br /> Стоит  добавить сравнение статистик у двух групп пользователей при помощи метода \n",
    "        \n",
    "        .describe()"
   ]
  },
  {
   "cell_type": "markdown",
   "id": "402d620f",
   "metadata": {},
   "source": [
    "#### Шаг 5. Подсчёт выручки"
   ]
  },
  {
   "cell_type": "markdown",
   "id": "ce527987",
   "metadata": {},
   "source": [
    "5.1 Создадим датафрейм с агрегированными данными о поездках на основе датафрейма с объединёнными данными из шага 4: найдите суммарное расстояние, количество поездок и суммарное время для каждого пользователя за каждый месяц."
   ]
  },
  {
   "cell_type": "code",
   "execution_count": 41,
   "id": "53049e0a",
   "metadata": {},
   "outputs": [
    {
     "data": {
      "text/html": [
       "<div>\n",
       "<style scoped>\n",
       "    .dataframe tbody tr th:only-of-type {\n",
       "        vertical-align: middle;\n",
       "    }\n",
       "\n",
       "    .dataframe tbody tr th {\n",
       "        vertical-align: top;\n",
       "    }\n",
       "\n",
       "    .dataframe thead th {\n",
       "        text-align: right;\n",
       "    }\n",
       "</style>\n",
       "<table border=\"1\" class=\"dataframe\">\n",
       "  <thead>\n",
       "    <tr style=\"text-align: right;\">\n",
       "      <th></th>\n",
       "      <th></th>\n",
       "      <th>dist_count</th>\n",
       "      <th>dist_sum</th>\n",
       "      <th>durat_sum</th>\n",
       "      <th>minute_price</th>\n",
       "      <th>start_ride_price</th>\n",
       "      <th>subscription_fee</th>\n",
       "    </tr>\n",
       "    <tr>\n",
       "      <th>user_id</th>\n",
       "      <th>month_number</th>\n",
       "      <th></th>\n",
       "      <th></th>\n",
       "      <th></th>\n",
       "      <th></th>\n",
       "      <th></th>\n",
       "      <th></th>\n",
       "    </tr>\n",
       "  </thead>\n",
       "  <tbody>\n",
       "    <tr>\n",
       "      <th rowspan=\"5\" valign=\"top\">1</th>\n",
       "      <th>1</th>\n",
       "      <td>2</td>\n",
       "      <td>7026</td>\n",
       "      <td>42</td>\n",
       "      <td>6</td>\n",
       "      <td>0</td>\n",
       "      <td>199</td>\n",
       "    </tr>\n",
       "    <tr>\n",
       "      <th>4</th>\n",
       "      <td>1</td>\n",
       "      <td>754</td>\n",
       "      <td>7</td>\n",
       "      <td>6</td>\n",
       "      <td>0</td>\n",
       "      <td>199</td>\n",
       "    </tr>\n",
       "    <tr>\n",
       "      <th>8</th>\n",
       "      <td>2</td>\n",
       "      <td>6722</td>\n",
       "      <td>46</td>\n",
       "      <td>6</td>\n",
       "      <td>0</td>\n",
       "      <td>199</td>\n",
       "    </tr>\n",
       "    <tr>\n",
       "      <th>10</th>\n",
       "      <td>2</td>\n",
       "      <td>5809</td>\n",
       "      <td>32</td>\n",
       "      <td>6</td>\n",
       "      <td>0</td>\n",
       "      <td>199</td>\n",
       "    </tr>\n",
       "    <tr>\n",
       "      <th>11</th>\n",
       "      <td>3</td>\n",
       "      <td>7002</td>\n",
       "      <td>56</td>\n",
       "      <td>6</td>\n",
       "      <td>0</td>\n",
       "      <td>199</td>\n",
       "    </tr>\n",
       "  </tbody>\n",
       "</table>\n",
       "</div>"
      ],
      "text/plain": [
       "                      dist_count  dist_sum  durat_sum  minute_price  \\\n",
       "user_id month_number                                                  \n",
       "1       1                      2      7026         42             6   \n",
       "        4                      1       754          7             6   \n",
       "        8                      2      6722         46             6   \n",
       "        10                     2      5809         32             6   \n",
       "        11                     3      7002         56             6   \n",
       "\n",
       "                      start_ride_price  subscription_fee  \n",
       "user_id month_number                                      \n",
       "1       1                            0               199  \n",
       "        4                            0               199  \n",
       "        8                            0               199  \n",
       "        10                           0               199  \n",
       "        11                           0               199  "
      ]
     },
     "execution_count": 41,
     "metadata": {},
     "output_type": "execute_result"
    }
   ],
   "source": [
    "users_income_month = data.pivot_table(\n",
    "    index=('user_id', 'month_number'), \n",
    "    values=('distance', 'duration', 'minute_price', 'start_ride_price', 'subscription_fee'), \n",
    "    aggfunc=({'distance':{'count', 'sum'}, \n",
    "             'duration':'sum', \n",
    "             'minute_price': 'mean',\n",
    "             'start_ride_price':'mean',\n",
    "             'subscription_fee':'mean'}))\n",
    "\n",
    "users_income_month.columns = [\n",
    "    'dist_count', 'dist_sum', \n",
    "    'durat_sum', \n",
    "    'minute_price',\n",
    "    'start_ride_price', \n",
    "    'subscription_fee']\n",
    "\n",
    "users_income_month.head()"
   ]
  },
  {
   "cell_type": "code",
   "execution_count": 42,
   "id": "1da90650",
   "metadata": {
    "scrolled": true
   },
   "outputs": [
    {
     "name": "stdout",
     "output_type": "stream",
     "text": [
      "                      dist_count  dist_sum  durat_sum  minute_price  \\\n",
      "user_id month_number                                                  \n",
      "1       1                      2      7026         42             6   \n",
      "        4                      1       754          7             6   \n",
      "        8                      2      6722         46             6   \n",
      "        10                     2      5809         32             6   \n",
      "        11                     3      7002         56             6   \n",
      "\n",
      "                      start_ride_price  subscription_fee  \n",
      "user_id month_number                                      \n",
      "1       1                            0               199  \n",
      "        4                            0               199  \n",
      "        8                            0               199  \n",
      "        10                           0               199  \n",
      "        11                           0               199  \n",
      "<class 'pandas.core.frame.DataFrame'>\n",
      "MultiIndex: 11287 entries, (1, 1) to (1534, 12)\n",
      "Data columns (total 6 columns):\n",
      " #   Column            Non-Null Count  Dtype\n",
      "---  ------            --------------  -----\n",
      " 0   dist_count        11287 non-null  int64\n",
      " 1   dist_sum          11287 non-null  int64\n",
      " 2   durat_sum         11287 non-null  int64\n",
      " 3   minute_price      11287 non-null  int64\n",
      " 4   start_ride_price  11287 non-null  int64\n",
      " 5   subscription_fee  11287 non-null  int64\n",
      "dtypes: int64(6)\n",
      "memory usage: 574.3 KB\n",
      "\n"
     ]
    }
   ],
   "source": [
    "all_data_view(users_income_month)"
   ]
  },
  {
   "cell_type": "code",
   "execution_count": 43,
   "id": "c3308762",
   "metadata": {},
   "outputs": [
    {
     "data": {
      "text/plain": [
       "dist_count          0\n",
       "dist_sum            0\n",
       "durat_sum           0\n",
       "minute_price        0\n",
       "start_ride_price    0\n",
       "subscription_fee    0\n",
       "dtype: int64"
      ]
     },
     "execution_count": 43,
     "metadata": {},
     "output_type": "execute_result"
    }
   ],
   "source": [
    "users_income_month.isnull().sum()"
   ]
  },
  {
   "cell_type": "markdown",
   "id": "5dca71d5",
   "metadata": {},
   "source": [
    "<div class=\"alert alert-dang er\">\n",
    "<font size=\"4\"><b>❌ Комментарий ревьюера</b></font>\n",
    "    <br /> \n",
    "    <font size=\"3\", color = \"black\">\n",
    "<br /> \n",
    "        \n",
    "Стоит проверить агрегированные данные на пропуски\n",
    "        "
   ]
  },
  {
   "attachments": {
    "image.png": {
     "image/png": "[encoded data removed]"
    }
   },
   "cell_type": "markdown",
   "id": "2d424d41",
   "metadata": {},
   "source": [
    "<div class=\"alert alert-warning\", style=\"border:solid coral 3px; padding: 20px\">\n",
    "<font size=\"4\", color = \"DimGrey\"><b>⚠️ Комментарий ревьюера</b></font>\n",
    "    <br /> \n",
    "    <font size=\"3\", color = \"black\">\n",
    "<br />  Переименование оптимальнее выполнять в автоматическом режиме, склеивая строки мультииндекса → join(), чтобы не совершить ошибку с порядком очередности колонок в сводной таблице\n",
    "        \n",
    "![image.png](attachment:image.png)        "
   ]
  },
  {
   "cell_type": "markdown",
   "id": "09938ec4",
   "metadata": {},
   "source": [
    "5.2 Добавим столбец с помесячной выручкой, которую принёс каждый пользователь."
   ]
  },
  {
   "cell_type": "code",
   "execution_count": 44,
   "id": "963af506",
   "metadata": {},
   "outputs": [
    {
     "data": {
      "text/html": [
       "<div>\n",
       "<style scoped>\n",
       "    .dataframe tbody tr th:only-of-type {\n",
       "        vertical-align: middle;\n",
       "    }\n",
       "\n",
       "    .dataframe tbody tr th {\n",
       "        vertical-align: top;\n",
       "    }\n",
       "\n",
       "    .dataframe thead th {\n",
       "        text-align: right;\n",
       "    }\n",
       "</style>\n",
       "<table border=\"1\" class=\"dataframe\">\n",
       "  <thead>\n",
       "    <tr style=\"text-align: right;\">\n",
       "      <th></th>\n",
       "      <th></th>\n",
       "      <th>dist_count</th>\n",
       "      <th>dist_sum</th>\n",
       "      <th>durat_sum</th>\n",
       "      <th>minute_price</th>\n",
       "      <th>start_ride_price</th>\n",
       "      <th>subscription_fee</th>\n",
       "      <th>income_month_total</th>\n",
       "    </tr>\n",
       "    <tr>\n",
       "      <th>user_id</th>\n",
       "      <th>month_number</th>\n",
       "      <th></th>\n",
       "      <th></th>\n",
       "      <th></th>\n",
       "      <th></th>\n",
       "      <th></th>\n",
       "      <th></th>\n",
       "      <th></th>\n",
       "    </tr>\n",
       "  </thead>\n",
       "  <tbody>\n",
       "    <tr>\n",
       "      <th rowspan=\"5\" valign=\"top\">1</th>\n",
       "      <th>1</th>\n",
       "      <td>2</td>\n",
       "      <td>7026</td>\n",
       "      <td>42</td>\n",
       "      <td>6</td>\n",
       "      <td>0</td>\n",
       "      <td>199</td>\n",
       "      <td>451</td>\n",
       "    </tr>\n",
       "    <tr>\n",
       "      <th>4</th>\n",
       "      <td>1</td>\n",
       "      <td>754</td>\n",
       "      <td>7</td>\n",
       "      <td>6</td>\n",
       "      <td>0</td>\n",
       "      <td>199</td>\n",
       "      <td>241</td>\n",
       "    </tr>\n",
       "    <tr>\n",
       "      <th>8</th>\n",
       "      <td>2</td>\n",
       "      <td>6722</td>\n",
       "      <td>46</td>\n",
       "      <td>6</td>\n",
       "      <td>0</td>\n",
       "      <td>199</td>\n",
       "      <td>475</td>\n",
       "    </tr>\n",
       "    <tr>\n",
       "      <th>10</th>\n",
       "      <td>2</td>\n",
       "      <td>5809</td>\n",
       "      <td>32</td>\n",
       "      <td>6</td>\n",
       "      <td>0</td>\n",
       "      <td>199</td>\n",
       "      <td>391</td>\n",
       "    </tr>\n",
       "    <tr>\n",
       "      <th>11</th>\n",
       "      <td>3</td>\n",
       "      <td>7002</td>\n",
       "      <td>56</td>\n",
       "      <td>6</td>\n",
       "      <td>0</td>\n",
       "      <td>199</td>\n",
       "      <td>535</td>\n",
       "    </tr>\n",
       "  </tbody>\n",
       "</table>\n",
       "</div>"
      ],
      "text/plain": [
       "                      dist_count  dist_sum  durat_sum  minute_price  \\\n",
       "user_id month_number                                                  \n",
       "1       1                      2      7026         42             6   \n",
       "        4                      1       754          7             6   \n",
       "        8                      2      6722         46             6   \n",
       "        10                     2      5809         32             6   \n",
       "        11                     3      7002         56             6   \n",
       "\n",
       "                      start_ride_price  subscription_fee  income_month_total  \n",
       "user_id month_number                                                          \n",
       "1       1                            0               199                 451  \n",
       "        4                            0               199                 241  \n",
       "        8                            0               199                 475  \n",
       "        10                           0               199                 391  \n",
       "        11                           0               199                 535  "
      ]
     },
     "execution_count": 44,
     "metadata": {},
     "output_type": "execute_result"
    }
   ],
   "source": [
    "users_income_month['income_month_total'] = (users_income_month['start_ride_price'] * users_income_month['dist_count'] +\n",
    "                                            users_income_month['minute_price'] * users_income_month['durat_sum'] + \n",
    "                                            users_income_month['subscription_fee'])\n",
    "users_income_month.head()"
   ]
  },
  {
   "cell_type": "markdown",
   "id": "223aedb9",
   "metadata": {},
   "source": [
    "<div class=\"alert alert-warning\", style=\"border:solid coral 3px; padding: 20px\">\n",
    "<font size=\"4\", color = \"DimGrey\"><b>⚠️Комментарий ревьюера</b></font>\n",
    "    <br /> \n",
    "    <font size=\"3\", color = \"black\">\n",
    "<br />\n",
    " Стоит использовать функцию для расчета выручки"
   ]
  },
  {
   "cell_type": "code",
   "execution_count": 45,
   "id": "2a110504",
   "metadata": {
    "scrolled": true
   },
   "outputs": [
    {
     "data": {
      "text/plain": [
       "3864310"
      ]
     },
     "execution_count": 45,
     "metadata": {},
     "output_type": "execute_result"
    }
   ],
   "source": [
    "users_income_month['income_month_total'].sum()"
   ]
  },
  {
   "attachments": {
    "image.png": {
     "image/png": "[encoded data removed]"
    }
   },
   "cell_type": "markdown",
   "id": "6e7e831f",
   "metadata": {},
   "source": [
    "<div class=\"alert alert-success\">\n",
    "<font size=\"4\", color= \"seagreen\"><b>✔️ Комментарий ревьюера</b></font>\n",
    "    <br /> \n",
    "    <font size=\"3\", color = \"black\">\n",
    "<br />Сумма выручки рассчитана корректно, молодец\n",
    "        \n",
    "![image.png](attachment:image.png)        "
   ]
  },
  {
   "cell_type": "markdown",
   "id": "74cc5707",
   "metadata": {},
   "source": [
    "Итог: \n",
    "1. Посчитали помесячно для каждого пользователя количество поездок.\n",
    "2. Общее расстояние и время поездок и сумму, потраченную на эти поездки. \n",
    "3. Общая выручка соствила 3864310. "
   ]
  },
  {
   "cell_type": "markdown",
   "id": "748cb73b",
   "metadata": {},
   "source": [
    "<div class=\"alert alert-da nger\">\n",
    "<font size=\"4\"><b>❌ Комментарий ревьюера</b></font>\n",
    "    <br /> \n",
    "    <font size=\"3\", color = \"black\">\n",
    "<br /> Стоит поправить вывод\n",
    "        \n",
    "        Общая выручка соствила 3872001."
   ]
  },
  {
   "cell_type": "markdown",
   "id": "41545ac0",
   "metadata": {},
   "source": [
    "#### Шаг 6. Проверка гипотез"
   ]
  },
  {
   "cell_type": "markdown",
   "id": "553417ea",
   "metadata": {},
   "source": [
    "6.1 Важно понять, тратят ли пользователи с подпиской больше времени на поездки? \n",
    "Если да, то пользователи с подпиской могут быть «выгоднее» для компании.\n",
    "Проверим гипотезу: \n",
    "Н0: Средняя продолжительность поездок с подпиской (ultra) и без подписки (free) равны\n",
    "Н1: Средняя продолжительность поездок с подпиской (ultra) больше продолжительности поездок без подписки (free)"
   ]
  },
  {
   "cell_type": "markdown",
   "id": "498bd32d",
   "metadata": {},
   "source": [
    "<div class=\"alert alert-success\">\n",
    "<font size=\"4\", color= \"seagreen\"><b>✔️ Комментарий ревьюера</b></font>\n",
    "    <br /> \n",
    "    <font size=\"3\", color = \"black\">\n",
    "<br /> Гипотезы сформулированы верно"
   ]
  },
  {
   "cell_type": "code",
   "execution_count": 46,
   "id": "e1394cdc",
   "metadata": {},
   "outputs": [
    {
     "name": "stdout",
     "output_type": "stream",
     "text": [
      "p-значение: 3.595158517581252e-24\n",
      "Отвергаем нулевую гипотезу\n"
     ]
    }
   ],
   "source": [
    "alpha = 0.05 # уровень статистической значимости\n",
    "\n",
    "results = st.ttest_ind(\n",
    "    users_ultra['duration'], \n",
    "    users_free['duration'], \n",
    "    equal_var=True, \n",
    "    alternative='greater')\n",
    "\n",
    "print('p-значение:', results.pvalue)\n",
    "\n",
    "if results.pvalue < alpha:\n",
    "    print('Отвергаем нулевую гипотезу')\n",
    "else:\n",
    "    print('Не отвергаем нулевую гипотезу')"
   ]
  },
  {
   "cell_type": "markdown",
   "id": "2a35c9e4",
   "metadata": {},
   "source": [
    "<div class=\"alert alert-warning\", style=\"border:solid coral 3px; padding: 20px\">\n",
    "<font size=\"4\", color = \"DimGrey\"><b>⚠️ Комментарий ревьюера</b></font>\n",
    "    <br />\n",
    "    <font size=\"3\", color = \"black\">\n",
    "<br /> Что означает на языке статистики p-значение: 2.4959453720736625e-34"
   ]
  },
  {
   "cell_type": "markdown",
   "id": "c39eb02f",
   "metadata": {},
   "source": [
    "Выходит, актуальна альтернативная гипотеза: Н1: Средняя продолжительность поездок с подпиской (ultra) больше продолжительности поездок без подписки (free)!\n",
    "Стоит стимулировать пользователей приобретать подписку ULTRA, это будет выгодно как для пользователей (они смогут пользоваться чаще), так и для бизнесу (рост выручки)"
   ]
  },
  {
   "cell_type": "markdown",
   "id": "08e450bb",
   "metadata": {},
   "source": [
    "<div class=\"alert alert-dang er\">\n",
    "<font size=\"4\"><b>❌ Комментарий ревьюера</b></font>\n",
    "    <br /> \n",
    "    <font size=\"3\", color = \"black\">\n",
    "<br />\n",
    "Стоит дополнить вывод \n",
    "        \n",
    "выгодно ли это бизнесу или нет        "
   ]
  },
  {
   "cell_type": "markdown",
   "id": "386e78db",
   "metadata": {},
   "source": [
    "6.2 Расстояние одной поездки в \n",
    "3130\n",
    "3130 метров — оптимальное с точки зрения износа самоката. Можно ли сказать, что среднее расстояние, которое проезжают пользователи с подпиской за одну поездку, не превышает \n",
    "3130\n",
    "3130 метров?\n",
    "Проверим гипотезу:\n",
    "Н0: Среднее расстояние поездок с подпиской (ultra) равно оптимальному расстоянию в 3130 метров.\n",
    "Н1: Среднее расстояние поездок с подпиской (ultra) больше оптимального в 3130 метров."
   ]
  },
  {
   "cell_type": "code",
   "execution_count": 47,
   "id": "63f00b1b",
   "metadata": {},
   "outputs": [
    {
     "name": "stdout",
     "output_type": "stream",
     "text": [
      "p-значение: 0.9763496336721356\n",
      "Не отвергаем нулевую гипотезу\n"
     ]
    }
   ],
   "source": [
    "good_distance = 3130 # отимальное расстояние\n",
    "\n",
    "alpha = 0.05 # уровень статистической значимости\n",
    "\n",
    "results = st.ttest_1samp(\n",
    "    users_ultra['distance'], \n",
    "    good_distance,\n",
    "      alternative='greater')\n",
    "\n",
    "print('p-значение:', results.pvalue)\n",
    "\n",
    "if (results.pvalue < alpha):\n",
    "    print('Отвергаем нулевую гипотезу')\n",
    "else:\n",
    "    print('Не отвергаем нулевую гипотезу') "
   ]
  },
  {
   "cell_type": "markdown",
   "id": "fba17cc9",
   "metadata": {},
   "source": [
    "Получается, среднее расстояние меньше, чем 3130, что хорошо для \"здоровья\" самокатов!"
   ]
  },
  {
   "cell_type": "markdown",
   "id": "cefd6b9e",
   "metadata": {},
   "source": [
    "<div class=\"alert alert-success\">\n",
    "<font size=\"4\", color= \"seagreen\"><b>✔️ Комментарий ревьюера </b></font>\n",
    "    <br /> \n",
    "    <font size=\"3\", color = \"black\">\n",
    "<br />Отлично, молодец"
   ]
  },
  {
   "cell_type": "markdown",
   "id": "d03e7af3",
   "metadata": {},
   "source": [
    "6.3 Проверим гипотезу о том, будет ли помесячная средняя выручка от пользователей с подпиской по месяцам выше, чем средняя выручка от пользователей без подписки. \n",
    "Проверим гипотезу: \n",
    "Н0: Помесячная средняя выручка от пользователей с подпиской (ultra) и без подписки (free) равны\n",
    "Н1: Помесячная средняя выручка от пользователей с подпиской (ultra) больше выручки от пользователей без подписки (free)"
   ]
  },
  {
   "attachments": {
    "image.png": {
     "image/png": "[encoded data removed]"
    }
   },
   "cell_type": "markdown",
   "id": "90fdc4c1",
   "metadata": {},
   "source": [
    "<div class=\"alert alert-warning\", style=\"border:solid coral 3px; padding: 20px\">\n",
    "<font size=\"4\", color = \"DimGrey\"><b>⚠️ <b> Комментарий ревьюера</b></font>\n",
    "<br /> \n",
    "<font size=\"3\", color = \"black\">\n",
    "<br /> Из формулировок Н0 и Н1, и из вывода пропало слово среднее\n",
    "    \n",
    "![image.png](attachment:image.png)    "
   ]
  },
  {
   "cell_type": "code",
   "execution_count": 48,
   "id": "68479846",
   "metadata": {},
   "outputs": [
    {
     "name": "stdout",
     "output_type": "stream",
     "text": [
      "p-значение: 6.775871974000553e-29\n",
      "Отвергаем нулевую гипотезу\n"
     ]
    }
   ],
   "source": [
    "alpha = 0.05\n",
    "\n",
    "results = st.ttest_ind(\n",
    "    users_income_month.loc[users_income_month['subscription_fee'] > 0, 'income_month_total'], \n",
    "    users_income_month.loc[users_income_month['subscription_fee'] == 0, 'income_month_total'], \n",
    "    equal_var=True, \n",
    "    alternative='greater')\n",
    "\n",
    "print('p-значение:', results.pvalue)\n",
    "\n",
    "if results.pvalue < alpha:\n",
    "    print('Отвергаем нулевую гипотезу')\n",
    "else:\n",
    "    print('Не отвергаем нулевую гипотезу')"
   ]
  },
  {
   "cell_type": "markdown",
   "id": "9bd4c9de",
   "metadata": {},
   "source": [
    "Есть основания полагать, что пользователи с подпиской приносят больший средний доход, чем пользователи без подписки. \n",
    "Очевидно, нужно всячески стимулировать пользователей становиться подпищиками ULTRA. Для этого проводить рекламные акции, предлагать пробную подписку на небольшой период, чтобы пользователи могли оценить преимущества!"
   ]
  },
  {
   "cell_type": "markdown",
   "id": "59d41b71",
   "metadata": {},
   "source": [
    "<div class=\"alert alert-d anger\">\n",
    "<font size=\"4\"><b>❌ Комментарий ревьюера</b></font>\n",
    "    <br /> \n",
    "    <font size=\"3\", color = \"black\">\n",
    "<br />\n",
    "        \n",
    "Стоит поправить все выводы, добавить акценты с точки зрения бизнеса"
   ]
  },
  {
   "cell_type": "markdown",
   "id": "c0a4ed85",
   "metadata": {},
   "source": [
    "6.4 Представим ситуацию: техническая команда сервиса обновила сервера, с которыми взаимодействует мобильное приложение. Она надеется, что из-за этого количество обращений в техподдержку значимо снизилось. Некоторый файл содержит для каждого пользователя данные о количестве обращений до обновления и после него. Для проверки этой гипотезы понадобится следующее:\n",
    "Спринт 7/21 → Тема 7/9: Проверка гипотез → Урок 12/14\n",
    "Руководствуясь таблицей в конце урока, считаю, что тут идет речь о двух зависимых (парных) выборках, в которых проверяется гипотиза о равенстве среднего значения генеральной совокупности до и после изменения методом scipy.stats.ttest_rel с аргументом  alternative='greater', с которым проверится правсторонняя альтернативная гипотеза о том, что истинное среднее генеральной совокупности до изменения больше, чем истинное среднее генеральной совокупности после изменения"
   ]
  },
  {
   "cell_type": "markdown",
   "id": "e6a314a8",
   "metadata": {},
   "source": [
    "<div class=\"alert alert-success\">\n",
    "<font size=\"4\", color= \"seagreen\"><b>✔️ Комментарий ревьюера  </b></font>\n",
    "    <br /> \n",
    "    <font size=\"3\", color = \"black\">\n",
    "<br />Отлично, молодец\n",
    "        \n",
    "        \n",
    "        \n",
    "Н1 полностью соответствует стат тесту "
   ]
  },
  {
   "cell_type": "markdown",
   "id": "5e17350a",
   "metadata": {},
   "source": [
    "Вывод.\n",
    "В процессе проверки гипотиз было выяснено:\n",
    "1. Средняя продолжительность поездки с подпиской больше, чем без неё.\n",
    "2. Среднее расстояние поездки с подпиской менее 3130 метров.\n",
    "3. Пользователи с подпиской приносят больший доход, чем пользователи без нее.\n",
    "4. Для двух зависимых (парных) выборок следует применять методом scipy.stats.ttest_rel с аргументом  alternative='greater'."
   ]
  },
  {
   "cell_type": "markdown",
   "id": "5e654027",
   "metadata": {},
   "source": [
    "Общий вывод\n",
    "\n",
    "В процессе исследования данных о пользователях популярного сервиса аренды самокатов 'GoFast', были выполнены следующие этапы и сделаны выводы:\n",
    "\n",
    "Загрузка данных\n",
    "users 1564записи, пропуски отсутствуют, количество явных дубликатов 31.\n",
    "rides 18067 записи, пропуски отсутствуют, явных дубликатов нет.\n",
    "subscriptions 2 записи, пропуски отсутствуют, явных дубликатов нет. Названия столбцов в норме. Для целого ряда столбцов некорректный тип данных. Данные признаны полными и достаточными для исследования.\n",
    "\n",
    "Предобработка данных\n",
    "в данных users\n",
    "Удалили дубликаты\n",
    "в данных users\n",
    "Округлили distance в метрах до 2 знаков после запятой\n",
    "Округлили duration до целых в верх в соответствии с уточненными данными (п. 5.2) и перевели в int\n",
    "Привели столбец date к типу datetime64\n",
    "Создали столбец month_number с номером месяца из date\n",
    "в данных subscriptions\n",
    "Изменений не проводили\n",
    "\n",
    "Исследовательский анализ данных\n",
    "Услугами сервиса аренды самокатов пользуются больше всего в южных городах, где сезон проката больше, но на второй позиции оказался уральский город Екатеринбург.\n",
    "Количество пользователей без подписки free 54,4% превышает количество пользователей с подпиской ultra 45,6%.\n",
    "Количества пользователей в зависимости от возраста указывает, что средний возраст потребителя услуги подчиняется нормальному распределению с медианой примерно в 25 лет, при этом средний возраст и медиана практически совпадают.\n",
    "Количество поездок в зависимости от расстояния указывает, медиана поездок находится на 3133 метров первый квартиль находится на значении 2543 метра, третий квартиль на 3776 метров. \n",
    "Визуализация количества поездок в зависимости от продолжительности указывает, медиана поездок находится на 18 мин первый квартиль находится на значении 14 мин, третий квартиль на 22 мин. На гисторгамме замечено аномальное время поездок порядка 100 с временем менее 1 минуты. Построенные гисторгаммы указывают, что в столбце времени присутствуют аномалии. Было решено избавиться от них.\n",
    "\n",
    "Подсчёт выручки\n",
    "Выручка сервиса аренды самокатов \"GoFast\" за год составила 3864310 руб.\n",
    "\n",
    "Проверка гипотез\n",
    "1. Выходит, актуальна альтернативная гипотеза: Н1: Средняя продолжительность поездок с подпиской (ultra) больше продолжительности поездок без подписки (free)! Стоит стимулировать пользователей приобретать подписку ULTRA, это будет выгодно как для пользователей (они смогут пользоваться чаще), так и для бизнесу (рост выручки)\n",
    "2. Получается, среднее расстояние меньше, чем 3130, что хорошо для \"здоровья\" самокатов!\n",
    "3. Есть основания полагать, что пользователи с подпиской приносят больший средний доход, чем пользователи без подписки. Очевидно, нужно всячески стимулировать пользователей становиться подпищиками ULTRA. Для этого проводить рекламные акции, предлагать пробную подписку на небольшой период, чтобы пользователи могли оценить преимущества!\n",
    "4.  Для проверки этой гипотезы понадобится следующее: Спринт 7/21 → Тема 7/9: Проверка гипотез → Урок 12/14 Руководствуясь таблицей в конце урока, считаю, что тут идет речь о двух зависимых (парных) выборках, в которых проверяется гипотиза о равенстве среднего значения генеральной совокупности до и после изменения методом scipy.stats.ttest_rel с аргументом alternative='greater', с которым проверится правсторонняя альтернативная гипотеза о том, что истинное среднее генеральной совокупности до изменения больше, чем истинное среднее генеральной совокупности после изменения."
   ]
  },
  {
   "cell_type": "markdown",
   "id": "c7bcb328",
   "metadata": {},
   "source": [
    "<div class=\"alert alert-danger\">\n",
    "<font size=\"4\"><b>❌ Комментарий ревьюера в2</b></font>\n",
    "    <br /> \n",
    "    <font size=\"3\", color = \"black\">\n",
    "<br />Стоит добавить  \n",
    "      \n",
    "+ сравнение показателей суммарной годовой выручки для каждого тарифа и среднемесячной выручки для среднего пользователя, также для каждого тарифа\n",
    " + условно, 1 млн. руб. за год мы заработали на пользователях с подпиской и 2 млн. руб. на пользователях без подписки\n",
    " + условно, 300 руб. в среднем в месяц нам приносит один пользователь с подпиской и 200 рублей пользователь без подписки        \n",
    "         "
   ]
  },
  {
   "cell_type": "markdown",
   "id": "61213c5e",
   "metadata": {},
   "source": [
    "#### Шаг 7. Распределения"
   ]
  },
  {
   "cell_type": "markdown",
   "id": "280d64ff",
   "metadata": {},
   "source": [
    "<div class=\"alert alert-dan ger\">\n",
    "<font size=\"4\"><b>❌ Комментарий ревьюера </b></font>\n",
    "    <br /> \n",
    "    <font size=\"3\", color = \"black\">\n",
    "<br />    \n",
    "\n",
    "Большинство руководителей, экономя свое время, начинают читать отчет аналитика с итогового вывода, и только найдя в нем интересную информацию могут проглядеть весь остальной отчет, но большая часть внимания будет сосредоточена на итоговых выводах.\n",
    "\n",
    "стоит перепроверить результаты проекта после исправления всех комментариев\n",
    "        \n",
    "В итоговый вывод можно добавить\n",
    "  \n",
    "+ основные статистики по двум группам пользователей\n",
    "+ выводы по гипотезам        \n",
    "+ сравнение показателей суммарной годовой выручки для каждого тарифа и среднемесячной выручки для среднего пользователя, также для каждого тарифа\n",
    "+ итоговую рекомендацию бизнесу         "
   ]
  },
  {
   "cell_type": "markdown",
   "id": "738632fa",
   "metadata": {},
   "source": [
    "<div class=\"alert alert-success\">\n",
    "<font size=\"5\", color= \"seagreen\"><b>✔️ Комментарий ревьюера</b></font>\n",
    "    <br /> \n",
    "    <font size=\"3\", color = \"black\">\n",
    "<br />   \n",
    "Ты выполнил практически все пункты проекта, молодец! Проведен значительный объем исследования деятельности компании \n",
    "        \n",
    "Критические ❌ комментарии: \n",
    " \n",
    " + добавить название проекту\n",
    " + поправить графики        \n",
    " + проверить размерность таблиц и  пропуски после объединения таблиц\n",
    " + добавить статистики в промежуточные выводы        \n",
    " + прочие        \n",
    "        \n",
    "Стоит обратить внимание на ⚠️ комментарии...        \n",
    "                \n",
    " \n",
    "Если будут вопросы про мои комментарии - задавай, если какой-то формат взаимодействия не устраивает или есть какие-то другие пожелания - пиши :)\n",
    "\n",
    "<div class=\"alert alert-success\">\n",
    "    <font size=\"5\", color= \"seagreen\"><b>Жду твой проект и твои комментарии 🤝</b></font><br />"
   ]
  },
  {
   "cell_type": "markdown",
   "id": "58b3d4bc",
   "metadata": {},
   "source": [
    "<div style=\"border:solid steelblue 3px; padding: 20px\">\n",
    "<font size=\"4\">🍕<b> Комментарий ревьюера</b></font>\n",
    "<br /> \n",
    "<font size=\"3\", color = \"black\">\n",
    "<br />\n",
    "    \n",
    "[Подробное руководство по группировке и агрегированию с помощью pandas](https://dfedorov.spb.ru/pandas/%D0%9F%D0%BE%D0%B4%D1%80%D0%BE%D0%B1%D0%BD%D0%BE%D0%B5%20%D1%80%D1%83%D0%BA%D0%BE%D0%B2%D0%BE%D0%B4%D1%81%D1%82%D0%B2%D0%BE%20%D0%BF%D0%BE%20%D0%B3%D1%80%D1%83%D0%BF%D0%BF%D0%B8%D1%80%D0%BE%D0%B2%D0%BA%D0%B5%20%D0%B8%20%D0%B0%D0%B3%D1%80%D0%B5%D0%B3%D0%B8%D1%80%D0%BE%D0%B2%D0%B0%D0%BD%D0%B8%D1%8E%20%D1%81%20%D0%BF%D0%BE%D0%BC%D0%BE%D1%89%D1%8C%D1%8E%20pandas.html)    \n",
    "    \n",
    "[Примеры объединения таблиц, общая справка](https://pandas.pydata.org/pandas-docs/stable/user_guide/merging.html)      \n",
    "\n",
    "[Примеры объединения таблиц, Федоров Д.](https://dfedorov.spb.ru/pandas/08.%20%D0%9A%D0%B0%D0%BA%20%D0%BE%D0%B1%D1%8A%D0%B5%D0%B4%D0%B8%D0%BD%D0%B8%D1%82%D1%8C%20%D0%B4%D0%B0%D0%BD%D0%BD%D1%8B%D0%B5%20%D0%B8%D0%B7%20%D0%BD%D0%B5%D1%81%D0%BA%D0%BE%D0%BB%D1%8C%D0%BA%D0%B8%D1%85%20%D1%82%D0%B0%D0%B1%D0%BB%D0%B8%D1%86_.html?ysclid=lklv5hyic8790467123)\n",
    "    \n",
    "    \n",
    "    \n",
    "[Искусство статистики](https://www.mann-ivanov-ferber.ru/books/iskusstvo-statistiki/)\n",
    "        \n",
    "    \n",
    "В помощь — как реализовать интерактивный план проекта вручную, смотри по <a href=\"https://stackoverflow.com/questions/49535664/how-to-hyperlink-in-a-jupyter-notebook/49717704\">ссылке</a>\n",
    "    \n",
    "пара ссылок и по разделам проекта можно будет переходить без пролистывания всего кода, особенно актуально на проектах длина которых >  10 страниц (и там где не установлен плагин TOC)\n",
    "     \n",
    "    \n",
    "[Базовый обзор распределений в статистике](https://qwertybox.ru/articles/242302/)\n",
    "    \n",
    "[Как использовать биномиальное распределение в Python](https://www.codecamp.ru/blog/binomial-distribution-python/?ysclid=lmjbdt49de135513011)       \n",
    "    \n",
    "[Объяснение P-значений и статистической значимости](https://www.codecamp.ru/blog/p-values-statistical-significance/?ysclid=lm88qnc76l397155692)     "
   ]
  },
  {
   "cell_type": "markdown",
   "id": "1f297f55",
   "metadata": {},
   "source": [
    "#### Бонус"
   ]
  },
  {
   "cell_type": "markdown",
   "id": "ec50c730",
   "metadata": {},
   "source": [
    "##### Задача 7.1 — декомпозиция\n",
    "\n",
    "+ Отделу маркетинга GoFast поставили задачу: нужно провести акцию с раздачей промокодов на один бесплатный месяц подписки, в рамках которой как минимум 100 существующих клиентов должны продлить эту подписку. \n",
    "\n",
    "+ То есть по завершении периода действия подписки пользователь может либо отказаться от неё, либо продлить, совершив соответствующий платёж. \n",
    "\n",
    "+ Эта акция уже проводилась ранее и по итогу выяснилось, что после бесплатного пробного периода подписку продлевают 10 % пользователей. \n",
    "\n",
    "+ Выясните, какое минимальное количество промокодов нужно разослать, чтобы вероятность не выполнить план была примерно 5 %. \n",
    "\n",
    "+ Подберите параметры распределения, описывающего эту ситуацию, постройте график распределения и сформулируйте ответ на вопрос о количестве промокодов."
   ]
  },
  {
   "cell_type": "markdown",
   "id": "a0a0f5dc",
   "metadata": {},
   "source": [
    "+ 100 существующих клиентов должны продлить эту подписку.\n",
    " + т.е. мы ищем х - кол-во промокодов, которое мы раздадим, чтобы сохранить 100 клиентов"
   ]
  },
  {
   "cell_type": "markdown",
   "id": "eadf7d79",
   "metadata": {},
   "source": [
    "+ может либо отказаться от неё, либо продлить\n",
    " + т.е. два исхода"
   ]
  },
  {
   "cell_type": "markdown",
   "id": "32be3646",
   "metadata": {},
   "source": [
    "+ подписку продлевают 10 % пользователей\n",
    " + т.е. из кол-ва Х, которое мы найдем и по которому разошлем промокоды, полагаясь на предыдущий опыт, продлят подписку 10%"
   ]
  },
  {
   "cell_type": "markdown",
   "id": "9e614e7e",
   "metadata": {},
   "source": [
    "+ вероятность не выполнить план была примерно 5 %\n",
    " + т.е. мы должны найти вероятность успеха нашей акции 1-0,05 = 95%\n",
    " + этот план будет иметь свою вероятность исполнения при разном кол-ве Х, т.е. если мы выберем Х = 1000, вероятность успеха будет равна А, при 2000 промокодах, вероятность будет равна В. Но, увеличивая кол-во промокодов, мы увеличиваем трудозатраты ... По этой причине нас устроит вероятность успеха 95%, для которой и предстоит рассчитать кол-во промокодов Х"
   ]
  },
  {
   "cell_type": "markdown",
   "id": "3ba55a1b",
   "metadata": {},
   "source": [
    "Получается задача делиться на две части\n",
    "\n",
    "+ число положительных исходов должно быть равно 100-ам\n",
    "\n",
    "+ но вероятность такого события должна быть равна 95% \n",
    "\n"
   ]
  },
  {
   "cell_type": "markdown",
   "id": "f24a5b80",
   "metadata": {},
   "source": [
    "Урок\n",
    "\n",
    "Percent Point Function для нормального распределения\n",
    "+ Ранее вы познакомились с функцией распределения, или кумулятивной функцией распределения.\n",
    "\n"
   ]
  },
  {
   "attachments": {
    "image-3.png": {
     "image/png": "[encoded data removed]"
    },
    "image-4.png": {
     "image/png": "[encoded data removed]"
    }
   },
   "cell_type": "markdown",
   "id": "ad8c2c1a",
   "metadata": {},
   "source": [
    "![image-3.png](attachment:image-3.png)\n",
    "\n",
    "![image-4.png](attachment:image-4.png)"
   ]
  },
  {
   "cell_type": "markdown",
   "id": "80964f10",
   "metadata": {},
   "source": [
    "<div class=\"alert alert-success\">\n",
    "<font size=\"4\", color= \"seagreen\"><b>✔️ Комментарий ревьюера в2</b></font>\n",
    "    <br /> \n",
    "    <font size=\"3\", color = \"black\">\n",
    "<br />    меняем norm на binom\n",
    "        \n",
    "https://www.statology.org/binompdf-vs-binomcdf/        \n",
    "        \n",
    "немного перефразируем известный сайт\n",
    "        \n",
    "    binom.cdf(k, n, p): \n",
    "        \n",
    "Кумулятивная функция распределения - это функция, которая показывает вероятность того, __что случайная величина будет меньше или равна некоторому значению.__\n",
    "        \n",
    "    \n",
    "\n",
    "        \n",
    "[примеры решения задач](https://www.codecamp.ru/blog/binomial-distribution-python/?ysclid=lskfouc2d4788619343)        "
   ]
  },
  {
   "cell_type": "code",
   "execution_count": 49,
   "id": "b4f6cf79",
   "metadata": {},
   "outputs": [
    {
     "name": "stdout",
     "output_type": "stream",
     "text": [
      "i: (1, 100)\tprobability: 1.0\n",
      "i: (2, 200)\tprobability: 1.0\n",
      "i: (3, 300)\tprobability: 1.0\n",
      "i: (4, 400)\tprobability: 1.0\n",
      "i: (5, 500)\tprobability: 1.0\n",
      "i: (6, 600)\tprobability: 1.0\n",
      "i: (7, 700)\tprobability: 1.0\n",
      "i: (8, 800)\tprobability: 0.987\n",
      "i: (9, 900)\tprobability: 0.854\n",
      "i: (10, 1000)\tprobability: 0.485\n",
      "i: (11, 1100)\tprobability: 0.145\n",
      "i: (12, 1200)\tprobability: 0.022\n"
     ]
    }
   ],
   "source": [
    "for i in range (1, 13):\n",
    "    trials = 100 * i\n",
    "    print(f\"i: {i, trials}\\tprobability: {(st.binom.cdf(99, trials, 0.1)).round(3)}\")"
   ]
  },
  {
   "cell_type": "markdown",
   "id": "48d1d945",
   "metadata": {},
   "source": [
    "<div class=\"alert alert-success\">\n",
    "<font size=\"4\", color= \"seagreen\"><b>✔️ Комментарий ревьюера в2</b></font>\n",
    "    <br /> \n",
    "    <font size=\"3\", color = \"black\">\n",
    "<br /> При 100-а розданных промокодов, вероятность того, что успешно продлят подписку менее или равно 99 пользователей будет равна 1-ке, или по другому можно сказать, что это может быть или 5 продливших подписку пользователей, или 99 пользователей\n",
    "                \n",
    "т.е. это нулевой для маркетологов результат, который никого не устраивает\n",
    "        \n",
    "А чем больше промокодов мы раздаем, тем вероятность получить такой результат уменьшается, например при 900-а розданных промокодов уже только с 0,856 вероятностью мы получим или 5 продливших подписку пользователей, или 99 пользователей        \n",
    "        \n",
    "т.е. с вероятностью 0,144 мы получим 100 или более пользователей продливших подписку, но нам надо 95%        \n"
   ]
  },
  {
   "attachments": {
    "image.png": {
     "image/png": "[encoded data removed]"
    }
   },
   "cell_type": "markdown",
   "id": "2d62345f",
   "metadata": {},
   "source": [
    "<div class=\"alert alert-success\">\n",
    "<font size=\"4\", color= \"seagreen\"><b>✔️ Комментарий ревьюера в2</b></font>\n",
    "    <br /> \n",
    "    <font size=\"3\", color = \"black\">\n",
    "<br />   Для того чтобы построить нужный нам график, придется из формулы вычесть 1-ку\n",
    "        \n",
    "1 - значение кумулятивной функции распределения `binom.cdf(k, n, p)` покажет вероятность того, что случайная величина примет значение, которое будет не меньше заданной, т.к. нам необходимо выйти на уровень 95%\n",
    "        \n",
    "![image.png](attachment:image.png)        \n",
    "        \n",
    "почему выбираем значение 99, т.к. по определению функции → меньше или равно       \n",
    "        \n",
    "        "
   ]
  },
  {
   "cell_type": "code",
   "execution_count": 50,
   "id": "90629e5d",
   "metadata": {
    "scrolled": false
   },
   "outputs": [
    {
     "name": "stdout",
     "output_type": "stream",
     "text": [
      "i: (1, 100)\ttarget_probability: 0.0\n",
      "i: (2, 200)\ttarget_probability: 0.0\n",
      "i: (3, 300)\ttarget_probability: 0.0\n",
      "i: (4, 400)\ttarget_probability: 0.0\n",
      "i: (5, 500)\ttarget_probability: 0.0\n",
      "i: (6, 600)\ttarget_probability: 0.0\n",
      "i: (7, 700)\ttarget_probability: 0.0\n",
      "i: (8, 800)\ttarget_probability: 0.013\n",
      "i: (9, 900)\ttarget_probability: 0.146\n",
      "i: (10, 1000)\ttarget_probability: 0.515\n",
      "i: (11, 1100)\ttarget_probability: 0.855\n",
      "i: (12, 1200)\ttarget_probability: 0.978\n",
      "i: (13, 1161)\ttarget_probability: 0.95\n"
     ]
    }
   ],
   "source": [
    "for i in range (1, 13):\n",
    "    trials = 100 * i\n",
    "    print(f\"i: {i, trials}\\ttarget_probability: {(1 - st.binom.cdf(99, trials, 0.1)).round(3)}\");    \n",
    "   \n",
    "print(f\"i: {13, 1161}\\ttarget_probability: {(1 - st.binom.cdf(99, 1161, 0.1)).round(3)}\")"
   ]
  },
  {
   "attachments": {
    "image.png": {
     "image/png": "[encoded data removed]"
    }
   },
   "cell_type": "markdown",
   "id": "6d064da0",
   "metadata": {},
   "source": [
    " \n",
    "![image.png](attachment:image.png)        "
   ]
  },
  {
   "cell_type": "markdown",
   "id": "5ed0489f",
   "metadata": {},
   "source": [
    "##### check"
   ]
  },
  {
   "cell_type": "markdown",
   "id": "df25e867",
   "metadata": {},
   "source": [
    "<div class=\"alert alert-success\">\n",
    "<font size=\"4\", color= \"seagreen\"><b>✔️ Комментарий ревьюера в2</b></font>\n",
    "    <br /> \n",
    "    <font size=\"3\", color = \"black\">\n",
    "<br /> Примеры особенности объединения, в т.ч. с параметрами по умолчанию при merge (для справки в join такая же «засада» по характеру, но другая по исполнению)\n",
    "        \n",
    "Использование параметров по умолчанию может привести к потере данных при объединении        \n",
    "     \n",
    "         "
   ]
  },
  {
   "cell_type": "code",
   "execution_count": 51,
   "id": "ad36e4b6",
   "metadata": {},
   "outputs": [],
   "source": [
    "dfg1 = pd.DataFrame(\n",
    "    {\n",
    "        \"A\": [\"A0\", \"A1\", \"A2\", \"A3\"],\n",
    "        \"B\": [\"B0\", \"B1\", \"B2\", \"B3\"],\n",
    "        \"C\": [\"C0\", \"C1\", \"C2\", \"C3\"],\n",
    "        \"D\": [\"D0\", \"D1\", \"D2\", \"D3\"],\n",
    "    },\n",
    "    index=[0, 1, 2, 3],\n",
    ")\n",
    "\n",
    "dfr4 = pd.DataFrame(\n",
    "    {\n",
    "        \"B\": [\"B2\", \"B3\", \"B6\", \"B7\"],\n",
    "        \"D\": [\"D2\", \"D3\", \"D6\", \"D7\"],\n",
    "        \"F\": [\"F2\", \"F3\", \"F6\", \"F7\"],\n",
    "        \"E\": [np.nan, np.nan, np.nan, np.nan]\n",
    "    },\n",
    "    index=[2, 3, 6, 0],\n",
    ")"
   ]
  },
  {
   "cell_type": "code",
   "execution_count": 52,
   "id": "abd7cd1f",
   "metadata": {
    "scrolled": true
   },
   "outputs": [
    {
     "data": {
      "text/html": [
       "<div>\n",
       "<style scoped>\n",
       "    .dataframe tbody tr th:only-of-type {\n",
       "        vertical-align: middle;\n",
       "    }\n",
       "\n",
       "    .dataframe tbody tr th {\n",
       "        vertical-align: top;\n",
       "    }\n",
       "\n",
       "    .dataframe thead th {\n",
       "        text-align: right;\n",
       "    }\n",
       "</style>\n",
       "<table border=\"1\" class=\"dataframe\">\n",
       "  <thead>\n",
       "    <tr style=\"text-align: right;\">\n",
       "      <th></th>\n",
       "      <th>A</th>\n",
       "      <th>B</th>\n",
       "      <th>C</th>\n",
       "      <th>D</th>\n",
       "    </tr>\n",
       "  </thead>\n",
       "  <tbody>\n",
       "    <tr>\n",
       "      <th>0</th>\n",
       "      <td>A0</td>\n",
       "      <td>B0</td>\n",
       "      <td>C0</td>\n",
       "      <td>D0</td>\n",
       "    </tr>\n",
       "    <tr>\n",
       "      <th>1</th>\n",
       "      <td>A1</td>\n",
       "      <td>B1</td>\n",
       "      <td>C1</td>\n",
       "      <td>D1</td>\n",
       "    </tr>\n",
       "    <tr>\n",
       "      <th>2</th>\n",
       "      <td>A2</td>\n",
       "      <td>B2</td>\n",
       "      <td>C2</td>\n",
       "      <td>D2</td>\n",
       "    </tr>\n",
       "    <tr>\n",
       "      <th>3</th>\n",
       "      <td>A3</td>\n",
       "      <td>B3</td>\n",
       "      <td>C3</td>\n",
       "      <td>D3</td>\n",
       "    </tr>\n",
       "  </tbody>\n",
       "</table>\n",
       "</div>"
      ],
      "text/plain": [
       "    A   B   C   D\n",
       "0  A0  B0  C0  D0\n",
       "1  A1  B1  C1  D1\n",
       "2  A2  B2  C2  D2\n",
       "3  A3  B3  C3  D3"
      ]
     },
     "metadata": {},
     "output_type": "display_data"
    },
    {
     "data": {
      "text/html": [
       "<div>\n",
       "<style scoped>\n",
       "    .dataframe tbody tr th:only-of-type {\n",
       "        vertical-align: middle;\n",
       "    }\n",
       "\n",
       "    .dataframe tbody tr th {\n",
       "        vertical-align: top;\n",
       "    }\n",
       "\n",
       "    .dataframe thead th {\n",
       "        text-align: right;\n",
       "    }\n",
       "</style>\n",
       "<table border=\"1\" class=\"dataframe\">\n",
       "  <thead>\n",
       "    <tr style=\"text-align: right;\">\n",
       "      <th></th>\n",
       "      <th>B</th>\n",
       "      <th>D</th>\n",
       "      <th>F</th>\n",
       "      <th>E</th>\n",
       "    </tr>\n",
       "  </thead>\n",
       "  <tbody>\n",
       "    <tr>\n",
       "      <th>2</th>\n",
       "      <td>B2</td>\n",
       "      <td>D2</td>\n",
       "      <td>F2</td>\n",
       "      <td>NaN</td>\n",
       "    </tr>\n",
       "    <tr>\n",
       "      <th>3</th>\n",
       "      <td>B3</td>\n",
       "      <td>D3</td>\n",
       "      <td>F3</td>\n",
       "      <td>NaN</td>\n",
       "    </tr>\n",
       "    <tr>\n",
       "      <th>6</th>\n",
       "      <td>B6</td>\n",
       "      <td>D6</td>\n",
       "      <td>F6</td>\n",
       "      <td>NaN</td>\n",
       "    </tr>\n",
       "    <tr>\n",
       "      <th>0</th>\n",
       "      <td>B7</td>\n",
       "      <td>D7</td>\n",
       "      <td>F7</td>\n",
       "      <td>NaN</td>\n",
       "    </tr>\n",
       "  </tbody>\n",
       "</table>\n",
       "</div>"
      ],
      "text/plain": [
       "    B   D   F   E\n",
       "2  B2  D2  F2 NaN\n",
       "3  B3  D3  F3 NaN\n",
       "6  B6  D6  F6 NaN\n",
       "0  B7  D7  F7 NaN"
      ]
     },
     "metadata": {},
     "output_type": "display_data"
    }
   ],
   "source": [
    "display(dfg1, dfr4)"
   ]
  },
  {
   "cell_type": "code",
   "execution_count": 53,
   "id": "7192d4c9",
   "metadata": {},
   "outputs": [
    {
     "data": {
      "text/html": [
       "<div>\n",
       "<style scoped>\n",
       "    .dataframe tbody tr th:only-of-type {\n",
       "        vertical-align: middle;\n",
       "    }\n",
       "\n",
       "    .dataframe tbody tr th {\n",
       "        vertical-align: top;\n",
       "    }\n",
       "\n",
       "    .dataframe thead th {\n",
       "        text-align: right;\n",
       "    }\n",
       "</style>\n",
       "<table border=\"1\" class=\"dataframe\">\n",
       "  <thead>\n",
       "    <tr style=\"text-align: right;\">\n",
       "      <th></th>\n",
       "      <th>key_0</th>\n",
       "      <th>A</th>\n",
       "      <th>B_x</th>\n",
       "      <th>C</th>\n",
       "      <th>D_x</th>\n",
       "      <th>B_y</th>\n",
       "      <th>D_y</th>\n",
       "      <th>F</th>\n",
       "      <th>E</th>\n",
       "    </tr>\n",
       "  </thead>\n",
       "  <tbody>\n",
       "    <tr>\n",
       "      <th>0</th>\n",
       "      <td>0</td>\n",
       "      <td>A0</td>\n",
       "      <td>B0</td>\n",
       "      <td>C0</td>\n",
       "      <td>D0</td>\n",
       "      <td>B7</td>\n",
       "      <td>D7</td>\n",
       "      <td>F7</td>\n",
       "      <td>NaN</td>\n",
       "    </tr>\n",
       "    <tr>\n",
       "      <th>1</th>\n",
       "      <td>1</td>\n",
       "      <td>A1</td>\n",
       "      <td>B1</td>\n",
       "      <td>C1</td>\n",
       "      <td>D1</td>\n",
       "      <td>NaN</td>\n",
       "      <td>NaN</td>\n",
       "      <td>NaN</td>\n",
       "      <td>NaN</td>\n",
       "    </tr>\n",
       "    <tr>\n",
       "      <th>2</th>\n",
       "      <td>2</td>\n",
       "      <td>A2</td>\n",
       "      <td>B2</td>\n",
       "      <td>C2</td>\n",
       "      <td>D2</td>\n",
       "      <td>B2</td>\n",
       "      <td>D2</td>\n",
       "      <td>F2</td>\n",
       "      <td>NaN</td>\n",
       "    </tr>\n",
       "    <tr>\n",
       "      <th>3</th>\n",
       "      <td>3</td>\n",
       "      <td>A3</td>\n",
       "      <td>B3</td>\n",
       "      <td>C3</td>\n",
       "      <td>D3</td>\n",
       "      <td>B3</td>\n",
       "      <td>D3</td>\n",
       "      <td>F3</td>\n",
       "      <td>NaN</td>\n",
       "    </tr>\n",
       "    <tr>\n",
       "      <th>4</th>\n",
       "      <td>6</td>\n",
       "      <td>NaN</td>\n",
       "      <td>NaN</td>\n",
       "      <td>NaN</td>\n",
       "      <td>NaN</td>\n",
       "      <td>B6</td>\n",
       "      <td>D6</td>\n",
       "      <td>F6</td>\n",
       "      <td>NaN</td>\n",
       "    </tr>\n",
       "  </tbody>\n",
       "</table>\n",
       "</div>"
      ],
      "text/plain": [
       "   key_0    A  B_x    C  D_x  B_y  D_y    F   E\n",
       "0      0   A0   B0   C0   D0   B7   D7   F7 NaN\n",
       "1      1   A1   B1   C1   D1  NaN  NaN  NaN NaN\n",
       "2      2   A2   B2   C2   D2   B2   D2   F2 NaN\n",
       "3      3   A3   B3   C3   D3   B3   D3   F3 NaN\n",
       "4      6  NaN  NaN  NaN  NaN   B6   D6   F6 NaN"
      ]
     },
     "execution_count": 53,
     "metadata": {},
     "output_type": "execute_result"
    }
   ],
   "source": [
    "dfg1.merge(dfr4, left_on=dfg1.index, right_on=dfr4.index, how='outer')"
   ]
  },
  {
   "cell_type": "code",
   "execution_count": 54,
   "id": "89264db4",
   "metadata": {
    "scrolled": true
   },
   "outputs": [
    {
     "data": {
      "text/html": [
       "<div>\n",
       "<style scoped>\n",
       "    .dataframe tbody tr th:only-of-type {\n",
       "        vertical-align: middle;\n",
       "    }\n",
       "\n",
       "    .dataframe tbody tr th {\n",
       "        vertical-align: top;\n",
       "    }\n",
       "\n",
       "    .dataframe thead th {\n",
       "        text-align: right;\n",
       "    }\n",
       "</style>\n",
       "<table border=\"1\" class=\"dataframe\">\n",
       "  <thead>\n",
       "    <tr style=\"text-align: right;\">\n",
       "      <th></th>\n",
       "      <th>A</th>\n",
       "      <th>B</th>\n",
       "      <th>C</th>\n",
       "      <th>D</th>\n",
       "      <th>F</th>\n",
       "      <th>E</th>\n",
       "    </tr>\n",
       "  </thead>\n",
       "  <tbody>\n",
       "    <tr>\n",
       "      <th>0</th>\n",
       "      <td>A0</td>\n",
       "      <td>B0</td>\n",
       "      <td>C0</td>\n",
       "      <td>D0</td>\n",
       "      <td>NaN</td>\n",
       "      <td>NaN</td>\n",
       "    </tr>\n",
       "    <tr>\n",
       "      <th>1</th>\n",
       "      <td>A1</td>\n",
       "      <td>B1</td>\n",
       "      <td>C1</td>\n",
       "      <td>D1</td>\n",
       "      <td>NaN</td>\n",
       "      <td>NaN</td>\n",
       "    </tr>\n",
       "    <tr>\n",
       "      <th>2</th>\n",
       "      <td>A2</td>\n",
       "      <td>B2</td>\n",
       "      <td>C2</td>\n",
       "      <td>D2</td>\n",
       "      <td>F2</td>\n",
       "      <td>NaN</td>\n",
       "    </tr>\n",
       "    <tr>\n",
       "      <th>3</th>\n",
       "      <td>A3</td>\n",
       "      <td>B3</td>\n",
       "      <td>C3</td>\n",
       "      <td>D3</td>\n",
       "      <td>F3</td>\n",
       "      <td>NaN</td>\n",
       "    </tr>\n",
       "    <tr>\n",
       "      <th>4</th>\n",
       "      <td>NaN</td>\n",
       "      <td>B6</td>\n",
       "      <td>NaN</td>\n",
       "      <td>D6</td>\n",
       "      <td>F6</td>\n",
       "      <td>NaN</td>\n",
       "    </tr>\n",
       "    <tr>\n",
       "      <th>5</th>\n",
       "      <td>NaN</td>\n",
       "      <td>B7</td>\n",
       "      <td>NaN</td>\n",
       "      <td>D7</td>\n",
       "      <td>F7</td>\n",
       "      <td>NaN</td>\n",
       "    </tr>\n",
       "  </tbody>\n",
       "</table>\n",
       "</div>"
      ],
      "text/plain": [
       "     A   B    C   D    F   E\n",
       "0   A0  B0   C0  D0  NaN NaN\n",
       "1   A1  B1   C1  D1  NaN NaN\n",
       "2   A2  B2   C2  D2   F2 NaN\n",
       "3   A3  B3   C3  D3   F3 NaN\n",
       "4  NaN  B6  NaN  D6   F6 NaN\n",
       "5  NaN  B7  NaN  D7   F7 NaN"
      ]
     },
     "execution_count": 54,
     "metadata": {},
     "output_type": "execute_result"
    }
   ],
   "source": [
    "dfg1.merge(dfr4, 'outer')"
   ]
  },
  {
   "cell_type": "code",
   "execution_count": 55,
   "id": "977c2c75",
   "metadata": {
    "scrolled": false
   },
   "outputs": [
    {
     "data": {
      "text/html": [
       "<div>\n",
       "<style scoped>\n",
       "    .dataframe tbody tr th:only-of-type {\n",
       "        vertical-align: middle;\n",
       "    }\n",
       "\n",
       "    .dataframe tbody tr th {\n",
       "        vertical-align: top;\n",
       "    }\n",
       "\n",
       "    .dataframe thead th {\n",
       "        text-align: right;\n",
       "    }\n",
       "</style>\n",
       "<table border=\"1\" class=\"dataframe\">\n",
       "  <thead>\n",
       "    <tr style=\"text-align: right;\">\n",
       "      <th></th>\n",
       "      <th>A</th>\n",
       "      <th>B</th>\n",
       "      <th>C</th>\n",
       "      <th>D</th>\n",
       "      <th>F</th>\n",
       "      <th>E</th>\n",
       "    </tr>\n",
       "  </thead>\n",
       "  <tbody>\n",
       "    <tr>\n",
       "      <th>0</th>\n",
       "      <td>A2</td>\n",
       "      <td>B2</td>\n",
       "      <td>C2</td>\n",
       "      <td>D2</td>\n",
       "      <td>F2</td>\n",
       "      <td>NaN</td>\n",
       "    </tr>\n",
       "    <tr>\n",
       "      <th>1</th>\n",
       "      <td>A3</td>\n",
       "      <td>B3</td>\n",
       "      <td>C3</td>\n",
       "      <td>D3</td>\n",
       "      <td>F3</td>\n",
       "      <td>NaN</td>\n",
       "    </tr>\n",
       "  </tbody>\n",
       "</table>\n",
       "</div>"
      ],
      "text/plain": [
       "    A   B   C   D   F   E\n",
       "0  A2  B2  C2  D2  F2 NaN\n",
       "1  A3  B3  C3  D3  F3 NaN"
      ]
     },
     "execution_count": 55,
     "metadata": {},
     "output_type": "execute_result"
    }
   ],
   "source": [
    "dfg1.merge(dfr4)"
   ]
  },
  {
   "cell_type": "code",
   "execution_count": 56,
   "id": "0826f2f2",
   "metadata": {},
   "outputs": [
    {
     "data": {
      "text/html": [
       "<div>\n",
       "<style scoped>\n",
       "    .dataframe tbody tr th:only-of-type {\n",
       "        vertical-align: middle;\n",
       "    }\n",
       "\n",
       "    .dataframe tbody tr th {\n",
       "        vertical-align: top;\n",
       "    }\n",
       "\n",
       "    .dataframe thead th {\n",
       "        text-align: right;\n",
       "    }\n",
       "</style>\n",
       "<table border=\"1\" class=\"dataframe\">\n",
       "  <thead>\n",
       "    <tr style=\"text-align: right;\">\n",
       "      <th></th>\n",
       "      <th>A</th>\n",
       "      <th>B</th>\n",
       "      <th>C</th>\n",
       "      <th>D</th>\n",
       "      <th>F</th>\n",
       "      <th>E</th>\n",
       "    </tr>\n",
       "  </thead>\n",
       "  <tbody>\n",
       "    <tr>\n",
       "      <th>0</th>\n",
       "      <td>A2</td>\n",
       "      <td>B2</td>\n",
       "      <td>C2</td>\n",
       "      <td>D2</td>\n",
       "      <td>F2</td>\n",
       "      <td>NaN</td>\n",
       "    </tr>\n",
       "    <tr>\n",
       "      <th>1</th>\n",
       "      <td>A3</td>\n",
       "      <td>B3</td>\n",
       "      <td>C3</td>\n",
       "      <td>D3</td>\n",
       "      <td>F3</td>\n",
       "      <td>NaN</td>\n",
       "    </tr>\n",
       "  </tbody>\n",
       "</table>\n",
       "</div>"
      ],
      "text/plain": [
       "    A   B   C   D   F   E\n",
       "0  A2  B2  C2  D2  F2 NaN\n",
       "1  A3  B3  C3  D3  F3 NaN"
      ]
     },
     "execution_count": 56,
     "metadata": {},
     "output_type": "execute_result"
    }
   ],
   "source": [
    "dfg1.merge(dfr4, 'inner')"
   ]
  },
  {
   "cell_type": "markdown",
   "id": "af9f2640",
   "metadata": {},
   "source": [
    "#####  check при объединении таблиц без пропусков получаем пропуски"
   ]
  },
  {
   "cell_type": "code",
   "execution_count": 57,
   "id": "b2d7109d",
   "metadata": {},
   "outputs": [],
   "source": [
    "dfg1 = pd.DataFrame(\n",
    "                        {\n",
    "                            \"A\": [\"A0\", \"A1\", \"A2\", \"A3\"],\n",
    "                            \"B\": [\"B0\", \"B1\", \"B2\", \"B3\"],\n",
    "                            \"C\": [\"C0\", \"C1\", \"C2\", \"C3\"],\n",
    "                            \"D\": [\"D0\", \"D1\", \"D2\", \"D3\"],\n",
    "                        },\n",
    "                        index=[0, 1, 2, 3],\n",
    "                    )\n",
    "\n",
    "dfr4 = pd.DataFrame(\n",
    "                        {\n",
    "                            \"B\": [\"B2\", \"B3\", \"B6\", \"B7\"],\n",
    "                            \"D\": [\"D2\", \"D3\", \"D6\", \"D7\"],\n",
    "                            \"F\": [\"F2\", \"F3\", \"F6\", \"F7\"],    \n",
    "                        },\n",
    "                        index=[2, 3, 6, 0],\n",
    "                    )"
   ]
  },
  {
   "cell_type": "code",
   "execution_count": 58,
   "id": "5213e2a8",
   "metadata": {},
   "outputs": [
    {
     "data": {
      "text/html": [
       "<div>\n",
       "<style scoped>\n",
       "    .dataframe tbody tr th:only-of-type {\n",
       "        vertical-align: middle;\n",
       "    }\n",
       "\n",
       "    .dataframe tbody tr th {\n",
       "        vertical-align: top;\n",
       "    }\n",
       "\n",
       "    .dataframe thead th {\n",
       "        text-align: right;\n",
       "    }\n",
       "</style>\n",
       "<table border=\"1\" class=\"dataframe\">\n",
       "  <thead>\n",
       "    <tr style=\"text-align: right;\">\n",
       "      <th></th>\n",
       "      <th>A</th>\n",
       "      <th>B</th>\n",
       "      <th>C</th>\n",
       "      <th>D</th>\n",
       "      <th>F</th>\n",
       "    </tr>\n",
       "  </thead>\n",
       "  <tbody>\n",
       "    <tr>\n",
       "      <th>0</th>\n",
       "      <td>A0</td>\n",
       "      <td>B0</td>\n",
       "      <td>C0</td>\n",
       "      <td>D0</td>\n",
       "      <td>NaN</td>\n",
       "    </tr>\n",
       "    <tr>\n",
       "      <th>1</th>\n",
       "      <td>A1</td>\n",
       "      <td>B1</td>\n",
       "      <td>C1</td>\n",
       "      <td>D1</td>\n",
       "      <td>NaN</td>\n",
       "    </tr>\n",
       "    <tr>\n",
       "      <th>2</th>\n",
       "      <td>A2</td>\n",
       "      <td>B2</td>\n",
       "      <td>C2</td>\n",
       "      <td>D2</td>\n",
       "      <td>F2</td>\n",
       "    </tr>\n",
       "    <tr>\n",
       "      <th>3</th>\n",
       "      <td>A3</td>\n",
       "      <td>B3</td>\n",
       "      <td>C3</td>\n",
       "      <td>D3</td>\n",
       "      <td>F3</td>\n",
       "    </tr>\n",
       "    <tr>\n",
       "      <th>4</th>\n",
       "      <td>NaN</td>\n",
       "      <td>B6</td>\n",
       "      <td>NaN</td>\n",
       "      <td>D6</td>\n",
       "      <td>F6</td>\n",
       "    </tr>\n",
       "    <tr>\n",
       "      <th>5</th>\n",
       "      <td>NaN</td>\n",
       "      <td>B7</td>\n",
       "      <td>NaN</td>\n",
       "      <td>D7</td>\n",
       "      <td>F7</td>\n",
       "    </tr>\n",
       "  </tbody>\n",
       "</table>\n",
       "</div>"
      ],
      "text/plain": [
       "     A   B    C   D    F\n",
       "0   A0  B0   C0  D0  NaN\n",
       "1   A1  B1   C1  D1  NaN\n",
       "2   A2  B2   C2  D2   F2\n",
       "3   A3  B3   C3  D3   F3\n",
       "4  NaN  B6  NaN  D6   F6\n",
       "5  NaN  B7  NaN  D7   F7"
      ]
     },
     "execution_count": 58,
     "metadata": {},
     "output_type": "execute_result"
    }
   ],
   "source": [
    "dfg1.merge(dfr4, how='outer')"
   ]
  },
  {
   "cell_type": "markdown",
   "id": "952869e3",
   "metadata": {},
   "source": [
    "##### check"
   ]
  },
  {
   "cell_type": "markdown",
   "id": "af510624",
   "metadata": {},
   "source": [
    "<div class=\"alert alert-success\">\n",
    "<font size=\"4\", color= \"seagreen\"><b>✔️ Комментарий ревьюера в2</b></font>\n",
    "    <br /> \n",
    "    <font size=\"3\", color = \"black\">\n",
    "<br />Пример Закона больших чисел в действии (обратном), удалим 20 процентов (больше общепринятых 10%) всех данных из таблицы, где мы рассчитали выручку"
   ]
  },
  {
   "cell_type": "code",
   "execution_count": 59,
   "id": "087ba9a3",
   "metadata": {
    "scrolled": false
   },
   "outputs": [
    {
     "data": {
      "text/plain": [
       "Index(['dist_count', 'dist_sum', 'durat_sum', 'minute_price',\n",
       "       'start_ride_price', 'subscription_fee', 'income_month_total'],\n",
       "      dtype='object')"
      ]
     },
     "execution_count": 59,
     "metadata": {},
     "output_type": "execute_result"
    }
   ],
   "source": [
    "dfg_first = users_income_month.copy()\n",
    "dfg_first.columns"
   ]
  },
  {
   "cell_type": "code",
   "execution_count": 60,
   "id": "06c34b13",
   "metadata": {},
   "outputs": [
    {
     "data": {
      "text/plain": [
       "'income_month_total'"
      ]
     },
     "execution_count": 60,
     "metadata": {},
     "output_type": "execute_result"
    }
   ],
   "source": [
    "x = 'subscription_fee'\n",
    "y = dfg_first.columns[-1]\n",
    "y"
   ]
  },
  {
   "cell_type": "code",
   "execution_count": 61,
   "id": "0207d782",
   "metadata": {},
   "outputs": [
    {
     "data": {
      "text/html": [
       "<div>\n",
       "<style scoped>\n",
       "    .dataframe tbody tr th:only-of-type {\n",
       "        vertical-align: middle;\n",
       "    }\n",
       "\n",
       "    .dataframe tbody tr th {\n",
       "        vertical-align: top;\n",
       "    }\n",
       "\n",
       "    .dataframe thead th {\n",
       "        text-align: right;\n",
       "    }\n",
       "</style>\n",
       "<table border=\"1\" class=\"dataframe\">\n",
       "  <thead>\n",
       "    <tr style=\"text-align: right;\">\n",
       "      <th></th>\n",
       "      <th>income_month_total</th>\n",
       "    </tr>\n",
       "    <tr>\n",
       "      <th>subscription_fee</th>\n",
       "      <th></th>\n",
       "    </tr>\n",
       "  </thead>\n",
       "  <tbody>\n",
       "    <tr>\n",
       "      <th>0</th>\n",
       "      <td>329.3</td>\n",
       "    </tr>\n",
       "    <tr>\n",
       "      <th>199</th>\n",
       "      <td>361.9</td>\n",
       "    </tr>\n",
       "  </tbody>\n",
       "</table>\n",
       "</div>"
      ],
      "text/plain": [
       "                  income_month_total\n",
       "subscription_fee                    \n",
       "0                              329.3\n",
       "199                            361.9"
      ]
     },
     "execution_count": 61,
     "metadata": {},
     "output_type": "execute_result"
    }
   ],
   "source": [
    "dfg_first.groupby(x)[y].mean().round(1).to_frame()"
   ]
  },
  {
   "cell_type": "code",
   "execution_count": 62,
   "id": "75f3af0d",
   "metadata": {},
   "outputs": [
    {
     "data": {
      "image/png": "[encoded data removed]",
      "text/plain": [
       "<Figure size 1080x216 with 1 Axes>"
      ]
     },
     "metadata": {
      "needs_background": "light"
     },
     "output_type": "display_data"
    }
   ],
   "source": [
    "dfg_first.groupby(x)[y].hist(bins=200, figsize=(15,3), legend=True)\n",
    "plt.title('Гистограммы ежесячной выручки двух групп пользователей')\n",
    "plt.xlabel('руб.')\n",
    "plt.ylabel('кол-во');"
   ]
  },
  {
   "cell_type": "code",
   "execution_count": 63,
   "id": "3e50a277",
   "metadata": {},
   "outputs": [],
   "source": [
    "# копируем таблицу\n",
    "dfg = dfg_first.copy()\n"
   ]
  },
  {
   "cell_type": "code",
   "execution_count": 64,
   "id": "8942cb72",
   "metadata": {},
   "outputs": [
    {
     "name": "stdout",
     "output_type": "stream",
     "text": [
      "<class 'pandas.core.frame.DataFrame'>\n",
      "MultiIndex: 11287 entries, (1, 1) to (1534, 12)\n",
      "Data columns (total 7 columns):\n",
      " #   Column              Non-Null Count  Dtype\n",
      "---  ------              --------------  -----\n",
      " 0   dist_count          11287 non-null  int64\n",
      " 1   dist_sum            11287 non-null  int64\n",
      " 2   durat_sum           11287 non-null  int64\n",
      " 3   minute_price        11287 non-null  int64\n",
      " 4   start_ride_price    11287 non-null  int64\n",
      " 5   subscription_fee    11287 non-null  int64\n",
      " 6   income_month_total  11287 non-null  int64\n",
      "dtypes: int64(7)\n",
      "memory usage: 662.5 KB\n"
     ]
    }
   ],
   "source": [
    "dfg.info()"
   ]
  },
  {
   "cell_type": "code",
   "execution_count": 65,
   "id": "dc315a0f",
   "metadata": {},
   "outputs": [],
   "source": [
    "# удаляем данные, 20%\n",
    "for col in dfg.columns:\n",
    "    dfg.loc[dfg.sample(frac=0.2).index, col] = np.nan"
   ]
  },
  {
   "cell_type": "code",
   "execution_count": 66,
   "id": "9cf9405c",
   "metadata": {},
   "outputs": [
    {
     "name": "stdout",
     "output_type": "stream",
     "text": [
      "<class 'pandas.core.frame.DataFrame'>\n",
      "MultiIndex: 11287 entries, (1, 1) to (1534, 12)\n",
      "Data columns (total 7 columns):\n",
      " #   Column              Non-Null Count  Dtype  \n",
      "---  ------              --------------  -----  \n",
      " 0   dist_count          9030 non-null   float64\n",
      " 1   dist_sum            9030 non-null   float64\n",
      " 2   durat_sum           9030 non-null   float64\n",
      " 3   minute_price        9030 non-null   float64\n",
      " 4   start_ride_price    9030 non-null   float64\n",
      " 5   subscription_fee    9030 non-null   float64\n",
      " 6   income_month_total  9030 non-null   float64\n",
      "dtypes: float64(7)\n",
      "memory usage: 953.1 KB\n"
     ]
    }
   ],
   "source": [
    "dfg.info()"
   ]
  },
  {
   "cell_type": "code",
   "execution_count": 67,
   "id": "936b685f",
   "metadata": {},
   "outputs": [
    {
     "data": {
      "text/html": [
       "<div>\n",
       "<style scoped>\n",
       "    .dataframe tbody tr th:only-of-type {\n",
       "        vertical-align: middle;\n",
       "    }\n",
       "\n",
       "    .dataframe tbody tr th {\n",
       "        vertical-align: top;\n",
       "    }\n",
       "\n",
       "    .dataframe thead th {\n",
       "        text-align: right;\n",
       "    }\n",
       "</style>\n",
       "<table border=\"1\" class=\"dataframe\">\n",
       "  <thead>\n",
       "    <tr style=\"text-align: right;\">\n",
       "      <th></th>\n",
       "      <th>income_month_total</th>\n",
       "    </tr>\n",
       "    <tr>\n",
       "      <th>subscription_fee</th>\n",
       "      <th></th>\n",
       "    </tr>\n",
       "  </thead>\n",
       "  <tbody>\n",
       "    <tr>\n",
       "      <th>0.0</th>\n",
       "      <td>328.7</td>\n",
       "    </tr>\n",
       "    <tr>\n",
       "      <th>199.0</th>\n",
       "      <td>359.8</td>\n",
       "    </tr>\n",
       "  </tbody>\n",
       "</table>\n",
       "</div>"
      ],
      "text/plain": [
       "                  income_month_total\n",
       "subscription_fee                    \n",
       "0.0                            328.7\n",
       "199.0                          359.8"
      ]
     },
     "execution_count": 67,
     "metadata": {},
     "output_type": "execute_result"
    }
   ],
   "source": [
    "dfg.groupby(x)[y].mean().round(1).to_frame()"
   ]
  },
  {
   "cell_type": "code",
   "execution_count": 68,
   "id": "9350cdc6",
   "metadata": {
    "scrolled": false
   },
   "outputs": [
    {
     "data": {
      "image/png": "[encoded data removed]",
      "text/plain": [
       "<Figure size 1080x216 with 1 Axes>"
      ]
     },
     "metadata": {
      "needs_background": "light"
     },
     "output_type": "display_data"
    }
   ],
   "source": [
    "dfg.groupby(x)[y].hist(bins=200, figsize=(15,3), legend=True)\n",
    "plt.title('Гистограммы ежесячной выручки двух групп пользователей')\n",
    "plt.xlabel('руб.')\n",
    "plt.ylabel('кол-во');"
   ]
  },
  {
   "attachments": {
    "image-2.png": {
     "image/png": "[encoded data removed]"
    }
   },
   "cell_type": "markdown",
   "id": "0d7217e6",
   "metadata": {},
   "source": [
    "<div class=\"alert alert-success\">\n",
    "<font size=\"4\", color= \"seagreen\"><b>✔️ Комментарий ревьюера в2</b></font>\n",
    "    <br /> \n",
    "    <font size=\"3\", color = \"black\">\n",
    "<br />Если сравнить средние значения выручки, даже после удаления 20-ти процентов данных (но одно важное условие — данные удалялись случайным образом), они изменились незначительно, как и характер распределения самих данных (кол-во данных уменьшилось, безусловно).\n",
    "        \n",
    "Для сравнения представлен рисунок первой гистограммы\n",
    "        \n",
    "Закон больших чисел действует и в обратном направлении — у нас нет необходимости собирать 100% данных, чтобы проверить основные гипотезы, при условии, что выборка достаточно большая        \n",
    "       \n",
    "![image-2.png](attachment:image-2.png)        "
   ]
  },
  {
   "cell_type": "markdown",
   "id": "8a0e7002",
   "metadata": {},
   "source": [
    "##### check"
   ]
  },
  {
   "cell_type": "markdown",
   "id": "c4e54ed3",
   "metadata": {},
   "source": [
    "<div style=\"border:solid steelblue 3px; padding: 20px\">\n",
    "<font size=\"4\">🍕<b> Комментарий ревьюера в2</b></font>\n",
    "<br /> \n",
    "<font size=\"3\", color = \"black\">\n",
    "<br />\n",
    "Приведу пример и теорию для понимания формулировок и интерпретации итогов проведения гипотез</b>\n",
    "        \n",
    "      \n",
    "Задача. Приведены два датасета: сумма покупок, совершённых за месяц посетителями, привлечёнными по двум разным каналам. В вашем распоряжении случайная выборка из 30 покупок для каждого канала.\n",
    "        \n",
    "H0 - средние чеки равны\n",
    "        \n",
    "        \n",
    "H1 - средние чеки НЕ равны\n",
    "\n",
    "Да сама формулировка нулевой и альтернативной гипотезы звучит именно так, но результат теста интерпретируется другими словами\n",
    "    \n",
    "        \n",
    "Формулирование двусторонних гипотез. <br>\n",
    "        \n",
    "<b>Никакие экспериментально полученные данные никогда не подтвердят какую-либо гипотезу. Это наше фундаментальное ограничение. </b>Данные могут лишь не противоречить ей или, наоборот, показывать крайне маловероятные результаты (при условии, что гипотеза верна). Но и в том, и в другом случае нет оснований утверждать, что выдвинутая гипотеза доказана.\n",
    "Допустим, данные гипотезе не противоречат, тогда мы её не отвергаем. Если же мы приходим к выводу, что получить такие данные в рамках этой гипотезы вряд ли возможно, у нас появляется основание отбросить эту гипотезу.\n",
    "     "
   ]
  },
  {
   "cell_type": "code",
   "execution_count": 69,
   "id": "8f6f29ea",
   "metadata": {},
   "outputs": [
    {
     "name": "stdout",
     "output_type": "stream",
     "text": [
      "p-значение: 0.1912450522572209\n",
      "Не получилось отвергнуть нулевую гипотезу\n"
     ]
    }
   ],
   "source": [
    "# Приведены два датасета: сумма покупок, совершённых за месяц посетителями ...\n",
    "\n",
    "sample_1 = [3071, 3636, 3454, 3151, 2185, 3259, 1727, 2263, 2015,\n",
    "2582, 4815, 633, 3186, 887, 2028, 3589, 2564, 1422, 1785,\n",
    "3180, 1770, 2716, 2546, 1848, 4644, 3134, 475, 2686,\n",
    "1838, 3352]\n",
    "sample_2 = [1211, 1228, 2157, 3699, 600, 1898, 1688, 1420, 5048, 3007,\n",
    "509, 3777, 5583, 3949, 121, 1674, 4300, 1338, 3066,\n",
    "3562, 1010, 2311, 462, 863, 2021, 528, 1849, 255,\n",
    "1740, 2596]\n",
    "alpha = .05 # критический уровень статистической значимости\n",
    "# если p-value окажется меньше него - отвергнем гипотезу\n",
    "results = st.ttest_ind(\n",
    "sample_1,\n",
    "sample_2)\n",
    "print('p-значение:', results.pvalue)\n",
    "if (results.pvalue < alpha):\n",
    "    print(\"Отвергаем нулевую гипотезу\")\n",
    "else:\n",
    "    print(\"Не получилось отвергнуть нулевую гипотезу\")"
   ]
  },
  {
   "cell_type": "markdown",
   "id": "a71a6112",
   "metadata": {},
   "source": [
    "<div style=\"border:solid steelblue 3px; padding: 20px\">\n",
    "<font size=\"4\">🍕<b> Комментарий ревьюера в2</b></font>\n",
    "<br /> \n",
    "<font size=\"3\", color = \"black\">\n",
    "<br />\n",
    "Интерпретация результата:\n",
    "\n",
    "Полученное значение p-value говорит о том, что хотя средний чек пришедших из разных каналов и неодинаков, <b>с вероятностью в почти 19% такое или большее различие можно получить случайно. </b>Это явно слишком большая вероятность, чтобы делать вывод о значимом различии между средними чеками.\n",
    "        \n",
    "А если p-value  будет равно 0,9999, то это значит, что с вероятностью почти 100% <u>такое различие</u> можно получить случайно — то есть почти никогда :)  (но учитываем, что тест проводится на выборке из генеральной совокупности, все может поменяться)\n"
   ]
  },
  {
   "cell_type": "code",
   "execution_count": null,
   "id": "d28df358",
   "metadata": {},
   "outputs": [],
   "source": []
  }
 ],
 "metadata": {
  "ExecuteTimeLog": [
   {
    "duration": 58,
    "start_time": "2024-08-17T15:28:42.318Z"
   },
   {
    "duration": 804,
    "start_time": "2024-08-17T15:28:47.221Z"
   },
   {
    "duration": 412,
    "start_time": "2024-08-17T15:28:48.027Z"
   },
   {
    "duration": 13,
    "start_time": "2024-08-17T15:28:48.443Z"
   },
   {
    "duration": 7,
    "start_time": "2024-08-17T15:29:23.408Z"
   },
   {
    "duration": 131,
    "start_time": "2024-08-17T15:29:52.885Z"
   },
   {
    "duration": 80,
    "start_time": "2024-08-17T15:30:08.925Z"
   },
   {
    "duration": 7,
    "start_time": "2024-08-17T15:30:15.502Z"
   },
   {
    "duration": 6,
    "start_time": "2024-08-17T15:30:22.284Z"
   },
   {
    "duration": 84,
    "start_time": "2024-08-17T15:31:04.197Z"
   },
   {
    "duration": 14,
    "start_time": "2024-08-17T15:31:11.628Z"
   },
   {
    "duration": 77,
    "start_time": "2024-08-17T15:31:26.296Z"
   },
   {
    "duration": 10,
    "start_time": "2024-08-17T15:31:29.493Z"
   },
   {
    "duration": 10,
    "start_time": "2024-08-17T15:31:35.581Z"
   },
   {
    "duration": 8,
    "start_time": "2024-08-17T15:31:42.048Z"
   },
   {
    "duration": 12,
    "start_time": "2024-08-17T15:33:38.446Z"
   },
   {
    "duration": 12,
    "start_time": "2024-08-17T15:34:37.254Z"
   },
   {
    "duration": 11,
    "start_time": "2024-08-17T15:34:43.525Z"
   },
   {
    "duration": 9,
    "start_time": "2024-08-17T15:34:53.290Z"
   },
   {
    "duration": 8,
    "start_time": "2024-08-17T15:35:41.781Z"
   },
   {
    "duration": 11,
    "start_time": "2024-08-17T15:35:52.299Z"
   },
   {
    "duration": 10,
    "start_time": "2024-08-17T15:36:38.569Z"
   },
   {
    "duration": 8,
    "start_time": "2024-08-17T15:40:18.546Z"
   },
   {
    "duration": 8,
    "start_time": "2024-08-17T15:42:42.761Z"
   },
   {
    "duration": 7,
    "start_time": "2024-08-17T15:44:45.320Z"
   },
   {
    "duration": 6,
    "start_time": "2024-08-17T15:45:41.655Z"
   },
   {
    "duration": 6,
    "start_time": "2024-08-17T15:46:57.473Z"
   },
   {
    "duration": 9,
    "start_time": "2024-08-17T16:14:44.308Z"
   },
   {
    "duration": 6,
    "start_time": "2024-08-17T16:14:56.970Z"
   },
   {
    "duration": 6,
    "start_time": "2024-08-17T16:15:05.199Z"
   },
   {
    "duration": 5,
    "start_time": "2024-08-17T16:15:43.567Z"
   },
   {
    "duration": 5,
    "start_time": "2024-08-17T16:16:01.783Z"
   },
   {
    "duration": 8,
    "start_time": "2024-08-17T16:18:13.154Z"
   },
   {
    "duration": 641,
    "start_time": "2024-08-17T16:18:22.681Z"
   },
   {
    "duration": 81,
    "start_time": "2024-08-17T16:18:23.324Z"
   },
   {
    "duration": 11,
    "start_time": "2024-08-17T16:18:23.406Z"
   },
   {
    "duration": 14,
    "start_time": "2024-08-17T16:18:23.419Z"
   },
   {
    "duration": 11,
    "start_time": "2024-08-17T16:18:23.435Z"
   },
   {
    "duration": 13,
    "start_time": "2024-08-17T16:18:23.447Z"
   },
   {
    "duration": 7,
    "start_time": "2024-08-17T16:18:23.461Z"
   },
   {
    "duration": 20,
    "start_time": "2024-08-17T16:18:23.470Z"
   },
   {
    "duration": 33,
    "start_time": "2024-08-17T16:18:23.491Z"
   },
   {
    "duration": 7,
    "start_time": "2024-08-17T16:18:23.527Z"
   },
   {
    "duration": 8,
    "start_time": "2024-08-17T16:18:23.537Z"
   },
   {
    "duration": 6,
    "start_time": "2024-08-17T16:18:23.547Z"
   },
   {
    "duration": 7,
    "start_time": "2024-08-17T16:18:23.555Z"
   },
   {
    "duration": 6,
    "start_time": "2024-08-17T16:18:23.564Z"
   },
   {
    "duration": 8,
    "start_time": "2024-08-17T16:18:23.572Z"
   },
   {
    "duration": 48,
    "start_time": "2024-08-17T16:18:23.581Z"
   },
   {
    "duration": 8,
    "start_time": "2024-08-17T16:18:23.631Z"
   },
   {
    "duration": 70,
    "start_time": "2024-08-17T16:20:15.707Z"
   },
   {
    "duration": 7,
    "start_time": "2024-08-17T16:20:32.009Z"
   },
   {
    "duration": 9,
    "start_time": "2024-08-17T16:20:33.069Z"
   },
   {
    "duration": 643,
    "start_time": "2024-08-17T16:20:47.670Z"
   },
   {
    "duration": 81,
    "start_time": "2024-08-17T16:20:48.314Z"
   },
   {
    "duration": 13,
    "start_time": "2024-08-17T16:20:48.396Z"
   },
   {
    "duration": 11,
    "start_time": "2024-08-17T16:20:48.411Z"
   },
   {
    "duration": 17,
    "start_time": "2024-08-17T16:20:48.423Z"
   },
   {
    "duration": 15,
    "start_time": "2024-08-17T16:20:48.442Z"
   },
   {
    "duration": 7,
    "start_time": "2024-08-17T16:20:48.458Z"
   },
   {
    "duration": 13,
    "start_time": "2024-08-17T16:20:48.467Z"
   },
   {
    "duration": 7,
    "start_time": "2024-08-17T16:20:48.482Z"
   },
   {
    "duration": 34,
    "start_time": "2024-08-17T16:20:48.492Z"
   },
   {
    "duration": 7,
    "start_time": "2024-08-17T16:20:48.527Z"
   },
   {
    "duration": 7,
    "start_time": "2024-08-17T16:20:48.536Z"
   },
   {
    "duration": 87,
    "start_time": "2024-08-17T16:20:48.544Z"
   },
   {
    "duration": 0,
    "start_time": "2024-08-17T16:20:48.633Z"
   },
   {
    "duration": 0,
    "start_time": "2024-08-17T16:20:48.634Z"
   },
   {
    "duration": 0,
    "start_time": "2024-08-17T16:20:48.636Z"
   },
   {
    "duration": 0,
    "start_time": "2024-08-17T16:20:48.638Z"
   },
   {
    "duration": 10,
    "start_time": "2024-08-17T16:21:02.303Z"
   },
   {
    "duration": 6,
    "start_time": "2024-08-17T16:21:03.374Z"
   },
   {
    "duration": 7,
    "start_time": "2024-08-17T16:21:11.711Z"
   },
   {
    "duration": 6,
    "start_time": "2024-08-17T16:21:13.276Z"
   },
   {
    "duration": 8,
    "start_time": "2024-08-17T16:21:14.055Z"
   },
   {
    "duration": 8,
    "start_time": "2024-08-17T16:22:52.713Z"
   },
   {
    "duration": 7,
    "start_time": "2024-08-17T16:23:08.085Z"
   },
   {
    "duration": 8,
    "start_time": "2024-08-17T16:23:15.154Z"
   },
   {
    "duration": 8,
    "start_time": "2024-08-17T16:23:16.137Z"
   },
   {
    "duration": 8,
    "start_time": "2024-08-17T16:23:21.970Z"
   },
   {
    "duration": 4,
    "start_time": "2024-08-17T16:24:05.868Z"
   },
   {
    "duration": 5,
    "start_time": "2024-08-17T16:24:08.699Z"
   },
   {
    "duration": 4,
    "start_time": "2024-08-17T16:28:43.453Z"
   },
   {
    "duration": 5,
    "start_time": "2024-08-17T16:28:52.214Z"
   },
   {
    "duration": 11,
    "start_time": "2024-08-17T16:29:17.201Z"
   },
   {
    "duration": 6,
    "start_time": "2024-08-17T16:30:00.148Z"
   },
   {
    "duration": 6,
    "start_time": "2024-08-17T16:31:20.944Z"
   },
   {
    "duration": 417,
    "start_time": "2024-08-17T16:32:33.784Z"
   },
   {
    "duration": 527,
    "start_time": "2024-08-17T16:33:15.216Z"
   },
   {
    "duration": 191,
    "start_time": "2024-08-17T16:35:48.462Z"
   },
   {
    "duration": 123,
    "start_time": "2024-08-17T16:36:31.485Z"
   },
   {
    "duration": 125,
    "start_time": "2024-08-17T16:37:29.068Z"
   },
   {
    "duration": 59,
    "start_time": "2024-08-17T19:00:53.386Z"
   },
   {
    "duration": 768,
    "start_time": "2024-08-17T19:01:12.778Z"
   },
   {
    "duration": 292,
    "start_time": "2024-08-17T19:01:13.549Z"
   },
   {
    "duration": 13,
    "start_time": "2024-08-17T19:01:13.842Z"
   },
   {
    "duration": 15,
    "start_time": "2024-08-17T19:01:13.856Z"
   },
   {
    "duration": 35,
    "start_time": "2024-08-17T19:01:13.872Z"
   },
   {
    "duration": 18,
    "start_time": "2024-08-17T19:01:13.909Z"
   },
   {
    "duration": 7,
    "start_time": "2024-08-17T19:01:13.929Z"
   },
   {
    "duration": 10,
    "start_time": "2024-08-17T19:01:13.937Z"
   },
   {
    "duration": 13,
    "start_time": "2024-08-17T19:01:13.949Z"
   },
   {
    "duration": 4,
    "start_time": "2024-08-17T19:01:13.965Z"
   },
   {
    "duration": 9,
    "start_time": "2024-08-17T19:01:13.970Z"
   },
   {
    "duration": 8,
    "start_time": "2024-08-17T19:01:13.981Z"
   },
   {
    "duration": 7,
    "start_time": "2024-08-17T19:01:13.991Z"
   },
   {
    "duration": 6,
    "start_time": "2024-08-17T19:01:13.999Z"
   },
   {
    "duration": 10,
    "start_time": "2024-08-17T19:01:14.006Z"
   },
   {
    "duration": 30,
    "start_time": "2024-08-17T19:01:14.018Z"
   },
   {
    "duration": 21,
    "start_time": "2024-08-17T19:01:14.050Z"
   },
   {
    "duration": 15,
    "start_time": "2024-08-17T19:01:14.073Z"
   },
   {
    "duration": 6,
    "start_time": "2024-08-17T19:01:14.090Z"
   },
   {
    "duration": 133,
    "start_time": "2024-08-17T19:01:14.098Z"
   },
   {
    "duration": 6,
    "start_time": "2024-08-17T19:01:14.232Z"
   },
   {
    "duration": 113,
    "start_time": "2024-08-17T19:01:14.240Z"
   },
   {
    "duration": 125,
    "start_time": "2024-08-17T19:02:09.158Z"
   },
   {
    "duration": 157,
    "start_time": "2024-08-17T19:02:47.094Z"
   },
   {
    "duration": 232,
    "start_time": "2024-08-17T19:03:10.897Z"
   },
   {
    "duration": 163,
    "start_time": "2024-08-17T19:03:29.258Z"
   },
   {
    "duration": 190,
    "start_time": "2024-08-17T19:06:31.114Z"
   },
   {
    "duration": 339,
    "start_time": "2024-08-17T19:08:54.909Z"
   },
   {
    "duration": 8,
    "start_time": "2024-08-17T19:09:51.761Z"
   },
   {
    "duration": 1041,
    "start_time": "2024-08-17T19:11:39.302Z"
   },
   {
    "duration": 146,
    "start_time": "2024-08-17T19:12:55.208Z"
   },
   {
    "duration": 1003,
    "start_time": "2024-08-17T19:13:56.714Z"
   },
   {
    "duration": 129,
    "start_time": "2024-08-17T19:14:12.637Z"
   },
   {
    "duration": 140,
    "start_time": "2024-08-17T19:15:15.107Z"
   },
   {
    "duration": 1030,
    "start_time": "2024-08-17T19:15:34.569Z"
   },
   {
    "duration": 110,
    "start_time": "2024-08-17T19:15:40.218Z"
   },
   {
    "duration": 169,
    "start_time": "2024-08-17T19:17:15.031Z"
   },
   {
    "duration": 125,
    "start_time": "2024-08-17T19:17:36.444Z"
   },
   {
    "duration": 68,
    "start_time": "2024-08-17T19:18:07.941Z"
   },
   {
    "duration": 308,
    "start_time": "2024-08-17T19:18:16.326Z"
   },
   {
    "duration": 93,
    "start_time": "2024-08-17T19:18:23.767Z"
   },
   {
    "duration": 126,
    "start_time": "2024-08-17T19:18:49.257Z"
   },
   {
    "duration": 137,
    "start_time": "2024-08-17T19:19:23.237Z"
   },
   {
    "duration": 228,
    "start_time": "2024-08-17T19:20:32.249Z"
   },
   {
    "duration": 154,
    "start_time": "2024-08-17T19:20:46.509Z"
   },
   {
    "duration": 164,
    "start_time": "2024-08-17T19:20:53.339Z"
   },
   {
    "duration": 1017,
    "start_time": "2024-08-17T19:25:42.792Z"
   },
   {
    "duration": 7,
    "start_time": "2024-08-17T19:25:59.995Z"
   },
   {
    "duration": 4,
    "start_time": "2024-08-17T19:26:37.223Z"
   },
   {
    "duration": 175,
    "start_time": "2024-08-17T19:27:47.349Z"
   },
   {
    "duration": 172,
    "start_time": "2024-08-17T19:28:08.158Z"
   },
   {
    "duration": 234,
    "start_time": "2024-08-17T19:28:22.469Z"
   },
   {
    "duration": 6,
    "start_time": "2024-08-17T19:29:54.749Z"
   },
   {
    "duration": 4,
    "start_time": "2024-08-17T19:30:20.448Z"
   },
   {
    "duration": 257,
    "start_time": "2024-08-17T19:30:22.244Z"
   },
   {
    "duration": 3,
    "start_time": "2024-08-17T19:30:26.166Z"
   },
   {
    "duration": 5,
    "start_time": "2024-08-17T19:30:41.021Z"
   },
   {
    "duration": 267,
    "start_time": "2024-08-17T19:30:45.409Z"
   },
   {
    "duration": 580,
    "start_time": "2024-08-17T19:30:51.402Z"
   },
   {
    "duration": 70,
    "start_time": "2024-08-17T19:30:51.984Z"
   },
   {
    "duration": 12,
    "start_time": "2024-08-17T19:30:52.055Z"
   },
   {
    "duration": 11,
    "start_time": "2024-08-17T19:30:52.069Z"
   },
   {
    "duration": 8,
    "start_time": "2024-08-17T19:30:52.082Z"
   },
   {
    "duration": 11,
    "start_time": "2024-08-17T19:30:52.092Z"
   },
   {
    "duration": 6,
    "start_time": "2024-08-17T19:30:52.104Z"
   },
   {
    "duration": 40,
    "start_time": "2024-08-17T19:30:52.111Z"
   },
   {
    "duration": 15,
    "start_time": "2024-08-17T19:30:52.153Z"
   },
   {
    "duration": 30,
    "start_time": "2024-08-17T19:30:52.171Z"
   },
   {
    "duration": 22,
    "start_time": "2024-08-17T19:30:52.202Z"
   },
   {
    "duration": 16,
    "start_time": "2024-08-17T19:30:52.225Z"
   },
   {
    "duration": 33,
    "start_time": "2024-08-17T19:30:52.242Z"
   },
   {
    "duration": 6,
    "start_time": "2024-08-17T19:30:52.276Z"
   },
   {
    "duration": 40,
    "start_time": "2024-08-17T19:30:52.284Z"
   },
   {
    "duration": 20,
    "start_time": "2024-08-17T19:30:52.326Z"
   },
   {
    "duration": 9,
    "start_time": "2024-08-17T19:30:52.348Z"
   },
   {
    "duration": 15,
    "start_time": "2024-08-17T19:30:52.359Z"
   },
   {
    "duration": 10,
    "start_time": "2024-08-17T19:30:52.375Z"
   },
   {
    "duration": 138,
    "start_time": "2024-08-17T19:30:52.387Z"
   },
   {
    "duration": 6,
    "start_time": "2024-08-17T19:30:52.527Z"
   },
   {
    "duration": 185,
    "start_time": "2024-08-17T19:30:52.535Z"
   },
   {
    "duration": 5,
    "start_time": "2024-08-17T19:30:52.722Z"
   },
   {
    "duration": 248,
    "start_time": "2024-08-17T19:30:52.728Z"
   },
   {
    "duration": 6,
    "start_time": "2024-08-17T19:37:56.463Z"
   },
   {
    "duration": 241,
    "start_time": "2024-08-17T19:38:41.809Z"
   },
   {
    "duration": 4,
    "start_time": "2024-08-17T19:39:11.610Z"
   },
   {
    "duration": 189,
    "start_time": "2024-08-17T19:39:14.908Z"
   },
   {
    "duration": 616,
    "start_time": "2024-08-17T19:39:19.591Z"
   },
   {
    "duration": 70,
    "start_time": "2024-08-17T19:39:20.209Z"
   },
   {
    "duration": 11,
    "start_time": "2024-08-17T19:39:20.281Z"
   },
   {
    "duration": 15,
    "start_time": "2024-08-17T19:39:20.294Z"
   },
   {
    "duration": 23,
    "start_time": "2024-08-17T19:39:20.310Z"
   },
   {
    "duration": 39,
    "start_time": "2024-08-17T19:39:20.334Z"
   },
   {
    "duration": 15,
    "start_time": "2024-08-17T19:39:20.374Z"
   },
   {
    "duration": 10,
    "start_time": "2024-08-17T19:39:20.390Z"
   },
   {
    "duration": 28,
    "start_time": "2024-08-17T19:39:20.402Z"
   },
   {
    "duration": 10,
    "start_time": "2024-08-17T19:39:20.433Z"
   },
   {
    "duration": 6,
    "start_time": "2024-08-17T19:39:20.444Z"
   },
   {
    "duration": 9,
    "start_time": "2024-08-17T19:39:20.451Z"
   },
   {
    "duration": 24,
    "start_time": "2024-08-17T19:39:20.461Z"
   },
   {
    "duration": 6,
    "start_time": "2024-08-17T19:39:20.486Z"
   },
   {
    "duration": 7,
    "start_time": "2024-08-17T19:39:20.493Z"
   },
   {
    "duration": 5,
    "start_time": "2024-08-17T19:39:20.502Z"
   },
   {
    "duration": 5,
    "start_time": "2024-08-17T19:39:20.508Z"
   },
   {
    "duration": 16,
    "start_time": "2024-08-17T19:39:20.514Z"
   },
   {
    "duration": 8,
    "start_time": "2024-08-17T19:39:20.548Z"
   },
   {
    "duration": 152,
    "start_time": "2024-08-17T19:39:20.558Z"
   },
   {
    "duration": 7,
    "start_time": "2024-08-17T19:39:20.712Z"
   },
   {
    "duration": 169,
    "start_time": "2024-08-17T19:39:20.720Z"
   },
   {
    "duration": 5,
    "start_time": "2024-08-17T19:39:20.891Z"
   },
   {
    "duration": 257,
    "start_time": "2024-08-17T19:39:20.898Z"
   },
   {
    "duration": 5,
    "start_time": "2024-08-17T19:39:21.156Z"
   },
   {
    "duration": 232,
    "start_time": "2024-08-17T19:39:21.162Z"
   },
   {
    "duration": 5,
    "start_time": "2024-08-17T19:42:19.765Z"
   },
   {
    "duration": 6,
    "start_time": "2024-08-17T19:42:29.698Z"
   },
   {
    "duration": 168,
    "start_time": "2024-08-17T19:42:45.615Z"
   },
   {
    "duration": 217,
    "start_time": "2024-08-17T19:43:10.037Z"
   },
   {
    "duration": 175,
    "start_time": "2024-08-17T19:43:30.784Z"
   },
   {
    "duration": 160,
    "start_time": "2024-08-17T19:44:42.315Z"
   },
   {
    "duration": 56,
    "start_time": "2024-08-18T06:21:52.007Z"
   },
   {
    "duration": 845,
    "start_time": "2024-08-18T06:22:00.026Z"
   },
   {
    "duration": 372,
    "start_time": "2024-08-18T06:22:00.873Z"
   },
   {
    "duration": 14,
    "start_time": "2024-08-18T06:22:01.247Z"
   },
   {
    "duration": 67,
    "start_time": "2024-08-18T06:22:01.263Z"
   },
   {
    "duration": 25,
    "start_time": "2024-08-18T06:22:01.332Z"
   },
   {
    "duration": 38,
    "start_time": "2024-08-18T06:22:01.359Z"
   },
   {
    "duration": 30,
    "start_time": "2024-08-18T06:22:01.398Z"
   },
   {
    "duration": 15,
    "start_time": "2024-08-18T06:22:01.429Z"
   },
   {
    "duration": 9,
    "start_time": "2024-08-18T06:22:01.446Z"
   },
   {
    "duration": 6,
    "start_time": "2024-08-18T06:22:01.458Z"
   },
   {
    "duration": 18,
    "start_time": "2024-08-18T06:22:01.465Z"
   },
   {
    "duration": 27,
    "start_time": "2024-08-18T06:22:01.485Z"
   },
   {
    "duration": 31,
    "start_time": "2024-08-18T06:22:01.513Z"
   },
   {
    "duration": 51,
    "start_time": "2024-08-18T06:22:01.546Z"
   },
   {
    "duration": 45,
    "start_time": "2024-08-18T06:22:01.599Z"
   },
   {
    "duration": 19,
    "start_time": "2024-08-18T06:22:01.646Z"
   },
   {
    "duration": 61,
    "start_time": "2024-08-18T06:22:01.667Z"
   },
   {
    "duration": 21,
    "start_time": "2024-08-18T06:22:01.729Z"
   },
   {
    "duration": 46,
    "start_time": "2024-08-18T06:22:01.752Z"
   },
   {
    "duration": 186,
    "start_time": "2024-08-18T06:22:01.800Z"
   },
   {
    "duration": 6,
    "start_time": "2024-08-18T06:22:01.988Z"
   },
   {
    "duration": 187,
    "start_time": "2024-08-18T06:22:01.995Z"
   },
   {
    "duration": 7,
    "start_time": "2024-08-18T06:22:02.183Z"
   },
   {
    "duration": 315,
    "start_time": "2024-08-18T06:22:02.191Z"
   },
   {
    "duration": 7,
    "start_time": "2024-08-18T06:22:02.508Z"
   },
   {
    "duration": 258,
    "start_time": "2024-08-18T06:22:02.517Z"
   },
   {
    "duration": 30,
    "start_time": "2024-08-18T06:22:02.777Z"
   },
   {
    "duration": 25,
    "start_time": "2024-08-18T06:25:05.470Z"
   },
   {
    "duration": 23,
    "start_time": "2024-08-18T06:25:11.734Z"
   },
   {
    "duration": 22,
    "start_time": "2024-08-18T06:25:55.482Z"
   },
   {
    "duration": 18,
    "start_time": "2024-08-18T06:26:48.910Z"
   },
   {
    "duration": 16,
    "start_time": "2024-08-18T06:26:53.181Z"
   },
   {
    "duration": 26,
    "start_time": "2024-08-18T06:27:13.624Z"
   },
   {
    "duration": 97,
    "start_time": "2024-08-18T06:37:48.741Z"
   },
   {
    "duration": 49,
    "start_time": "2024-08-18T06:38:32.942Z"
   },
   {
    "duration": 9,
    "start_time": "2024-08-18T06:38:46.848Z"
   },
   {
    "duration": 627,
    "start_time": "2024-08-18T06:38:52.145Z"
   },
   {
    "duration": 73,
    "start_time": "2024-08-18T06:38:52.774Z"
   },
   {
    "duration": 13,
    "start_time": "2024-08-18T06:38:52.848Z"
   },
   {
    "duration": 12,
    "start_time": "2024-08-18T06:38:52.863Z"
   },
   {
    "duration": 9,
    "start_time": "2024-08-18T06:38:52.877Z"
   },
   {
    "duration": 12,
    "start_time": "2024-08-18T06:38:52.888Z"
   },
   {
    "duration": 8,
    "start_time": "2024-08-18T06:38:52.901Z"
   },
   {
    "duration": 12,
    "start_time": "2024-08-18T06:38:52.910Z"
   },
   {
    "duration": 9,
    "start_time": "2024-08-18T06:38:52.924Z"
   },
   {
    "duration": 5,
    "start_time": "2024-08-18T06:38:52.935Z"
   },
   {
    "duration": 6,
    "start_time": "2024-08-18T06:38:52.941Z"
   },
   {
    "duration": 6,
    "start_time": "2024-08-18T06:38:52.984Z"
   },
   {
    "duration": 7,
    "start_time": "2024-08-18T06:38:52.992Z"
   },
   {
    "duration": 6,
    "start_time": "2024-08-18T06:38:53.002Z"
   },
   {
    "duration": 8,
    "start_time": "2024-08-18T06:38:53.009Z"
   },
   {
    "duration": 6,
    "start_time": "2024-08-18T06:38:53.018Z"
   },
   {
    "duration": 14,
    "start_time": "2024-08-18T06:38:53.025Z"
   },
   {
    "duration": 6,
    "start_time": "2024-08-18T06:38:53.041Z"
   },
   {
    "duration": 43,
    "start_time": "2024-08-18T06:38:53.049Z"
   },
   {
    "duration": 147,
    "start_time": "2024-08-18T06:38:53.094Z"
   },
   {
    "duration": 6,
    "start_time": "2024-08-18T06:38:53.243Z"
   },
   {
    "duration": 220,
    "start_time": "2024-08-18T06:38:53.251Z"
   },
   {
    "duration": 15,
    "start_time": "2024-08-18T06:38:53.472Z"
   },
   {
    "duration": 269,
    "start_time": "2024-08-18T06:38:53.488Z"
   },
   {
    "duration": 6,
    "start_time": "2024-08-18T06:38:53.758Z"
   },
   {
    "duration": 247,
    "start_time": "2024-08-18T06:38:53.765Z"
   },
   {
    "duration": 27,
    "start_time": "2024-08-18T06:38:54.013Z"
   },
   {
    "duration": 95,
    "start_time": "2024-08-18T06:38:54.042Z"
   },
   {
    "duration": 59,
    "start_time": "2024-08-18T06:40:10.697Z"
   },
   {
    "duration": 46,
    "start_time": "2024-08-18T06:41:53.868Z"
   },
   {
    "duration": 43,
    "start_time": "2024-08-18T06:42:07.720Z"
   },
   {
    "duration": 19,
    "start_time": "2024-08-18T06:50:54.823Z"
   },
   {
    "duration": 15,
    "start_time": "2024-08-18T06:52:18.650Z"
   },
   {
    "duration": 259,
    "start_time": "2024-08-18T07:02:24.673Z"
   },
   {
    "duration": 288,
    "start_time": "2024-08-18T07:11:16.148Z"
   },
   {
    "duration": 280,
    "start_time": "2024-08-18T07:11:57.266Z"
   },
   {
    "duration": 535,
    "start_time": "2024-08-18T07:13:24.822Z"
   },
   {
    "duration": 685,
    "start_time": "2024-08-18T07:13:42.799Z"
   },
   {
    "duration": 203,
    "start_time": "2024-08-18T07:16:11.972Z"
   },
   {
    "duration": 509,
    "start_time": "2024-08-18T07:16:38.572Z"
   },
   {
    "duration": 560,
    "start_time": "2024-08-18T07:18:06.511Z"
   },
   {
    "duration": 517,
    "start_time": "2024-08-18T07:18:54.640Z"
   },
   {
    "duration": 59,
    "start_time": "2024-08-18T10:43:09.759Z"
   },
   {
    "duration": 55,
    "start_time": "2024-08-18T10:43:22.925Z"
   },
   {
    "duration": 52,
    "start_time": "2024-08-18T10:44:04.211Z"
   },
   {
    "duration": 52,
    "start_time": "2024-08-18T10:45:34.426Z"
   },
   {
    "duration": 21,
    "start_time": "2024-08-18T10:49:50.021Z"
   },
   {
    "duration": 38,
    "start_time": "2024-08-18T10:50:04.573Z"
   },
   {
    "duration": 33,
    "start_time": "2024-08-18T10:52:34.854Z"
   },
   {
    "duration": 30,
    "start_time": "2024-08-18T10:53:15.143Z"
   },
   {
    "duration": 38,
    "start_time": "2024-08-18T11:04:05.092Z"
   },
   {
    "duration": 44,
    "start_time": "2024-08-18T11:05:19.426Z"
   },
   {
    "duration": 673,
    "start_time": "2024-08-18T11:05:29.368Z"
   },
   {
    "duration": 76,
    "start_time": "2024-08-18T11:05:30.043Z"
   },
   {
    "duration": 12,
    "start_time": "2024-08-18T11:05:30.121Z"
   },
   {
    "duration": 41,
    "start_time": "2024-08-18T11:05:30.136Z"
   },
   {
    "duration": 88,
    "start_time": "2024-08-18T11:05:30.178Z"
   },
   {
    "duration": 118,
    "start_time": "2024-08-18T11:05:30.268Z"
   },
   {
    "duration": 182,
    "start_time": "2024-08-18T11:05:30.387Z"
   },
   {
    "duration": 164,
    "start_time": "2024-08-18T11:05:30.570Z"
   },
   {
    "duration": 46,
    "start_time": "2024-08-18T11:05:30.736Z"
   },
   {
    "duration": 62,
    "start_time": "2024-08-18T11:05:30.786Z"
   },
   {
    "duration": 56,
    "start_time": "2024-08-18T11:05:30.850Z"
   },
   {
    "duration": 52,
    "start_time": "2024-08-18T11:05:30.907Z"
   },
   {
    "duration": 54,
    "start_time": "2024-08-18T11:05:30.961Z"
   },
   {
    "duration": 47,
    "start_time": "2024-08-18T11:05:31.017Z"
   },
   {
    "duration": 73,
    "start_time": "2024-08-18T11:05:31.066Z"
   },
   {
    "duration": 37,
    "start_time": "2024-08-18T11:05:31.140Z"
   },
   {
    "duration": 51,
    "start_time": "2024-08-18T11:05:31.178Z"
   },
   {
    "duration": 61,
    "start_time": "2024-08-18T11:05:31.231Z"
   },
   {
    "duration": 51,
    "start_time": "2024-08-18T11:05:31.294Z"
   },
   {
    "duration": 185,
    "start_time": "2024-08-18T11:05:31.347Z"
   },
   {
    "duration": 6,
    "start_time": "2024-08-18T11:05:31.534Z"
   },
   {
    "duration": 315,
    "start_time": "2024-08-18T11:05:31.541Z"
   },
   {
    "duration": 6,
    "start_time": "2024-08-18T11:05:31.857Z"
   },
   {
    "duration": 276,
    "start_time": "2024-08-18T11:05:31.864Z"
   },
   {
    "duration": 7,
    "start_time": "2024-08-18T11:05:32.142Z"
   },
   {
    "duration": 271,
    "start_time": "2024-08-18T11:05:32.150Z"
   },
   {
    "duration": 26,
    "start_time": "2024-08-18T11:05:32.423Z"
   },
   {
    "duration": 33,
    "start_time": "2024-08-18T11:05:32.452Z"
   },
   {
    "duration": 17,
    "start_time": "2024-08-18T11:05:32.486Z"
   },
   {
    "duration": 570,
    "start_time": "2024-08-18T11:05:32.504Z"
   },
   {
    "duration": 429,
    "start_time": "2024-08-18T11:05:33.083Z"
   },
   {
    "duration": 124,
    "start_time": "2024-08-18T11:05:33.514Z"
   },
   {
    "duration": 50,
    "start_time": "2024-08-18T11:05:51.433Z"
   },
   {
    "duration": 48,
    "start_time": "2024-08-18T11:07:06.952Z"
   },
   {
    "duration": 34,
    "start_time": "2024-08-18T11:07:24.796Z"
   },
   {
    "duration": 52,
    "start_time": "2024-08-18T11:07:37.074Z"
   },
   {
    "duration": 45,
    "start_time": "2024-08-18T11:08:08.160Z"
   },
   {
    "duration": 51,
    "start_time": "2024-08-18T11:08:16.628Z"
   },
   {
    "duration": 21,
    "start_time": "2024-08-18T11:14:15.941Z"
   },
   {
    "duration": 24,
    "start_time": "2024-08-18T11:16:12.541Z"
   },
   {
    "duration": 13,
    "start_time": "2024-08-18T11:17:02.232Z"
   },
   {
    "duration": 681,
    "start_time": "2024-08-18T11:17:34.774Z"
   },
   {
    "duration": 687,
    "start_time": "2024-08-18T11:17:59.613Z"
   },
   {
    "duration": 735,
    "start_time": "2024-08-18T11:18:50.829Z"
   },
   {
    "duration": 49,
    "start_time": "2024-08-18T11:22:41.115Z"
   },
   {
    "duration": 17,
    "start_time": "2024-08-18T11:23:06.232Z"
   },
   {
    "duration": 5,
    "start_time": "2024-08-18T11:23:40.507Z"
   },
   {
    "duration": 4,
    "start_time": "2024-08-18T11:23:48.627Z"
   },
   {
    "duration": 4,
    "start_time": "2024-08-18T11:24:15.916Z"
   },
   {
    "duration": 680,
    "start_time": "2024-08-18T11:24:21.588Z"
   },
   {
    "duration": 75,
    "start_time": "2024-08-18T11:24:22.269Z"
   },
   {
    "duration": 13,
    "start_time": "2024-08-18T11:24:22.345Z"
   },
   {
    "duration": 11,
    "start_time": "2024-08-18T11:24:22.360Z"
   },
   {
    "duration": 9,
    "start_time": "2024-08-18T11:24:22.373Z"
   },
   {
    "duration": 12,
    "start_time": "2024-08-18T11:24:22.386Z"
   },
   {
    "duration": 7,
    "start_time": "2024-08-18T11:24:22.400Z"
   },
   {
    "duration": 10,
    "start_time": "2024-08-18T11:24:22.408Z"
   },
   {
    "duration": 14,
    "start_time": "2024-08-18T11:24:22.420Z"
   },
   {
    "duration": 8,
    "start_time": "2024-08-18T11:24:22.438Z"
   },
   {
    "duration": 41,
    "start_time": "2024-08-18T11:24:22.448Z"
   },
   {
    "duration": 22,
    "start_time": "2024-08-18T11:24:22.491Z"
   },
   {
    "duration": 15,
    "start_time": "2024-08-18T11:24:22.514Z"
   },
   {
    "duration": 8,
    "start_time": "2024-08-18T11:24:22.530Z"
   },
   {
    "duration": 13,
    "start_time": "2024-08-18T11:24:22.540Z"
   },
   {
    "duration": 8,
    "start_time": "2024-08-18T11:24:22.556Z"
   },
   {
    "duration": 24,
    "start_time": "2024-08-18T11:24:22.567Z"
   },
   {
    "duration": 8,
    "start_time": "2024-08-18T11:24:22.593Z"
   },
   {
    "duration": 14,
    "start_time": "2024-08-18T11:24:22.603Z"
   },
   {
    "duration": 174,
    "start_time": "2024-08-18T11:24:22.619Z"
   },
   {
    "duration": 7,
    "start_time": "2024-08-18T11:24:22.795Z"
   },
   {
    "duration": 269,
    "start_time": "2024-08-18T11:24:22.804Z"
   },
   {
    "duration": 13,
    "start_time": "2024-08-18T11:24:23.075Z"
   },
   {
    "duration": 278,
    "start_time": "2024-08-18T11:24:23.089Z"
   },
   {
    "duration": 16,
    "start_time": "2024-08-18T11:24:23.369Z"
   },
   {
    "duration": 261,
    "start_time": "2024-08-18T11:24:23.387Z"
   },
   {
    "duration": 37,
    "start_time": "2024-08-18T11:24:23.650Z"
   },
   {
    "duration": 30,
    "start_time": "2024-08-18T11:24:23.692Z"
   },
   {
    "duration": 62,
    "start_time": "2024-08-18T11:24:23.724Z"
   },
   {
    "duration": 553,
    "start_time": "2024-08-18T11:24:23.788Z"
   },
   {
    "duration": 423,
    "start_time": "2024-08-18T11:24:24.343Z"
   },
   {
    "duration": 60,
    "start_time": "2024-08-18T11:24:24.768Z"
   },
   {
    "duration": 11,
    "start_time": "2024-08-18T11:24:24.830Z"
   },
   {
    "duration": 4,
    "start_time": "2024-08-18T11:24:24.843Z"
   },
   {
    "duration": 5,
    "start_time": "2024-08-18T11:24:25.440Z"
   },
   {
    "duration": 4,
    "start_time": "2024-08-18T11:24:47.816Z"
   },
   {
    "duration": 5,
    "start_time": "2024-08-18T11:24:50.805Z"
   },
   {
    "duration": 11,
    "start_time": "2024-08-18T11:26:18.144Z"
   },
   {
    "duration": 13,
    "start_time": "2024-08-18T11:29:17.080Z"
   },
   {
    "duration": 13,
    "start_time": "2024-08-18T11:30:16.387Z"
   },
   {
    "duration": 7,
    "start_time": "2024-08-18T11:34:32.054Z"
   },
   {
    "duration": 78,
    "start_time": "2024-08-18T11:35:34.658Z"
   },
   {
    "duration": 690,
    "start_time": "2024-08-18T11:35:46.304Z"
   },
   {
    "duration": 76,
    "start_time": "2024-08-18T11:35:46.996Z"
   },
   {
    "duration": 12,
    "start_time": "2024-08-18T11:35:47.074Z"
   },
   {
    "duration": 41,
    "start_time": "2024-08-18T11:35:47.089Z"
   },
   {
    "duration": 14,
    "start_time": "2024-08-18T11:35:47.132Z"
   },
   {
    "duration": 12,
    "start_time": "2024-08-18T11:35:47.148Z"
   },
   {
    "duration": 7,
    "start_time": "2024-08-18T11:35:47.162Z"
   },
   {
    "duration": 12,
    "start_time": "2024-08-18T11:35:47.171Z"
   },
   {
    "duration": 19,
    "start_time": "2024-08-18T11:35:47.184Z"
   },
   {
    "duration": 10,
    "start_time": "2024-08-18T11:35:47.206Z"
   },
   {
    "duration": 7,
    "start_time": "2024-08-18T11:35:47.218Z"
   },
   {
    "duration": 6,
    "start_time": "2024-08-18T11:35:47.227Z"
   },
   {
    "duration": 8,
    "start_time": "2024-08-18T11:35:47.234Z"
   },
   {
    "duration": 6,
    "start_time": "2024-08-18T11:35:47.243Z"
   },
   {
    "duration": 37,
    "start_time": "2024-08-18T11:35:47.250Z"
   },
   {
    "duration": 8,
    "start_time": "2024-08-18T11:35:47.289Z"
   },
   {
    "duration": 6,
    "start_time": "2024-08-18T11:35:47.298Z"
   },
   {
    "duration": 7,
    "start_time": "2024-08-18T11:35:47.305Z"
   },
   {
    "duration": 16,
    "start_time": "2024-08-18T11:35:47.313Z"
   },
   {
    "duration": 178,
    "start_time": "2024-08-18T11:35:47.331Z"
   },
   {
    "duration": 13,
    "start_time": "2024-08-18T11:35:47.512Z"
   },
   {
    "duration": 223,
    "start_time": "2024-08-18T11:35:47.529Z"
   },
   {
    "duration": 87,
    "start_time": "2024-08-18T11:35:47.753Z"
   },
   {
    "duration": 0,
    "start_time": "2024-08-18T11:35:47.842Z"
   },
   {
    "duration": 0,
    "start_time": "2024-08-18T11:35:47.843Z"
   },
   {
    "duration": 0,
    "start_time": "2024-08-18T11:35:47.845Z"
   },
   {
    "duration": 0,
    "start_time": "2024-08-18T11:35:47.846Z"
   },
   {
    "duration": 0,
    "start_time": "2024-08-18T11:35:47.847Z"
   },
   {
    "duration": 0,
    "start_time": "2024-08-18T11:35:47.848Z"
   },
   {
    "duration": 0,
    "start_time": "2024-08-18T11:35:47.849Z"
   },
   {
    "duration": 0,
    "start_time": "2024-08-18T11:35:47.851Z"
   },
   {
    "duration": 0,
    "start_time": "2024-08-18T11:35:47.852Z"
   },
   {
    "duration": 0,
    "start_time": "2024-08-18T11:35:47.853Z"
   },
   {
    "duration": 5,
    "start_time": "2024-08-18T11:36:33.231Z"
   },
   {
    "duration": 6,
    "start_time": "2024-08-18T11:39:43.509Z"
   },
   {
    "duration": 6,
    "start_time": "2024-08-18T11:40:07.847Z"
   },
   {
    "duration": 5,
    "start_time": "2024-08-18T11:40:22.003Z"
   },
   {
    "duration": 192,
    "start_time": "2024-08-18T11:40:32.536Z"
   },
   {
    "duration": 5,
    "start_time": "2024-08-18T11:41:35.006Z"
   },
   {
    "duration": 30,
    "start_time": "2024-08-18T11:42:25.919Z"
   },
   {
    "duration": 647,
    "start_time": "2024-08-18T11:42:35.237Z"
   },
   {
    "duration": 76,
    "start_time": "2024-08-18T11:42:35.886Z"
   },
   {
    "duration": 13,
    "start_time": "2024-08-18T11:42:35.964Z"
   },
   {
    "duration": 18,
    "start_time": "2024-08-18T11:42:35.979Z"
   },
   {
    "duration": 17,
    "start_time": "2024-08-18T11:42:36.000Z"
   },
   {
    "duration": 17,
    "start_time": "2024-08-18T11:42:36.019Z"
   },
   {
    "duration": 9,
    "start_time": "2024-08-18T11:42:36.038Z"
   },
   {
    "duration": 12,
    "start_time": "2024-08-18T11:42:36.049Z"
   },
   {
    "duration": 8,
    "start_time": "2024-08-18T11:42:36.063Z"
   },
   {
    "duration": 5,
    "start_time": "2024-08-18T11:42:36.085Z"
   },
   {
    "duration": 8,
    "start_time": "2024-08-18T11:42:36.092Z"
   },
   {
    "duration": 9,
    "start_time": "2024-08-18T11:42:36.102Z"
   },
   {
    "duration": 14,
    "start_time": "2024-08-18T11:42:36.113Z"
   },
   {
    "duration": 6,
    "start_time": "2024-08-18T11:42:36.130Z"
   },
   {
    "duration": 17,
    "start_time": "2024-08-18T11:42:36.137Z"
   },
   {
    "duration": 14,
    "start_time": "2024-08-18T11:42:36.155Z"
   },
   {
    "duration": 11,
    "start_time": "2024-08-18T11:42:36.185Z"
   },
   {
    "duration": 17,
    "start_time": "2024-08-18T11:42:36.198Z"
   },
   {
    "duration": 13,
    "start_time": "2024-08-18T11:42:36.217Z"
   },
   {
    "duration": 157,
    "start_time": "2024-08-18T11:42:36.232Z"
   },
   {
    "duration": 6,
    "start_time": "2024-08-18T11:42:36.390Z"
   },
   {
    "duration": 196,
    "start_time": "2024-08-18T11:42:36.398Z"
   },
   {
    "duration": 6,
    "start_time": "2024-08-18T11:42:36.597Z"
   },
   {
    "duration": 292,
    "start_time": "2024-08-18T11:42:36.605Z"
   },
   {
    "duration": 6,
    "start_time": "2024-08-18T11:42:36.899Z"
   },
   {
    "duration": 258,
    "start_time": "2024-08-18T11:42:36.907Z"
   },
   {
    "duration": 36,
    "start_time": "2024-08-18T11:42:37.166Z"
   },
   {
    "duration": 18,
    "start_time": "2024-08-18T11:42:37.204Z"
   },
   {
    "duration": 34,
    "start_time": "2024-08-18T11:42:37.223Z"
   },
   {
    "duration": 555,
    "start_time": "2024-08-18T11:42:37.258Z"
   },
   {
    "duration": 421,
    "start_time": "2024-08-18T11:42:37.815Z"
   },
   {
    "duration": 79,
    "start_time": "2024-08-18T11:42:38.238Z"
   },
   {
    "duration": 12,
    "start_time": "2024-08-18T11:42:38.318Z"
   },
   {
    "duration": 391,
    "start_time": "2024-08-18T11:43:07.074Z"
   },
   {
    "duration": 6,
    "start_time": "2024-08-18T11:43:36.721Z"
   },
   {
    "duration": 31,
    "start_time": "2024-08-18T11:43:49.653Z"
   },
   {
    "duration": 6,
    "start_time": "2024-08-18T12:07:47.604Z"
   },
   {
    "duration": 77,
    "start_time": "2024-08-18T12:25:42.434Z"
   },
   {
    "duration": 1151,
    "start_time": "2024-08-18T12:28:52.016Z"
   },
   {
    "duration": 74,
    "start_time": "2024-08-18T12:28:53.169Z"
   },
   {
    "duration": 14,
    "start_time": "2024-08-18T12:28:53.244Z"
   },
   {
    "duration": 13,
    "start_time": "2024-08-18T12:28:53.260Z"
   },
   {
    "duration": 10,
    "start_time": "2024-08-18T12:28:53.275Z"
   },
   {
    "duration": 10,
    "start_time": "2024-08-18T12:28:53.287Z"
   },
   {
    "duration": 7,
    "start_time": "2024-08-18T12:28:53.299Z"
   },
   {
    "duration": 16,
    "start_time": "2024-08-18T12:28:53.307Z"
   },
   {
    "duration": 7,
    "start_time": "2024-08-18T12:28:53.324Z"
   },
   {
    "duration": 13,
    "start_time": "2024-08-18T12:28:53.333Z"
   },
   {
    "duration": 6,
    "start_time": "2024-08-18T12:28:53.348Z"
   },
   {
    "duration": 8,
    "start_time": "2024-08-18T12:28:53.355Z"
   },
   {
    "duration": 29,
    "start_time": "2024-08-18T12:28:53.365Z"
   },
   {
    "duration": 6,
    "start_time": "2024-08-18T12:28:53.395Z"
   },
   {
    "duration": 12,
    "start_time": "2024-08-18T12:28:53.403Z"
   },
   {
    "duration": 6,
    "start_time": "2024-08-18T12:28:53.416Z"
   },
   {
    "duration": 5,
    "start_time": "2024-08-18T12:28:53.424Z"
   },
   {
    "duration": 7,
    "start_time": "2024-08-18T12:28:53.430Z"
   },
   {
    "duration": 8,
    "start_time": "2024-08-18T12:28:53.439Z"
   },
   {
    "duration": 187,
    "start_time": "2024-08-18T12:28:53.449Z"
   },
   {
    "duration": 5,
    "start_time": "2024-08-18T12:28:53.638Z"
   },
   {
    "duration": 187,
    "start_time": "2024-08-18T12:28:53.645Z"
   },
   {
    "duration": 5,
    "start_time": "2024-08-18T12:28:53.833Z"
   },
   {
    "duration": 346,
    "start_time": "2024-08-18T12:28:53.840Z"
   },
   {
    "duration": 6,
    "start_time": "2024-08-18T12:28:54.187Z"
   },
   {
    "duration": 199,
    "start_time": "2024-08-18T12:28:54.194Z"
   },
   {
    "duration": 26,
    "start_time": "2024-08-18T12:28:54.394Z"
   },
   {
    "duration": 16,
    "start_time": "2024-08-18T12:28:54.423Z"
   },
   {
    "duration": 13,
    "start_time": "2024-08-18T12:28:54.441Z"
   },
   {
    "duration": 631,
    "start_time": "2024-08-18T12:28:54.455Z"
   },
   {
    "duration": 501,
    "start_time": "2024-08-18T12:28:55.088Z"
   },
   {
    "duration": 41,
    "start_time": "2024-08-18T12:28:55.591Z"
   },
   {
    "duration": 12,
    "start_time": "2024-08-18T12:28:55.634Z"
   },
   {
    "duration": 4,
    "start_time": "2024-08-18T12:28:55.648Z"
   },
   {
    "duration": 33,
    "start_time": "2024-08-18T12:28:55.654Z"
   },
   {
    "duration": 6,
    "start_time": "2024-08-18T12:33:18.561Z"
   },
   {
    "duration": 6,
    "start_time": "2024-08-18T12:33:36.704Z"
   },
   {
    "duration": 7,
    "start_time": "2024-08-18T12:34:43.065Z"
   },
   {
    "duration": 7,
    "start_time": "2024-08-18T12:47:28.097Z"
   },
   {
    "duration": 53,
    "start_time": "2024-08-18T15:39:37.868Z"
   },
   {
    "duration": 1332,
    "start_time": "2024-08-18T15:39:49.203Z"
   },
   {
    "duration": 351,
    "start_time": "2024-08-18T15:39:50.537Z"
   },
   {
    "duration": 13,
    "start_time": "2024-08-18T15:39:50.889Z"
   },
   {
    "duration": 11,
    "start_time": "2024-08-18T15:39:50.904Z"
   },
   {
    "duration": 24,
    "start_time": "2024-08-18T15:39:50.917Z"
   },
   {
    "duration": 10,
    "start_time": "2024-08-18T15:39:50.943Z"
   },
   {
    "duration": 8,
    "start_time": "2024-08-18T15:39:50.955Z"
   },
   {
    "duration": 12,
    "start_time": "2024-08-18T15:39:50.965Z"
   },
   {
    "duration": 7,
    "start_time": "2024-08-18T15:39:50.979Z"
   },
   {
    "duration": 5,
    "start_time": "2024-08-18T15:39:50.989Z"
   },
   {
    "duration": 11,
    "start_time": "2024-08-18T15:39:50.995Z"
   },
   {
    "duration": 24,
    "start_time": "2024-08-18T15:39:51.008Z"
   },
   {
    "duration": 21,
    "start_time": "2024-08-18T15:39:51.034Z"
   },
   {
    "duration": 17,
    "start_time": "2024-08-18T15:39:51.058Z"
   },
   {
    "duration": 30,
    "start_time": "2024-08-18T15:39:51.077Z"
   },
   {
    "duration": 13,
    "start_time": "2024-08-18T15:39:51.108Z"
   },
   {
    "duration": 10,
    "start_time": "2024-08-18T15:39:51.122Z"
   },
   {
    "duration": 19,
    "start_time": "2024-08-18T15:39:51.133Z"
   },
   {
    "duration": 12,
    "start_time": "2024-08-18T15:39:51.153Z"
   },
   {
    "duration": 147,
    "start_time": "2024-08-18T15:39:51.167Z"
   },
   {
    "duration": 5,
    "start_time": "2024-08-18T15:39:51.316Z"
   },
   {
    "duration": 186,
    "start_time": "2024-08-18T15:39:51.323Z"
   },
   {
    "duration": 6,
    "start_time": "2024-08-18T15:39:51.510Z"
   },
   {
    "duration": 317,
    "start_time": "2024-08-18T15:39:51.517Z"
   },
   {
    "duration": 18,
    "start_time": "2024-08-18T15:39:51.835Z"
   },
   {
    "duration": 203,
    "start_time": "2024-08-18T15:39:51.855Z"
   },
   {
    "duration": 26,
    "start_time": "2024-08-18T15:39:52.060Z"
   },
   {
    "duration": 14,
    "start_time": "2024-08-18T15:39:52.089Z"
   },
   {
    "duration": 56,
    "start_time": "2024-08-18T15:39:52.105Z"
   },
   {
    "duration": 578,
    "start_time": "2024-08-18T15:39:52.163Z"
   },
   {
    "duration": 501,
    "start_time": "2024-08-18T15:39:52.742Z"
   },
   {
    "duration": 41,
    "start_time": "2024-08-18T15:39:53.245Z"
   },
   {
    "duration": 12,
    "start_time": "2024-08-18T15:39:53.288Z"
   },
   {
    "duration": 51,
    "start_time": "2024-08-18T15:39:53.301Z"
   },
   {
    "duration": 14,
    "start_time": "2024-08-18T15:39:53.354Z"
   },
   {
    "duration": 14,
    "start_time": "2024-08-18T15:39:53.370Z"
   },
   {
    "duration": 16,
    "start_time": "2024-08-18T15:39:53.396Z"
   },
   {
    "duration": 55,
    "start_time": "2024-08-18T18:38:27.852Z"
   },
   {
    "duration": 1360,
    "start_time": "2024-08-18T18:38:47.114Z"
   },
   {
    "duration": 377,
    "start_time": "2024-08-18T18:38:48.476Z"
   },
   {
    "duration": 14,
    "start_time": "2024-08-18T18:38:48.855Z"
   },
   {
    "duration": 12,
    "start_time": "2024-08-18T18:38:48.871Z"
   },
   {
    "duration": 46,
    "start_time": "2024-08-18T18:38:48.885Z"
   },
   {
    "duration": 17,
    "start_time": "2024-08-18T18:38:48.932Z"
   },
   {
    "duration": 9,
    "start_time": "2024-08-18T18:38:48.951Z"
   },
   {
    "duration": 11,
    "start_time": "2024-08-18T18:38:48.962Z"
   },
   {
    "duration": 9,
    "start_time": "2024-08-18T18:38:48.974Z"
   },
   {
    "duration": 14,
    "start_time": "2024-08-18T18:38:48.986Z"
   },
   {
    "duration": 20,
    "start_time": "2024-08-18T18:38:49.002Z"
   },
   {
    "duration": 21,
    "start_time": "2024-08-18T18:38:49.024Z"
   },
   {
    "duration": 34,
    "start_time": "2024-08-18T18:38:49.047Z"
   },
   {
    "duration": 42,
    "start_time": "2024-08-18T18:38:49.082Z"
   },
   {
    "duration": 52,
    "start_time": "2024-08-18T18:38:49.125Z"
   },
   {
    "duration": 33,
    "start_time": "2024-08-18T18:38:49.179Z"
   },
   {
    "duration": 19,
    "start_time": "2024-08-18T18:38:49.214Z"
   },
   {
    "duration": 8,
    "start_time": "2024-08-18T18:38:49.235Z"
   },
   {
    "duration": 16,
    "start_time": "2024-08-18T18:38:49.244Z"
   },
   {
    "duration": 299,
    "start_time": "2024-08-18T18:38:49.261Z"
   },
   {
    "duration": 5,
    "start_time": "2024-08-18T18:38:49.561Z"
   },
   {
    "duration": 197,
    "start_time": "2024-08-18T18:38:49.567Z"
   },
   {
    "duration": 5,
    "start_time": "2024-08-18T18:38:49.766Z"
   },
   {
    "duration": 400,
    "start_time": "2024-08-18T18:38:49.772Z"
   },
   {
    "duration": 6,
    "start_time": "2024-08-18T18:38:50.174Z"
   },
   {
    "duration": 244,
    "start_time": "2024-08-18T18:38:50.181Z"
   },
   {
    "duration": 24,
    "start_time": "2024-08-18T18:38:50.427Z"
   },
   {
    "duration": 15,
    "start_time": "2024-08-18T18:38:50.454Z"
   },
   {
    "duration": 46,
    "start_time": "2024-08-18T18:38:50.471Z"
   },
   {
    "duration": 584,
    "start_time": "2024-08-18T18:38:50.519Z"
   },
   {
    "duration": 522,
    "start_time": "2024-08-18T18:38:51.106Z"
   },
   {
    "duration": 40,
    "start_time": "2024-08-18T18:38:51.630Z"
   },
   {
    "duration": 35,
    "start_time": "2024-08-18T18:38:51.672Z"
   },
   {
    "duration": 15,
    "start_time": "2024-08-18T18:38:51.708Z"
   },
   {
    "duration": 6,
    "start_time": "2024-08-18T18:38:51.725Z"
   },
   {
    "duration": 5,
    "start_time": "2024-08-18T18:38:51.732Z"
   },
   {
    "duration": 27,
    "start_time": "2024-08-18T18:38:51.739Z"
   },
   {
    "duration": 264,
    "start_time": "2024-08-18T18:38:52.132Z"
   },
   {
    "duration": 49,
    "start_time": "2024-08-18T20:07:54.918Z"
   },
   {
    "duration": 1123,
    "start_time": "2024-08-18T20:08:00.104Z"
   },
   {
    "duration": 71,
    "start_time": "2024-08-18T20:08:01.230Z"
   },
   {
    "duration": 14,
    "start_time": "2024-08-18T20:08:01.303Z"
   },
   {
    "duration": 27,
    "start_time": "2024-08-18T20:08:01.319Z"
   },
   {
    "duration": 16,
    "start_time": "2024-08-18T20:08:01.348Z"
   },
   {
    "duration": 15,
    "start_time": "2024-08-18T20:08:01.366Z"
   },
   {
    "duration": 19,
    "start_time": "2024-08-18T20:08:01.383Z"
   },
   {
    "duration": 38,
    "start_time": "2024-08-18T20:08:01.404Z"
   },
   {
    "duration": 57,
    "start_time": "2024-08-18T20:08:01.443Z"
   },
   {
    "duration": 65,
    "start_time": "2024-08-18T20:08:01.502Z"
   },
   {
    "duration": 34,
    "start_time": "2024-08-18T20:08:01.569Z"
   },
   {
    "duration": 14,
    "start_time": "2024-08-18T20:08:01.605Z"
   },
   {
    "duration": 14,
    "start_time": "2024-08-18T20:08:01.621Z"
   },
   {
    "duration": 13,
    "start_time": "2024-08-18T20:08:01.637Z"
   },
   {
    "duration": 16,
    "start_time": "2024-08-18T20:08:01.652Z"
   },
   {
    "duration": 13,
    "start_time": "2024-08-18T20:08:01.670Z"
   },
   {
    "duration": 19,
    "start_time": "2024-08-18T20:08:01.685Z"
   },
   {
    "duration": 23,
    "start_time": "2024-08-18T20:08:01.706Z"
   },
   {
    "duration": 28,
    "start_time": "2024-08-18T20:08:01.730Z"
   },
   {
    "duration": 158,
    "start_time": "2024-08-18T20:08:01.759Z"
   },
   {
    "duration": 5,
    "start_time": "2024-08-18T20:08:01.918Z"
   },
   {
    "duration": 201,
    "start_time": "2024-08-18T20:08:01.925Z"
   },
   {
    "duration": 7,
    "start_time": "2024-08-18T20:08:02.128Z"
   },
   {
    "duration": 353,
    "start_time": "2024-08-18T20:08:02.137Z"
   },
   {
    "duration": 6,
    "start_time": "2024-08-18T20:08:02.491Z"
   },
   {
    "duration": 251,
    "start_time": "2024-08-18T20:08:02.498Z"
   },
   {
    "duration": 25,
    "start_time": "2024-08-18T20:08:02.752Z"
   },
   {
    "duration": 21,
    "start_time": "2024-08-18T20:08:02.780Z"
   },
   {
    "duration": 13,
    "start_time": "2024-08-18T20:08:02.802Z"
   },
   {
    "duration": 575,
    "start_time": "2024-08-18T20:08:02.817Z"
   },
   {
    "duration": 503,
    "start_time": "2024-08-18T20:08:03.393Z"
   },
   {
    "duration": 91,
    "start_time": "2024-08-18T20:08:03.898Z"
   },
   {
    "duration": 12,
    "start_time": "2024-08-18T20:08:03.991Z"
   },
   {
    "duration": 15,
    "start_time": "2024-08-18T20:08:04.005Z"
   },
   {
    "duration": 127,
    "start_time": "2024-08-18T20:08:04.022Z"
   },
   {
    "duration": 26,
    "start_time": "2024-08-18T20:08:04.151Z"
   },
   {
    "duration": 24,
    "start_time": "2024-08-18T20:08:04.179Z"
   },
   {
    "duration": 10,
    "start_time": "2024-08-18T20:08:04.205Z"
   },
   {
    "duration": 67,
    "start_time": "2024-08-19T14:38:15.580Z"
   },
   {
    "duration": 1405,
    "start_time": "2024-08-19T14:38:21.849Z"
   },
   {
    "duration": 376,
    "start_time": "2024-08-19T14:38:23.256Z"
   },
   {
    "duration": 13,
    "start_time": "2024-08-19T14:38:23.633Z"
   },
   {
    "duration": 65,
    "start_time": "2024-08-19T14:38:23.649Z"
   },
   {
    "duration": 15,
    "start_time": "2024-08-19T14:38:23.715Z"
   },
   {
    "duration": 30,
    "start_time": "2024-08-19T14:38:23.732Z"
   },
   {
    "duration": 9,
    "start_time": "2024-08-19T14:38:23.764Z"
   },
   {
    "duration": 14,
    "start_time": "2024-08-19T14:38:23.776Z"
   },
   {
    "duration": 15,
    "start_time": "2024-08-19T14:38:23.792Z"
   },
   {
    "duration": 69,
    "start_time": "2024-08-19T14:38:23.810Z"
   },
   {
    "duration": 73,
    "start_time": "2024-08-19T14:38:23.881Z"
   },
   {
    "duration": 10,
    "start_time": "2024-08-19T14:38:23.956Z"
   },
   {
    "duration": 9,
    "start_time": "2024-08-19T14:38:23.968Z"
   },
   {
    "duration": 14,
    "start_time": "2024-08-19T14:38:23.979Z"
   },
   {
    "duration": 9,
    "start_time": "2024-08-19T14:38:23.996Z"
   },
   {
    "duration": 17,
    "start_time": "2024-08-19T14:38:24.008Z"
   },
   {
    "duration": 12,
    "start_time": "2024-08-19T14:38:24.027Z"
   },
   {
    "duration": 17,
    "start_time": "2024-08-19T14:38:24.041Z"
   },
   {
    "duration": 11,
    "start_time": "2024-08-19T14:38:24.060Z"
   },
   {
    "duration": 151,
    "start_time": "2024-08-19T14:38:24.074Z"
   },
   {
    "duration": 6,
    "start_time": "2024-08-19T14:38:24.226Z"
   },
   {
    "duration": 193,
    "start_time": "2024-08-19T14:38:24.234Z"
   },
   {
    "duration": 5,
    "start_time": "2024-08-19T14:38:24.429Z"
   },
   {
    "duration": 286,
    "start_time": "2024-08-19T14:38:24.436Z"
   },
   {
    "duration": 6,
    "start_time": "2024-08-19T14:38:24.724Z"
   },
   {
    "duration": 226,
    "start_time": "2024-08-19T14:38:24.733Z"
   },
   {
    "duration": 42,
    "start_time": "2024-08-19T14:38:24.960Z"
   },
   {
    "duration": 20,
    "start_time": "2024-08-19T14:38:25.006Z"
   },
   {
    "duration": 42,
    "start_time": "2024-08-19T14:38:25.028Z"
   },
   {
    "duration": 684,
    "start_time": "2024-08-19T14:38:25.072Z"
   },
   {
    "duration": 407,
    "start_time": "2024-08-19T14:38:25.758Z"
   },
   {
    "duration": 50,
    "start_time": "2024-08-19T14:38:26.168Z"
   },
   {
    "duration": 13,
    "start_time": "2024-08-19T14:38:26.220Z"
   },
   {
    "duration": 20,
    "start_time": "2024-08-19T14:38:26.235Z"
   },
   {
    "duration": 12,
    "start_time": "2024-08-19T14:38:26.257Z"
   },
   {
    "duration": 15,
    "start_time": "2024-08-19T14:38:26.271Z"
   },
   {
    "duration": 17,
    "start_time": "2024-08-19T14:38:26.288Z"
   },
   {
    "duration": 28,
    "start_time": "2024-08-19T14:44:26.877Z"
   },
   {
    "duration": 28,
    "start_time": "2024-08-19T15:13:40.031Z"
   },
   {
    "duration": 26,
    "start_time": "2024-08-19T15:14:08.707Z"
   },
   {
    "duration": 28,
    "start_time": "2024-08-19T15:14:33.589Z"
   },
   {
    "duration": 30,
    "start_time": "2024-08-19T15:14:57.652Z"
   },
   {
    "duration": 29,
    "start_time": "2024-08-19T15:15:34.373Z"
   },
   {
    "duration": 1189,
    "start_time": "2024-08-19T15:15:39.472Z"
   },
   {
    "duration": 82,
    "start_time": "2024-08-19T15:15:40.663Z"
   },
   {
    "duration": 11,
    "start_time": "2024-08-19T15:15:40.747Z"
   },
   {
    "duration": 12,
    "start_time": "2024-08-19T15:15:40.761Z"
   },
   {
    "duration": 17,
    "start_time": "2024-08-19T15:15:40.775Z"
   },
   {
    "duration": 46,
    "start_time": "2024-08-19T15:15:40.793Z"
   },
   {
    "duration": 8,
    "start_time": "2024-08-19T15:15:40.841Z"
   },
   {
    "duration": 18,
    "start_time": "2024-08-19T15:15:40.850Z"
   },
   {
    "duration": 34,
    "start_time": "2024-08-19T15:15:40.870Z"
   },
   {
    "duration": 14,
    "start_time": "2024-08-19T15:15:40.907Z"
   },
   {
    "duration": 16,
    "start_time": "2024-08-19T15:15:40.922Z"
   },
   {
    "duration": 13,
    "start_time": "2024-08-19T15:15:40.940Z"
   },
   {
    "duration": 7,
    "start_time": "2024-08-19T15:15:40.955Z"
   },
   {
    "duration": 22,
    "start_time": "2024-08-19T15:15:40.964Z"
   },
   {
    "duration": 6,
    "start_time": "2024-08-19T15:15:40.988Z"
   },
   {
    "duration": 52,
    "start_time": "2024-08-19T15:15:40.996Z"
   },
   {
    "duration": 6,
    "start_time": "2024-08-19T15:15:41.050Z"
   },
   {
    "duration": 9,
    "start_time": "2024-08-19T15:15:41.057Z"
   },
   {
    "duration": 5,
    "start_time": "2024-08-19T15:15:41.068Z"
   },
   {
    "duration": 7,
    "start_time": "2024-08-19T15:15:41.075Z"
   },
   {
    "duration": 147,
    "start_time": "2024-08-19T15:15:41.083Z"
   },
   {
    "duration": 5,
    "start_time": "2024-08-19T15:15:41.232Z"
   },
   {
    "duration": 181,
    "start_time": "2024-08-19T15:15:41.238Z"
   },
   {
    "duration": 6,
    "start_time": "2024-08-19T15:15:41.421Z"
   },
   {
    "duration": 281,
    "start_time": "2024-08-19T15:15:41.429Z"
   },
   {
    "duration": 6,
    "start_time": "2024-08-19T15:15:41.712Z"
   },
   {
    "duration": 290,
    "start_time": "2024-08-19T15:15:41.720Z"
   },
   {
    "duration": 26,
    "start_time": "2024-08-19T15:15:42.014Z"
   },
   {
    "duration": 73,
    "start_time": "2024-08-19T15:15:42.042Z"
   },
   {
    "duration": 15,
    "start_time": "2024-08-19T15:15:42.117Z"
   },
   {
    "duration": 593,
    "start_time": "2024-08-19T15:15:42.134Z"
   },
   {
    "duration": 400,
    "start_time": "2024-08-19T15:15:42.730Z"
   },
   {
    "duration": 40,
    "start_time": "2024-08-19T15:15:43.132Z"
   },
   {
    "duration": 12,
    "start_time": "2024-08-19T15:15:43.184Z"
   },
   {
    "duration": 4,
    "start_time": "2024-08-19T15:15:43.197Z"
   },
   {
    "duration": 8,
    "start_time": "2024-08-19T15:15:43.203Z"
   },
   {
    "duration": 22,
    "start_time": "2024-08-19T15:15:43.213Z"
   },
   {
    "duration": 10,
    "start_time": "2024-08-19T15:15:43.237Z"
   },
   {
    "duration": 31,
    "start_time": "2024-08-19T15:17:25.916Z"
   },
   {
    "duration": 34,
    "start_time": "2024-08-19T15:17:52.093Z"
   },
   {
    "duration": 24,
    "start_time": "2024-08-19T15:22:50.514Z"
   },
   {
    "duration": 30,
    "start_time": "2024-08-19T15:23:31.000Z"
   },
   {
    "duration": 32,
    "start_time": "2024-08-19T15:24:00.465Z"
   },
   {
    "duration": 8,
    "start_time": "2024-08-19T15:27:03.338Z"
   },
   {
    "duration": 137,
    "start_time": "2024-08-19T15:29:27.954Z"
   },
   {
    "duration": 472,
    "start_time": "2024-08-19T15:29:50.353Z"
   },
   {
    "duration": 154,
    "start_time": "2024-08-19T15:30:14.902Z"
   },
   {
    "duration": 191,
    "start_time": "2024-08-19T15:30:35.776Z"
   },
   {
    "duration": 193,
    "start_time": "2024-08-19T15:30:48.933Z"
   },
   {
    "duration": 368,
    "start_time": "2024-08-19T15:30:58.108Z"
   },
   {
    "duration": 156,
    "start_time": "2024-08-19T15:31:23.873Z"
   },
   {
    "duration": 150,
    "start_time": "2024-08-19T15:31:39.539Z"
   },
   {
    "duration": 214,
    "start_time": "2024-08-19T15:54:15.393Z"
   },
   {
    "duration": 143,
    "start_time": "2024-08-19T15:57:54.730Z"
   },
   {
    "duration": 157,
    "start_time": "2024-08-19T15:58:47.450Z"
   },
   {
    "duration": 175,
    "start_time": "2024-08-19T15:58:54.532Z"
   },
   {
    "duration": 170,
    "start_time": "2024-08-19T16:26:49.853Z"
   },
   {
    "duration": 179,
    "start_time": "2024-08-19T16:27:01.860Z"
   },
   {
    "duration": 172,
    "start_time": "2024-08-19T16:27:16.707Z"
   },
   {
    "duration": 263,
    "start_time": "2024-08-19T16:34:42.902Z"
   },
   {
    "duration": 172,
    "start_time": "2024-08-19T16:34:52.793Z"
   },
   {
    "duration": 139,
    "start_time": "2024-08-19T16:50:30.886Z"
   },
   {
    "duration": 48,
    "start_time": "2024-08-19T16:55:27.009Z"
   },
   {
    "duration": 1170,
    "start_time": "2024-08-19T16:55:34.387Z"
   },
   {
    "duration": 81,
    "start_time": "2024-08-19T16:55:35.559Z"
   },
   {
    "duration": 34,
    "start_time": "2024-08-19T16:55:35.642Z"
   },
   {
    "duration": 10,
    "start_time": "2024-08-19T16:55:35.677Z"
   },
   {
    "duration": 18,
    "start_time": "2024-08-19T16:55:35.689Z"
   },
   {
    "duration": 7,
    "start_time": "2024-08-19T16:55:35.709Z"
   },
   {
    "duration": 30,
    "start_time": "2024-08-19T16:55:35.717Z"
   },
   {
    "duration": 8,
    "start_time": "2024-08-19T16:55:35.748Z"
   },
   {
    "duration": 8,
    "start_time": "2024-08-19T16:55:35.758Z"
   },
   {
    "duration": 5,
    "start_time": "2024-08-19T16:55:35.767Z"
   },
   {
    "duration": 18,
    "start_time": "2024-08-19T16:55:35.774Z"
   },
   {
    "duration": 24,
    "start_time": "2024-08-19T16:55:35.794Z"
   },
   {
    "duration": 216,
    "start_time": "2024-08-19T16:55:35.819Z"
   },
   {
    "duration": 6,
    "start_time": "2024-08-19T16:55:36.038Z"
   },
   {
    "duration": 205,
    "start_time": "2024-08-19T16:55:36.045Z"
   },
   {
    "duration": 6,
    "start_time": "2024-08-19T16:55:36.252Z"
   },
   {
    "duration": 203,
    "start_time": "2024-08-19T16:55:36.259Z"
   },
   {
    "duration": 5,
    "start_time": "2024-08-19T16:55:36.464Z"
   },
   {
    "duration": 284,
    "start_time": "2024-08-19T16:55:36.471Z"
   },
   {
    "duration": 6,
    "start_time": "2024-08-19T16:55:36.756Z"
   },
   {
    "duration": 197,
    "start_time": "2024-08-19T16:55:36.764Z"
   },
   {
    "duration": 33,
    "start_time": "2024-08-19T16:55:36.963Z"
   },
   {
    "duration": 16,
    "start_time": "2024-08-19T16:55:36.997Z"
   },
   {
    "duration": 13,
    "start_time": "2024-08-19T16:55:37.015Z"
   },
   {
    "duration": 643,
    "start_time": "2024-08-19T16:55:37.030Z"
   },
   {
    "duration": 391,
    "start_time": "2024-08-19T16:55:37.674Z"
   },
   {
    "duration": 46,
    "start_time": "2024-08-19T16:55:38.066Z"
   },
   {
    "duration": 30,
    "start_time": "2024-08-19T16:55:38.114Z"
   },
   {
    "duration": 4,
    "start_time": "2024-08-19T16:55:38.145Z"
   },
   {
    "duration": 27,
    "start_time": "2024-08-19T16:55:38.150Z"
   },
   {
    "duration": 17,
    "start_time": "2024-08-19T16:55:38.179Z"
   },
   {
    "duration": 10,
    "start_time": "2024-08-19T16:55:38.197Z"
   },
   {
    "duration": 8,
    "start_time": "2024-08-19T17:25:46.837Z"
   },
   {
    "duration": 12,
    "start_time": "2024-08-19T17:42:57.149Z"
   },
   {
    "duration": 9,
    "start_time": "2024-08-19T17:45:01.237Z"
   },
   {
    "duration": 1196,
    "start_time": "2024-08-19T17:45:08.369Z"
   },
   {
    "duration": 81,
    "start_time": "2024-08-19T17:45:09.566Z"
   },
   {
    "duration": 36,
    "start_time": "2024-08-19T17:45:09.648Z"
   },
   {
    "duration": 40,
    "start_time": "2024-08-19T17:45:09.687Z"
   },
   {
    "duration": 65,
    "start_time": "2024-08-19T17:45:09.728Z"
   },
   {
    "duration": 13,
    "start_time": "2024-08-19T17:45:09.795Z"
   },
   {
    "duration": 12,
    "start_time": "2024-08-19T17:45:09.809Z"
   },
   {
    "duration": 6,
    "start_time": "2024-08-19T17:45:09.822Z"
   },
   {
    "duration": 37,
    "start_time": "2024-08-19T17:45:09.830Z"
   },
   {
    "duration": 6,
    "start_time": "2024-08-19T17:45:09.870Z"
   },
   {
    "duration": 22,
    "start_time": "2024-08-19T17:45:09.878Z"
   },
   {
    "duration": 6,
    "start_time": "2024-08-19T17:45:09.902Z"
   },
   {
    "duration": 218,
    "start_time": "2024-08-19T17:45:09.910Z"
   },
   {
    "duration": 6,
    "start_time": "2024-08-19T17:45:10.130Z"
   },
   {
    "duration": 152,
    "start_time": "2024-08-19T17:45:10.137Z"
   },
   {
    "duration": 6,
    "start_time": "2024-08-19T17:45:10.290Z"
   },
   {
    "duration": 225,
    "start_time": "2024-08-19T17:45:10.297Z"
   },
   {
    "duration": 6,
    "start_time": "2024-08-19T17:45:10.523Z"
   },
   {
    "duration": 283,
    "start_time": "2024-08-19T17:45:10.530Z"
   },
   {
    "duration": 6,
    "start_time": "2024-08-19T17:45:10.814Z"
   },
   {
    "duration": 206,
    "start_time": "2024-08-19T17:45:10.822Z"
   },
   {
    "duration": 9,
    "start_time": "2024-08-19T17:45:11.029Z"
   },
   {
    "duration": 10,
    "start_time": "2024-08-19T17:45:11.039Z"
   },
   {
    "duration": 42,
    "start_time": "2024-08-19T17:45:11.050Z"
   },
   {
    "duration": 16,
    "start_time": "2024-08-19T17:45:11.094Z"
   },
   {
    "duration": 68,
    "start_time": "2024-08-19T17:45:11.111Z"
   },
   {
    "duration": 606,
    "start_time": "2024-08-19T17:45:11.180Z"
   },
   {
    "duration": 401,
    "start_time": "2024-08-19T17:45:11.789Z"
   },
   {
    "duration": 39,
    "start_time": "2024-08-19T17:45:12.194Z"
   },
   {
    "duration": 10,
    "start_time": "2024-08-19T17:45:12.234Z"
   },
   {
    "duration": 77,
    "start_time": "2024-08-19T17:45:12.246Z"
   },
   {
    "duration": 7,
    "start_time": "2024-08-19T17:45:12.325Z"
   },
   {
    "duration": 14,
    "start_time": "2024-08-19T17:45:12.334Z"
   },
   {
    "duration": 27,
    "start_time": "2024-08-19T17:45:12.350Z"
   },
   {
    "duration": 10,
    "start_time": "2024-08-19T17:45:49.456Z"
   },
   {
    "duration": 10,
    "start_time": "2024-08-19T17:47:32.057Z"
   },
   {
    "duration": 1194,
    "start_time": "2024-08-19T17:48:17.358Z"
   },
   {
    "duration": 79,
    "start_time": "2024-08-19T17:48:18.554Z"
   },
   {
    "duration": 33,
    "start_time": "2024-08-19T17:48:18.634Z"
   },
   {
    "duration": 10,
    "start_time": "2024-08-19T17:48:18.669Z"
   },
   {
    "duration": 29,
    "start_time": "2024-08-19T17:48:18.680Z"
   },
   {
    "duration": 19,
    "start_time": "2024-08-19T17:48:18.710Z"
   },
   {
    "duration": 18,
    "start_time": "2024-08-19T17:48:18.730Z"
   },
   {
    "duration": 7,
    "start_time": "2024-08-19T17:48:18.750Z"
   },
   {
    "duration": 12,
    "start_time": "2024-08-19T17:48:18.759Z"
   },
   {
    "duration": 6,
    "start_time": "2024-08-19T17:48:18.774Z"
   },
   {
    "duration": 6,
    "start_time": "2024-08-19T17:48:18.782Z"
   },
   {
    "duration": 15,
    "start_time": "2024-08-19T17:48:18.789Z"
   },
   {
    "duration": 216,
    "start_time": "2024-08-19T17:48:18.806Z"
   },
   {
    "duration": 6,
    "start_time": "2024-08-19T17:48:19.024Z"
   },
   {
    "duration": 169,
    "start_time": "2024-08-19T17:48:19.032Z"
   },
   {
    "duration": 7,
    "start_time": "2024-08-19T17:48:19.203Z"
   },
   {
    "duration": 224,
    "start_time": "2024-08-19T17:48:19.212Z"
   },
   {
    "duration": 5,
    "start_time": "2024-08-19T17:48:19.437Z"
   },
   {
    "duration": 288,
    "start_time": "2024-08-19T17:48:19.443Z"
   },
   {
    "duration": 5,
    "start_time": "2024-08-19T17:48:19.732Z"
   },
   {
    "duration": 236,
    "start_time": "2024-08-19T17:48:19.738Z"
   },
   {
    "duration": 15,
    "start_time": "2024-08-19T17:48:19.976Z"
   },
   {
    "duration": 13,
    "start_time": "2024-08-19T17:48:19.993Z"
   },
   {
    "duration": 44,
    "start_time": "2024-08-19T17:48:20.008Z"
   },
   {
    "duration": 17,
    "start_time": "2024-08-19T17:48:20.054Z"
   },
   {
    "duration": 16,
    "start_time": "2024-08-19T17:48:20.084Z"
   },
   {
    "duration": 696,
    "start_time": "2024-08-19T17:48:20.102Z"
   },
   {
    "duration": 398,
    "start_time": "2024-08-19T17:48:20.802Z"
   },
   {
    "duration": 56,
    "start_time": "2024-08-19T17:48:21.201Z"
   },
   {
    "duration": 32,
    "start_time": "2024-08-19T17:48:21.259Z"
   },
   {
    "duration": 4,
    "start_time": "2024-08-19T17:48:21.293Z"
   },
   {
    "duration": 11,
    "start_time": "2024-08-19T17:48:21.299Z"
   },
   {
    "duration": 14,
    "start_time": "2024-08-19T17:48:21.311Z"
   },
   {
    "duration": 32,
    "start_time": "2024-08-19T17:48:21.327Z"
   },
   {
    "duration": 9,
    "start_time": "2024-08-19T17:54:42.653Z"
   },
   {
    "duration": 1167,
    "start_time": "2024-08-19T17:55:00.192Z"
   },
   {
    "duration": 81,
    "start_time": "2024-08-19T17:55:01.361Z"
   },
   {
    "duration": 51,
    "start_time": "2024-08-19T17:55:01.444Z"
   },
   {
    "duration": 38,
    "start_time": "2024-08-19T17:55:01.497Z"
   },
   {
    "duration": 22,
    "start_time": "2024-08-19T17:55:01.536Z"
   },
   {
    "duration": 48,
    "start_time": "2024-08-19T17:55:01.560Z"
   },
   {
    "duration": 24,
    "start_time": "2024-08-19T17:55:01.609Z"
   },
   {
    "duration": 34,
    "start_time": "2024-08-19T17:55:01.635Z"
   },
   {
    "duration": 149,
    "start_time": "2024-08-19T17:55:01.670Z"
   },
   {
    "duration": 23,
    "start_time": "2024-08-19T17:55:01.821Z"
   },
   {
    "duration": 40,
    "start_time": "2024-08-19T17:55:01.845Z"
   },
   {
    "duration": 38,
    "start_time": "2024-08-19T17:55:01.886Z"
   },
   {
    "duration": 229,
    "start_time": "2024-08-19T17:55:01.926Z"
   },
   {
    "duration": 5,
    "start_time": "2024-08-19T17:55:02.157Z"
   },
   {
    "duration": 151,
    "start_time": "2024-08-19T17:55:02.163Z"
   },
   {
    "duration": 5,
    "start_time": "2024-08-19T17:55:02.316Z"
   },
   {
    "duration": 304,
    "start_time": "2024-08-19T17:55:02.323Z"
   },
   {
    "duration": 6,
    "start_time": "2024-08-19T17:55:02.628Z"
   },
   {
    "duration": 313,
    "start_time": "2024-08-19T17:55:02.635Z"
   },
   {
    "duration": 6,
    "start_time": "2024-08-19T17:55:02.950Z"
   },
   {
    "duration": 304,
    "start_time": "2024-08-19T17:55:02.957Z"
   },
   {
    "duration": 8,
    "start_time": "2024-08-19T17:55:03.262Z"
   },
   {
    "duration": 35,
    "start_time": "2024-08-19T17:55:03.272Z"
   },
   {
    "duration": 30,
    "start_time": "2024-08-19T17:55:03.308Z"
   },
   {
    "duration": 16,
    "start_time": "2024-08-19T17:55:03.339Z"
   },
   {
    "duration": 15,
    "start_time": "2024-08-19T17:55:03.357Z"
   },
   {
    "duration": 687,
    "start_time": "2024-08-19T17:55:03.374Z"
   },
   {
    "duration": 390,
    "start_time": "2024-08-19T17:55:04.063Z"
   },
   {
    "duration": 49,
    "start_time": "2024-08-19T17:55:04.454Z"
   },
   {
    "duration": 11,
    "start_time": "2024-08-19T17:55:04.504Z"
   },
   {
    "duration": 5,
    "start_time": "2024-08-19T17:55:04.516Z"
   },
   {
    "duration": 8,
    "start_time": "2024-08-19T17:55:04.522Z"
   },
   {
    "duration": 10,
    "start_time": "2024-08-19T17:55:04.531Z"
   },
   {
    "duration": 15,
    "start_time": "2024-08-19T17:55:04.542Z"
   },
   {
    "duration": 112,
    "start_time": "2024-08-19T17:58:37.555Z"
   },
   {
    "duration": 210,
    "start_time": "2024-08-19T18:00:58.057Z"
   },
   {
    "duration": 349,
    "start_time": "2024-08-19T18:01:35.484Z"
   },
   {
    "duration": 53,
    "start_time": "2024-08-20T14:50:53.176Z"
   },
   {
    "duration": 1370,
    "start_time": "2024-08-20T14:51:00.509Z"
   },
   {
    "duration": 307,
    "start_time": "2024-08-20T14:51:01.881Z"
   },
   {
    "duration": 35,
    "start_time": "2024-08-20T14:51:02.190Z"
   },
   {
    "duration": 11,
    "start_time": "2024-08-20T14:51:02.228Z"
   },
   {
    "duration": 30,
    "start_time": "2024-08-20T14:51:02.241Z"
   },
   {
    "duration": 38,
    "start_time": "2024-08-20T14:51:02.273Z"
   },
   {
    "duration": 13,
    "start_time": "2024-08-20T14:51:02.312Z"
   },
   {
    "duration": 23,
    "start_time": "2024-08-20T14:51:02.327Z"
   },
   {
    "duration": 8,
    "start_time": "2024-08-20T14:51:02.352Z"
   },
   {
    "duration": 5,
    "start_time": "2024-08-20T14:51:02.363Z"
   },
   {
    "duration": 30,
    "start_time": "2024-08-20T14:51:02.370Z"
   },
   {
    "duration": 52,
    "start_time": "2024-08-20T14:51:02.402Z"
   },
   {
    "duration": 290,
    "start_time": "2024-08-20T14:51:02.455Z"
   },
   {
    "duration": 6,
    "start_time": "2024-08-20T14:51:02.746Z"
   },
   {
    "duration": 145,
    "start_time": "2024-08-20T14:51:02.753Z"
   },
   {
    "duration": 6,
    "start_time": "2024-08-20T14:51:02.899Z"
   },
   {
    "duration": 218,
    "start_time": "2024-08-20T14:51:02.906Z"
   },
   {
    "duration": 6,
    "start_time": "2024-08-20T14:51:03.125Z"
   },
   {
    "duration": 283,
    "start_time": "2024-08-20T14:51:03.133Z"
   },
   {
    "duration": 8,
    "start_time": "2024-08-20T14:51:03.418Z"
   },
   {
    "duration": 23,
    "start_time": "2024-08-20T14:51:03.427Z"
   },
   {
    "duration": 213,
    "start_time": "2024-08-20T14:51:03.452Z"
   },
   {
    "duration": 17,
    "start_time": "2024-08-20T14:51:03.668Z"
   },
   {
    "duration": 16,
    "start_time": "2024-08-20T14:51:03.687Z"
   },
   {
    "duration": 28,
    "start_time": "2024-08-20T14:51:03.705Z"
   },
   {
    "duration": 18,
    "start_time": "2024-08-20T14:51:03.734Z"
   },
   {
    "duration": 40,
    "start_time": "2024-08-20T14:51:03.753Z"
   },
   {
    "duration": 639,
    "start_time": "2024-08-20T14:51:03.796Z"
   },
   {
    "duration": 384,
    "start_time": "2024-08-20T14:51:04.437Z"
   },
   {
    "duration": 40,
    "start_time": "2024-08-20T14:51:04.822Z"
   },
   {
    "duration": 24,
    "start_time": "2024-08-20T14:51:04.864Z"
   },
   {
    "duration": 4,
    "start_time": "2024-08-20T14:51:04.890Z"
   },
   {
    "duration": 10,
    "start_time": "2024-08-20T14:51:04.896Z"
   },
   {
    "duration": 6,
    "start_time": "2024-08-20T14:51:04.907Z"
   },
   {
    "duration": 8,
    "start_time": "2024-08-20T14:51:04.915Z"
   },
   {
    "duration": 10,
    "start_time": "2024-08-20T14:57:23.722Z"
   },
   {
    "duration": 19,
    "start_time": "2024-08-20T15:02:12.573Z"
   },
   {
    "duration": 7,
    "start_time": "2024-08-20T15:03:26.269Z"
   },
   {
    "duration": 17,
    "start_time": "2024-08-20T15:11:50.910Z"
   },
   {
    "duration": 8,
    "start_time": "2024-08-20T15:13:33.961Z"
   },
   {
    "duration": 15,
    "start_time": "2024-08-20T15:13:40.303Z"
   },
   {
    "duration": 7,
    "start_time": "2024-08-20T15:13:46.376Z"
   },
   {
    "duration": 262,
    "start_time": "2024-08-20T15:16:24.603Z"
   },
   {
    "duration": 321,
    "start_time": "2024-08-20T15:19:06.505Z"
   },
   {
    "duration": 278,
    "start_time": "2024-08-20T15:21:24.728Z"
   },
   {
    "duration": 232,
    "start_time": "2024-08-20T15:21:56.664Z"
   },
   {
    "duration": 335,
    "start_time": "2024-08-20T15:23:59.979Z"
   },
   {
    "duration": 6,
    "start_time": "2024-08-20T15:28:33.069Z"
   },
   {
    "duration": 5,
    "start_time": "2024-08-20T15:28:48.310Z"
   },
   {
    "duration": 5,
    "start_time": "2024-08-20T15:31:51.601Z"
   },
   {
    "duration": 5,
    "start_time": "2024-08-20T15:31:58.045Z"
   },
   {
    "duration": 14,
    "start_time": "2024-08-20T15:33:33.619Z"
   },
   {
    "duration": 105,
    "start_time": "2024-08-20T15:34:56.321Z"
   },
   {
    "duration": 6,
    "start_time": "2024-08-20T15:35:19.424Z"
   },
   {
    "duration": 1431,
    "start_time": "2024-08-20T17:46:45.853Z"
   },
   {
    "duration": 312,
    "start_time": "2024-08-20T17:46:47.286Z"
   },
   {
    "duration": 35,
    "start_time": "2024-08-20T17:46:47.600Z"
   },
   {
    "duration": 11,
    "start_time": "2024-08-20T17:46:47.637Z"
   },
   {
    "duration": 7,
    "start_time": "2024-08-20T17:46:47.649Z"
   },
   {
    "duration": 7,
    "start_time": "2024-08-20T17:46:47.657Z"
   },
   {
    "duration": 25,
    "start_time": "2024-08-20T17:46:47.665Z"
   },
   {
    "duration": 5,
    "start_time": "2024-08-20T17:46:47.692Z"
   },
   {
    "duration": 8,
    "start_time": "2024-08-20T17:46:47.699Z"
   },
   {
    "duration": 6,
    "start_time": "2024-08-20T17:46:47.709Z"
   },
   {
    "duration": 14,
    "start_time": "2024-08-20T17:46:47.716Z"
   },
   {
    "duration": 14,
    "start_time": "2024-08-20T17:46:47.732Z"
   },
   {
    "duration": 219,
    "start_time": "2024-08-20T17:46:47.748Z"
   },
   {
    "duration": 6,
    "start_time": "2024-08-20T17:46:47.969Z"
   },
   {
    "duration": 143,
    "start_time": "2024-08-20T17:46:47.984Z"
   },
   {
    "duration": 6,
    "start_time": "2024-08-20T17:46:48.128Z"
   },
   {
    "duration": 254,
    "start_time": "2024-08-20T17:46:48.135Z"
   },
   {
    "duration": 13,
    "start_time": "2024-08-20T17:46:48.391Z"
   },
   {
    "duration": 8,
    "start_time": "2024-08-20T17:46:48.406Z"
   },
   {
    "duration": 299,
    "start_time": "2024-08-20T17:46:48.416Z"
   },
   {
    "duration": 8,
    "start_time": "2024-08-20T17:46:48.717Z"
   },
   {
    "duration": 6,
    "start_time": "2024-08-20T17:46:48.726Z"
   },
   {
    "duration": 215,
    "start_time": "2024-08-20T17:46:48.733Z"
   },
   {
    "duration": 9,
    "start_time": "2024-08-20T17:46:48.949Z"
   },
   {
    "duration": 28,
    "start_time": "2024-08-20T17:46:48.959Z"
   },
   {
    "duration": 26,
    "start_time": "2024-08-20T17:46:48.988Z"
   },
   {
    "duration": 51,
    "start_time": "2024-08-20T17:46:49.015Z"
   },
   {
    "duration": 6,
    "start_time": "2024-08-20T17:46:49.070Z"
   },
   {
    "duration": 23,
    "start_time": "2024-08-20T17:46:49.077Z"
   },
   {
    "duration": 13,
    "start_time": "2024-08-20T17:46:49.102Z"
   },
   {
    "duration": 18,
    "start_time": "2024-08-20T17:46:49.116Z"
   },
   {
    "duration": 11,
    "start_time": "2024-08-20T17:46:49.136Z"
   },
   {
    "duration": 51,
    "start_time": "2024-08-20T17:46:49.149Z"
   },
   {
    "duration": 10,
    "start_time": "2024-08-20T17:46:49.202Z"
   },
   {
    "duration": 306,
    "start_time": "2024-08-20T17:46:49.215Z"
   },
   {
    "duration": 333,
    "start_time": "2024-08-20T17:46:49.522Z"
   },
   {
    "duration": 5,
    "start_time": "2024-08-20T17:46:49.856Z"
   },
   {
    "duration": 6,
    "start_time": "2024-08-20T17:46:49.862Z"
   },
   {
    "duration": 7,
    "start_time": "2024-08-20T17:46:49.884Z"
   },
   {
    "duration": 4,
    "start_time": "2024-08-20T17:46:49.893Z"
   },
   {
    "duration": 42,
    "start_time": "2024-08-20T17:46:49.899Z"
   },
   {
    "duration": 12,
    "start_time": "2024-08-20T17:46:49.943Z"
   },
   {
    "duration": 30,
    "start_time": "2024-08-20T17:46:49.957Z"
   },
   {
    "duration": 12,
    "start_time": "2024-08-20T17:46:49.988Z"
   },
   {
    "duration": 15,
    "start_time": "2024-08-20T17:46:50.001Z"
   },
   {
    "duration": 6,
    "start_time": "2024-08-20T17:46:50.017Z"
   },
   {
    "duration": 5,
    "start_time": "2024-08-20T17:46:50.025Z"
   },
   {
    "duration": 8,
    "start_time": "2024-08-20T17:46:50.031Z"
   },
   {
    "duration": 7,
    "start_time": "2024-08-20T17:47:33.862Z"
   },
   {
    "duration": 42,
    "start_time": "2024-08-20T20:57:02.984Z"
   },
   {
    "duration": 985,
    "start_time": "2024-08-20T20:57:07.428Z"
   },
   {
    "duration": 70,
    "start_time": "2024-08-20T20:57:08.415Z"
   },
   {
    "duration": 35,
    "start_time": "2024-08-20T20:57:08.486Z"
   },
   {
    "duration": 7,
    "start_time": "2024-08-20T20:57:08.523Z"
   },
   {
    "duration": 16,
    "start_time": "2024-08-20T20:57:08.531Z"
   },
   {
    "duration": 8,
    "start_time": "2024-08-20T20:57:08.548Z"
   },
   {
    "duration": 7,
    "start_time": "2024-08-20T20:57:08.557Z"
   },
   {
    "duration": 16,
    "start_time": "2024-08-20T20:57:08.565Z"
   },
   {
    "duration": 7,
    "start_time": "2024-08-20T20:57:08.582Z"
   },
   {
    "duration": 4,
    "start_time": "2024-08-20T20:57:08.591Z"
   },
   {
    "duration": 10,
    "start_time": "2024-08-20T20:57:08.596Z"
   },
   {
    "duration": 4,
    "start_time": "2024-08-20T20:57:08.607Z"
   },
   {
    "duration": 162,
    "start_time": "2024-08-20T20:57:08.612Z"
   },
   {
    "duration": 5,
    "start_time": "2024-08-20T20:57:08.775Z"
   },
   {
    "duration": 181,
    "start_time": "2024-08-20T20:57:08.781Z"
   },
   {
    "duration": 5,
    "start_time": "2024-08-20T20:57:08.964Z"
   },
   {
    "duration": 189,
    "start_time": "2024-08-20T20:57:08.970Z"
   },
   {
    "duration": 8,
    "start_time": "2024-08-20T20:57:09.161Z"
   },
   {
    "duration": 27,
    "start_time": "2024-08-20T20:57:09.170Z"
   },
   {
    "duration": 217,
    "start_time": "2024-08-20T20:57:09.198Z"
   },
   {
    "duration": 8,
    "start_time": "2024-08-20T20:57:09.416Z"
   },
   {
    "duration": 8,
    "start_time": "2024-08-20T20:57:09.426Z"
   },
   {
    "duration": 219,
    "start_time": "2024-08-20T20:57:09.435Z"
   },
   {
    "duration": 9,
    "start_time": "2024-08-20T20:57:09.705Z"
   },
   {
    "duration": 17,
    "start_time": "2024-08-20T20:57:09.715Z"
   },
   {
    "duration": 27,
    "start_time": "2024-08-20T20:57:09.733Z"
   },
   {
    "duration": 50,
    "start_time": "2024-08-20T20:57:09.761Z"
   },
   {
    "duration": 5,
    "start_time": "2024-08-20T20:57:09.814Z"
   },
   {
    "duration": 21,
    "start_time": "2024-08-20T20:57:09.821Z"
   },
   {
    "duration": 11,
    "start_time": "2024-08-20T20:57:09.843Z"
   },
   {
    "duration": 52,
    "start_time": "2024-08-20T20:57:09.855Z"
   },
   {
    "duration": 5,
    "start_time": "2024-08-20T20:57:09.909Z"
   },
   {
    "duration": 20,
    "start_time": "2024-08-20T20:57:09.915Z"
   },
   {
    "duration": 5,
    "start_time": "2024-08-20T20:57:09.936Z"
   },
   {
    "duration": 234,
    "start_time": "2024-08-20T20:57:09.942Z"
   },
   {
    "duration": 254,
    "start_time": "2024-08-20T20:57:10.179Z"
   },
   {
    "duration": 4,
    "start_time": "2024-08-20T20:57:10.434Z"
   },
   {
    "duration": 46,
    "start_time": "2024-08-20T20:57:10.440Z"
   },
   {
    "duration": 6,
    "start_time": "2024-08-20T20:57:10.487Z"
   },
   {
    "duration": 5,
    "start_time": "2024-08-20T20:57:10.494Z"
   },
   {
    "duration": 30,
    "start_time": "2024-08-20T20:57:10.500Z"
   },
   {
    "duration": 10,
    "start_time": "2024-08-20T20:57:10.531Z"
   },
   {
    "duration": 5,
    "start_time": "2024-08-20T20:57:10.542Z"
   },
   {
    "duration": 10,
    "start_time": "2024-08-20T20:57:10.548Z"
   },
   {
    "duration": 3,
    "start_time": "2024-08-20T20:57:10.560Z"
   },
   {
    "duration": 10,
    "start_time": "2024-08-20T20:57:10.564Z"
   },
   {
    "duration": 7,
    "start_time": "2024-08-20T20:57:10.575Z"
   },
   {
    "duration": 24,
    "start_time": "2024-08-20T20:57:10.583Z"
   },
   {
    "duration": 12,
    "start_time": "2024-08-20T20:57:10.608Z"
   },
   {
    "duration": 22,
    "start_time": "2024-08-20T20:57:10.621Z"
   },
   {
    "duration": 12,
    "start_time": "2024-08-20T20:57:10.645Z"
   },
   {
    "duration": 21,
    "start_time": "2024-08-20T20:57:10.658Z"
   },
   {
    "duration": 14,
    "start_time": "2024-08-20T20:57:10.680Z"
   },
   {
    "duration": 10,
    "start_time": "2024-08-20T20:57:10.695Z"
   },
   {
    "duration": 10,
    "start_time": "2024-08-20T20:57:10.706Z"
   },
   {
    "duration": 174,
    "start_time": "2024-08-20T20:57:10.717Z"
   },
   {
    "duration": 7,
    "start_time": "2024-08-20T20:57:10.892Z"
   },
   {
    "duration": 12,
    "start_time": "2024-08-20T20:57:10.900Z"
   },
   {
    "duration": 5,
    "start_time": "2024-08-20T20:57:10.913Z"
   },
   {
    "duration": 5,
    "start_time": "2024-08-20T20:57:10.919Z"
   },
   {
    "duration": 110,
    "start_time": "2024-08-20T20:57:10.925Z"
   },
   {
    "duration": 0,
    "start_time": "2024-08-20T20:57:11.036Z"
   },
   {
    "duration": 0,
    "start_time": "2024-08-20T20:57:11.037Z"
   },
   {
    "duration": 0,
    "start_time": "2024-08-20T20:57:11.038Z"
   },
   {
    "duration": 0,
    "start_time": "2024-08-20T20:57:11.038Z"
   },
   {
    "duration": 0,
    "start_time": "2024-08-20T20:57:11.040Z"
   },
   {
    "duration": 0,
    "start_time": "2024-08-20T20:57:11.040Z"
   },
   {
    "duration": 0,
    "start_time": "2024-08-20T20:57:11.041Z"
   },
   {
    "duration": 0,
    "start_time": "2024-08-20T20:57:11.042Z"
   },
   {
    "duration": 3,
    "start_time": "2024-08-20T20:57:41.243Z"
   },
   {
    "duration": 4,
    "start_time": "2024-08-20T20:57:41.867Z"
   },
   {
    "duration": 7,
    "start_time": "2024-08-20T20:57:42.188Z"
   },
   {
    "duration": 576,
    "start_time": "2024-08-20T20:57:43.643Z"
   },
   {
    "duration": 974,
    "start_time": "2024-08-20T20:58:02.348Z"
   },
   {
    "duration": 69,
    "start_time": "2024-08-20T20:58:03.324Z"
   },
   {
    "duration": 26,
    "start_time": "2024-08-20T20:58:03.395Z"
   },
   {
    "duration": 8,
    "start_time": "2024-08-20T20:58:03.422Z"
   },
   {
    "duration": 5,
    "start_time": "2024-08-20T20:58:03.432Z"
   },
   {
    "duration": 10,
    "start_time": "2024-08-20T20:58:03.438Z"
   },
   {
    "duration": 5,
    "start_time": "2024-08-20T20:58:03.449Z"
   },
   {
    "duration": 17,
    "start_time": "2024-08-20T20:58:03.455Z"
   },
   {
    "duration": 9,
    "start_time": "2024-08-20T20:58:03.473Z"
   },
   {
    "duration": 5,
    "start_time": "2024-08-20T20:58:03.483Z"
   },
   {
    "duration": 4,
    "start_time": "2024-08-20T20:58:03.505Z"
   },
   {
    "duration": 17,
    "start_time": "2024-08-20T20:58:03.510Z"
   },
   {
    "duration": 166,
    "start_time": "2024-08-20T20:58:03.529Z"
   },
   {
    "duration": 7,
    "start_time": "2024-08-20T20:58:03.699Z"
   },
   {
    "duration": 101,
    "start_time": "2024-08-20T20:58:03.708Z"
   },
   {
    "duration": 4,
    "start_time": "2024-08-20T20:58:03.810Z"
   },
   {
    "duration": 159,
    "start_time": "2024-08-20T20:58:03.816Z"
   },
   {
    "duration": 6,
    "start_time": "2024-08-20T20:58:03.976Z"
   },
   {
    "duration": 30,
    "start_time": "2024-08-20T20:58:03.983Z"
   },
   {
    "duration": 189,
    "start_time": "2024-08-20T20:58:04.014Z"
   },
   {
    "duration": 7,
    "start_time": "2024-08-20T20:58:04.205Z"
   },
   {
    "duration": 5,
    "start_time": "2024-08-20T20:58:04.213Z"
   },
   {
    "duration": 151,
    "start_time": "2024-08-20T20:58:04.219Z"
   },
   {
    "duration": 7,
    "start_time": "2024-08-20T20:58:04.371Z"
   },
   {
    "duration": 8,
    "start_time": "2024-08-20T20:58:04.379Z"
   },
   {
    "duration": 30,
    "start_time": "2024-08-20T20:58:04.388Z"
   },
   {
    "duration": 13,
    "start_time": "2024-08-20T20:58:04.419Z"
   },
   {
    "duration": 64,
    "start_time": "2024-08-20T20:58:04.433Z"
   },
   {
    "duration": 15,
    "start_time": "2024-08-20T20:58:04.499Z"
   },
   {
    "duration": 10,
    "start_time": "2024-08-20T20:58:04.515Z"
   },
   {
    "duration": 12,
    "start_time": "2024-08-20T20:58:04.526Z"
   },
   {
    "duration": 6,
    "start_time": "2024-08-20T20:58:04.539Z"
   },
   {
    "duration": 10,
    "start_time": "2024-08-20T20:58:04.546Z"
   },
   {
    "duration": 5,
    "start_time": "2024-08-20T20:58:04.558Z"
   },
   {
    "duration": 243,
    "start_time": "2024-08-20T20:58:04.564Z"
   },
   {
    "duration": 246,
    "start_time": "2024-08-20T20:58:04.808Z"
   },
   {
    "duration": 4,
    "start_time": "2024-08-20T20:58:05.056Z"
   },
   {
    "duration": 92,
    "start_time": "2024-08-20T20:58:05.061Z"
   },
   {
    "duration": 19,
    "start_time": "2024-08-20T20:58:05.155Z"
   },
   {
    "duration": 7,
    "start_time": "2024-08-20T20:58:05.175Z"
   },
   {
    "duration": 41,
    "start_time": "2024-08-20T20:58:05.185Z"
   },
   {
    "duration": 10,
    "start_time": "2024-08-20T20:58:05.228Z"
   },
   {
    "duration": 19,
    "start_time": "2024-08-20T20:58:05.239Z"
   },
   {
    "duration": 42,
    "start_time": "2024-08-20T20:58:05.259Z"
   },
   {
    "duration": 4,
    "start_time": "2024-08-20T20:58:05.303Z"
   },
   {
    "duration": 11,
    "start_time": "2024-08-20T20:58:05.308Z"
   },
   {
    "duration": 55,
    "start_time": "2024-08-20T20:58:05.320Z"
   },
   {
    "duration": 31,
    "start_time": "2024-08-20T20:58:05.377Z"
   },
   {
    "duration": 18,
    "start_time": "2024-08-20T20:58:05.409Z"
   },
   {
    "duration": 11,
    "start_time": "2024-08-20T20:58:05.428Z"
   },
   {
    "duration": 12,
    "start_time": "2024-08-20T20:58:05.440Z"
   },
   {
    "duration": 13,
    "start_time": "2024-08-20T20:58:05.453Z"
   },
   {
    "duration": 15,
    "start_time": "2024-08-20T20:58:05.467Z"
   },
   {
    "duration": 15,
    "start_time": "2024-08-20T20:58:05.483Z"
   },
   {
    "duration": 9,
    "start_time": "2024-08-20T20:58:05.499Z"
   },
   {
    "duration": 10,
    "start_time": "2024-08-20T20:58:05.509Z"
   },
   {
    "duration": 5,
    "start_time": "2024-08-20T20:58:05.520Z"
   },
   {
    "duration": 26,
    "start_time": "2024-08-20T20:58:05.527Z"
   },
   {
    "duration": 8,
    "start_time": "2024-08-20T20:58:05.554Z"
   },
   {
    "duration": 16,
    "start_time": "2024-08-20T20:58:05.564Z"
   },
   {
    "duration": 12,
    "start_time": "2024-08-20T20:58:05.582Z"
   },
   {
    "duration": 561,
    "start_time": "2024-08-20T20:58:05.595Z"
   },
   {
    "duration": 3,
    "start_time": "2024-08-20T20:58:06.157Z"
   },
   {
    "duration": 32,
    "start_time": "2024-08-20T20:58:06.161Z"
   },
   {
    "duration": 50,
    "start_time": "2024-08-20T20:58:06.195Z"
   },
   {
    "duration": 9,
    "start_time": "2024-08-20T20:58:06.246Z"
   },
   {
    "duration": 8,
    "start_time": "2024-08-20T20:58:06.257Z"
   },
   {
    "duration": 647,
    "start_time": "2024-08-20T20:58:06.267Z"
   },
   {
    "duration": 5,
    "start_time": "2024-08-20T20:58:06.916Z"
   }
  ],
  "kernelspec": {
   "display_name": "Python 3 (ipykernel)",
   "language": "python",
   "name": "python3"
  },
  "language_info": {
   "codemirror_mode": {
    "name": "ipython",
    "version": 3
   },
   "file_extension": ".py",
   "mimetype": "text/x-python",
   "name": "python",
   "nbconvert_exporter": "python",
   "pygments_lexer": "ipython3",
   "version": "3.9.5"
  },
  "toc": {
   "base_numbering": 1,
   "nav_menu": {},
   "number_sections": true,
   "sideBar": true,
   "skip_h1_title": true,
   "title_cell": "Table of Contents",
   "title_sidebar": "Contents",
   "toc_cell": false,
   "toc_position": {
    "height": "calc(100% - 180px)",
    "left": "10px",
    "top": "150px",
    "width": "165px"
   },
   "toc_section_display": true,
   "toc_window_display": false
  }
 },
 "nbformat": 4,
 "nbformat_minor": 5
}
